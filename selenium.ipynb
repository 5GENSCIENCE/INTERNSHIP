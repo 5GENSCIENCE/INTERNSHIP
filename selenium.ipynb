{
 "cells": [
  {
   "cell_type": "code",
   "execution_count": 4,
   "id": "8a2fb0a9",
   "metadata": {},
   "outputs": [
    {
     "name": "stdout",
     "output_type": "stream",
     "text": [
      "Collecting selenium\n",
      "  Downloading selenium-4.3.0-py3-none-any.whl (981 kB)\n",
      "Collecting trio~=0.17\n",
      "  Downloading trio-0.21.0-py3-none-any.whl (358 kB)\n",
      "Collecting trio-websocket~=0.9\n",
      "  Downloading trio_websocket-0.9.2-py3-none-any.whl (16 kB)\n",
      "Requirement already satisfied: urllib3[secure,socks]~=1.26 in c:\\users\\lenovo\\anaconda3\\lib\\site-packages (from selenium) (1.26.7)\n",
      "Requirement already satisfied: sortedcontainers in c:\\users\\lenovo\\anaconda3\\lib\\site-packages (from trio~=0.17->selenium) (2.4.0)\n",
      "Requirement already satisfied: attrs>=19.2.0 in c:\\users\\lenovo\\anaconda3\\lib\\site-packages (from trio~=0.17->selenium) (21.2.0)\n",
      "Requirement already satisfied: cffi>=1.14 in c:\\users\\lenovo\\anaconda3\\lib\\site-packages (from trio~=0.17->selenium) (1.14.6)\n",
      "Requirement already satisfied: sniffio in c:\\users\\lenovo\\anaconda3\\lib\\site-packages (from trio~=0.17->selenium) (1.2.0)\n",
      "Requirement already satisfied: async-generator>=1.9 in c:\\users\\lenovo\\anaconda3\\lib\\site-packages (from trio~=0.17->selenium) (1.10)\n",
      "Requirement already satisfied: idna in c:\\users\\lenovo\\anaconda3\\lib\\site-packages (from trio~=0.17->selenium) (3.2)\n",
      "Collecting outcome\n",
      "  Downloading outcome-1.2.0-py2.py3-none-any.whl (9.7 kB)\n",
      "Requirement already satisfied: pycparser in c:\\users\\lenovo\\anaconda3\\lib\\site-packages (from cffi>=1.14->trio~=0.17->selenium) (2.20)\n",
      "Collecting wsproto>=0.14\n",
      "  Downloading wsproto-1.1.0-py3-none-any.whl (24 kB)\n",
      "Requirement already satisfied: pyOpenSSL>=0.14 in c:\\users\\lenovo\\anaconda3\\lib\\site-packages (from urllib3[secure,socks]~=1.26->selenium) (21.0.0)\n",
      "Requirement already satisfied: cryptography>=1.3.4 in c:\\users\\lenovo\\anaconda3\\lib\\site-packages (from urllib3[secure,socks]~=1.26->selenium) (3.4.8)\n",
      "Requirement already satisfied: certifi in c:\\users\\lenovo\\anaconda3\\lib\\site-packages (from urllib3[secure,socks]~=1.26->selenium) (2021.10.8)\n",
      "Requirement already satisfied: PySocks!=1.5.7,<2.0,>=1.5.6 in c:\\users\\lenovo\\anaconda3\\lib\\site-packages (from urllib3[secure,socks]~=1.26->selenium) (1.7.1)\n",
      "Requirement already satisfied: six>=1.5.2 in c:\\users\\lenovo\\anaconda3\\lib\\site-packages (from pyOpenSSL>=0.14->urllib3[secure,socks]~=1.26->selenium) (1.16.0)\n",
      "Collecting h11<1,>=0.9.0\n",
      "  Downloading h11-0.13.0-py3-none-any.whl (58 kB)\n",
      "Installing collected packages: outcome, h11, wsproto, trio, trio-websocket, selenium\n",
      "Successfully installed h11-0.13.0 outcome-1.2.0 selenium-4.3.0 trio-0.21.0 trio-websocket-0.9.2 wsproto-1.1.0\n"
     ]
    }
   ],
   "source": [
    "!pip install selenium \n"
   ]
  },
  {
   "cell_type": "code",
   "execution_count": 1,
   "id": "e3319461",
   "metadata": {},
   "outputs": [],
   "source": [
    "import selenium\n",
    "from selenium import webdriver\n",
    "from selenium.webdriver.common.by import By\n",
    "from selenium.webdriver.common.keys import Keys\n",
    "import pandas as pd\n",
    "from time import sleep\n",
    "import warnings\n",
    "warnings.filterwarnings('ignore')"
   ]
  },
  {
   "cell_type": "code",
   "execution_count": 2,
   "id": "7cee3140",
   "metadata": {},
   "outputs": [],
   "source": [
    "driver=webdriver.Chrome(r'C:\\Users\\Lenovo\\Downloads\\chromedriver_win32\\chromedriver.exe')"
   ]
  },
  {
   "cell_type": "code",
   "execution_count": 3,
   "id": "0a5e5801",
   "metadata": {},
   "outputs": [],
   "source": [
    "#Q1: Write a python program to scrape data for “Data Analyst” Job position in “Bangalore” location. You\n",
    "#have to scrape the job-title, job-location, company_name, experience_required. You have to scrape first 10\n",
    "#jobs data.\n",
    "#This task will be done in following steps:\n",
    "#1. First get the webpage https://www.naukri.com/\n",
    "#32. Enter “Data Analyst” in “Skill, Designations, Companies” field and enter “Bangalore” in “enter the\n",
    "#location” field.\n",
    "#3. Then click the search button.\n",
    "#4. Then scrape the data for the first 10 jobs results you get.\n",
    "#35. Finally create a dataframe of the scraped data.\n",
    "# import selenium \n",
    "# PATH = \"C:\\Program Files (x86)\\chromedriver.exe\"\n",
    "# from selenium import webdriver\n",
    "# driver = webdriver.Chrome(PATH)\n"
   ]
  },
  {
   "cell_type": "code",
   "execution_count": 103,
   "id": "d535f3da",
   "metadata": {
    "scrolled": true
   },
   "outputs": [],
   "source": [
    "url='https://www.naukri.com/'\n",
    "driver.get(url)\n"
   ]
  },
  {
   "cell_type": "code",
   "execution_count": 10,
   "id": "e42e3dd7",
   "metadata": {},
   "outputs": [
    {
     "data": {
      "text/plain": [
       "<selenium.webdriver.remote.webelement.WebElement (session=\"379db953f0878423e54689ad08a6ecf3\", element=\"c048b15b-a217-4a10-8f80-630e67c9a46d\")>"
      ]
     },
     "execution_count": 10,
     "metadata": {},
     "output_type": "execute_result"
    }
   ],
   "source": [
    "#finding web element for search job\n",
    "search_job=driver.find_element(\"xpath\",'/html/body/div[1]/div[2]/div[3]/div/div/div[1]/div/div/div/input')\n",
    "search_job"
   ]
  },
  {
   "cell_type": "code",
   "execution_count": 11,
   "id": "9bad6d03",
   "metadata": {},
   "outputs": [
    {
     "data": {
      "text/plain": [
       "<selenium.webdriver.remote.webelement.WebElement (session=\"379db953f0878423e54689ad08a6ecf3\", element=\"c048b15b-a217-4a10-8f80-630e67c9a46d\")>"
      ]
     },
     "execution_count": 11,
     "metadata": {},
     "output_type": "execute_result"
    }
   ],
   "source": [
    "#write on search bar\n",
    "search_job.clear()\n",
    "search_job.send_keys(\"data analyst\")\n",
    "search_job\n"
   ]
  },
  {
   "cell_type": "code",
   "execution_count": 98,
   "id": "74108973",
   "metadata": {},
   "outputs": [
    {
     "data": {
      "text/plain": [
       "<selenium.webdriver.remote.webelement.WebElement (session=\"379db953f0878423e54689ad08a6ecf3\", element=\"399ab69b-0000-4f44-8d77-9172905ee8b8\")>"
      ]
     },
     "execution_count": 98,
     "metadata": {},
     "output_type": "execute_result"
    }
   ],
   "source": [
    "# web element location for search bar\n",
    "search_loc=driver.find_element(\"xpath\",'/html/body/div[1]/div[2]/div[3]/div/div/div[5]/div/div/div/input')\n",
    "search_loc"
   ]
  },
  {
   "cell_type": "code",
   "execution_count": 13,
   "id": "295fe038",
   "metadata": {},
   "outputs": [
    {
     "data": {
      "text/plain": [
       "<selenium.webdriver.remote.webelement.WebElement (session=\"379db953f0878423e54689ad08a6ecf3\", element=\"8bbff4cc-06bf-4aa2-9b79-b82e708052d9\")>"
      ]
     },
     "execution_count": 13,
     "metadata": {},
     "output_type": "execute_result"
    }
   ],
   "source": [
    "# finding web element for job location\n",
    "search_loc.send_keys(\"bangalore\")\n",
    "search_loc"
   ]
  },
  {
   "cell_type": "code",
   "execution_count": 14,
   "id": "ebfec192",
   "metadata": {},
   "outputs": [
    {
     "data": {
      "text/plain": [
       "<selenium.webdriver.remote.webelement.WebElement (session=\"379db953f0878423e54689ad08a6ecf3\", element=\"5031ba85-6e49-417b-989c-aba118d0b28d\")>"
      ]
     },
     "execution_count": 14,
     "metadata": {},
     "output_type": "execute_result"
    }
   ],
   "source": [
    "# clicking search button to search using absolute path\n",
    "search_btn=driver.find_element(\"xpath\",'/html/body/div[1]/div[2]/div[3]/div/div/div[6]')\n",
    "search_btn"
   ]
  },
  {
   "cell_type": "code",
   "execution_count": 16,
   "id": "b2c29eb6",
   "metadata": {},
   "outputs": [],
   "source": [
    "search_btn.click()"
   ]
  },
  {
   "cell_type": "code",
   "execution_count": 17,
   "id": "421b062f",
   "metadata": {
    "scrolled": true
   },
   "outputs": [
    {
     "name": "stdout",
     "output_type": "stream",
     "text": [
      "[<selenium.webdriver.remote.webelement.WebElement (session=\"379db953f0878423e54689ad08a6ecf3\", element=\"e528c7d7-25a2-47bc-8c9e-a01f3f3d6269\")>, <selenium.webdriver.remote.webelement.WebElement (session=\"379db953f0878423e54689ad08a6ecf3\", element=\"bdf27d11-f24f-4d95-b3bd-322ab0a042ba\")>, <selenium.webdriver.remote.webelement.WebElement (session=\"379db953f0878423e54689ad08a6ecf3\", element=\"a263bffa-eb3e-4922-b2d9-234b043a9075\")>, <selenium.webdriver.remote.webelement.WebElement (session=\"379db953f0878423e54689ad08a6ecf3\", element=\"22436b61-ee85-4e2a-a790-71860694eda8\")>, <selenium.webdriver.remote.webelement.WebElement (session=\"379db953f0878423e54689ad08a6ecf3\", element=\"a29f9492-a723-4a0c-b1c7-09d0fbc49836\")>, <selenium.webdriver.remote.webelement.WebElement (session=\"379db953f0878423e54689ad08a6ecf3\", element=\"b56ef3ff-70d9-482d-bce0-553d5be37f76\")>, <selenium.webdriver.remote.webelement.WebElement (session=\"379db953f0878423e54689ad08a6ecf3\", element=\"20d7a0c7-f4f7-48b1-9b88-4ea2a2ab7c24\")>, <selenium.webdriver.remote.webelement.WebElement (session=\"379db953f0878423e54689ad08a6ecf3\", element=\"348c89e5-c0cb-45cd-ba29-69cf1d394f2a\")>, <selenium.webdriver.remote.webelement.WebElement (session=\"379db953f0878423e54689ad08a6ecf3\", element=\"2acb9d74-c05a-4b73-9624-c00b920a363f\")>, <selenium.webdriver.remote.webelement.WebElement (session=\"379db953f0878423e54689ad08a6ecf3\", element=\"1533b0e7-cb60-4f80-acef-089360580844\")>, <selenium.webdriver.remote.webelement.WebElement (session=\"379db953f0878423e54689ad08a6ecf3\", element=\"90a90296-9d7b-4d23-8c73-a7fb61ad15e2\")>, <selenium.webdriver.remote.webelement.WebElement (session=\"379db953f0878423e54689ad08a6ecf3\", element=\"a614bb9e-0861-4cad-bb77-6fa4a0a23e34\")>, <selenium.webdriver.remote.webelement.WebElement (session=\"379db953f0878423e54689ad08a6ecf3\", element=\"ccd8f979-d219-4035-b558-b96702f54af7\")>, <selenium.webdriver.remote.webelement.WebElement (session=\"379db953f0878423e54689ad08a6ecf3\", element=\"7fa2a730-3e8d-4bcb-894a-6d2fd91b7415\")>, <selenium.webdriver.remote.webelement.WebElement (session=\"379db953f0878423e54689ad08a6ecf3\", element=\"3bcb20f1-88cc-4730-98d0-aa412980db64\")>, <selenium.webdriver.remote.webelement.WebElement (session=\"379db953f0878423e54689ad08a6ecf3\", element=\"5393fe4c-8ebe-4644-99bf-39c0d0ac4d9b\")>, <selenium.webdriver.remote.webelement.WebElement (session=\"379db953f0878423e54689ad08a6ecf3\", element=\"d43474bb-06d0-4cb8-a8fd-cad1f030aa2c\")>, <selenium.webdriver.remote.webelement.WebElement (session=\"379db953f0878423e54689ad08a6ecf3\", element=\"33a9f71d-e3fe-4b25-a4e8-7a130b22cef4\")>, <selenium.webdriver.remote.webelement.WebElement (session=\"379db953f0878423e54689ad08a6ecf3\", element=\"9c8dbbc8-8a33-41da-98a6-fbdc353f6109\")>, <selenium.webdriver.remote.webelement.WebElement (session=\"379db953f0878423e54689ad08a6ecf3\", element=\"0a7dc290-74f7-4667-ac2b-492ca7cd3cc9\")>]\n"
     ]
    }
   ],
   "source": [
    "#extracting job titles\n",
    "title_tag=driver.find_elements(\"xpath\",'//a[@class=\"title fw500 ellipsis\"]')\n",
    "print(title_tag)\n"
   ]
  },
  {
   "cell_type": "code",
   "execution_count": 18,
   "id": "e5dcd73d",
   "metadata": {},
   "outputs": [
    {
     "data": {
      "text/plain": [
       "20"
      ]
     },
     "execution_count": 18,
     "metadata": {},
     "output_type": "execute_result"
    }
   ],
   "source": [
    "len(title_tag)"
   ]
  },
  {
   "cell_type": "code",
   "execution_count": 69,
   "id": "61b626d0",
   "metadata": {
    "scrolled": true
   },
   "outputs": [
    {
     "data": {
      "text/plain": [
       "['Sr.Business Data Analyst',\n",
       " 'Data Analyst - CRM Platform',\n",
       " 'Data Analyst',\n",
       " 'Hiring Data Analyst - Forensics, KPMG India',\n",
       " 'Data Analyst/Senior Data Analyst',\n",
       " 'Senior Data Analyst II',\n",
       " 'Immediate Opening with Omnicuris For Data Analyst',\n",
       " 'Business Analyst / Data Analyst',\n",
       " 'Software Technical Expert - Data Analyst',\n",
       " 'Reference Data Analyst',\n",
       " 'Sales Data Analyst',\n",
       " 'Data Analyst',\n",
       " 'Lead Data Analyst',\n",
       " 'Big data analyst',\n",
       " 'Data Analyst',\n",
       " 'Data Analyst',\n",
       " 'Senior Business Analyst, Data Analytics & Engineering-DATA Engineer',\n",
       " 'Senior Data Analyst',\n",
       " 'Data Analyst / Lead Analyst',\n",
       " 'Data Analyst - Marketplace']"
      ]
     },
     "execution_count": 69,
     "metadata": {},
     "output_type": "execute_result"
    }
   ],
   "source": [
    "job_title=[]\n",
    "for i in title_tag:\n",
    "    job_title.append(i.text)\n",
    "job_title"
   ]
  },
  {
   "cell_type": "code",
   "execution_count": 42,
   "id": "634a7bc3",
   "metadata": {},
   "outputs": [
    {
     "data": {
      "text/plain": [
       "['Sr.Business Data Analyst',\n",
       " 'Data Analyst - CRM Platform',\n",
       " 'Data Analyst',\n",
       " 'Hiring Data Analyst - Forensics, KPMG India',\n",
       " 'Data Analyst/Senior Data Analyst',\n",
       " 'Senior Data Analyst II',\n",
       " 'Immediate Opening with Omnicuris For Data Analyst',\n",
       " 'Business Analyst / Data Analyst',\n",
       " 'Software Technical Expert - Data Analyst',\n",
       " 'Reference Data Analyst']"
      ]
     },
     "execution_count": 42,
     "metadata": {},
     "output_type": "execute_result"
    }
   ],
   "source": [
    "title_job=job_title[0:10]\n",
    "title_job\n"
   ]
  },
  {
   "cell_type": "code",
   "execution_count": 33,
   "id": "9a45619d",
   "metadata": {},
   "outputs": [
    {
     "data": {
      "text/plain": [
       "20"
      ]
     },
     "execution_count": 33,
     "metadata": {},
     "output_type": "execute_result"
    }
   ],
   "source": [
    "company_loc=driver.find_elements(\"xpath\",'//li[@class=\"fleft grey-text br2 placeHolderLi location\"]')\n",
    "len(company_loc)"
   ]
  },
  {
   "cell_type": "code",
   "execution_count": 34,
   "id": "3462f0e8",
   "metadata": {},
   "outputs": [
    {
     "data": {
      "text/plain": [
       "[<selenium.webdriver.remote.webelement.WebElement (session=\"379db953f0878423e54689ad08a6ecf3\", element=\"dd11665a-2893-49e1-90e9-ad034f0a69e4\")>,\n",
       " <selenium.webdriver.remote.webelement.WebElement (session=\"379db953f0878423e54689ad08a6ecf3\", element=\"d6ecba3e-46a2-49ec-abc2-ea78218bfc22\")>,\n",
       " <selenium.webdriver.remote.webelement.WebElement (session=\"379db953f0878423e54689ad08a6ecf3\", element=\"2c575175-15f6-4df8-904e-331f2141bba0\")>,\n",
       " <selenium.webdriver.remote.webelement.WebElement (session=\"379db953f0878423e54689ad08a6ecf3\", element=\"4295b9a7-6af2-4600-b04b-98fdfd561c1c\")>,\n",
       " <selenium.webdriver.remote.webelement.WebElement (session=\"379db953f0878423e54689ad08a6ecf3\", element=\"c59109fe-df87-425e-a436-24f703e6d669\")>,\n",
       " <selenium.webdriver.remote.webelement.WebElement (session=\"379db953f0878423e54689ad08a6ecf3\", element=\"13b8f630-0911-4089-ab19-11ffae1c249d\")>,\n",
       " <selenium.webdriver.remote.webelement.WebElement (session=\"379db953f0878423e54689ad08a6ecf3\", element=\"d2542e2d-53fb-4954-9a15-67933249d31f\")>,\n",
       " <selenium.webdriver.remote.webelement.WebElement (session=\"379db953f0878423e54689ad08a6ecf3\", element=\"6cd0cbe0-b32e-4980-9b55-b2bbc7de32d8\")>,\n",
       " <selenium.webdriver.remote.webelement.WebElement (session=\"379db953f0878423e54689ad08a6ecf3\", element=\"453b0a9e-debc-4849-ab7a-84eb078ada5e\")>,\n",
       " <selenium.webdriver.remote.webelement.WebElement (session=\"379db953f0878423e54689ad08a6ecf3\", element=\"46057d8a-a830-49c5-8059-3a27b09c326f\")>,\n",
       " <selenium.webdriver.remote.webelement.WebElement (session=\"379db953f0878423e54689ad08a6ecf3\", element=\"bb7ded5c-23f7-46c0-9fb5-b4a6c02e1b8f\")>,\n",
       " <selenium.webdriver.remote.webelement.WebElement (session=\"379db953f0878423e54689ad08a6ecf3\", element=\"8bb65859-be7f-4281-a6d1-ef2d5344897f\")>,\n",
       " <selenium.webdriver.remote.webelement.WebElement (session=\"379db953f0878423e54689ad08a6ecf3\", element=\"c40aa0f9-b71d-4286-bbe1-f0871ee47ebf\")>,\n",
       " <selenium.webdriver.remote.webelement.WebElement (session=\"379db953f0878423e54689ad08a6ecf3\", element=\"2d01fe7f-97da-4e3c-9c10-6bb1fe2f7d34\")>,\n",
       " <selenium.webdriver.remote.webelement.WebElement (session=\"379db953f0878423e54689ad08a6ecf3\", element=\"e2be1c39-2b78-4d29-8b54-e00be9b592c3\")>,\n",
       " <selenium.webdriver.remote.webelement.WebElement (session=\"379db953f0878423e54689ad08a6ecf3\", element=\"1e5db2e0-160c-47e8-b2e1-dddd05e9e832\")>,\n",
       " <selenium.webdriver.remote.webelement.WebElement (session=\"379db953f0878423e54689ad08a6ecf3\", element=\"64fcc030-8821-433f-a86e-8936b3323ba1\")>,\n",
       " <selenium.webdriver.remote.webelement.WebElement (session=\"379db953f0878423e54689ad08a6ecf3\", element=\"d34bf1fd-0893-4ec0-94c8-1ae37911d803\")>,\n",
       " <selenium.webdriver.remote.webelement.WebElement (session=\"379db953f0878423e54689ad08a6ecf3\", element=\"05522979-f2ae-47f5-94d3-0e248e9f70be\")>,\n",
       " <selenium.webdriver.remote.webelement.WebElement (session=\"379db953f0878423e54689ad08a6ecf3\", element=\"bff84f2c-c87e-46fe-8168-abaa16b917c3\")>]"
      ]
     },
     "execution_count": 34,
     "metadata": {},
     "output_type": "execute_result"
    }
   ],
   "source": [
    "company_loc"
   ]
  },
  {
   "cell_type": "code",
   "execution_count": 44,
   "id": "c0fd20d8",
   "metadata": {},
   "outputs": [
    {
     "data": {
      "text/plain": [
       "['Bangalore/Bengaluru, karnataka\\n(WFH during Covid)',\n",
       " 'Bangalore/Bengaluru, Mumbai, Hyderabad/Secunderabad, Pune, Chennai, Ahmedabad',\n",
       " 'Bangalore/Bengaluru',\n",
       " 'Bangalore/Bengaluru, Noida, Kolkata, Mumbai, Gurgaon/Gurugram, Delhi / NCR, Mumbai (All Areas)',\n",
       " 'Bangalore/Bengaluru',\n",
       " 'Bangalore/Bengaluru',\n",
       " 'Bangalore/Bengaluru',\n",
       " 'Bangalore/Bengaluru, Mumbai, Hyderabad/Secunderabad, Pune, Chennai',\n",
       " 'Bangalore/Bengaluru',\n",
       " 'Bangalore/Bengaluru',\n",
       " 'Bangalore/Bengaluru',\n",
       " 'Bangalore/Bengaluru, Hyderabad/Secunderabad',\n",
       " 'Bangalore Rural, Bangalore/Bengaluru(Varthur Road)',\n",
       " 'Bangalore/Bengaluru',\n",
       " 'Bangalore/Bengaluru',\n",
       " 'Bangalore/Bengaluru',\n",
       " 'Bangalore/Bengaluru\\n(WFH during Covid)',\n",
       " 'Bangalore/Bengaluru',\n",
       " 'Bangalore/Bengaluru, Hyderabad/Secunderabad, Chennai',\n",
       " 'Bangalore/Bengaluru']"
      ]
     },
     "execution_count": 44,
     "metadata": {},
     "output_type": "execute_result"
    }
   ],
   "source": [
    "job_loc=[]\n",
    "for i in company_loc:\n",
    "    job_loc.append(i.text)\n",
    "job_loc"
   ]
  },
  {
   "cell_type": "code",
   "execution_count": 45,
   "id": "33e3f6a0",
   "metadata": {},
   "outputs": [
    {
     "data": {
      "text/plain": [
       "['Bangalore/Bengaluru, karnataka\\n(WFH during Covid)',\n",
       " 'Bangalore/Bengaluru, Mumbai, Hyderabad/Secunderabad, Pune, Chennai, Ahmedabad',\n",
       " 'Bangalore/Bengaluru',\n",
       " 'Bangalore/Bengaluru, Noida, Kolkata, Mumbai, Gurgaon/Gurugram, Delhi / NCR, Mumbai (All Areas)',\n",
       " 'Bangalore/Bengaluru',\n",
       " 'Bangalore/Bengaluru',\n",
       " 'Bangalore/Bengaluru',\n",
       " 'Bangalore/Bengaluru, Mumbai, Hyderabad/Secunderabad, Pune, Chennai',\n",
       " 'Bangalore/Bengaluru',\n",
       " 'Bangalore/Bengaluru']"
      ]
     },
     "execution_count": 45,
     "metadata": {},
     "output_type": "execute_result"
    }
   ],
   "source": [
    "job_location=job_loc[0:10]\n",
    "job_location"
   ]
  },
  {
   "cell_type": "code",
   "execution_count": 47,
   "id": "f25be39f",
   "metadata": {},
   "outputs": [
    {
     "data": {
      "text/plain": [
       "[<selenium.webdriver.remote.webelement.WebElement (session=\"379db953f0878423e54689ad08a6ecf3\", element=\"ad19dec7-eece-4d8b-9452-b0324f9d567e\")>,\n",
       " <selenium.webdriver.remote.webelement.WebElement (session=\"379db953f0878423e54689ad08a6ecf3\", element=\"81002c89-bb6e-42bb-9073-2de8fa4cd91f\")>,\n",
       " <selenium.webdriver.remote.webelement.WebElement (session=\"379db953f0878423e54689ad08a6ecf3\", element=\"002a6124-19a2-429b-95ca-3028fdd24bc0\")>,\n",
       " <selenium.webdriver.remote.webelement.WebElement (session=\"379db953f0878423e54689ad08a6ecf3\", element=\"f940e684-cd0e-4966-9a3b-6d39b7e0e07a\")>,\n",
       " <selenium.webdriver.remote.webelement.WebElement (session=\"379db953f0878423e54689ad08a6ecf3\", element=\"7a9f1ab6-e4d7-485d-a558-c8b8e880d022\")>,\n",
       " <selenium.webdriver.remote.webelement.WebElement (session=\"379db953f0878423e54689ad08a6ecf3\", element=\"3364fc72-789b-432e-8773-e0eca758cb5c\")>,\n",
       " <selenium.webdriver.remote.webelement.WebElement (session=\"379db953f0878423e54689ad08a6ecf3\", element=\"ea9223c0-1f76-4032-b17e-bccc205fe3cc\")>,\n",
       " <selenium.webdriver.remote.webelement.WebElement (session=\"379db953f0878423e54689ad08a6ecf3\", element=\"7bfcbb5a-c0a1-43de-89ba-9afc5ec68f64\")>,\n",
       " <selenium.webdriver.remote.webelement.WebElement (session=\"379db953f0878423e54689ad08a6ecf3\", element=\"3b40f802-421e-4ac5-9080-b34c01667616\")>,\n",
       " <selenium.webdriver.remote.webelement.WebElement (session=\"379db953f0878423e54689ad08a6ecf3\", element=\"fda68950-5cab-4ee3-9708-b12718298f27\")>,\n",
       " <selenium.webdriver.remote.webelement.WebElement (session=\"379db953f0878423e54689ad08a6ecf3\", element=\"2283b812-aee0-45a4-9128-5c069352449b\")>,\n",
       " <selenium.webdriver.remote.webelement.WebElement (session=\"379db953f0878423e54689ad08a6ecf3\", element=\"0c8cbc38-04d2-44a1-b0f3-f6fce345b011\")>,\n",
       " <selenium.webdriver.remote.webelement.WebElement (session=\"379db953f0878423e54689ad08a6ecf3\", element=\"e498512c-8823-4be1-a188-11315270a43d\")>,\n",
       " <selenium.webdriver.remote.webelement.WebElement (session=\"379db953f0878423e54689ad08a6ecf3\", element=\"7143a5df-36c4-4b05-ac4f-a42ec6701ccd\")>,\n",
       " <selenium.webdriver.remote.webelement.WebElement (session=\"379db953f0878423e54689ad08a6ecf3\", element=\"3e5a0895-7e75-4b42-96cc-7a7a08ed46ea\")>,\n",
       " <selenium.webdriver.remote.webelement.WebElement (session=\"379db953f0878423e54689ad08a6ecf3\", element=\"1e06a426-882f-4414-9019-607804c86bca\")>,\n",
       " <selenium.webdriver.remote.webelement.WebElement (session=\"379db953f0878423e54689ad08a6ecf3\", element=\"6aec2984-7b63-4d3f-9fe2-053f4bc2b692\")>,\n",
       " <selenium.webdriver.remote.webelement.WebElement (session=\"379db953f0878423e54689ad08a6ecf3\", element=\"9d3e8b9b-182e-4c11-a5b2-1fdfdd2f8d93\")>,\n",
       " <selenium.webdriver.remote.webelement.WebElement (session=\"379db953f0878423e54689ad08a6ecf3\", element=\"9707435f-01ef-4c1e-b647-5ff1cb845eb6\")>,\n",
       " <selenium.webdriver.remote.webelement.WebElement (session=\"379db953f0878423e54689ad08a6ecf3\", element=\"aff36ba7-8906-447a-85b8-eaf14a553be3\")>]"
      ]
     },
     "execution_count": 47,
     "metadata": {},
     "output_type": "execute_result"
    }
   ],
   "source": [
    "company_name=driver.find_elements(\"xpath\",'//a[@class=\"subTitle ellipsis fleft\"]')\n",
    "company_name"
   ]
  },
  {
   "cell_type": "code",
   "execution_count": 48,
   "id": "24acbc0d",
   "metadata": {},
   "outputs": [
    {
     "data": {
      "text/plain": [
       "20"
      ]
     },
     "execution_count": 48,
     "metadata": {},
     "output_type": "execute_result"
    }
   ],
   "source": [
    "len(company_name)"
   ]
  },
  {
   "cell_type": "code",
   "execution_count": 49,
   "id": "b15598c5",
   "metadata": {},
   "outputs": [
    {
     "data": {
      "text/plain": [
       "['Collabera',\n",
       " 'Artech infosystem',\n",
       " 'Clarivate',\n",
       " 'KPMG India',\n",
       " 'Meesho',\n",
       " 'Flipkart',\n",
       " 'Omnicuris Healthcare Pvt Ltd',\n",
       " 'cliqhr.com',\n",
       " 'Schneider Electric',\n",
       " 'Deutsche Bank',\n",
       " 'NUANCE INDIA PVT LTD',\n",
       " 'MOURI Tech',\n",
       " 'Uplers',\n",
       " 'Accolite Software India Pvt Ltd',\n",
       " 'BYJUS',\n",
       " 'Jio',\n",
       " 'Artech Infosystems Pvt. Ltd.',\n",
       " 'Walmart',\n",
       " 'LOGICAL HIRING',\n",
       " 'Gojek']"
      ]
     },
     "execution_count": 49,
     "metadata": {},
     "output_type": "execute_result"
    }
   ],
   "source": [
    "company=[]\n",
    "for i in company_name:\n",
    "    company.append(i.text)\n",
    "company"
   ]
  },
  {
   "cell_type": "code",
   "execution_count": 50,
   "id": "62420985",
   "metadata": {},
   "outputs": [
    {
     "data": {
      "text/plain": [
       "['Collabera',\n",
       " 'Artech infosystem',\n",
       " 'Clarivate',\n",
       " 'KPMG India',\n",
       " 'Meesho',\n",
       " 'Flipkart',\n",
       " 'Omnicuris Healthcare Pvt Ltd',\n",
       " 'cliqhr.com',\n",
       " 'Schneider Electric',\n",
       " 'Deutsche Bank']"
      ]
     },
     "execution_count": 50,
     "metadata": {},
     "output_type": "execute_result"
    }
   ],
   "source": [
    "Company_name=company[0:10]\n",
    "Company_name"
   ]
  },
  {
   "cell_type": "code",
   "execution_count": 51,
   "id": "98a36c12",
   "metadata": {},
   "outputs": [
    {
     "data": {
      "text/plain": [
       "[<selenium.webdriver.remote.webelement.WebElement (session=\"379db953f0878423e54689ad08a6ecf3\", element=\"bc678084-ef27-463e-bc1e-2fb1caa3dff2\")>,\n",
       " <selenium.webdriver.remote.webelement.WebElement (session=\"379db953f0878423e54689ad08a6ecf3\", element=\"e3c7e3f0-1249-4dce-a611-1d9aaf2dbcb3\")>,\n",
       " <selenium.webdriver.remote.webelement.WebElement (session=\"379db953f0878423e54689ad08a6ecf3\", element=\"1059691a-9469-470d-9e70-ef1cd6fa2d57\")>,\n",
       " <selenium.webdriver.remote.webelement.WebElement (session=\"379db953f0878423e54689ad08a6ecf3\", element=\"2d7fc50d-bc54-48f1-98de-942f0b6a0466\")>,\n",
       " <selenium.webdriver.remote.webelement.WebElement (session=\"379db953f0878423e54689ad08a6ecf3\", element=\"d6aeb317-3400-4bd7-b298-0d04e3af9760\")>,\n",
       " <selenium.webdriver.remote.webelement.WebElement (session=\"379db953f0878423e54689ad08a6ecf3\", element=\"46f48768-8c67-4038-804b-a0d25e84b88a\")>,\n",
       " <selenium.webdriver.remote.webelement.WebElement (session=\"379db953f0878423e54689ad08a6ecf3\", element=\"ba20ad11-c4ac-4029-96ff-10f84a051a43\")>,\n",
       " <selenium.webdriver.remote.webelement.WebElement (session=\"379db953f0878423e54689ad08a6ecf3\", element=\"21b975d5-4b29-421f-acdd-8af0f9dd8efe\")>,\n",
       " <selenium.webdriver.remote.webelement.WebElement (session=\"379db953f0878423e54689ad08a6ecf3\", element=\"baabd108-c8fa-477d-bb36-ed97559bb9c1\")>,\n",
       " <selenium.webdriver.remote.webelement.WebElement (session=\"379db953f0878423e54689ad08a6ecf3\", element=\"da7e6377-576d-4aef-a01b-5a0bcc8bce10\")>,\n",
       " <selenium.webdriver.remote.webelement.WebElement (session=\"379db953f0878423e54689ad08a6ecf3\", element=\"3c991d37-14b6-42ce-9288-f8b1ead0b174\")>,\n",
       " <selenium.webdriver.remote.webelement.WebElement (session=\"379db953f0878423e54689ad08a6ecf3\", element=\"471782ae-a098-4211-a1c0-9736c9367a0d\")>,\n",
       " <selenium.webdriver.remote.webelement.WebElement (session=\"379db953f0878423e54689ad08a6ecf3\", element=\"b9eb2b22-afb4-49db-bf85-c0db3167e9cf\")>,\n",
       " <selenium.webdriver.remote.webelement.WebElement (session=\"379db953f0878423e54689ad08a6ecf3\", element=\"8d40eb1c-fafa-4241-8b85-38aab1ec3e35\")>,\n",
       " <selenium.webdriver.remote.webelement.WebElement (session=\"379db953f0878423e54689ad08a6ecf3\", element=\"3f7d83c6-c22e-41f4-9cf1-4c6c2dd89393\")>,\n",
       " <selenium.webdriver.remote.webelement.WebElement (session=\"379db953f0878423e54689ad08a6ecf3\", element=\"7bcc2329-141a-48de-a40d-32b9a2c1736e\")>,\n",
       " <selenium.webdriver.remote.webelement.WebElement (session=\"379db953f0878423e54689ad08a6ecf3\", element=\"0385fcfa-375e-415d-8e57-1e69c509ed99\")>,\n",
       " <selenium.webdriver.remote.webelement.WebElement (session=\"379db953f0878423e54689ad08a6ecf3\", element=\"ac7fb601-0453-4e0e-87af-7dbea7b9a41f\")>,\n",
       " <selenium.webdriver.remote.webelement.WebElement (session=\"379db953f0878423e54689ad08a6ecf3\", element=\"26a27411-7433-4657-ae84-c4f4519cffe6\")>,\n",
       " <selenium.webdriver.remote.webelement.WebElement (session=\"379db953f0878423e54689ad08a6ecf3\", element=\"5ffd45da-e657-484f-a4c0-65518652f010\")>]"
      ]
     },
     "execution_count": 51,
     "metadata": {},
     "output_type": "execute_result"
    }
   ],
   "source": [
    "exp_req=driver.find_elements(\"xpath\",'//li[@class=\"fleft grey-text br2 placeHolderLi experience\"]')\n",
    "exp_req"
   ]
  },
  {
   "cell_type": "code",
   "execution_count": 52,
   "id": "1abba102",
   "metadata": {},
   "outputs": [
    {
     "data": {
      "text/plain": [
       "20"
      ]
     },
     "execution_count": 52,
     "metadata": {},
     "output_type": "execute_result"
    }
   ],
   "source": [
    "len(exp_req)"
   ]
  },
  {
   "cell_type": "code",
   "execution_count": 66,
   "id": "59478566",
   "metadata": {},
   "outputs": [
    {
     "data": {
      "text/plain": [
       "['6-11 Yrs',\n",
       " '1-6 Yrs',\n",
       " '2-4 Yrs',\n",
       " '2-6 Yrs',\n",
       " '3-6 Yrs',\n",
       " '3-6 Yrs',\n",
       " '2-5 Yrs',\n",
       " '5-10 Yrs',\n",
       " '3-6 Yrs',\n",
       " '2-5 Yrs',\n",
       " '1-3 Yrs',\n",
       " '6-10 Yrs',\n",
       " '8-12 Yrs',\n",
       " '2-6 Yrs',\n",
       " '2-5 Yrs',\n",
       " '8-11 Yrs',\n",
       " '4-8 Yrs',\n",
       " '4-7 Yrs',\n",
       " '3-8 Yrs',\n",
       " '3-7 Yrs']"
      ]
     },
     "execution_count": 66,
     "metadata": {},
     "output_type": "execute_result"
    }
   ],
   "source": [
    "experience=[]\n",
    "for i in exp_req:\n",
    "    experience.append(i.text)\n",
    "experience"
   ]
  },
  {
   "cell_type": "code",
   "execution_count": 54,
   "id": "f45064a2",
   "metadata": {
    "scrolled": true
   },
   "outputs": [
    {
     "data": {
      "text/plain": [
       "['6-11 Yrs',\n",
       " '1-6 Yrs',\n",
       " '2-4 Yrs',\n",
       " '2-6 Yrs',\n",
       " '3-6 Yrs',\n",
       " '3-6 Yrs',\n",
       " '2-5 Yrs',\n",
       " '5-10 Yrs',\n",
       " '3-6 Yrs',\n",
       " '2-5 Yrs']"
      ]
     },
     "execution_count": 54,
     "metadata": {},
     "output_type": "execute_result"
    }
   ],
   "source": [
    "Experience_req=experience[0:10]\n",
    "Experience_req"
   ]
  },
  {
   "cell_type": "code",
   "execution_count": 59,
   "id": "07595e07",
   "metadata": {},
   "outputs": [
    {
     "data": {
      "text/plain": [
       "(10, 10, 10, 10)"
      ]
     },
     "execution_count": 59,
     "metadata": {},
     "output_type": "execute_result"
    }
   ],
   "source": [
    "len(Experience_req),len(Company_name),len(job_location),len(title_job)"
   ]
  },
  {
   "cell_type": "code",
   "execution_count": 72,
   "id": "1efe4956",
   "metadata": {},
   "outputs": [
    {
     "data": {
      "text/html": [
       "<div>\n",
       "<style scoped>\n",
       "    .dataframe tbody tr th:only-of-type {\n",
       "        vertical-align: middle;\n",
       "    }\n",
       "\n",
       "    .dataframe tbody tr th {\n",
       "        vertical-align: top;\n",
       "    }\n",
       "\n",
       "    .dataframe thead th {\n",
       "        text-align: right;\n",
       "    }\n",
       "</style>\n",
       "<table border=\"1\" class=\"dataframe\">\n",
       "  <thead>\n",
       "    <tr style=\"text-align: right;\">\n",
       "      <th></th>\n",
       "      <th>JOB TILTE</th>\n",
       "      <th>COMPANY LOCATION</th>\n",
       "      <th>COMPANY NAME</th>\n",
       "      <th>EXPERIENCE REQUIRED</th>\n",
       "    </tr>\n",
       "  </thead>\n",
       "  <tbody>\n",
       "    <tr>\n",
       "      <th>0</th>\n",
       "      <td>Sr.Business Data Analyst</td>\n",
       "      <td>Bangalore/Bengaluru, karnataka\\n(WFH during Co...</td>\n",
       "      <td>Collabera</td>\n",
       "      <td>6-11 Yrs</td>\n",
       "    </tr>\n",
       "    <tr>\n",
       "      <th>1</th>\n",
       "      <td>Data Analyst - CRM Platform</td>\n",
       "      <td>Bangalore/Bengaluru, Mumbai, Hyderabad/Secunde...</td>\n",
       "      <td>Artech infosystem</td>\n",
       "      <td>1-6 Yrs</td>\n",
       "    </tr>\n",
       "    <tr>\n",
       "      <th>2</th>\n",
       "      <td>Data Analyst</td>\n",
       "      <td>Bangalore/Bengaluru</td>\n",
       "      <td>Clarivate</td>\n",
       "      <td>2-4 Yrs</td>\n",
       "    </tr>\n",
       "    <tr>\n",
       "      <th>3</th>\n",
       "      <td>Hiring Data Analyst - Forensics, KPMG India</td>\n",
       "      <td>Bangalore/Bengaluru, Noida, Kolkata, Mumbai, G...</td>\n",
       "      <td>KPMG India</td>\n",
       "      <td>2-6 Yrs</td>\n",
       "    </tr>\n",
       "    <tr>\n",
       "      <th>4</th>\n",
       "      <td>Data Analyst/Senior Data Analyst</td>\n",
       "      <td>Bangalore/Bengaluru</td>\n",
       "      <td>Meesho</td>\n",
       "      <td>3-6 Yrs</td>\n",
       "    </tr>\n",
       "    <tr>\n",
       "      <th>5</th>\n",
       "      <td>Senior Data Analyst II</td>\n",
       "      <td>Bangalore/Bengaluru</td>\n",
       "      <td>Flipkart</td>\n",
       "      <td>3-6 Yrs</td>\n",
       "    </tr>\n",
       "    <tr>\n",
       "      <th>6</th>\n",
       "      <td>Immediate Opening with Omnicuris For Data Analyst</td>\n",
       "      <td>Bangalore/Bengaluru</td>\n",
       "      <td>Omnicuris Healthcare Pvt Ltd</td>\n",
       "      <td>2-5 Yrs</td>\n",
       "    </tr>\n",
       "    <tr>\n",
       "      <th>7</th>\n",
       "      <td>Business Analyst / Data Analyst</td>\n",
       "      <td>Bangalore/Bengaluru, Mumbai, Hyderabad/Secunde...</td>\n",
       "      <td>cliqhr.com</td>\n",
       "      <td>5-10 Yrs</td>\n",
       "    </tr>\n",
       "    <tr>\n",
       "      <th>8</th>\n",
       "      <td>Software Technical Expert - Data Analyst</td>\n",
       "      <td>Bangalore/Bengaluru</td>\n",
       "      <td>Schneider Electric</td>\n",
       "      <td>3-6 Yrs</td>\n",
       "    </tr>\n",
       "    <tr>\n",
       "      <th>9</th>\n",
       "      <td>Reference Data Analyst</td>\n",
       "      <td>Bangalore/Bengaluru</td>\n",
       "      <td>Deutsche Bank</td>\n",
       "      <td>2-5 Yrs</td>\n",
       "    </tr>\n",
       "  </tbody>\n",
       "</table>\n",
       "</div>"
      ],
      "text/plain": [
       "                                           JOB TILTE  \\\n",
       "0                           Sr.Business Data Analyst   \n",
       "1                        Data Analyst - CRM Platform   \n",
       "2                                       Data Analyst   \n",
       "3        Hiring Data Analyst - Forensics, KPMG India   \n",
       "4                   Data Analyst/Senior Data Analyst   \n",
       "5                             Senior Data Analyst II   \n",
       "6  Immediate Opening with Omnicuris For Data Analyst   \n",
       "7                    Business Analyst / Data Analyst   \n",
       "8           Software Technical Expert - Data Analyst   \n",
       "9                             Reference Data Analyst   \n",
       "\n",
       "                                    COMPANY LOCATION  \\\n",
       "0  Bangalore/Bengaluru, karnataka\\n(WFH during Co...   \n",
       "1  Bangalore/Bengaluru, Mumbai, Hyderabad/Secunde...   \n",
       "2                                Bangalore/Bengaluru   \n",
       "3  Bangalore/Bengaluru, Noida, Kolkata, Mumbai, G...   \n",
       "4                                Bangalore/Bengaluru   \n",
       "5                                Bangalore/Bengaluru   \n",
       "6                                Bangalore/Bengaluru   \n",
       "7  Bangalore/Bengaluru, Mumbai, Hyderabad/Secunde...   \n",
       "8                                Bangalore/Bengaluru   \n",
       "9                                Bangalore/Bengaluru   \n",
       "\n",
       "                   COMPANY NAME EXPERIENCE REQUIRED  \n",
       "0                     Collabera            6-11 Yrs  \n",
       "1             Artech infosystem             1-6 Yrs  \n",
       "2                     Clarivate             2-4 Yrs  \n",
       "3                    KPMG India             2-6 Yrs  \n",
       "4                        Meesho             3-6 Yrs  \n",
       "5                      Flipkart             3-6 Yrs  \n",
       "6  Omnicuris Healthcare Pvt Ltd             2-5 Yrs  \n",
       "7                    cliqhr.com            5-10 Yrs  \n",
       "8            Schneider Electric             3-6 Yrs  \n",
       "9                 Deutsche Bank             2-5 Yrs  "
      ]
     },
     "execution_count": 72,
     "metadata": {},
     "output_type": "execute_result"
    }
   ],
   "source": [
    "job=pd.DataFrame({'JOB TILTE':title_job,'COMPANY LOCATION':job_location,'COMPANY NAME':Company_name,'EXPERIENCE REQUIRED':Experience_req})\n",
    "job"
   ]
  },
  {
   "cell_type": "code",
   "execution_count": null,
   "id": "15319a23",
   "metadata": {},
   "outputs": [],
   "source": [
    "#Q: Write a python program to scrape data for “Data Scientist” Job position in “Bangalore” location. You \n",
    "#have to scrape the job-title, job-location, company_name. You have to scrape first 10 jobs data.\n",
    "#This task will be done in following steps:\n",
    "#1. First get the webpage https://www.naukri.com/\n",
    "#2. Enter “Data Scientist” in “Skill, Designations, Companies” field and enter “Bangalore” in “enter the\n",
    "#location” field.\n",
    "#3. Then click the search button.\n",
    "#4. Then scrape the data for the first 10 jobs results you get.\n",
    "#5. Finally create a dataframe of the scraped data"
   ]
  },
  {
   "cell_type": "code",
   "execution_count": 75,
   "id": "21afceab",
   "metadata": {},
   "outputs": [],
   "source": [
    "url='https://www.naukri.com/'\n",
    "driver.get(url)"
   ]
  },
  {
   "cell_type": "code",
   "execution_count": 104,
   "id": "8c0d0a33",
   "metadata": {},
   "outputs": [
    {
     "data": {
      "text/plain": [
       "<selenium.webdriver.remote.webelement.WebElement (session=\"c07573a1d9eeaed0ea881d6756af23ef\", element=\"ac291457-276a-4773-8b1a-68bf514ad05f\")>"
      ]
     },
     "execution_count": 104,
     "metadata": {},
     "output_type": "execute_result"
    }
   ],
   "source": [
    "#finding web element for job search\n",
    "search_job=driver.find_element(\"xpath\",'/html/body/div[1]/div[2]/div[3]/div/div/div[1]/div/div/div/input')\n",
    "search_job"
   ]
  },
  {
   "cell_type": "code",
   "execution_count": 105,
   "id": "4a4304bb",
   "metadata": {},
   "outputs": [],
   "source": [
    "#write on search bar\n",
    "search_job.send_keys('data scientist')"
   ]
  },
  {
   "cell_type": "code",
   "execution_count": 107,
   "id": "ac346d3c",
   "metadata": {},
   "outputs": [
    {
     "data": {
      "text/plain": [
       "<selenium.webdriver.remote.webelement.WebElement (session=\"c07573a1d9eeaed0ea881d6756af23ef\", element=\"59425335-b2f2-40a0-ae1a-e86c428b2ffb\")>"
      ]
     },
     "execution_count": 107,
     "metadata": {},
     "output_type": "execute_result"
    }
   ],
   "source": [
    "#finding web element for search loc bar\n",
    "search_loc=driver.find_element(\"xpath\",'/html/body/div[1]/div[2]/div[3]/div/div/div[5]/div/div/div/input')\n",
    "search_loc"
   ]
  },
  {
   "cell_type": "code",
   "execution_count": 108,
   "id": "587415b4",
   "metadata": {},
   "outputs": [],
   "source": [
    "search_loc.send_keys('bangalore')\n"
   ]
  },
  {
   "cell_type": "code",
   "execution_count": 109,
   "id": "9fbec513",
   "metadata": {},
   "outputs": [
    {
     "data": {
      "text/plain": [
       "<selenium.webdriver.remote.webelement.WebElement (session=\"c07573a1d9eeaed0ea881d6756af23ef\", element=\"38e15b8b-fc43-4e90-a662-47527b4ef434\")>"
      ]
     },
     "execution_count": 109,
     "metadata": {},
     "output_type": "execute_result"
    }
   ],
   "source": [
    "#clicking search button\n",
    "search_btn=driver.find_element(\"xpath\",'/html/body/div[1]/div[2]/div[3]/div/div/div[6]')\n",
    "search_btn"
   ]
  },
  {
   "cell_type": "code",
   "execution_count": 110,
   "id": "c991d5d0",
   "metadata": {},
   "outputs": [],
   "source": [
    "search_btn.click()"
   ]
  },
  {
   "cell_type": "code",
   "execution_count": 111,
   "id": "14201994",
   "metadata": {},
   "outputs": [
    {
     "data": {
      "text/plain": [
       "[<selenium.webdriver.remote.webelement.WebElement (session=\"c07573a1d9eeaed0ea881d6756af23ef\", element=\"db29cb98-3964-424c-9564-d22d846f01ad\")>,\n",
       " <selenium.webdriver.remote.webelement.WebElement (session=\"c07573a1d9eeaed0ea881d6756af23ef\", element=\"658ba960-deb8-4a78-a58b-0d14558de4b5\")>,\n",
       " <selenium.webdriver.remote.webelement.WebElement (session=\"c07573a1d9eeaed0ea881d6756af23ef\", element=\"367e29d4-c11d-46ff-a3b1-4496450aa7fa\")>,\n",
       " <selenium.webdriver.remote.webelement.WebElement (session=\"c07573a1d9eeaed0ea881d6756af23ef\", element=\"6ab6ab0a-50f1-4f19-9f8c-c92f4301eca7\")>,\n",
       " <selenium.webdriver.remote.webelement.WebElement (session=\"c07573a1d9eeaed0ea881d6756af23ef\", element=\"fc733ac7-952c-413e-99a1-70e70da817cb\")>,\n",
       " <selenium.webdriver.remote.webelement.WebElement (session=\"c07573a1d9eeaed0ea881d6756af23ef\", element=\"38353bf3-534a-49e9-af27-af52118c1481\")>,\n",
       " <selenium.webdriver.remote.webelement.WebElement (session=\"c07573a1d9eeaed0ea881d6756af23ef\", element=\"14809730-0164-43ed-ac09-416ab7de8d35\")>,\n",
       " <selenium.webdriver.remote.webelement.WebElement (session=\"c07573a1d9eeaed0ea881d6756af23ef\", element=\"34bbc695-cf06-4b12-a3a2-dca9b1fc769d\")>,\n",
       " <selenium.webdriver.remote.webelement.WebElement (session=\"c07573a1d9eeaed0ea881d6756af23ef\", element=\"7f033f16-6e5a-4ae7-bc9c-f7d40cec5ff8\")>,\n",
       " <selenium.webdriver.remote.webelement.WebElement (session=\"c07573a1d9eeaed0ea881d6756af23ef\", element=\"319f373b-7860-4470-b2a9-b912dc3a67aa\")>,\n",
       " <selenium.webdriver.remote.webelement.WebElement (session=\"c07573a1d9eeaed0ea881d6756af23ef\", element=\"cf1b1f32-9811-4670-91fc-28fc57383248\")>,\n",
       " <selenium.webdriver.remote.webelement.WebElement (session=\"c07573a1d9eeaed0ea881d6756af23ef\", element=\"260ff5d3-f01b-41de-a081-aff5fab1dda6\")>,\n",
       " <selenium.webdriver.remote.webelement.WebElement (session=\"c07573a1d9eeaed0ea881d6756af23ef\", element=\"7d8b4fae-f155-4fab-ad45-61b95d3f8895\")>,\n",
       " <selenium.webdriver.remote.webelement.WebElement (session=\"c07573a1d9eeaed0ea881d6756af23ef\", element=\"c052f3c1-c207-4597-81bb-a1bfdc7d416b\")>,\n",
       " <selenium.webdriver.remote.webelement.WebElement (session=\"c07573a1d9eeaed0ea881d6756af23ef\", element=\"29bcb1e1-09be-4d93-962d-230c54a9d6e8\")>,\n",
       " <selenium.webdriver.remote.webelement.WebElement (session=\"c07573a1d9eeaed0ea881d6756af23ef\", element=\"9372650d-b110-4b43-8329-9f45bb958284\")>,\n",
       " <selenium.webdriver.remote.webelement.WebElement (session=\"c07573a1d9eeaed0ea881d6756af23ef\", element=\"0fdd8413-bc95-4c92-9236-fad9c97bcaca\")>,\n",
       " <selenium.webdriver.remote.webelement.WebElement (session=\"c07573a1d9eeaed0ea881d6756af23ef\", element=\"9d8f3acd-4447-4dac-83d6-b9d75a7f6984\")>,\n",
       " <selenium.webdriver.remote.webelement.WebElement (session=\"c07573a1d9eeaed0ea881d6756af23ef\", element=\"fc7c6d6a-fcbe-4038-8e5a-5b5ce4d13af6\")>,\n",
       " <selenium.webdriver.remote.webelement.WebElement (session=\"c07573a1d9eeaed0ea881d6756af23ef\", element=\"bb9b6351-2a0a-46f8-a65f-38445976e1b2\")>]"
      ]
     },
     "execution_count": 111,
     "metadata": {},
     "output_type": "execute_result"
    }
   ],
   "source": [
    "#extracting job element\n",
    "title_tag=driver.find_elements(\"xpath\",'//a[@class=\"title fw500 ellipsis\"]')\n",
    "title_tag\n"
   ]
  },
  {
   "cell_type": "code",
   "execution_count": 112,
   "id": "00045be8",
   "metadata": {},
   "outputs": [
    {
     "data": {
      "text/plain": [
       "['Urgent Job Opening For AI Practitioner - Data Science at Wipro Holmes',\n",
       " 'Dataiku Consultant',\n",
       " 'Opportunity For Data Scientist - Female Candidates ONLY',\n",
       " 'Data Scientist',\n",
       " 'Data Scientist, Personalization',\n",
       " 'AWS Sagemaker',\n",
       " 'Data Scientist',\n",
       " 'Research and Development -AI/ML -(PhD )',\n",
       " 'Senior Data Science Engineer',\n",
       " 'Data Science - Engineering Manager',\n",
       " 'Data Scientist',\n",
       " 'Data Scientist- Assistant Manager/Manager',\n",
       " 'Data Scientist: Artificial Intelligence',\n",
       " 'Data Scientist - IN3',\n",
       " 'Senior Data Scientist, Personalization',\n",
       " 'Data Scientist',\n",
       " 'DigitalBCG GAMMA Data Scientist',\n",
       " 'Data Engineer - ML Ops',\n",
       " 'Data Scientist',\n",
       " 'Data Scientist']"
      ]
     },
     "execution_count": 112,
     "metadata": {},
     "output_type": "execute_result"
    }
   ],
   "source": [
    "title=[]\n",
    "for i in title_tag:\n",
    "    title.append(i.text)\n",
    "title"
   ]
  },
  {
   "cell_type": "code",
   "execution_count": 113,
   "id": "df2a92de",
   "metadata": {},
   "outputs": [
    {
     "data": {
      "text/plain": [
       "['Urgent Job Opening For AI Practitioner - Data Science at Wipro Holmes',\n",
       " 'Dataiku Consultant',\n",
       " 'Opportunity For Data Scientist - Female Candidates ONLY',\n",
       " 'Data Scientist',\n",
       " 'Data Scientist, Personalization',\n",
       " 'AWS Sagemaker',\n",
       " 'Data Scientist',\n",
       " 'Research and Development -AI/ML -(PhD )',\n",
       " 'Senior Data Science Engineer',\n",
       " 'Data Science - Engineering Manager']"
      ]
     },
     "execution_count": 113,
     "metadata": {},
     "output_type": "execute_result"
    }
   ],
   "source": [
    "job_title=title[0:10]\n",
    "job_title"
   ]
  },
  {
   "cell_type": "code",
   "execution_count": 114,
   "id": "01f93b55",
   "metadata": {},
   "outputs": [
    {
     "data": {
      "text/plain": [
       "[<selenium.webdriver.remote.webelement.WebElement (session=\"c07573a1d9eeaed0ea881d6756af23ef\", element=\"3258d2a7-c418-43e8-b040-4236b8fcf053\")>,\n",
       " <selenium.webdriver.remote.webelement.WebElement (session=\"c07573a1d9eeaed0ea881d6756af23ef\", element=\"b8fa07fd-1a26-4de7-9f43-1959ceacce17\")>,\n",
       " <selenium.webdriver.remote.webelement.WebElement (session=\"c07573a1d9eeaed0ea881d6756af23ef\", element=\"42eeb99d-983a-4b7a-81c6-9f6b48e6332f\")>,\n",
       " <selenium.webdriver.remote.webelement.WebElement (session=\"c07573a1d9eeaed0ea881d6756af23ef\", element=\"7774e889-5947-48c5-bd89-cccb320c7fad\")>,\n",
       " <selenium.webdriver.remote.webelement.WebElement (session=\"c07573a1d9eeaed0ea881d6756af23ef\", element=\"a86d9b10-753f-480a-b6be-135cb41d5dfb\")>,\n",
       " <selenium.webdriver.remote.webelement.WebElement (session=\"c07573a1d9eeaed0ea881d6756af23ef\", element=\"846dc5f7-b16c-4a74-9094-db35fcf3727d\")>,\n",
       " <selenium.webdriver.remote.webelement.WebElement (session=\"c07573a1d9eeaed0ea881d6756af23ef\", element=\"02c9f747-4d70-4ba4-81ad-29fc89f74cc7\")>,\n",
       " <selenium.webdriver.remote.webelement.WebElement (session=\"c07573a1d9eeaed0ea881d6756af23ef\", element=\"bfdf4aaa-9645-4b94-bfb5-587618ba4b49\")>,\n",
       " <selenium.webdriver.remote.webelement.WebElement (session=\"c07573a1d9eeaed0ea881d6756af23ef\", element=\"b309a09e-af90-4832-aeec-029aa7ee4b62\")>,\n",
       " <selenium.webdriver.remote.webelement.WebElement (session=\"c07573a1d9eeaed0ea881d6756af23ef\", element=\"d2783fe0-9bee-4991-961c-fe294da5bc1f\")>,\n",
       " <selenium.webdriver.remote.webelement.WebElement (session=\"c07573a1d9eeaed0ea881d6756af23ef\", element=\"6cfed1e8-13c4-4c62-a4af-dfb58f7b2c31\")>,\n",
       " <selenium.webdriver.remote.webelement.WebElement (session=\"c07573a1d9eeaed0ea881d6756af23ef\", element=\"a11562a6-21f2-4aec-846a-b64ad7aa30e6\")>,\n",
       " <selenium.webdriver.remote.webelement.WebElement (session=\"c07573a1d9eeaed0ea881d6756af23ef\", element=\"c3d0ced7-5837-4530-a106-a3d5c1b446b0\")>,\n",
       " <selenium.webdriver.remote.webelement.WebElement (session=\"c07573a1d9eeaed0ea881d6756af23ef\", element=\"244df14f-a7b7-4810-891a-d43113f746d2\")>,\n",
       " <selenium.webdriver.remote.webelement.WebElement (session=\"c07573a1d9eeaed0ea881d6756af23ef\", element=\"ab954670-d417-4d18-bfe7-aab78976ab88\")>,\n",
       " <selenium.webdriver.remote.webelement.WebElement (session=\"c07573a1d9eeaed0ea881d6756af23ef\", element=\"35079d68-adbb-4d61-b21c-3eb781299198\")>,\n",
       " <selenium.webdriver.remote.webelement.WebElement (session=\"c07573a1d9eeaed0ea881d6756af23ef\", element=\"26ee0316-26a9-4139-b3e6-68eacb4fbb7a\")>,\n",
       " <selenium.webdriver.remote.webelement.WebElement (session=\"c07573a1d9eeaed0ea881d6756af23ef\", element=\"8f8f05ae-c83d-48cd-8d4a-20adebea1b7f\")>,\n",
       " <selenium.webdriver.remote.webelement.WebElement (session=\"c07573a1d9eeaed0ea881d6756af23ef\", element=\"d448381a-abed-4710-8941-5cc470008577\")>,\n",
       " <selenium.webdriver.remote.webelement.WebElement (session=\"c07573a1d9eeaed0ea881d6756af23ef\", element=\"ed7971f3-b3b6-45e9-9651-57924b35cc64\")>]"
      ]
     },
     "execution_count": 114,
     "metadata": {},
     "output_type": "execute_result"
    }
   ],
   "source": [
    "location=driver.find_elements(\"xpath\",'//li[@class=\"fleft grey-text br2 placeHolderLi location\"]')\n",
    "location"
   ]
  },
  {
   "cell_type": "code",
   "execution_count": 115,
   "id": "32678c21",
   "metadata": {},
   "outputs": [
    {
     "data": {
      "text/plain": [
       "['Bangalore/Bengaluru, Kochi/Cochin, New Delhi, Coimbatore, Chennai, Pune, Mumbai, Hyderabad',\n",
       " 'Bangalore/Bengaluru, Pune, Chennai',\n",
       " 'Bangalore/Bengaluru, Gurgaon/Gurugram, Mumbai (All Areas)',\n",
       " 'Bangalore/Bengaluru',\n",
       " 'Bangalore/Bengaluru',\n",
       " 'Bangalore/Bengaluru\\n(WFH during Covid)',\n",
       " 'Bangalore/Bengaluru\\n(WFH during Covid)',\n",
       " 'Bangalore/Bengaluru, Noida, Hyderabad/Secunderabad, Pune, Gurgaon/Gurugram, Chennai, Delhi / NCR',\n",
       " 'Bangalore/Bengaluru, Gurgaon/Gurugram, Mumbai (All Areas)',\n",
       " 'Bangalore/Bengaluru, Noida, Mumbai',\n",
       " 'Bangalore/Bengaluru, Mumbai (All Areas)',\n",
       " 'Bangalore/Bengaluru',\n",
       " 'Bangalore/Bengaluru',\n",
       " 'Bangalore/Bengaluru',\n",
       " 'Bangalore/Bengaluru',\n",
       " 'Bangalore/Bengaluru',\n",
       " 'Bangalore/Bengaluru, New Delhi',\n",
       " 'Bangalore/Bengaluru',\n",
       " 'Bangalore/Bengaluru',\n",
       " 'Bangalore/Bengaluru']"
      ]
     },
     "execution_count": 115,
     "metadata": {},
     "output_type": "execute_result"
    }
   ],
   "source": [
    "loc=[]\n",
    "for i in location:\n",
    "    loc.append(i.text)\n",
    "loc"
   ]
  },
  {
   "cell_type": "code",
   "execution_count": 116,
   "id": "890ec127",
   "metadata": {},
   "outputs": [
    {
     "data": {
      "text/plain": [
       "['Bangalore/Bengaluru, Kochi/Cochin, New Delhi, Coimbatore, Chennai, Pune, Mumbai, Hyderabad',\n",
       " 'Bangalore/Bengaluru, Pune, Chennai',\n",
       " 'Bangalore/Bengaluru, Gurgaon/Gurugram, Mumbai (All Areas)',\n",
       " 'Bangalore/Bengaluru',\n",
       " 'Bangalore/Bengaluru',\n",
       " 'Bangalore/Bengaluru\\n(WFH during Covid)',\n",
       " 'Bangalore/Bengaluru\\n(WFH during Covid)',\n",
       " 'Bangalore/Bengaluru, Noida, Hyderabad/Secunderabad, Pune, Gurgaon/Gurugram, Chennai, Delhi / NCR',\n",
       " 'Bangalore/Bengaluru, Gurgaon/Gurugram, Mumbai (All Areas)',\n",
       " 'Bangalore/Bengaluru, Noida, Mumbai']"
      ]
     },
     "execution_count": 116,
     "metadata": {},
     "output_type": "execute_result"
    }
   ],
   "source": [
    "job_location=loc[0:10]\n",
    "job_location"
   ]
  },
  {
   "cell_type": "code",
   "execution_count": 117,
   "id": "6e23656f",
   "metadata": {},
   "outputs": [
    {
     "data": {
      "text/plain": [
       "[<selenium.webdriver.remote.webelement.WebElement (session=\"c07573a1d9eeaed0ea881d6756af23ef\", element=\"7de69536-1456-48d3-8ec4-85c12cc86f3c\")>,\n",
       " <selenium.webdriver.remote.webelement.WebElement (session=\"c07573a1d9eeaed0ea881d6756af23ef\", element=\"02421dbd-ef81-4e01-8754-659b0356572f\")>,\n",
       " <selenium.webdriver.remote.webelement.WebElement (session=\"c07573a1d9eeaed0ea881d6756af23ef\", element=\"d4d8d992-f7c3-4913-bd4b-f9116501fc56\")>,\n",
       " <selenium.webdriver.remote.webelement.WebElement (session=\"c07573a1d9eeaed0ea881d6756af23ef\", element=\"7a8ddc89-fcb4-4f8c-80d0-e1d2a55b4360\")>,\n",
       " <selenium.webdriver.remote.webelement.WebElement (session=\"c07573a1d9eeaed0ea881d6756af23ef\", element=\"5037c5ca-5cb3-456f-8c0c-5f6ec7249726\")>,\n",
       " <selenium.webdriver.remote.webelement.WebElement (session=\"c07573a1d9eeaed0ea881d6756af23ef\", element=\"7aed9bd4-f6f1-4cda-bcd3-fa0f6cb38faf\")>,\n",
       " <selenium.webdriver.remote.webelement.WebElement (session=\"c07573a1d9eeaed0ea881d6756af23ef\", element=\"d7437fe2-cd72-4403-af39-5a8eab6086cd\")>,\n",
       " <selenium.webdriver.remote.webelement.WebElement (session=\"c07573a1d9eeaed0ea881d6756af23ef\", element=\"ae148f27-e591-46e0-b096-b78d78cd439e\")>,\n",
       " <selenium.webdriver.remote.webelement.WebElement (session=\"c07573a1d9eeaed0ea881d6756af23ef\", element=\"753aa3fe-a246-4ee4-a860-da8c4dd21a97\")>,\n",
       " <selenium.webdriver.remote.webelement.WebElement (session=\"c07573a1d9eeaed0ea881d6756af23ef\", element=\"49b87270-c1c9-4819-923b-1f9ecf78f4d2\")>,\n",
       " <selenium.webdriver.remote.webelement.WebElement (session=\"c07573a1d9eeaed0ea881d6756af23ef\", element=\"261f229f-6adb-409d-8804-37d5da13014b\")>,\n",
       " <selenium.webdriver.remote.webelement.WebElement (session=\"c07573a1d9eeaed0ea881d6756af23ef\", element=\"36fb4636-a798-4db5-9fb4-a95f9184519c\")>,\n",
       " <selenium.webdriver.remote.webelement.WebElement (session=\"c07573a1d9eeaed0ea881d6756af23ef\", element=\"e7cf610e-1019-45ba-9611-06921f924382\")>,\n",
       " <selenium.webdriver.remote.webelement.WebElement (session=\"c07573a1d9eeaed0ea881d6756af23ef\", element=\"92c9ee48-7c29-40e7-ab17-59fb46c46e1c\")>,\n",
       " <selenium.webdriver.remote.webelement.WebElement (session=\"c07573a1d9eeaed0ea881d6756af23ef\", element=\"41f8b241-e847-4519-b295-faa5e96c38d3\")>,\n",
       " <selenium.webdriver.remote.webelement.WebElement (session=\"c07573a1d9eeaed0ea881d6756af23ef\", element=\"c4dd16d6-21dc-4b0f-8d5e-9b262e99284a\")>,\n",
       " <selenium.webdriver.remote.webelement.WebElement (session=\"c07573a1d9eeaed0ea881d6756af23ef\", element=\"3ef7366c-e5c2-4a4b-8e31-a3e2f229210a\")>,\n",
       " <selenium.webdriver.remote.webelement.WebElement (session=\"c07573a1d9eeaed0ea881d6756af23ef\", element=\"fb9e3ef2-3fbc-49de-8095-abcc37cb90c9\")>,\n",
       " <selenium.webdriver.remote.webelement.WebElement (session=\"c07573a1d9eeaed0ea881d6756af23ef\", element=\"c8ad10fc-c29f-40b4-8fa6-8e9a81315fbc\")>,\n",
       " <selenium.webdriver.remote.webelement.WebElement (session=\"c07573a1d9eeaed0ea881d6756af23ef\", element=\"80ae266e-5a8e-4791-8827-c0b5504f745f\")>]"
      ]
     },
     "execution_count": 117,
     "metadata": {},
     "output_type": "execute_result"
    }
   ],
   "source": [
    "company=driver.find_elements(\"xpath\",'//a[@class=\"subTitle ellipsis fleft\"]')\n",
    "company"
   ]
  },
  {
   "cell_type": "code",
   "execution_count": 118,
   "id": "db69803d",
   "metadata": {},
   "outputs": [
    {
     "data": {
      "text/plain": [
       "['Wipro',\n",
       " 'Wipro',\n",
       " 'PayU',\n",
       " 'IBM',\n",
       " 'Walmart',\n",
       " 'Wipro',\n",
       " 'Wipro',\n",
       " 'EXL',\n",
       " 'Fractal Analytics',\n",
       " 'Paytm',\n",
       " 'UPL',\n",
       " 'Genpact',\n",
       " 'IBM',\n",
       " 'Walmart',\n",
       " 'Walmart',\n",
       " 'Schneider Electric',\n",
       " 'Boston Consulting Group',\n",
       " 'VISA',\n",
       " 'Applied Materials',\n",
       " 'Applied Materials']"
      ]
     },
     "execution_count": 118,
     "metadata": {},
     "output_type": "execute_result"
    }
   ],
   "source": [
    "comp=[]\n",
    "for i in company:\n",
    "    comp.append(i.text)\n",
    "comp"
   ]
  },
  {
   "cell_type": "code",
   "execution_count": 119,
   "id": "a0932a04",
   "metadata": {},
   "outputs": [
    {
     "data": {
      "text/plain": [
       "['Wipro',\n",
       " 'Wipro',\n",
       " 'PayU',\n",
       " 'IBM',\n",
       " 'Walmart',\n",
       " 'Wipro',\n",
       " 'Wipro',\n",
       " 'EXL',\n",
       " 'Fractal Analytics',\n",
       " 'Paytm']"
      ]
     },
     "execution_count": 119,
     "metadata": {},
     "output_type": "execute_result"
    }
   ],
   "source": [
    "company_name=comp[0:10]\n",
    "company_name"
   ]
  },
  {
   "cell_type": "code",
   "execution_count": 120,
   "id": "aac3ebc9",
   "metadata": {},
   "outputs": [
    {
     "data": {
      "text/html": [
       "<div>\n",
       "<style scoped>\n",
       "    .dataframe tbody tr th:only-of-type {\n",
       "        vertical-align: middle;\n",
       "    }\n",
       "\n",
       "    .dataframe tbody tr th {\n",
       "        vertical-align: top;\n",
       "    }\n",
       "\n",
       "    .dataframe thead th {\n",
       "        text-align: right;\n",
       "    }\n",
       "</style>\n",
       "<table border=\"1\" class=\"dataframe\">\n",
       "  <thead>\n",
       "    <tr style=\"text-align: right;\">\n",
       "      <th></th>\n",
       "      <th>JOB TITLE</th>\n",
       "      <th>JOB LOCATION</th>\n",
       "      <th>COMPANY NAME</th>\n",
       "    </tr>\n",
       "  </thead>\n",
       "  <tbody>\n",
       "    <tr>\n",
       "      <th>0</th>\n",
       "      <td>Urgent Job Opening For AI Practitioner - Data ...</td>\n",
       "      <td>Bangalore/Bengaluru, Kochi/Cochin, New Delhi, ...</td>\n",
       "      <td>Wipro</td>\n",
       "    </tr>\n",
       "    <tr>\n",
       "      <th>1</th>\n",
       "      <td>Dataiku Consultant</td>\n",
       "      <td>Bangalore/Bengaluru, Pune, Chennai</td>\n",
       "      <td>Wipro</td>\n",
       "    </tr>\n",
       "    <tr>\n",
       "      <th>2</th>\n",
       "      <td>Opportunity For Data Scientist - Female Candid...</td>\n",
       "      <td>Bangalore/Bengaluru, Gurgaon/Gurugram, Mumbai ...</td>\n",
       "      <td>PayU</td>\n",
       "    </tr>\n",
       "    <tr>\n",
       "      <th>3</th>\n",
       "      <td>Data Scientist</td>\n",
       "      <td>Bangalore/Bengaluru</td>\n",
       "      <td>IBM</td>\n",
       "    </tr>\n",
       "    <tr>\n",
       "      <th>4</th>\n",
       "      <td>Data Scientist, Personalization</td>\n",
       "      <td>Bangalore/Bengaluru</td>\n",
       "      <td>Walmart</td>\n",
       "    </tr>\n",
       "    <tr>\n",
       "      <th>5</th>\n",
       "      <td>AWS Sagemaker</td>\n",
       "      <td>Bangalore/Bengaluru\\n(WFH during Covid)</td>\n",
       "      <td>Wipro</td>\n",
       "    </tr>\n",
       "    <tr>\n",
       "      <th>6</th>\n",
       "      <td>Data Scientist</td>\n",
       "      <td>Bangalore/Bengaluru\\n(WFH during Covid)</td>\n",
       "      <td>Wipro</td>\n",
       "    </tr>\n",
       "    <tr>\n",
       "      <th>7</th>\n",
       "      <td>Research and Development -AI/ML -(PhD )</td>\n",
       "      <td>Bangalore/Bengaluru, Noida, Hyderabad/Secunder...</td>\n",
       "      <td>EXL</td>\n",
       "    </tr>\n",
       "    <tr>\n",
       "      <th>8</th>\n",
       "      <td>Senior Data Science Engineer</td>\n",
       "      <td>Bangalore/Bengaluru, Gurgaon/Gurugram, Mumbai ...</td>\n",
       "      <td>Fractal Analytics</td>\n",
       "    </tr>\n",
       "    <tr>\n",
       "      <th>9</th>\n",
       "      <td>Data Science - Engineering Manager</td>\n",
       "      <td>Bangalore/Bengaluru, Noida, Mumbai</td>\n",
       "      <td>Paytm</td>\n",
       "    </tr>\n",
       "  </tbody>\n",
       "</table>\n",
       "</div>"
      ],
      "text/plain": [
       "                                           JOB TITLE  \\\n",
       "0  Urgent Job Opening For AI Practitioner - Data ...   \n",
       "1                                 Dataiku Consultant   \n",
       "2  Opportunity For Data Scientist - Female Candid...   \n",
       "3                                     Data Scientist   \n",
       "4                    Data Scientist, Personalization   \n",
       "5                                      AWS Sagemaker   \n",
       "6                                     Data Scientist   \n",
       "7            Research and Development -AI/ML -(PhD )   \n",
       "8                       Senior Data Science Engineer   \n",
       "9                 Data Science - Engineering Manager   \n",
       "\n",
       "                                        JOB LOCATION       COMPANY NAME  \n",
       "0  Bangalore/Bengaluru, Kochi/Cochin, New Delhi, ...              Wipro  \n",
       "1                 Bangalore/Bengaluru, Pune, Chennai              Wipro  \n",
       "2  Bangalore/Bengaluru, Gurgaon/Gurugram, Mumbai ...               PayU  \n",
       "3                                Bangalore/Bengaluru                IBM  \n",
       "4                                Bangalore/Bengaluru            Walmart  \n",
       "5            Bangalore/Bengaluru\\n(WFH during Covid)              Wipro  \n",
       "6            Bangalore/Bengaluru\\n(WFH during Covid)              Wipro  \n",
       "7  Bangalore/Bengaluru, Noida, Hyderabad/Secunder...                EXL  \n",
       "8  Bangalore/Bengaluru, Gurgaon/Gurugram, Mumbai ...  Fractal Analytics  \n",
       "9                 Bangalore/Bengaluru, Noida, Mumbai              Paytm  "
      ]
     },
     "execution_count": 120,
     "metadata": {},
     "output_type": "execute_result"
    }
   ],
   "source": [
    "df=pd.DataFrame({'JOB TITLE':job_title,'JOB LOCATION':job_location,'COMPANY NAME':company_name})\n",
    "df\n"
   ]
  },
  {
   "cell_type": "code",
   "execution_count": null,
   "id": "fd11042a",
   "metadata": {},
   "outputs": [],
   "source": [
    "#Q3: In this question you have to scrape data using the filters available on the webpage as shown below:\n",
    "#You have to use the location and salary filter.\n",
    "#You have to scrape data for “Data Scientist” designation for first 10 job results.\n",
    "#You have to scrape the job-title, job-location, company name, experience required. \n",
    "#The location filter to be used is “Delhi/NCR”. The salary filter to be used is “3-6” lakhs\n",
    "#3The task will be done as shown in the below steps:\n",
    "#1. first get the webpage https://www.naukri.com/\n",
    "#2. Enter “Data Scientist” in “Skill, Designations, and Companies” field.\n",
    "#3. Then click the search button.\n",
    "#4. Then apply the location filter and salary filter by checking the respective boxes\n",
    "#5. Then scrape the data for the first 10 jobs results you get.\n",
    "#6. Finally create a dataframe of the scraped data"
   ]
  },
  {
   "cell_type": "code",
   "execution_count": 3,
   "id": "f8bcde03",
   "metadata": {},
   "outputs": [],
   "source": [
    "url='https://www.naukri.com/'\n",
    "driver.get(url)"
   ]
  },
  {
   "cell_type": "code",
   "execution_count": 5,
   "id": "8242058a",
   "metadata": {},
   "outputs": [
    {
     "data": {
      "text/plain": [
       "<selenium.webdriver.remote.webelement.WebElement (session=\"2dfdfa174911f18082334fb07816f204\", element=\"216eca98-94de-47db-85e5-ce2523063586\")>"
      ]
     },
     "execution_count": 5,
     "metadata": {},
     "output_type": "execute_result"
    }
   ],
   "source": [
    "#finding web element for search bar\n",
    "search_job=driver.find_element(\"xpath\",'/html/body/div[1]/div[2]/div[3]/div/div/div[1]/div/div/div/input')\n",
    "search_job\n"
   ]
  },
  {
   "cell_type": "code",
   "execution_count": 6,
   "id": "9de82ef9",
   "metadata": {},
   "outputs": [],
   "source": [
    "#write on search bar \n",
    "search_job.send_keys('data scientist')\n"
   ]
  },
  {
   "cell_type": "code",
   "execution_count": 7,
   "id": "e7a6bfbe",
   "metadata": {},
   "outputs": [
    {
     "data": {
      "text/plain": [
       "<selenium.webdriver.remote.webelement.WebElement (session=\"2dfdfa174911f18082334fb07816f204\", element=\"c4bf638a-72fe-4773-a11f-89a94ca3ca4c\")>"
      ]
     },
     "execution_count": 7,
     "metadata": {},
     "output_type": "execute_result"
    }
   ],
   "source": [
    "search_btn=driver.find_element(\"xpath\",'/html/body/div[1]/div[2]/div[3]/div/div/div[6]')\n",
    "search_btn"
   ]
  },
  {
   "cell_type": "code",
   "execution_count": 8,
   "id": "db1dba05",
   "metadata": {},
   "outputs": [],
   "source": [
    "search_btn.click()"
   ]
  },
  {
   "cell_type": "code",
   "execution_count": 9,
   "id": "5bb590fd",
   "metadata": {},
   "outputs": [
    {
     "data": {
      "text/plain": [
       "[<selenium.webdriver.remote.webelement.WebElement (session=\"2dfdfa174911f18082334fb07816f204\", element=\"b0d508a5-650d-4df8-a00a-b220e027966d\")>,\n",
       " <selenium.webdriver.remote.webelement.WebElement (session=\"2dfdfa174911f18082334fb07816f204\", element=\"07431f6a-5f7b-43f9-9e31-5eb102c916ad\")>,\n",
       " <selenium.webdriver.remote.webelement.WebElement (session=\"2dfdfa174911f18082334fb07816f204\", element=\"aa723825-7b04-4793-a258-0ffb50fb85e7\")>,\n",
       " <selenium.webdriver.remote.webelement.WebElement (session=\"2dfdfa174911f18082334fb07816f204\", element=\"0f5a1aed-edbe-4942-a2c1-13101d992814\")>,\n",
       " <selenium.webdriver.remote.webelement.WebElement (session=\"2dfdfa174911f18082334fb07816f204\", element=\"d78d6163-2421-475a-b50d-db4ddf1baf9e\")>,\n",
       " <selenium.webdriver.remote.webelement.WebElement (session=\"2dfdfa174911f18082334fb07816f204\", element=\"9676a2ca-3bc7-43af-a30f-ff4cbe5fce71\")>,\n",
       " <selenium.webdriver.remote.webelement.WebElement (session=\"2dfdfa174911f18082334fb07816f204\", element=\"d9cfe8b0-aaa2-4be6-9fd7-7a2ca92345e0\")>,\n",
       " <selenium.webdriver.remote.webelement.WebElement (session=\"2dfdfa174911f18082334fb07816f204\", element=\"e9013b94-48ea-47bd-b718-cda9a9694c9f\")>,\n",
       " <selenium.webdriver.remote.webelement.WebElement (session=\"2dfdfa174911f18082334fb07816f204\", element=\"189e51bd-14be-4d5e-8131-a6c2264c69bc\")>,\n",
       " <selenium.webdriver.remote.webelement.WebElement (session=\"2dfdfa174911f18082334fb07816f204\", element=\"115a1faf-772f-4a6f-8de0-1c81e2256009\")>,\n",
       " <selenium.webdriver.remote.webelement.WebElement (session=\"2dfdfa174911f18082334fb07816f204\", element=\"ca818486-4742-4a11-afad-3df14897c68b\")>,\n",
       " <selenium.webdriver.remote.webelement.WebElement (session=\"2dfdfa174911f18082334fb07816f204\", element=\"e8a90a02-8aa6-4295-a6b5-b03c07f1c8cc\")>,\n",
       " <selenium.webdriver.remote.webelement.WebElement (session=\"2dfdfa174911f18082334fb07816f204\", element=\"74199c14-40de-4542-95ed-b7901f34b518\")>,\n",
       " <selenium.webdriver.remote.webelement.WebElement (session=\"2dfdfa174911f18082334fb07816f204\", element=\"98fc2858-2ff1-4305-87c8-d8771e9aa040\")>,\n",
       " <selenium.webdriver.remote.webelement.WebElement (session=\"2dfdfa174911f18082334fb07816f204\", element=\"ca118086-4e69-4472-850f-0714f7ac5ad9\")>,\n",
       " <selenium.webdriver.remote.webelement.WebElement (session=\"2dfdfa174911f18082334fb07816f204\", element=\"879701de-20e9-4a38-b386-3e78602d8337\")>,\n",
       " <selenium.webdriver.remote.webelement.WebElement (session=\"2dfdfa174911f18082334fb07816f204\", element=\"0aba4097-00ff-4228-9a9e-fbec1485cc66\")>,\n",
       " <selenium.webdriver.remote.webelement.WebElement (session=\"2dfdfa174911f18082334fb07816f204\", element=\"69e8d02d-51a8-4b83-88ab-42ed15111e83\")>,\n",
       " <selenium.webdriver.remote.webelement.WebElement (session=\"2dfdfa174911f18082334fb07816f204\", element=\"e9d45602-73d2-42e9-a302-d2918a08c31a\")>,\n",
       " <selenium.webdriver.remote.webelement.WebElement (session=\"2dfdfa174911f18082334fb07816f204\", element=\"9f4ba25c-1698-489d-b87b-39fbdcfc585c\")>]"
      ]
     },
     "execution_count": 9,
     "metadata": {},
     "output_type": "execute_result"
    }
   ],
   "source": [
    "#extracting job title\n",
    "title_tags=driver.find_elements(\"xpath\",'//a[@class=\"title fw500 ellipsis\"]')\n",
    "title_tags"
   ]
  },
  {
   "cell_type": "code",
   "execution_count": 11,
   "id": "3c2785c6",
   "metadata": {},
   "outputs": [
    {
     "data": {
      "text/plain": [
       "['DigitalBCG GAMMA Data Scientist',\n",
       " 'Senior Associate - Data Science',\n",
       " 'Data Scientist - Noida/Bangalore',\n",
       " 'Data Scientist - Machine learning AI',\n",
       " 'Data Scientist - MIND Infotech',\n",
       " 'Data Scientist',\n",
       " 'Data Scientist',\n",
       " 'Data Scientist - Engine Algorithm',\n",
       " 'Data Scientist',\n",
       " 'Data Science',\n",
       " 'Data Science',\n",
       " 'Data Scientist - Internet Jobs - II',\n",
       " 'Data Scientist',\n",
       " 'Machine Learning Seniors',\n",
       " 'Hiring || Data Scientist || North Delhi || 5.5 days working',\n",
       " 'Data scientist- Python',\n",
       " 'Data Engineer',\n",
       " 'Dot Net Developer',\n",
       " 'Data Scientists',\n",
       " 'Associate Data Scientist - Java/ Scala/ Apache Server']"
      ]
     },
     "execution_count": 11,
     "metadata": {},
     "output_type": "execute_result"
    }
   ],
   "source": [
    "#iterate over web element to extract text\n",
    "title=[]\n",
    "for i in title_tags:\n",
    "    title.append(i.text)\n",
    "title"
   ]
  },
  {
   "cell_type": "code",
   "execution_count": 12,
   "id": "686397d4",
   "metadata": {},
   "outputs": [
    {
     "data": {
      "text/plain": [
       "['DigitalBCG GAMMA Data Scientist',\n",
       " 'Senior Associate - Data Science',\n",
       " 'Data Scientist - Noida/Bangalore',\n",
       " 'Data Scientist - Machine learning AI',\n",
       " 'Data Scientist - MIND Infotech',\n",
       " 'Data Scientist',\n",
       " 'Data Scientist',\n",
       " 'Data Scientist - Engine Algorithm',\n",
       " 'Data Scientist',\n",
       " 'Data Science']"
      ]
     },
     "execution_count": 12,
     "metadata": {},
     "output_type": "execute_result"
    }
   ],
   "source": [
    "job_title=title[0:10]\n",
    "job_title"
   ]
  },
  {
   "cell_type": "code",
   "execution_count": 13,
   "id": "45213645",
   "metadata": {},
   "outputs": [
    {
     "data": {
      "text/plain": [
       "10"
      ]
     },
     "execution_count": 13,
     "metadata": {},
     "output_type": "execute_result"
    }
   ],
   "source": [
    "len(job_title)"
   ]
  },
  {
   "cell_type": "code",
   "execution_count": 14,
   "id": "397434f1",
   "metadata": {},
   "outputs": [
    {
     "data": {
      "text/plain": [
       "[<selenium.webdriver.remote.webelement.WebElement (session=\"2dfdfa174911f18082334fb07816f204\", element=\"02e9c9c6-1927-40ba-bafb-29df53a8667e\")>,\n",
       " <selenium.webdriver.remote.webelement.WebElement (session=\"2dfdfa174911f18082334fb07816f204\", element=\"7a72276d-e10b-43bf-b963-7998de4697f3\")>,\n",
       " <selenium.webdriver.remote.webelement.WebElement (session=\"2dfdfa174911f18082334fb07816f204\", element=\"d2c5c272-a0ea-4715-a6ec-e54eba1b139b\")>,\n",
       " <selenium.webdriver.remote.webelement.WebElement (session=\"2dfdfa174911f18082334fb07816f204\", element=\"07bf8346-3561-40ae-b457-3929dcd33d38\")>,\n",
       " <selenium.webdriver.remote.webelement.WebElement (session=\"2dfdfa174911f18082334fb07816f204\", element=\"78c4a62d-e724-4e8a-a02d-083f06b19076\")>,\n",
       " <selenium.webdriver.remote.webelement.WebElement (session=\"2dfdfa174911f18082334fb07816f204\", element=\"ffb970c3-e290-44ab-aa8e-0ce6ede8f6e9\")>,\n",
       " <selenium.webdriver.remote.webelement.WebElement (session=\"2dfdfa174911f18082334fb07816f204\", element=\"5e710d27-9b5f-4da0-9c73-c0be0858f891\")>,\n",
       " <selenium.webdriver.remote.webelement.WebElement (session=\"2dfdfa174911f18082334fb07816f204\", element=\"de44fd4f-258a-4976-b0bc-634a524e1416\")>,\n",
       " <selenium.webdriver.remote.webelement.WebElement (session=\"2dfdfa174911f18082334fb07816f204\", element=\"071ee378-a35d-4f67-b57e-38fd57f658e2\")>,\n",
       " <selenium.webdriver.remote.webelement.WebElement (session=\"2dfdfa174911f18082334fb07816f204\", element=\"e29994ea-54a5-4c61-ad3f-98507d2c6041\")>,\n",
       " <selenium.webdriver.remote.webelement.WebElement (session=\"2dfdfa174911f18082334fb07816f204\", element=\"f4099b32-9c75-49f1-8ce0-61a01ed14fb5\")>,\n",
       " <selenium.webdriver.remote.webelement.WebElement (session=\"2dfdfa174911f18082334fb07816f204\", element=\"b73ad1bc-c5ff-4ad5-be0e-904232b35979\")>,\n",
       " <selenium.webdriver.remote.webelement.WebElement (session=\"2dfdfa174911f18082334fb07816f204\", element=\"976c3530-870b-4e86-9837-21f7f0921e54\")>,\n",
       " <selenium.webdriver.remote.webelement.WebElement (session=\"2dfdfa174911f18082334fb07816f204\", element=\"292e8780-2465-4c03-a274-24458c342c51\")>,\n",
       " <selenium.webdriver.remote.webelement.WebElement (session=\"2dfdfa174911f18082334fb07816f204\", element=\"08f84de8-cc4e-421e-b363-50e09b2e889a\")>,\n",
       " <selenium.webdriver.remote.webelement.WebElement (session=\"2dfdfa174911f18082334fb07816f204\", element=\"ce7ee494-c1d4-47bd-b700-ceed776f02c1\")>,\n",
       " <selenium.webdriver.remote.webelement.WebElement (session=\"2dfdfa174911f18082334fb07816f204\", element=\"e2770f3e-77e2-4ce4-94cf-4e8a64e97661\")>,\n",
       " <selenium.webdriver.remote.webelement.WebElement (session=\"2dfdfa174911f18082334fb07816f204\", element=\"903e4a3e-dfe6-41f8-b140-82ac5542abe3\")>,\n",
       " <selenium.webdriver.remote.webelement.WebElement (session=\"2dfdfa174911f18082334fb07816f204\", element=\"96cfdb70-a099-43b1-9e10-67ace7545800\")>,\n",
       " <selenium.webdriver.remote.webelement.WebElement (session=\"2dfdfa174911f18082334fb07816f204\", element=\"317f1bd7-ebf8-4418-8bd1-8578018b233c\")>]"
      ]
     },
     "execution_count": 14,
     "metadata": {},
     "output_type": "execute_result"
    }
   ],
   "source": [
    "job_loc=driver.find_elements(\"xpath\",'//li[@class=\"fleft grey-text br2 placeHolderLi location\"]')\n",
    "job_loc"
   ]
  },
  {
   "cell_type": "code",
   "execution_count": 15,
   "id": "6ae00517",
   "metadata": {},
   "outputs": [
    {
     "data": {
      "text/plain": [
       "['New Delhi, Bangalore/Bengaluru',\n",
       " 'Mumbai, Hyderabad/Secunderabad, Gurgaon/Gurugram, Bangalore/Bengaluru',\n",
       " 'Noida, Bangalore/Bengaluru',\n",
       " 'Delhi / NCR, Bangalore/Bengaluru, Mumbai (All Areas)\\n(WFH during Covid)',\n",
       " 'Noida',\n",
       " 'Delhi / NCR, Pune, Bangalore/Bengaluru',\n",
       " 'Delhi / NCR, Pune, Bangalore/Bengaluru',\n",
       " 'Delhi / NCR, Kolkata, Mumbai, Hyderabad/Secunderabad, Lucknow, Chennai, Ahmedabad, Bangalore/Bengaluru',\n",
       " 'Delhi / NCR, Bangalore/Bengaluru, Mumbai (All Areas)\\n(WFH during Covid)',\n",
       " 'Delhi / NCR, Noida, Faridabad, Gurgaon/Gurugram, Bangalore/Bengaluru, Greater Noida',\n",
       " 'Delhi / NCR, Noida, Faridabad, Gurgaon/Gurugram, Bangalore/Bengaluru, Greater Noida',\n",
       " 'Delhi / NCR, Bangalore/Bengaluru, Mumbai (All Areas)',\n",
       " 'Gurgaon/Gurugram',\n",
       " 'Hyderabad/Secunderabad, New Delhi',\n",
       " 'Delhi / NCR(Netaji Subhash Place)',\n",
       " 'Gurgaon/Gurugram',\n",
       " 'Mumbai, New Delhi, Pune',\n",
       " 'Delhi / NCR, Gurgaon/Gurugram',\n",
       " 'Gurgaon/Gurugram',\n",
       " 'Noida']"
      ]
     },
     "execution_count": 15,
     "metadata": {},
     "output_type": "execute_result"
    }
   ],
   "source": [
    "location=[]\n",
    "for i in job_loc:\n",
    "    location.append(i.text)\n",
    "location"
   ]
  },
  {
   "cell_type": "code",
   "execution_count": 16,
   "id": "8b41e50d",
   "metadata": {},
   "outputs": [
    {
     "data": {
      "text/plain": [
       "['New Delhi, Bangalore/Bengaluru',\n",
       " 'Mumbai, Hyderabad/Secunderabad, Gurgaon/Gurugram, Bangalore/Bengaluru',\n",
       " 'Noida, Bangalore/Bengaluru',\n",
       " 'Delhi / NCR, Bangalore/Bengaluru, Mumbai (All Areas)\\n(WFH during Covid)',\n",
       " 'Noida',\n",
       " 'Delhi / NCR, Pune, Bangalore/Bengaluru',\n",
       " 'Delhi / NCR, Pune, Bangalore/Bengaluru',\n",
       " 'Delhi / NCR, Kolkata, Mumbai, Hyderabad/Secunderabad, Lucknow, Chennai, Ahmedabad, Bangalore/Bengaluru',\n",
       " 'Delhi / NCR, Bangalore/Bengaluru, Mumbai (All Areas)\\n(WFH during Covid)',\n",
       " 'Delhi / NCR, Noida, Faridabad, Gurgaon/Gurugram, Bangalore/Bengaluru, Greater Noida']"
      ]
     },
     "execution_count": 16,
     "metadata": {},
     "output_type": "execute_result"
    }
   ],
   "source": [
    "job_location=location[0:10]\n",
    "job_location"
   ]
  },
  {
   "cell_type": "code",
   "execution_count": 17,
   "id": "0216b5b8",
   "metadata": {},
   "outputs": [
    {
     "data": {
      "text/plain": [
       "10"
      ]
     },
     "execution_count": 17,
     "metadata": {},
     "output_type": "execute_result"
    }
   ],
   "source": [
    "len(job_location)"
   ]
  },
  {
   "cell_type": "code",
   "execution_count": 18,
   "id": "01e670ed",
   "metadata": {},
   "outputs": [
    {
     "data": {
      "text/plain": [
       "[<selenium.webdriver.remote.webelement.WebElement (session=\"2dfdfa174911f18082334fb07816f204\", element=\"efe174d1-e25f-4870-b021-3d6ec1d73704\")>,\n",
       " <selenium.webdriver.remote.webelement.WebElement (session=\"2dfdfa174911f18082334fb07816f204\", element=\"f6bd47d2-3464-425d-a12f-c69a9d263565\")>,\n",
       " <selenium.webdriver.remote.webelement.WebElement (session=\"2dfdfa174911f18082334fb07816f204\", element=\"f397d535-6d6c-477e-8f4c-32939a4efbf6\")>,\n",
       " <selenium.webdriver.remote.webelement.WebElement (session=\"2dfdfa174911f18082334fb07816f204\", element=\"2585a0fc-83e1-4487-aa0f-ef181f99736e\")>,\n",
       " <selenium.webdriver.remote.webelement.WebElement (session=\"2dfdfa174911f18082334fb07816f204\", element=\"cb86bb30-408a-45f4-93fe-b671dea95e86\")>,\n",
       " <selenium.webdriver.remote.webelement.WebElement (session=\"2dfdfa174911f18082334fb07816f204\", element=\"21ad37e1-0e2d-4d18-9c01-fed178fd0ba7\")>,\n",
       " <selenium.webdriver.remote.webelement.WebElement (session=\"2dfdfa174911f18082334fb07816f204\", element=\"55000e07-9d3a-4c13-8ae6-d6145ee847e1\")>,\n",
       " <selenium.webdriver.remote.webelement.WebElement (session=\"2dfdfa174911f18082334fb07816f204\", element=\"ba7d4235-793c-4679-9a74-9a7bca702e44\")>,\n",
       " <selenium.webdriver.remote.webelement.WebElement (session=\"2dfdfa174911f18082334fb07816f204\", element=\"859fb5b8-9970-4599-8744-b9d7092be9a0\")>,\n",
       " <selenium.webdriver.remote.webelement.WebElement (session=\"2dfdfa174911f18082334fb07816f204\", element=\"33056b6b-15b1-4605-a99d-6ce8afbb7eaf\")>,\n",
       " <selenium.webdriver.remote.webelement.WebElement (session=\"2dfdfa174911f18082334fb07816f204\", element=\"249bd05c-be2b-422e-aca9-517c3e866f93\")>,\n",
       " <selenium.webdriver.remote.webelement.WebElement (session=\"2dfdfa174911f18082334fb07816f204\", element=\"92763648-b816-46af-9e83-bc9d26d98a26\")>,\n",
       " <selenium.webdriver.remote.webelement.WebElement (session=\"2dfdfa174911f18082334fb07816f204\", element=\"1652b631-051c-4256-820d-db2ba25d4a54\")>,\n",
       " <selenium.webdriver.remote.webelement.WebElement (session=\"2dfdfa174911f18082334fb07816f204\", element=\"680e5f7c-2ca2-4580-a6c8-e92fd2e8895e\")>,\n",
       " <selenium.webdriver.remote.webelement.WebElement (session=\"2dfdfa174911f18082334fb07816f204\", element=\"2f4afa89-5f04-47d3-86d8-2ef4305711f8\")>,\n",
       " <selenium.webdriver.remote.webelement.WebElement (session=\"2dfdfa174911f18082334fb07816f204\", element=\"94ff92d9-dc84-4fb4-ba7a-2bd973855f38\")>,\n",
       " <selenium.webdriver.remote.webelement.WebElement (session=\"2dfdfa174911f18082334fb07816f204\", element=\"25c397a0-d246-44d9-8161-f828682baaa7\")>,\n",
       " <selenium.webdriver.remote.webelement.WebElement (session=\"2dfdfa174911f18082334fb07816f204\", element=\"e0c55c05-c219-4304-9ff3-a6f9ca1fa3de\")>,\n",
       " <selenium.webdriver.remote.webelement.WebElement (session=\"2dfdfa174911f18082334fb07816f204\", element=\"c2e5120a-607d-417c-bee5-f4cd16e85cec\")>,\n",
       " <selenium.webdriver.remote.webelement.WebElement (session=\"2dfdfa174911f18082334fb07816f204\", element=\"ea07b543-e3dd-4d4e-b07a-0fc89b48d6ff\")>]"
      ]
     },
     "execution_count": 18,
     "metadata": {},
     "output_type": "execute_result"
    }
   ],
   "source": [
    "com=driver.find_elements(\"xpath\",'//a[@class=\"subTitle ellipsis fleft\"]')\n",
    "com\n"
   ]
  },
  {
   "cell_type": "code",
   "execution_count": 19,
   "id": "7dc532d8",
   "metadata": {
    "scrolled": true
   },
   "outputs": [
    {
     "data": {
      "text/plain": [
       "['Boston Consulting Group',\n",
       " 'Black Turtle India Pvt Ltd',\n",
       " 'EXL',\n",
       " 'Teq Analytics',\n",
       " 'MOTHERSONSUMI INFOTECH & DESIGNS LIMITED',\n",
       " 'Mount Talent Consulting Private Limited',\n",
       " 'Mount Talent Consulting Private Limited',\n",
       " 'Primo Hiring',\n",
       " 'Sydata Consulting India Pvt Ltd',\n",
       " 'Mount Talent Consulting Private Limited',\n",
       " 'Mount Talent Consulting Private Limited',\n",
       " 'Jobs Territory',\n",
       " 'Kellton Tech Solutions Limited',\n",
       " 'Walking Tree Consultancy Services pvt Ltd',\n",
       " 'Shriram Automall India Limited',\n",
       " 'TeamPlus Staffing Solution Pvt Ltd',\n",
       " 'excellence',\n",
       " 'Nibha Infotech Private Limited',\n",
       " 'Nibha Infotech Private Limited',\n",
       " 'Smart work Consultants']"
      ]
     },
     "execution_count": 19,
     "metadata": {},
     "output_type": "execute_result"
    }
   ],
   "source": [
    "company=[]\n",
    "for i in com:\n",
    "    company.append(i.text)\n",
    "company"
   ]
  },
  {
   "cell_type": "code",
   "execution_count": 21,
   "id": "99e26171",
   "metadata": {},
   "outputs": [
    {
     "data": {
      "text/plain": [
       "['Boston Consulting Group',\n",
       " 'Black Turtle India Pvt Ltd',\n",
       " 'EXL',\n",
       " 'Teq Analytics',\n",
       " 'MOTHERSONSUMI INFOTECH & DESIGNS LIMITED',\n",
       " 'Mount Talent Consulting Private Limited',\n",
       " 'Mount Talent Consulting Private Limited',\n",
       " 'Primo Hiring',\n",
       " 'Sydata Consulting India Pvt Ltd',\n",
       " 'Mount Talent Consulting Private Limited']"
      ]
     },
     "execution_count": 21,
     "metadata": {},
     "output_type": "execute_result"
    }
   ],
   "source": [
    "company_name=company[0:10]\n",
    "company_name"
   ]
  },
  {
   "cell_type": "code",
   "execution_count": 22,
   "id": "74a9c79e",
   "metadata": {},
   "outputs": [
    {
     "data": {
      "text/plain": [
       "10"
      ]
     },
     "execution_count": 22,
     "metadata": {},
     "output_type": "execute_result"
    }
   ],
   "source": [
    "len(company_name)"
   ]
  },
  {
   "cell_type": "code",
   "execution_count": 30,
   "id": "4e312a45",
   "metadata": {},
   "outputs": [
    {
     "data": {
      "text/plain": [
       "[<selenium.webdriver.remote.webelement.WebElement (session=\"2dfdfa174911f18082334fb07816f204\", element=\"a6fdfd9b-2622-45de-8730-0c0113380d46\")>,\n",
       " <selenium.webdriver.remote.webelement.WebElement (session=\"2dfdfa174911f18082334fb07816f204\", element=\"0b5306f2-b6b8-49a9-a9e7-9053864d60bd\")>,\n",
       " <selenium.webdriver.remote.webelement.WebElement (session=\"2dfdfa174911f18082334fb07816f204\", element=\"341bdf76-3465-4069-82b1-114a7cf257ed\")>,\n",
       " <selenium.webdriver.remote.webelement.WebElement (session=\"2dfdfa174911f18082334fb07816f204\", element=\"2ff8d864-a200-4ad8-8bc0-a37eebad4ff5\")>,\n",
       " <selenium.webdriver.remote.webelement.WebElement (session=\"2dfdfa174911f18082334fb07816f204\", element=\"2704958f-b074-443b-8c16-9bc57728b5b5\")>,\n",
       " <selenium.webdriver.remote.webelement.WebElement (session=\"2dfdfa174911f18082334fb07816f204\", element=\"a5f88223-fdc1-4c18-b3b9-2abc93759161\")>,\n",
       " <selenium.webdriver.remote.webelement.WebElement (session=\"2dfdfa174911f18082334fb07816f204\", element=\"c8f46cc6-aa6c-4050-9e92-153c1e572ae1\")>,\n",
       " <selenium.webdriver.remote.webelement.WebElement (session=\"2dfdfa174911f18082334fb07816f204\", element=\"060bc53f-9361-4edf-af6e-50ef134e0f2e\")>,\n",
       " <selenium.webdriver.remote.webelement.WebElement (session=\"2dfdfa174911f18082334fb07816f204\", element=\"fa2ff129-d534-48a9-994a-472d96bd68a0\")>,\n",
       " <selenium.webdriver.remote.webelement.WebElement (session=\"2dfdfa174911f18082334fb07816f204\", element=\"d8b57f28-a875-4f8b-b983-ff6bf0f0f94e\")>,\n",
       " <selenium.webdriver.remote.webelement.WebElement (session=\"2dfdfa174911f18082334fb07816f204\", element=\"c780d953-2793-4b62-8e16-05405048017d\")>,\n",
       " <selenium.webdriver.remote.webelement.WebElement (session=\"2dfdfa174911f18082334fb07816f204\", element=\"f895be9a-6281-4c43-9be3-ac29f19c1f06\")>,\n",
       " <selenium.webdriver.remote.webelement.WebElement (session=\"2dfdfa174911f18082334fb07816f204\", element=\"517e80a5-0f9a-4134-9a72-f30aa2e161a9\")>,\n",
       " <selenium.webdriver.remote.webelement.WebElement (session=\"2dfdfa174911f18082334fb07816f204\", element=\"d9b79881-f423-4247-bab3-f1589642c240\")>,\n",
       " <selenium.webdriver.remote.webelement.WebElement (session=\"2dfdfa174911f18082334fb07816f204\", element=\"b32d0771-77e5-4260-92a3-ed1ed9fd9650\")>,\n",
       " <selenium.webdriver.remote.webelement.WebElement (session=\"2dfdfa174911f18082334fb07816f204\", element=\"ef445630-e8a8-4c8c-a213-137782b90137\")>,\n",
       " <selenium.webdriver.remote.webelement.WebElement (session=\"2dfdfa174911f18082334fb07816f204\", element=\"61115f9c-bf00-4561-8876-87ec9e3a7b1f\")>,\n",
       " <selenium.webdriver.remote.webelement.WebElement (session=\"2dfdfa174911f18082334fb07816f204\", element=\"996542a1-4fb0-43bc-8164-5f92132f5f67\")>,\n",
       " <selenium.webdriver.remote.webelement.WebElement (session=\"2dfdfa174911f18082334fb07816f204\", element=\"f98a00a8-c477-447a-8a22-56efb380e8a3\")>,\n",
       " <selenium.webdriver.remote.webelement.WebElement (session=\"2dfdfa174911f18082334fb07816f204\", element=\"ea22823f-38ca-43b7-9e0a-4a6c88dd4025\")>]"
      ]
     },
     "execution_count": 30,
     "metadata": {},
     "output_type": "execute_result"
    }
   ],
   "source": [
    "exp=driver.find_elements(\"xpath\",'//li[@class=\"fleft grey-text br2 placeHolderLi experience\"]')\n",
    "exp"
   ]
  },
  {
   "cell_type": "code",
   "execution_count": 31,
   "id": "a5ddbb70",
   "metadata": {},
   "outputs": [
    {
     "data": {
      "text/plain": [
       "['2-5 Yrs',\n",
       " '4-7 Yrs',\n",
       " '5-10 Yrs',\n",
       " '3-8 Yrs',\n",
       " '4-8 Yrs',\n",
       " '2-4 Yrs',\n",
       " '2-4 Yrs',\n",
       " '1-3 Yrs',\n",
       " '3-8 Yrs',\n",
       " '2-5 Yrs',\n",
       " '2-5 Yrs',\n",
       " '3-6 Yrs',\n",
       " '3-6 Yrs',\n",
       " '2-5 Yrs',\n",
       " '4-9 Yrs',\n",
       " '3-6 Yrs',\n",
       " '4-9 Yrs',\n",
       " '3-8 Yrs',\n",
       " '5-8 Yrs',\n",
       " '1-4 Yrs']"
      ]
     },
     "execution_count": 31,
     "metadata": {},
     "output_type": "execute_result"
    }
   ],
   "source": [
    "experience=[]\n",
    "for i in exp:\n",
    "    experience.append(i.text)\n",
    "experience"
   ]
  },
  {
   "cell_type": "code",
   "execution_count": 33,
   "id": "9a09bb5e",
   "metadata": {},
   "outputs": [
    {
     "data": {
      "text/plain": [
       "['2-5 Yrs',\n",
       " '4-7 Yrs',\n",
       " '5-10 Yrs',\n",
       " '3-8 Yrs',\n",
       " '4-8 Yrs',\n",
       " '2-4 Yrs',\n",
       " '2-4 Yrs',\n",
       " '1-3 Yrs',\n",
       " '3-8 Yrs',\n",
       " '2-5 Yrs']"
      ]
     },
     "execution_count": 33,
     "metadata": {},
     "output_type": "execute_result"
    }
   ],
   "source": [
    "job_experience=experience[0:10]\n",
    "job_experience"
   ]
  },
  {
   "cell_type": "code",
   "execution_count": 34,
   "id": "37303cca",
   "metadata": {},
   "outputs": [
    {
     "data": {
      "text/plain": [
       "10"
      ]
     },
     "execution_count": 34,
     "metadata": {},
     "output_type": "execute_result"
    }
   ],
   "source": [
    "len(job_experience)"
   ]
  },
  {
   "cell_type": "code",
   "execution_count": 35,
   "id": "8faf8003",
   "metadata": {},
   "outputs": [
    {
     "data": {
      "text/html": [
       "<div>\n",
       "<style scoped>\n",
       "    .dataframe tbody tr th:only-of-type {\n",
       "        vertical-align: middle;\n",
       "    }\n",
       "\n",
       "    .dataframe tbody tr th {\n",
       "        vertical-align: top;\n",
       "    }\n",
       "\n",
       "    .dataframe thead th {\n",
       "        text-align: right;\n",
       "    }\n",
       "</style>\n",
       "<table border=\"1\" class=\"dataframe\">\n",
       "  <thead>\n",
       "    <tr style=\"text-align: right;\">\n",
       "      <th></th>\n",
       "      <th>JOB TITLE</th>\n",
       "      <th>LOCATION</th>\n",
       "      <th>COMPANY</th>\n",
       "      <th>EXPERIENCE</th>\n",
       "    </tr>\n",
       "  </thead>\n",
       "  <tbody>\n",
       "    <tr>\n",
       "      <th>0</th>\n",
       "      <td>DigitalBCG GAMMA Data Scientist</td>\n",
       "      <td>New Delhi, Bangalore/Bengaluru</td>\n",
       "      <td>Boston Consulting Group</td>\n",
       "      <td>2-5 Yrs</td>\n",
       "    </tr>\n",
       "    <tr>\n",
       "      <th>1</th>\n",
       "      <td>Senior Associate - Data Science</td>\n",
       "      <td>Mumbai, Hyderabad/Secunderabad, Gurgaon/Gurugr...</td>\n",
       "      <td>Black Turtle India Pvt Ltd</td>\n",
       "      <td>4-7 Yrs</td>\n",
       "    </tr>\n",
       "    <tr>\n",
       "      <th>2</th>\n",
       "      <td>Data Scientist - Noida/Bangalore</td>\n",
       "      <td>Noida, Bangalore/Bengaluru</td>\n",
       "      <td>EXL</td>\n",
       "      <td>5-10 Yrs</td>\n",
       "    </tr>\n",
       "    <tr>\n",
       "      <th>3</th>\n",
       "      <td>Data Scientist - Machine learning AI</td>\n",
       "      <td>Delhi / NCR, Bangalore/Bengaluru, Mumbai (All ...</td>\n",
       "      <td>Teq Analytics</td>\n",
       "      <td>3-8 Yrs</td>\n",
       "    </tr>\n",
       "    <tr>\n",
       "      <th>4</th>\n",
       "      <td>Data Scientist - MIND Infotech</td>\n",
       "      <td>Noida</td>\n",
       "      <td>MOTHERSONSUMI INFOTECH &amp; DESIGNS LIMITED</td>\n",
       "      <td>4-8 Yrs</td>\n",
       "    </tr>\n",
       "    <tr>\n",
       "      <th>5</th>\n",
       "      <td>Data Scientist</td>\n",
       "      <td>Delhi / NCR, Pune, Bangalore/Bengaluru</td>\n",
       "      <td>Mount Talent Consulting Private Limited</td>\n",
       "      <td>2-4 Yrs</td>\n",
       "    </tr>\n",
       "    <tr>\n",
       "      <th>6</th>\n",
       "      <td>Data Scientist</td>\n",
       "      <td>Delhi / NCR, Pune, Bangalore/Bengaluru</td>\n",
       "      <td>Mount Talent Consulting Private Limited</td>\n",
       "      <td>2-4 Yrs</td>\n",
       "    </tr>\n",
       "    <tr>\n",
       "      <th>7</th>\n",
       "      <td>Data Scientist - Engine Algorithm</td>\n",
       "      <td>Delhi / NCR, Kolkata, Mumbai, Hyderabad/Secund...</td>\n",
       "      <td>Primo Hiring</td>\n",
       "      <td>1-3 Yrs</td>\n",
       "    </tr>\n",
       "    <tr>\n",
       "      <th>8</th>\n",
       "      <td>Data Scientist</td>\n",
       "      <td>Delhi / NCR, Bangalore/Bengaluru, Mumbai (All ...</td>\n",
       "      <td>Sydata Consulting India Pvt Ltd</td>\n",
       "      <td>3-8 Yrs</td>\n",
       "    </tr>\n",
       "    <tr>\n",
       "      <th>9</th>\n",
       "      <td>Data Science</td>\n",
       "      <td>Delhi / NCR, Noida, Faridabad, Gurgaon/Gurugra...</td>\n",
       "      <td>Mount Talent Consulting Private Limited</td>\n",
       "      <td>2-5 Yrs</td>\n",
       "    </tr>\n",
       "  </tbody>\n",
       "</table>\n",
       "</div>"
      ],
      "text/plain": [
       "                              JOB TITLE  \\\n",
       "0       DigitalBCG GAMMA Data Scientist   \n",
       "1       Senior Associate - Data Science   \n",
       "2      Data Scientist - Noida/Bangalore   \n",
       "3  Data Scientist - Machine learning AI   \n",
       "4        Data Scientist - MIND Infotech   \n",
       "5                        Data Scientist   \n",
       "6                        Data Scientist   \n",
       "7     Data Scientist - Engine Algorithm   \n",
       "8                        Data Scientist   \n",
       "9                          Data Science   \n",
       "\n",
       "                                            LOCATION  \\\n",
       "0                     New Delhi, Bangalore/Bengaluru   \n",
       "1  Mumbai, Hyderabad/Secunderabad, Gurgaon/Gurugr...   \n",
       "2                         Noida, Bangalore/Bengaluru   \n",
       "3  Delhi / NCR, Bangalore/Bengaluru, Mumbai (All ...   \n",
       "4                                              Noida   \n",
       "5             Delhi / NCR, Pune, Bangalore/Bengaluru   \n",
       "6             Delhi / NCR, Pune, Bangalore/Bengaluru   \n",
       "7  Delhi / NCR, Kolkata, Mumbai, Hyderabad/Secund...   \n",
       "8  Delhi / NCR, Bangalore/Bengaluru, Mumbai (All ...   \n",
       "9  Delhi / NCR, Noida, Faridabad, Gurgaon/Gurugra...   \n",
       "\n",
       "                                    COMPANY EXPERIENCE  \n",
       "0                   Boston Consulting Group    2-5 Yrs  \n",
       "1                Black Turtle India Pvt Ltd    4-7 Yrs  \n",
       "2                                       EXL   5-10 Yrs  \n",
       "3                             Teq Analytics    3-8 Yrs  \n",
       "4  MOTHERSONSUMI INFOTECH & DESIGNS LIMITED    4-8 Yrs  \n",
       "5   Mount Talent Consulting Private Limited    2-4 Yrs  \n",
       "6   Mount Talent Consulting Private Limited    2-4 Yrs  \n",
       "7                              Primo Hiring    1-3 Yrs  \n",
       "8           Sydata Consulting India Pvt Ltd    3-8 Yrs  \n",
       "9   Mount Talent Consulting Private Limited    2-5 Yrs  "
      ]
     },
     "execution_count": 35,
     "metadata": {},
     "output_type": "execute_result"
    }
   ],
   "source": [
    "df=pd.DataFrame({'JOB TITLE':job_title,'LOCATION':job_location,'COMPANY':company_name,'EXPERIENCE':job_experience})\n",
    "df"
   ]
  },
  {
   "cell_type": "code",
   "execution_count": null,
   "id": "c9c3231b",
   "metadata": {},
   "outputs": [],
   "source": [
    "#Q4: Scrape data of first 100 sunglasses listings on flipkart.com. You have to scrape four attributes:\n",
    "#1. Brand\n",
    "#2. Product Description\n",
    "#3. Price\n",
    "#To scrape the data you have to go through following steps:\n",
    "#1. Go to Flipkart webpage by url : https://www.flipkart.com/\n",
    "#2. Enter “sunglasses” in the search field where “search for products, brands and more” is written and \n",
    "#click the search icon\n",
    "#3. After that you will reach to the page having a lot of sunglasses. From this page you can scrap the \n",
    "#required data as usual.\n",
    "#To scrape the data you have to go through following steps:\n",
    "#1. Go to Flipkart webpage by url : https://www.flipkart.com/\n",
    "#2. Enter “sunglasses” in the search field where “search for products, brands and more” is written and \n",
    "#click the search icon\n",
    "#3. After that you will reach to the page having a lot of sunglasses. From this page you can scrap the \n",
    "#required data as usual."
   ]
  },
  {
   "cell_type": "code",
   "execution_count": 5,
   "id": "5d12d260",
   "metadata": {},
   "outputs": [],
   "source": [
    "url='https://www.flipkart.com/'\n",
    "driver.get(url)"
   ]
  },
  {
   "cell_type": "code",
   "execution_count": 6,
   "id": "21d95609",
   "metadata": {},
   "outputs": [
    {
     "data": {
      "text/plain": [
       "<selenium.webdriver.remote.webelement.WebElement (session=\"e4888028178fa1dbe4fc16937cd3c02f\", element=\"4b824da5-37be-4220-a3e1-595e5a9c0330\")>"
      ]
     },
     "execution_count": 6,
     "metadata": {},
     "output_type": "execute_result"
    }
   ],
   "source": [
    "search_job=driver.find_element(\"xpath\",'/html/body/div/div/div[1]/div[1]/div[2]/div[2]/form/div/div/input')\n",
    "search_job"
   ]
  },
  {
   "cell_type": "code",
   "execution_count": 11,
   "id": "65147df2",
   "metadata": {},
   "outputs": [],
   "source": [
    "search_job.clear()\n",
    "search_job.send_keys('sunglasses')"
   ]
  },
  {
   "cell_type": "code",
   "execution_count": 16,
   "id": "0c51a07f",
   "metadata": {},
   "outputs": [
    {
     "data": {
      "text/plain": [
       "<selenium.webdriver.remote.webelement.WebElement (session=\"e4888028178fa1dbe4fc16937cd3c02f\", element=\"a245720b-45e0-4c67-8fcc-1a207408d810\")>"
      ]
     },
     "execution_count": 16,
     "metadata": {},
     "output_type": "execute_result"
    }
   ],
   "source": [
    "#clicking search btn \n",
    "search_btn=driver.find_element(\"xpath\",'/html/body/div[1]/div/div[2]/div[1]/div[2]/div[2]/form/div/button')\n",
    "search_btn"
   ]
  },
  {
   "cell_type": "code",
   "execution_count": 17,
   "id": "bf5337f1",
   "metadata": {},
   "outputs": [],
   "source": [
    "search_btn.click()\n"
   ]
  },
  {
   "cell_type": "code",
   "execution_count": 18,
   "id": "ca52da9d",
   "metadata": {},
   "outputs": [
    {
     "data": {
      "text/plain": [
       "[<selenium.webdriver.remote.webelement.WebElement (session=\"e4888028178fa1dbe4fc16937cd3c02f\", element=\"ace859bf-bf2a-4914-9ccc-dc0fa0ea4f6e\")>,\n",
       " <selenium.webdriver.remote.webelement.WebElement (session=\"e4888028178fa1dbe4fc16937cd3c02f\", element=\"b6c4ad91-9687-41bd-8d44-28588601a08e\")>,\n",
       " <selenium.webdriver.remote.webelement.WebElement (session=\"e4888028178fa1dbe4fc16937cd3c02f\", element=\"df00d5aa-deff-4b64-bab5-504ac74640fc\")>,\n",
       " <selenium.webdriver.remote.webelement.WebElement (session=\"e4888028178fa1dbe4fc16937cd3c02f\", element=\"4310f102-a660-4d70-9523-dede006cc87d\")>,\n",
       " <selenium.webdriver.remote.webelement.WebElement (session=\"e4888028178fa1dbe4fc16937cd3c02f\", element=\"b11b4c61-0360-4c0c-bcc5-3c5ea9b54f88\")>,\n",
       " <selenium.webdriver.remote.webelement.WebElement (session=\"e4888028178fa1dbe4fc16937cd3c02f\", element=\"cf4f59f6-aa14-497d-8b9a-ecc2f9b8197d\")>,\n",
       " <selenium.webdriver.remote.webelement.WebElement (session=\"e4888028178fa1dbe4fc16937cd3c02f\", element=\"6ba9af05-2980-4bee-9e93-91363c441ffb\")>,\n",
       " <selenium.webdriver.remote.webelement.WebElement (session=\"e4888028178fa1dbe4fc16937cd3c02f\", element=\"00200594-fd16-4ba8-b9a8-db09810d082d\")>,\n",
       " <selenium.webdriver.remote.webelement.WebElement (session=\"e4888028178fa1dbe4fc16937cd3c02f\", element=\"8a8061ba-54ca-4dc6-8be7-7f6d4cd9ca72\")>,\n",
       " <selenium.webdriver.remote.webelement.WebElement (session=\"e4888028178fa1dbe4fc16937cd3c02f\", element=\"012c5b50-c38a-4fd6-8ed3-f9f485f6373e\")>,\n",
       " <selenium.webdriver.remote.webelement.WebElement (session=\"e4888028178fa1dbe4fc16937cd3c02f\", element=\"969f9b43-1043-4ee9-9528-cefcf9435180\")>,\n",
       " <selenium.webdriver.remote.webelement.WebElement (session=\"e4888028178fa1dbe4fc16937cd3c02f\", element=\"4bb5af1a-80ff-48a8-b4f4-28688e9e2865\")>,\n",
       " <selenium.webdriver.remote.webelement.WebElement (session=\"e4888028178fa1dbe4fc16937cd3c02f\", element=\"f7ab5eb0-7d30-4ede-8460-4d1b35fd147e\")>,\n",
       " <selenium.webdriver.remote.webelement.WebElement (session=\"e4888028178fa1dbe4fc16937cd3c02f\", element=\"1144ac96-1b6f-40eb-af63-63ce407cf5aa\")>,\n",
       " <selenium.webdriver.remote.webelement.WebElement (session=\"e4888028178fa1dbe4fc16937cd3c02f\", element=\"83a91b66-9574-471d-bf8a-7f97f72cc5e6\")>,\n",
       " <selenium.webdriver.remote.webelement.WebElement (session=\"e4888028178fa1dbe4fc16937cd3c02f\", element=\"f9b6aaae-33fe-4b95-99a9-f4f7853c4c69\")>,\n",
       " <selenium.webdriver.remote.webelement.WebElement (session=\"e4888028178fa1dbe4fc16937cd3c02f\", element=\"55b302e6-6be5-490f-83be-58dc8ac240ee\")>,\n",
       " <selenium.webdriver.remote.webelement.WebElement (session=\"e4888028178fa1dbe4fc16937cd3c02f\", element=\"beef855b-e6ee-4d08-8ff2-a12266806a00\")>,\n",
       " <selenium.webdriver.remote.webelement.WebElement (session=\"e4888028178fa1dbe4fc16937cd3c02f\", element=\"599cdba7-28ba-476c-a5a3-17d61c325012\")>,\n",
       " <selenium.webdriver.remote.webelement.WebElement (session=\"e4888028178fa1dbe4fc16937cd3c02f\", element=\"d21d11e4-4bb5-4dde-902d-d6d6fd97b703\")>,\n",
       " <selenium.webdriver.remote.webelement.WebElement (session=\"e4888028178fa1dbe4fc16937cd3c02f\", element=\"28550a37-4db6-4ced-b352-a86fcb689d38\")>,\n",
       " <selenium.webdriver.remote.webelement.WebElement (session=\"e4888028178fa1dbe4fc16937cd3c02f\", element=\"2417b44b-be68-4906-b946-a8e3043477aa\")>,\n",
       " <selenium.webdriver.remote.webelement.WebElement (session=\"e4888028178fa1dbe4fc16937cd3c02f\", element=\"17b92267-d445-4054-b0c9-7a00e60bd552\")>,\n",
       " <selenium.webdriver.remote.webelement.WebElement (session=\"e4888028178fa1dbe4fc16937cd3c02f\", element=\"75977916-7883-4fe7-a030-fc24022987fd\")>,\n",
       " <selenium.webdriver.remote.webelement.WebElement (session=\"e4888028178fa1dbe4fc16937cd3c02f\", element=\"db0dc598-6f3f-4a81-ba4e-af5ce519c488\")>,\n",
       " <selenium.webdriver.remote.webelement.WebElement (session=\"e4888028178fa1dbe4fc16937cd3c02f\", element=\"b526e3d0-2e39-43b1-a763-57aebbad18f7\")>,\n",
       " <selenium.webdriver.remote.webelement.WebElement (session=\"e4888028178fa1dbe4fc16937cd3c02f\", element=\"02c0bbba-c5a1-4b84-b93c-8c9571d8bc07\")>,\n",
       " <selenium.webdriver.remote.webelement.WebElement (session=\"e4888028178fa1dbe4fc16937cd3c02f\", element=\"8aaac26e-cfa0-4cea-8ccc-293adb98bb0e\")>,\n",
       " <selenium.webdriver.remote.webelement.WebElement (session=\"e4888028178fa1dbe4fc16937cd3c02f\", element=\"de88b0f4-79f8-489f-8928-004ee9dce090\")>,\n",
       " <selenium.webdriver.remote.webelement.WebElement (session=\"e4888028178fa1dbe4fc16937cd3c02f\", element=\"49ea12a0-9a97-461b-bdb5-d64d7d5b1306\")>,\n",
       " <selenium.webdriver.remote.webelement.WebElement (session=\"e4888028178fa1dbe4fc16937cd3c02f\", element=\"0b97dc5b-686a-4446-8945-d79e99a4e373\")>,\n",
       " <selenium.webdriver.remote.webelement.WebElement (session=\"e4888028178fa1dbe4fc16937cd3c02f\", element=\"4fd034ba-e349-4ddd-8111-7a66fac7018b\")>,\n",
       " <selenium.webdriver.remote.webelement.WebElement (session=\"e4888028178fa1dbe4fc16937cd3c02f\", element=\"3d1286ae-0844-4d16-a973-5321227b5c66\")>,\n",
       " <selenium.webdriver.remote.webelement.WebElement (session=\"e4888028178fa1dbe4fc16937cd3c02f\", element=\"1e2c8815-db2a-4fdb-b632-f965b59ea699\")>,\n",
       " <selenium.webdriver.remote.webelement.WebElement (session=\"e4888028178fa1dbe4fc16937cd3c02f\", element=\"481b628c-b53d-40f9-8a8e-d8f772bf5961\")>,\n",
       " <selenium.webdriver.remote.webelement.WebElement (session=\"e4888028178fa1dbe4fc16937cd3c02f\", element=\"dd50c5ac-d689-4d90-bd01-5c9afc199d57\")>,\n",
       " <selenium.webdriver.remote.webelement.WebElement (session=\"e4888028178fa1dbe4fc16937cd3c02f\", element=\"ce46bedc-8ccf-4f37-9a68-3ffc9388f974\")>,\n",
       " <selenium.webdriver.remote.webelement.WebElement (session=\"e4888028178fa1dbe4fc16937cd3c02f\", element=\"8d2d77fe-9a62-4ec5-b65d-e34172401344\")>,\n",
       " <selenium.webdriver.remote.webelement.WebElement (session=\"e4888028178fa1dbe4fc16937cd3c02f\", element=\"53643823-bfec-4b6d-869d-e3b8ca676b63\")>,\n",
       " <selenium.webdriver.remote.webelement.WebElement (session=\"e4888028178fa1dbe4fc16937cd3c02f\", element=\"c4e1b516-b93a-4908-a1df-d2cb85ced646\")>]"
      ]
     },
     "execution_count": 18,
     "metadata": {},
     "output_type": "execute_result"
    }
   ],
   "source": [
    "brand=driver.find_elements(\"xpath\",'//div[@class=\"_2WkVRV\"]')\n",
    "brand"
   ]
  },
  {
   "cell_type": "code",
   "execution_count": 19,
   "id": "7d63ad47",
   "metadata": {},
   "outputs": [
    {
     "data": {
      "text/plain": [
       "['Singco India',\n",
       " 'Silver Kartz',\n",
       " 'DAHAAZIL',\n",
       " 'Fastrack',\n",
       " 'New Specs',\n",
       " 'Elligator',\n",
       " 'PIRASO',\n",
       " 'ROYAL SON',\n",
       " 'SRPM',\n",
       " 'SUNBEE',\n",
       " 'Fastrack',\n",
       " 'ROZZETTA CRAFT',\n",
       " 'SUNBEE',\n",
       " 'SHAAH COLLECTIONS',\n",
       " 'Fastrack',\n",
       " 'Silver Kartz',\n",
       " 'PIRASO',\n",
       " 'PIRASO',\n",
       " 'PIRASO',\n",
       " 'ROYAL SON',\n",
       " 'Lee Topper',\n",
       " 'PIRASO',\n",
       " 'Lee Topper',\n",
       " 'ROZZETTA CRAFT',\n",
       " 'PIRASO',\n",
       " 'PIRASO',\n",
       " 'Sewell',\n",
       " 'GANSTA',\n",
       " 'ROZZETTA CRAFT',\n",
       " 'Mi',\n",
       " 'ROZZETTA CRAFT',\n",
       " 'Singco India',\n",
       " 'SHAAH COLLECTIONS',\n",
       " 'Fastrack',\n",
       " 'SRPM',\n",
       " 'ROYAL SON',\n",
       " 'New Specs',\n",
       " 'LIZA ANGEL',\n",
       " 'ROZZETTA CRAFT',\n",
       " 'ROZZETTA CRAFT']"
      ]
     },
     "execution_count": 19,
     "metadata": {},
     "output_type": "execute_result"
    }
   ],
   "source": [
    "brand1=[]\n",
    "for i in brand:\n",
    "    brand1.append(i.text)\n",
    "brand1"
   ]
  },
  {
   "cell_type": "code",
   "execution_count": 20,
   "id": "c50d9d03",
   "metadata": {},
   "outputs": [
    {
     "data": {
      "text/plain": [
       "40"
      ]
     },
     "execution_count": 20,
     "metadata": {},
     "output_type": "execute_result"
    }
   ],
   "source": [
    "len(brand1)"
   ]
  },
  {
   "cell_type": "code",
   "execution_count": 21,
   "id": "81d868c2",
   "metadata": {},
   "outputs": [
    {
     "data": {
      "text/plain": [
       "[<selenium.webdriver.remote.webelement.WebElement (session=\"e4888028178fa1dbe4fc16937cd3c02f\", element=\"97fb999b-39bb-4f58-ba8b-4457d1d9fadc\")>,\n",
       " <selenium.webdriver.remote.webelement.WebElement (session=\"e4888028178fa1dbe4fc16937cd3c02f\", element=\"884cd374-5c91-4e4a-a4e5-9148c1aefd0d\")>,\n",
       " <selenium.webdriver.remote.webelement.WebElement (session=\"e4888028178fa1dbe4fc16937cd3c02f\", element=\"8f4a51cf-5423-4cfd-9145-f80c96d49114\")>,\n",
       " <selenium.webdriver.remote.webelement.WebElement (session=\"e4888028178fa1dbe4fc16937cd3c02f\", element=\"60dff616-7aed-438c-8ccb-829927c15a12\")>,\n",
       " <selenium.webdriver.remote.webelement.WebElement (session=\"e4888028178fa1dbe4fc16937cd3c02f\", element=\"f9ca38e9-f50e-41ac-bfe3-b7cd6c8a234a\")>,\n",
       " <selenium.webdriver.remote.webelement.WebElement (session=\"e4888028178fa1dbe4fc16937cd3c02f\", element=\"bb481395-5e8f-4701-be22-b4d09d3e94d5\")>,\n",
       " <selenium.webdriver.remote.webelement.WebElement (session=\"e4888028178fa1dbe4fc16937cd3c02f\", element=\"5d2b581d-4554-4007-a6f0-5fbaa75c75d6\")>,\n",
       " <selenium.webdriver.remote.webelement.WebElement (session=\"e4888028178fa1dbe4fc16937cd3c02f\", element=\"fe5c46db-b1e4-48c7-97e4-499978880739\")>,\n",
       " <selenium.webdriver.remote.webelement.WebElement (session=\"e4888028178fa1dbe4fc16937cd3c02f\", element=\"6b71ea5d-39de-4bcb-bb0d-0b74094b1afa\")>,\n",
       " <selenium.webdriver.remote.webelement.WebElement (session=\"e4888028178fa1dbe4fc16937cd3c02f\", element=\"76bff4da-1424-42b7-af94-eb6fabc2e9e5\")>,\n",
       " <selenium.webdriver.remote.webelement.WebElement (session=\"e4888028178fa1dbe4fc16937cd3c02f\", element=\"1aa4895d-51ed-4518-8e86-39b8bb03837f\")>,\n",
       " <selenium.webdriver.remote.webelement.WebElement (session=\"e4888028178fa1dbe4fc16937cd3c02f\", element=\"975feeeb-db2e-4694-9e06-2b44cefe2742\")>,\n",
       " <selenium.webdriver.remote.webelement.WebElement (session=\"e4888028178fa1dbe4fc16937cd3c02f\", element=\"14da3cc7-f5be-4498-9654-3d7e08381c16\")>,\n",
       " <selenium.webdriver.remote.webelement.WebElement (session=\"e4888028178fa1dbe4fc16937cd3c02f\", element=\"999332a6-dcc9-47a8-9ae6-99b8bf7697a7\")>,\n",
       " <selenium.webdriver.remote.webelement.WebElement (session=\"e4888028178fa1dbe4fc16937cd3c02f\", element=\"c2421820-18ea-4c31-b324-e908c441a098\")>,\n",
       " <selenium.webdriver.remote.webelement.WebElement (session=\"e4888028178fa1dbe4fc16937cd3c02f\", element=\"a4c02743-a725-45c9-82e7-d75952d406b8\")>,\n",
       " <selenium.webdriver.remote.webelement.WebElement (session=\"e4888028178fa1dbe4fc16937cd3c02f\", element=\"8db4f906-4cb2-4a35-81ae-d2d9699b243c\")>,\n",
       " <selenium.webdriver.remote.webelement.WebElement (session=\"e4888028178fa1dbe4fc16937cd3c02f\", element=\"50855042-4bef-48a2-914f-c273867cfc0d\")>,\n",
       " <selenium.webdriver.remote.webelement.WebElement (session=\"e4888028178fa1dbe4fc16937cd3c02f\", element=\"932f31cc-a27a-499b-85ef-26ae7c1856b7\")>,\n",
       " <selenium.webdriver.remote.webelement.WebElement (session=\"e4888028178fa1dbe4fc16937cd3c02f\", element=\"9a815fa1-5aef-4f7f-a78d-81b3150b0a07\")>,\n",
       " <selenium.webdriver.remote.webelement.WebElement (session=\"e4888028178fa1dbe4fc16937cd3c02f\", element=\"b80ab493-0ccf-4db6-8ae4-7e68ac31cadd\")>,\n",
       " <selenium.webdriver.remote.webelement.WebElement (session=\"e4888028178fa1dbe4fc16937cd3c02f\", element=\"c2ce3518-5779-4450-bd13-471c1dcfc2a8\")>,\n",
       " <selenium.webdriver.remote.webelement.WebElement (session=\"e4888028178fa1dbe4fc16937cd3c02f\", element=\"c11bc636-4c1e-4e37-b8c2-688bc09068d8\")>,\n",
       " <selenium.webdriver.remote.webelement.WebElement (session=\"e4888028178fa1dbe4fc16937cd3c02f\", element=\"9585c530-8076-4e04-a739-39e290c02f51\")>,\n",
       " <selenium.webdriver.remote.webelement.WebElement (session=\"e4888028178fa1dbe4fc16937cd3c02f\", element=\"4c174fde-4072-4aa7-89a3-2616b7f116c0\")>,\n",
       " <selenium.webdriver.remote.webelement.WebElement (session=\"e4888028178fa1dbe4fc16937cd3c02f\", element=\"97961468-1b1a-407e-884e-5d269d8c6ce9\")>,\n",
       " <selenium.webdriver.remote.webelement.WebElement (session=\"e4888028178fa1dbe4fc16937cd3c02f\", element=\"6f05ff93-3978-46d5-86a8-c3e169409fc5\")>,\n",
       " <selenium.webdriver.remote.webelement.WebElement (session=\"e4888028178fa1dbe4fc16937cd3c02f\", element=\"5500bdf5-e127-446f-ad81-aec96c6246d5\")>,\n",
       " <selenium.webdriver.remote.webelement.WebElement (session=\"e4888028178fa1dbe4fc16937cd3c02f\", element=\"64a6e8be-fcfb-4ca7-a362-988ee97d8c57\")>,\n",
       " <selenium.webdriver.remote.webelement.WebElement (session=\"e4888028178fa1dbe4fc16937cd3c02f\", element=\"7b771f87-8024-4118-9fac-371ed50e3d71\")>,\n",
       " <selenium.webdriver.remote.webelement.WebElement (session=\"e4888028178fa1dbe4fc16937cd3c02f\", element=\"def169e8-2180-4e5f-9efc-545a9682ac44\")>,\n",
       " <selenium.webdriver.remote.webelement.WebElement (session=\"e4888028178fa1dbe4fc16937cd3c02f\", element=\"685e88f5-2747-47ad-8010-0948694f47ca\")>,\n",
       " <selenium.webdriver.remote.webelement.WebElement (session=\"e4888028178fa1dbe4fc16937cd3c02f\", element=\"082d6b86-49db-453d-aee7-6a26868deb57\")>,\n",
       " <selenium.webdriver.remote.webelement.WebElement (session=\"e4888028178fa1dbe4fc16937cd3c02f\", element=\"e6ea7338-e0d3-47c1-8341-a614aabea3f5\")>,\n",
       " <selenium.webdriver.remote.webelement.WebElement (session=\"e4888028178fa1dbe4fc16937cd3c02f\", element=\"f944547a-38a6-4e9d-ac45-ff08bfaf0f9f\")>,\n",
       " <selenium.webdriver.remote.webelement.WebElement (session=\"e4888028178fa1dbe4fc16937cd3c02f\", element=\"247148a7-9a1b-4dfa-bb15-f58f77d0eb70\")>,\n",
       " <selenium.webdriver.remote.webelement.WebElement (session=\"e4888028178fa1dbe4fc16937cd3c02f\", element=\"4c753329-8ea9-4005-8cde-f78eb2569cd7\")>,\n",
       " <selenium.webdriver.remote.webelement.WebElement (session=\"e4888028178fa1dbe4fc16937cd3c02f\", element=\"648e2185-a7cd-44b0-993b-f4a76c5945bc\")>,\n",
       " <selenium.webdriver.remote.webelement.WebElement (session=\"e4888028178fa1dbe4fc16937cd3c02f\", element=\"c80875d5-8c93-40c6-9946-164c4d3a5357\")>,\n",
       " <selenium.webdriver.remote.webelement.WebElement (session=\"e4888028178fa1dbe4fc16937cd3c02f\", element=\"11b6d3bc-0a07-4e7f-bd04-4bd2fa60e1fa\")>]"
      ]
     },
     "execution_count": 21,
     "metadata": {},
     "output_type": "execute_result"
    }
   ],
   "source": [
    "pro_disc=driver.find_elements(\"xpath\",'//a[@class=\"IRpwTa\"]')\n",
    "pro_disc"
   ]
  },
  {
   "cell_type": "code",
   "execution_count": 22,
   "id": "2c70c19d",
   "metadata": {},
   "outputs": [
    {
     "data": {
      "text/plain": [
       "['Gradient, Toughened Glass Lens, UV Protection Retro Squ...',\n",
       " 'UV Protection Clubmaster Sunglasses (53)',\n",
       " 'UV Protection, Night Vision, Riding Glasses Wayfarer, W...',\n",
       " 'UV Protection Rectangular Sunglasses (Free Size)',\n",
       " 'UV Protection Rectangular Sunglasses (Free Size)',\n",
       " 'UV Protection Round Sunglasses (54)',\n",
       " 'UV Protection Aviator Sunglasses (54)',\n",
       " 'UV Protection, Polarized Round Sunglasses (54)',\n",
       " 'UV Protection Wayfarer Sunglasses (50)',\n",
       " 'UV Protection, Polarized Wayfarer Sunglasses (Free Size...',\n",
       " 'UV Protection Wayfarer Sunglasses (Free Size)',\n",
       " 'UV Protection, Gradient Round Sunglasses (Free Size)',\n",
       " 'UV Protection, Polarized, Mirrored Retro Square Sunglas...',\n",
       " 'UV Protection, Polarized, Mirrored Rectangular Sunglass...',\n",
       " 'UV Protection Aviator Sunglasses (Free Size)',\n",
       " 'UV Protection Wayfarer Sunglasses (Free Size)',\n",
       " 'UV Protection Aviator Sunglasses (54)',\n",
       " 'UV Protection Aviator Sunglasses (58)',\n",
       " 'UV Protection Rectangular Sunglasses (52)',\n",
       " 'Polarized, UV Protection Aviator Sunglasses (57)',\n",
       " 'UV Protection Cat-eye Sunglasses (Free Size)',\n",
       " 'UV Protection Wayfarer Sunglasses (32)',\n",
       " 'Riding Glasses Wrap-around Sunglasses (Free Size)',\n",
       " 'UV Protection Spectacle Sunglasses (Free Size)',\n",
       " 'UV Protection Aviator Sunglasses (54)',\n",
       " 'UV Protection Over-sized Sunglasses (65)',\n",
       " 'Mirrored, Night Vision, UV Protection, Riding Glasses S...',\n",
       " 'UV Protection Aviator Sunglasses (57)',\n",
       " 'UV Protection, Gradient Retro Square Sunglasses (Free S...',\n",
       " 'Polarized Aviator Sunglasses (Free Size)',\n",
       " 'Polarized, Riding Glasses Sports, Wrap-around Sunglasse...',\n",
       " 'Riding Glasses, UV Protection, Others Aviator Sunglasse...',\n",
       " 'UV Protection Round Sunglasses (Free Size)',\n",
       " 'Gradient, UV Protection Wayfarer Sunglasses (Free Size)',\n",
       " 'Others Wayfarer, Retro Square Sunglasses (50)',\n",
       " 'Polarized, UV Protection Retro Square Sunglasses (55)',\n",
       " 'Mirrored, UV Protection, Riding Glasses, Others Round S...',\n",
       " 'UV Protection, Night Vision, Riding Glasses Round Sungl...',\n",
       " 'UV Protection Rectangular Sunglasses (Free Size)',\n",
       " 'UV Protection, Riding Glasses Rectangular Sunglasses (F...']"
      ]
     },
     "execution_count": 22,
     "metadata": {},
     "output_type": "execute_result"
    }
   ],
   "source": [
    "product_discription=[]\n",
    "for i in pro_disc:\n",
    "    product_discription.append(i.text)\n",
    "product_discription"
   ]
  },
  {
   "cell_type": "code",
   "execution_count": 23,
   "id": "83914624",
   "metadata": {
    "scrolled": true
   },
   "outputs": [
    {
     "data": {
      "text/plain": [
       "40"
      ]
     },
     "execution_count": 23,
     "metadata": {},
     "output_type": "execute_result"
    }
   ],
   "source": [
    "len(product_discription)"
   ]
  },
  {
   "cell_type": "code",
   "execution_count": 24,
   "id": "b82a005c",
   "metadata": {
    "scrolled": true
   },
   "outputs": [
    {
     "data": {
      "text/plain": [
       "[<selenium.webdriver.remote.webelement.WebElement (session=\"e4888028178fa1dbe4fc16937cd3c02f\", element=\"d45fd286-5993-49a4-9b3d-f89c4abfb686\")>,\n",
       " <selenium.webdriver.remote.webelement.WebElement (session=\"e4888028178fa1dbe4fc16937cd3c02f\", element=\"8db6f392-caa5-47d0-9b03-5f9c6ed9d0b5\")>,\n",
       " <selenium.webdriver.remote.webelement.WebElement (session=\"e4888028178fa1dbe4fc16937cd3c02f\", element=\"47be2798-b179-4af8-abfe-faabb1e449f1\")>,\n",
       " <selenium.webdriver.remote.webelement.WebElement (session=\"e4888028178fa1dbe4fc16937cd3c02f\", element=\"5a33fd0e-07de-43df-b552-173cfec89924\")>,\n",
       " <selenium.webdriver.remote.webelement.WebElement (session=\"e4888028178fa1dbe4fc16937cd3c02f\", element=\"01dfd3d4-a50b-4d3c-9aff-290dd600e32f\")>,\n",
       " <selenium.webdriver.remote.webelement.WebElement (session=\"e4888028178fa1dbe4fc16937cd3c02f\", element=\"1c891276-575b-45b2-862c-502b8a60d750\")>,\n",
       " <selenium.webdriver.remote.webelement.WebElement (session=\"e4888028178fa1dbe4fc16937cd3c02f\", element=\"0d91698c-680c-4950-8718-8cd2ceeb6dce\")>,\n",
       " <selenium.webdriver.remote.webelement.WebElement (session=\"e4888028178fa1dbe4fc16937cd3c02f\", element=\"f1f7b26f-15b2-4655-9fac-150572257248\")>,\n",
       " <selenium.webdriver.remote.webelement.WebElement (session=\"e4888028178fa1dbe4fc16937cd3c02f\", element=\"afa073c2-5269-4f37-9371-b64dd4743cbd\")>,\n",
       " <selenium.webdriver.remote.webelement.WebElement (session=\"e4888028178fa1dbe4fc16937cd3c02f\", element=\"d8bcdd60-3aa5-4c0f-9fd7-730001bd6bb5\")>,\n",
       " <selenium.webdriver.remote.webelement.WebElement (session=\"e4888028178fa1dbe4fc16937cd3c02f\", element=\"1c8b646c-96f9-410b-b36a-26170544127a\")>,\n",
       " <selenium.webdriver.remote.webelement.WebElement (session=\"e4888028178fa1dbe4fc16937cd3c02f\", element=\"c30baa5f-8495-4288-b2d1-994330e492be\")>,\n",
       " <selenium.webdriver.remote.webelement.WebElement (session=\"e4888028178fa1dbe4fc16937cd3c02f\", element=\"3c4b6ddf-544b-4f4c-afa0-d8066a46649c\")>,\n",
       " <selenium.webdriver.remote.webelement.WebElement (session=\"e4888028178fa1dbe4fc16937cd3c02f\", element=\"9511752e-1114-4fd3-9f01-f1ab3acd2022\")>,\n",
       " <selenium.webdriver.remote.webelement.WebElement (session=\"e4888028178fa1dbe4fc16937cd3c02f\", element=\"9c277d7c-3d91-4f7b-86ee-080ee909cab2\")>,\n",
       " <selenium.webdriver.remote.webelement.WebElement (session=\"e4888028178fa1dbe4fc16937cd3c02f\", element=\"55508768-64ad-4b4d-8bd2-bfca2c9e60e1\")>,\n",
       " <selenium.webdriver.remote.webelement.WebElement (session=\"e4888028178fa1dbe4fc16937cd3c02f\", element=\"6a411998-eaaf-4924-a28a-c54210058b79\")>,\n",
       " <selenium.webdriver.remote.webelement.WebElement (session=\"e4888028178fa1dbe4fc16937cd3c02f\", element=\"135c35f2-033a-4df0-9272-7146b0ddb429\")>,\n",
       " <selenium.webdriver.remote.webelement.WebElement (session=\"e4888028178fa1dbe4fc16937cd3c02f\", element=\"a2b59d21-1335-4053-8194-505732da067a\")>,\n",
       " <selenium.webdriver.remote.webelement.WebElement (session=\"e4888028178fa1dbe4fc16937cd3c02f\", element=\"9f179510-2f0b-465d-97e2-b0672fd88c1b\")>,\n",
       " <selenium.webdriver.remote.webelement.WebElement (session=\"e4888028178fa1dbe4fc16937cd3c02f\", element=\"237803a0-956f-4766-bc67-d9568b3513e1\")>,\n",
       " <selenium.webdriver.remote.webelement.WebElement (session=\"e4888028178fa1dbe4fc16937cd3c02f\", element=\"1cd777f3-3231-418c-9511-ce90906c08b7\")>,\n",
       " <selenium.webdriver.remote.webelement.WebElement (session=\"e4888028178fa1dbe4fc16937cd3c02f\", element=\"9b197684-c3ea-4408-b597-12c1516ac08a\")>,\n",
       " <selenium.webdriver.remote.webelement.WebElement (session=\"e4888028178fa1dbe4fc16937cd3c02f\", element=\"197470b5-fc72-4006-bff6-0a4915bbb9fc\")>,\n",
       " <selenium.webdriver.remote.webelement.WebElement (session=\"e4888028178fa1dbe4fc16937cd3c02f\", element=\"b480333e-b795-4a40-a89d-63a85007f7c1\")>,\n",
       " <selenium.webdriver.remote.webelement.WebElement (session=\"e4888028178fa1dbe4fc16937cd3c02f\", element=\"61882101-29a3-4ef2-8b95-293f65046a8d\")>,\n",
       " <selenium.webdriver.remote.webelement.WebElement (session=\"e4888028178fa1dbe4fc16937cd3c02f\", element=\"d4374c7b-f5ed-428d-970c-94f6a902161d\")>,\n",
       " <selenium.webdriver.remote.webelement.WebElement (session=\"e4888028178fa1dbe4fc16937cd3c02f\", element=\"ad93e796-f7f4-497c-8b36-ea4d83b82954\")>,\n",
       " <selenium.webdriver.remote.webelement.WebElement (session=\"e4888028178fa1dbe4fc16937cd3c02f\", element=\"e5a7a24a-4743-4275-99cf-56080d324362\")>,\n",
       " <selenium.webdriver.remote.webelement.WebElement (session=\"e4888028178fa1dbe4fc16937cd3c02f\", element=\"f7debf8d-3299-4e3f-907f-29006a618d55\")>,\n",
       " <selenium.webdriver.remote.webelement.WebElement (session=\"e4888028178fa1dbe4fc16937cd3c02f\", element=\"cff3cf6a-0bd4-425a-a3e7-3c0875995597\")>,\n",
       " <selenium.webdriver.remote.webelement.WebElement (session=\"e4888028178fa1dbe4fc16937cd3c02f\", element=\"992ef615-4a8a-445f-9f2c-312b36bfc77e\")>,\n",
       " <selenium.webdriver.remote.webelement.WebElement (session=\"e4888028178fa1dbe4fc16937cd3c02f\", element=\"8ed6756c-4a7f-4bed-8a41-315d08300b91\")>,\n",
       " <selenium.webdriver.remote.webelement.WebElement (session=\"e4888028178fa1dbe4fc16937cd3c02f\", element=\"96a15368-3f6f-459c-bfb0-0e7af4b0e376\")>,\n",
       " <selenium.webdriver.remote.webelement.WebElement (session=\"e4888028178fa1dbe4fc16937cd3c02f\", element=\"35fac9df-00cb-44cc-919c-be9c24b71d78\")>,\n",
       " <selenium.webdriver.remote.webelement.WebElement (session=\"e4888028178fa1dbe4fc16937cd3c02f\", element=\"e72fe41e-9dad-4baa-9f10-5c682a3ee93d\")>,\n",
       " <selenium.webdriver.remote.webelement.WebElement (session=\"e4888028178fa1dbe4fc16937cd3c02f\", element=\"da3e96e5-4bd8-471a-803c-fc3a62df43cf\")>,\n",
       " <selenium.webdriver.remote.webelement.WebElement (session=\"e4888028178fa1dbe4fc16937cd3c02f\", element=\"08526dad-0d4e-410f-938f-2e6f713d2722\")>,\n",
       " <selenium.webdriver.remote.webelement.WebElement (session=\"e4888028178fa1dbe4fc16937cd3c02f\", element=\"6df38207-37f8-4654-bdb5-cd6ad29d6a9d\")>,\n",
       " <selenium.webdriver.remote.webelement.WebElement (session=\"e4888028178fa1dbe4fc16937cd3c02f\", element=\"6d4c36f1-5b9d-49d8-a066-3994257475d2\")>,\n",
       " <selenium.webdriver.remote.webelement.WebElement (session=\"e4888028178fa1dbe4fc16937cd3c02f\", element=\"feffc5ea-1401-4dc6-80ed-50971e257772\")>,\n",
       " <selenium.webdriver.remote.webelement.WebElement (session=\"e4888028178fa1dbe4fc16937cd3c02f\", element=\"ea775a9f-b954-4fff-b0cc-f97ba6fc12ec\")>,\n",
       " <selenium.webdriver.remote.webelement.WebElement (session=\"e4888028178fa1dbe4fc16937cd3c02f\", element=\"e46ca863-8ad6-4801-8363-485c471e2209\")>,\n",
       " <selenium.webdriver.remote.webelement.WebElement (session=\"e4888028178fa1dbe4fc16937cd3c02f\", element=\"26be2c59-8e8d-4a54-bffc-eef2412ae27d\")>,\n",
       " <selenium.webdriver.remote.webelement.WebElement (session=\"e4888028178fa1dbe4fc16937cd3c02f\", element=\"4b035f5b-97be-4da3-b58c-978c8877055c\")>]"
      ]
     },
     "execution_count": 24,
     "metadata": {},
     "output_type": "execute_result"
    }
   ],
   "source": [
    "price=driver.find_elements(\"xpath\",'//div[@class=\"_25b18c\"]')\n",
    "price"
   ]
  },
  {
   "cell_type": "code",
   "execution_count": 25,
   "id": "6deea1dc",
   "metadata": {},
   "outputs": [
    {
     "data": {
      "text/plain": [
       "['₹598₹2,99980% off',\n",
       " '₹313₹1,49979% off',\n",
       " '₹177₹99982% off',\n",
       " '₹639₹79920% off',\n",
       " '₹264₹2,59989% off',\n",
       " '₹315₹2,49587% off',\n",
       " '₹224₹1,59985% off',\n",
       " '₹664₹1,99966% off',\n",
       " '₹224₹1,29982% off',\n",
       " '₹283₹1,29978% off',\n",
       " '₹799₹99920% off',\n",
       " '₹399₹1,99980% off',\n",
       " '₹259₹1,29980% off',\n",
       " '₹195₹1,69988% off',\n",
       " '₹639₹79920% off',\n",
       " '₹288₹1,49980% off',\n",
       " '₹224₹1,59985% off',\n",
       " '₹359₹2,59986% off',\n",
       " '₹306₹2,59988% off',\n",
       " '₹759₹1,99962% off',\n",
       " '₹229₹1,29982% off',\n",
       " '₹226₹1,59985% off',\n",
       " '₹299₹2,49988% off',\n",
       " '₹399₹1,99980% off',\n",
       " '₹246₹1,59984% off',\n",
       " '₹410₹2,59984% off',\n",
       " '₹265₹1,49982% off',\n",
       " '₹314₹1,99984% off',\n",
       " '₹349₹1,99982% off',\n",
       " '₹839₹1,19930% off',\n",
       " '₹499₹1,99975% off',\n",
       " '₹232₹1,49984% off',\n",
       " '₹279₹1,29978% off',\n",
       " '₹719₹89920% off',\n",
       " '₹219₹99978% off',\n",
       " '₹616₹1,99969% off',\n",
       " '₹299₹1,59981% off',\n",
       " '₹199₹79975% off',\n",
       " '₹319₹1,49978% off',\n",
       " '₹449₹2,22579% off',\n",
       " '₹39980% off',\n",
       " '₹79920% off',\n",
       " '₹34982% off',\n",
       " '₹61669% off',\n",
       " '₹29981% off']"
      ]
     },
     "execution_count": 25,
     "metadata": {},
     "output_type": "execute_result"
    }
   ],
   "source": [
    "price_=[]\n",
    "for i in price:\n",
    "    price_.append(i.text)\n",
    "price_"
   ]
  },
  {
   "cell_type": "code",
   "execution_count": 26,
   "id": "6b798544",
   "metadata": {},
   "outputs": [
    {
     "data": {
      "text/plain": [
       "['₹598₹2,99980% off',\n",
       " '₹313₹1,49979% off',\n",
       " '₹177₹99982% off',\n",
       " '₹639₹79920% off',\n",
       " '₹264₹2,59989% off',\n",
       " '₹315₹2,49587% off',\n",
       " '₹224₹1,59985% off',\n",
       " '₹664₹1,99966% off',\n",
       " '₹224₹1,29982% off',\n",
       " '₹283₹1,29978% off',\n",
       " '₹799₹99920% off',\n",
       " '₹399₹1,99980% off',\n",
       " '₹259₹1,29980% off',\n",
       " '₹195₹1,69988% off',\n",
       " '₹639₹79920% off',\n",
       " '₹288₹1,49980% off',\n",
       " '₹224₹1,59985% off',\n",
       " '₹359₹2,59986% off',\n",
       " '₹306₹2,59988% off',\n",
       " '₹759₹1,99962% off',\n",
       " '₹229₹1,29982% off',\n",
       " '₹226₹1,59985% off',\n",
       " '₹299₹2,49988% off',\n",
       " '₹399₹1,99980% off',\n",
       " '₹246₹1,59984% off',\n",
       " '₹410₹2,59984% off',\n",
       " '₹265₹1,49982% off',\n",
       " '₹314₹1,99984% off',\n",
       " '₹349₹1,99982% off',\n",
       " '₹839₹1,19930% off',\n",
       " '₹499₹1,99975% off',\n",
       " '₹232₹1,49984% off',\n",
       " '₹279₹1,29978% off',\n",
       " '₹719₹89920% off',\n",
       " '₹219₹99978% off',\n",
       " '₹616₹1,99969% off',\n",
       " '₹299₹1,59981% off',\n",
       " '₹199₹79975% off',\n",
       " '₹319₹1,49978% off',\n",
       " '₹449₹2,22579% off']"
      ]
     },
     "execution_count": 26,
     "metadata": {},
     "output_type": "execute_result"
    }
   ],
   "source": [
    "product_price=price_[0:40]\n",
    "product_price"
   ]
  },
  {
   "cell_type": "code",
   "execution_count": 27,
   "id": "64534e69",
   "metadata": {},
   "outputs": [
    {
     "data": {
      "text/plain": [
       "40"
      ]
     },
     "execution_count": 27,
     "metadata": {},
     "output_type": "execute_result"
    }
   ],
   "source": [
    "len(product_price)"
   ]
  },
  {
   "cell_type": "code",
   "execution_count": 52,
   "id": "d4a238a2",
   "metadata": {},
   "outputs": [
    {
     "data": {
      "text/plain": [
       "<selenium.webdriver.remote.webelement.WebElement (session=\"e4888028178fa1dbe4fc16937cd3c02f\", element=\"6ae95cb0-20df-4a00-8150-2e304c98483e\")>"
      ]
     },
     "execution_count": 52,
     "metadata": {},
     "output_type": "execute_result"
    }
   ],
   "source": [
    "#searching web element for next bar\n",
    "next_btn=driver.find_element(\"xpath\",'/html/body/div[1]/div/div[3]/div[1]/div[2]/div[12]/div/div/nav/a[11]')\n",
    "next_btn"
   ]
  },
  {
   "cell_type": "code",
   "execution_count": 53,
   "id": "56e8d315",
   "metadata": {},
   "outputs": [],
   "source": [
    "#clicking on next btn\n",
    "next_btn.click()"
   ]
  },
  {
   "cell_type": "code",
   "execution_count": 30,
   "id": "3099b150",
   "metadata": {},
   "outputs": [
    {
     "data": {
      "text/plain": [
       "[<selenium.webdriver.remote.webelement.WebElement (session=\"e4888028178fa1dbe4fc16937cd3c02f\", element=\"b8f9f6b8-8fea-4d05-8700-a21052dacf36\")>,\n",
       " <selenium.webdriver.remote.webelement.WebElement (session=\"e4888028178fa1dbe4fc16937cd3c02f\", element=\"7d6ffc89-a5dc-4a71-91ce-dbabfac74faf\")>,\n",
       " <selenium.webdriver.remote.webelement.WebElement (session=\"e4888028178fa1dbe4fc16937cd3c02f\", element=\"7fd4a073-dffb-4254-bc7a-b82bf1bfa35d\")>,\n",
       " <selenium.webdriver.remote.webelement.WebElement (session=\"e4888028178fa1dbe4fc16937cd3c02f\", element=\"eae94c20-810e-423f-bae0-7a82d2d50fab\")>,\n",
       " <selenium.webdriver.remote.webelement.WebElement (session=\"e4888028178fa1dbe4fc16937cd3c02f\", element=\"eb068d9e-301e-4bda-8850-9c049101549e\")>,\n",
       " <selenium.webdriver.remote.webelement.WebElement (session=\"e4888028178fa1dbe4fc16937cd3c02f\", element=\"9a65ee25-0339-4fbf-b922-e034305657cb\")>,\n",
       " <selenium.webdriver.remote.webelement.WebElement (session=\"e4888028178fa1dbe4fc16937cd3c02f\", element=\"d1a3b553-f5f1-467c-af00-be43c633048b\")>,\n",
       " <selenium.webdriver.remote.webelement.WebElement (session=\"e4888028178fa1dbe4fc16937cd3c02f\", element=\"3411d4fc-c688-43f9-b13e-834cdd24ae4c\")>,\n",
       " <selenium.webdriver.remote.webelement.WebElement (session=\"e4888028178fa1dbe4fc16937cd3c02f\", element=\"28b162de-8ced-4e34-9a6c-da74bc5f12f3\")>,\n",
       " <selenium.webdriver.remote.webelement.WebElement (session=\"e4888028178fa1dbe4fc16937cd3c02f\", element=\"4a1abb1d-5383-4b28-a2dc-7c6cf700eee2\")>,\n",
       " <selenium.webdriver.remote.webelement.WebElement (session=\"e4888028178fa1dbe4fc16937cd3c02f\", element=\"1b016fcd-5e0a-47ff-8eab-fc171ff88d0f\")>,\n",
       " <selenium.webdriver.remote.webelement.WebElement (session=\"e4888028178fa1dbe4fc16937cd3c02f\", element=\"57f5b1a4-078b-44ec-816e-4d07c3a443a7\")>,\n",
       " <selenium.webdriver.remote.webelement.WebElement (session=\"e4888028178fa1dbe4fc16937cd3c02f\", element=\"553af505-5a54-4cfe-8765-19a2c32881ad\")>,\n",
       " <selenium.webdriver.remote.webelement.WebElement (session=\"e4888028178fa1dbe4fc16937cd3c02f\", element=\"dd73346d-27cc-4c37-b4ff-bb0887e279e1\")>,\n",
       " <selenium.webdriver.remote.webelement.WebElement (session=\"e4888028178fa1dbe4fc16937cd3c02f\", element=\"f32a251c-86bd-43b1-9e96-85e297a22bcd\")>,\n",
       " <selenium.webdriver.remote.webelement.WebElement (session=\"e4888028178fa1dbe4fc16937cd3c02f\", element=\"1c7417c3-26ed-4b4c-b754-99a11005f230\")>,\n",
       " <selenium.webdriver.remote.webelement.WebElement (session=\"e4888028178fa1dbe4fc16937cd3c02f\", element=\"4766e05c-0164-48ae-8ea4-31c8be403d1b\")>,\n",
       " <selenium.webdriver.remote.webelement.WebElement (session=\"e4888028178fa1dbe4fc16937cd3c02f\", element=\"f55fd541-9721-4d7e-bedf-9566c58f6f53\")>,\n",
       " <selenium.webdriver.remote.webelement.WebElement (session=\"e4888028178fa1dbe4fc16937cd3c02f\", element=\"95fa7df8-1de4-4a0e-be83-d2acad2e4e08\")>,\n",
       " <selenium.webdriver.remote.webelement.WebElement (session=\"e4888028178fa1dbe4fc16937cd3c02f\", element=\"c1c3733d-2a00-4237-9c9c-ea9dc86afaf2\")>,\n",
       " <selenium.webdriver.remote.webelement.WebElement (session=\"e4888028178fa1dbe4fc16937cd3c02f\", element=\"5450d485-11bb-48f8-bc9c-e67dea37edea\")>,\n",
       " <selenium.webdriver.remote.webelement.WebElement (session=\"e4888028178fa1dbe4fc16937cd3c02f\", element=\"c386ffd4-e490-4aaf-b4bd-6c5ff1791ed0\")>,\n",
       " <selenium.webdriver.remote.webelement.WebElement (session=\"e4888028178fa1dbe4fc16937cd3c02f\", element=\"26e66f9f-0235-41b4-a92f-ea5d194cbe85\")>,\n",
       " <selenium.webdriver.remote.webelement.WebElement (session=\"e4888028178fa1dbe4fc16937cd3c02f\", element=\"49252bbb-8cbd-448f-b204-a95cce64bb35\")>,\n",
       " <selenium.webdriver.remote.webelement.WebElement (session=\"e4888028178fa1dbe4fc16937cd3c02f\", element=\"a1dd1261-9e9d-4d76-9325-22ed3cb0a1aa\")>,\n",
       " <selenium.webdriver.remote.webelement.WebElement (session=\"e4888028178fa1dbe4fc16937cd3c02f\", element=\"64745ef3-39e1-44db-94c0-623b995a6e3e\")>,\n",
       " <selenium.webdriver.remote.webelement.WebElement (session=\"e4888028178fa1dbe4fc16937cd3c02f\", element=\"259da02f-2856-4c46-af6c-ec62c8076eb4\")>,\n",
       " <selenium.webdriver.remote.webelement.WebElement (session=\"e4888028178fa1dbe4fc16937cd3c02f\", element=\"dd626417-c47f-45c8-bd65-2877aef052b6\")>,\n",
       " <selenium.webdriver.remote.webelement.WebElement (session=\"e4888028178fa1dbe4fc16937cd3c02f\", element=\"a431d32d-7af1-440b-b7eb-87922261cc25\")>,\n",
       " <selenium.webdriver.remote.webelement.WebElement (session=\"e4888028178fa1dbe4fc16937cd3c02f\", element=\"da95b914-e6ae-4384-8083-1dc09704ee14\")>,\n",
       " <selenium.webdriver.remote.webelement.WebElement (session=\"e4888028178fa1dbe4fc16937cd3c02f\", element=\"1e0b5d21-6005-4ecc-8cfa-c757d3bb3866\")>,\n",
       " <selenium.webdriver.remote.webelement.WebElement (session=\"e4888028178fa1dbe4fc16937cd3c02f\", element=\"95694514-a732-4dfd-8e54-04271281a4de\")>,\n",
       " <selenium.webdriver.remote.webelement.WebElement (session=\"e4888028178fa1dbe4fc16937cd3c02f\", element=\"8bee782b-71d2-40af-93b8-f3f9ade5f35f\")>,\n",
       " <selenium.webdriver.remote.webelement.WebElement (session=\"e4888028178fa1dbe4fc16937cd3c02f\", element=\"dc364d88-38b2-45e7-a0ea-29162a0bd6a5\")>,\n",
       " <selenium.webdriver.remote.webelement.WebElement (session=\"e4888028178fa1dbe4fc16937cd3c02f\", element=\"b556f89a-efcb-48de-975f-3ae14e9ada2f\")>,\n",
       " <selenium.webdriver.remote.webelement.WebElement (session=\"e4888028178fa1dbe4fc16937cd3c02f\", element=\"7825c65a-531e-4ec8-8716-6ad6d80d501a\")>,\n",
       " <selenium.webdriver.remote.webelement.WebElement (session=\"e4888028178fa1dbe4fc16937cd3c02f\", element=\"b73260fa-3c79-46c0-b787-2113f832816e\")>,\n",
       " <selenium.webdriver.remote.webelement.WebElement (session=\"e4888028178fa1dbe4fc16937cd3c02f\", element=\"a018b2e8-64df-48e0-a206-0aa2362fd56f\")>,\n",
       " <selenium.webdriver.remote.webelement.WebElement (session=\"e4888028178fa1dbe4fc16937cd3c02f\", element=\"2d9feed2-554e-43f7-8420-747fb7d51427\")>,\n",
       " <selenium.webdriver.remote.webelement.WebElement (session=\"e4888028178fa1dbe4fc16937cd3c02f\", element=\"ee430e96-7b40-4a68-b73b-220b4612a12f\")>]"
      ]
     },
     "execution_count": 30,
     "metadata": {},
     "output_type": "execute_result"
    }
   ],
   "source": [
    "brand=driver.find_elements(\"xpath\",'//div[@class=\"_2WkVRV\"]')\n",
    "brand"
   ]
  },
  {
   "cell_type": "code",
   "execution_count": 31,
   "id": "33c6f6be",
   "metadata": {},
   "outputs": [
    {
     "data": {
      "text/plain": [
       "['Lee Topper',\n",
       " 'NuVew',\n",
       " 'Fastrack',\n",
       " 'Silver Kartz',\n",
       " 'ROZZETTA CRAFT',\n",
       " 'PIRASO',\n",
       " 'LIZA ANGEL',\n",
       " 'GANSTA',\n",
       " 'CRYSTAL CART',\n",
       " 'ROYAL SON',\n",
       " 'DEIXELS',\n",
       " 'ROYAL SON',\n",
       " 'Elligator',\n",
       " 'kingsunglasses',\n",
       " 'ROYAL SON',\n",
       " 'ROZZETTA CRAFT',\n",
       " 'Fastrack',\n",
       " 'kingsunglasses',\n",
       " 'PIRASO',\n",
       " 'ROYAL SON',\n",
       " 'Silver Kartz',\n",
       " 'ROYAL SON',\n",
       " 'kingsunglasses',\n",
       " 'Singco India',\n",
       " 'CRYSTAL CART',\n",
       " 'PHENOMENAL',\n",
       " 'New Specs',\n",
       " 'ROZZETTA CRAFT',\n",
       " 'Lee Topper',\n",
       " 'Singco India',\n",
       " 'Fastrack',\n",
       " 'ROYAL SON',\n",
       " 'VINCENT CHASE',\n",
       " 'Fastrack',\n",
       " 'ROZZETTA CRAFT',\n",
       " 'ROYAL SON',\n",
       " 'VINCENT CHASE',\n",
       " 'SRPM',\n",
       " 'Singco India',\n",
       " 'GANSTA']"
      ]
     },
     "execution_count": 31,
     "metadata": {},
     "output_type": "execute_result"
    }
   ],
   "source": [
    "brand2=[]\n",
    "for i in brand:\n",
    "    brand2.append(i.text)\n",
    "brand2"
   ]
  },
  {
   "cell_type": "code",
   "execution_count": 32,
   "id": "e764a056",
   "metadata": {},
   "outputs": [
    {
     "data": {
      "text/plain": [
       "40"
      ]
     },
     "execution_count": 32,
     "metadata": {},
     "output_type": "execute_result"
    }
   ],
   "source": [
    "len(brand2)"
   ]
  },
  {
   "cell_type": "code",
   "execution_count": 33,
   "id": "92a1929a",
   "metadata": {},
   "outputs": [
    {
     "data": {
      "text/plain": [
       "[<selenium.webdriver.remote.webelement.WebElement (session=\"e4888028178fa1dbe4fc16937cd3c02f\", element=\"64308484-1f4f-436a-92f9-00c71a089ed9\")>,\n",
       " <selenium.webdriver.remote.webelement.WebElement (session=\"e4888028178fa1dbe4fc16937cd3c02f\", element=\"92f5fd7e-11f6-49d0-9012-bec87aef5829\")>,\n",
       " <selenium.webdriver.remote.webelement.WebElement (session=\"e4888028178fa1dbe4fc16937cd3c02f\", element=\"35ab53bb-764a-40c9-abfe-23f252fc3730\")>,\n",
       " <selenium.webdriver.remote.webelement.WebElement (session=\"e4888028178fa1dbe4fc16937cd3c02f\", element=\"53074c40-2377-4850-902b-0bee3f19e6b5\")>,\n",
       " <selenium.webdriver.remote.webelement.WebElement (session=\"e4888028178fa1dbe4fc16937cd3c02f\", element=\"8ceece2f-a052-4cee-88f0-29208c128b59\")>,\n",
       " <selenium.webdriver.remote.webelement.WebElement (session=\"e4888028178fa1dbe4fc16937cd3c02f\", element=\"e72fd345-dd50-4354-b90f-8c90c1bbea4c\")>,\n",
       " <selenium.webdriver.remote.webelement.WebElement (session=\"e4888028178fa1dbe4fc16937cd3c02f\", element=\"80c03ccd-bf4d-40e6-ab58-d75fdf8bc5f4\")>,\n",
       " <selenium.webdriver.remote.webelement.WebElement (session=\"e4888028178fa1dbe4fc16937cd3c02f\", element=\"dd774ed4-dacc-41bf-92bd-97a630d866e7\")>,\n",
       " <selenium.webdriver.remote.webelement.WebElement (session=\"e4888028178fa1dbe4fc16937cd3c02f\", element=\"f6348fe7-dd5b-4607-8c50-6abd704c9527\")>,\n",
       " <selenium.webdriver.remote.webelement.WebElement (session=\"e4888028178fa1dbe4fc16937cd3c02f\", element=\"02256e14-3cec-43c4-b09e-e3c7340ab462\")>,\n",
       " <selenium.webdriver.remote.webelement.WebElement (session=\"e4888028178fa1dbe4fc16937cd3c02f\", element=\"86d53229-1581-465a-af82-ef26216b4a51\")>,\n",
       " <selenium.webdriver.remote.webelement.WebElement (session=\"e4888028178fa1dbe4fc16937cd3c02f\", element=\"ff33d1a3-a7ed-4e5e-ac68-ab836db0f775\")>,\n",
       " <selenium.webdriver.remote.webelement.WebElement (session=\"e4888028178fa1dbe4fc16937cd3c02f\", element=\"3fcad469-5d2b-472f-a59f-41d459465a3b\")>,\n",
       " <selenium.webdriver.remote.webelement.WebElement (session=\"e4888028178fa1dbe4fc16937cd3c02f\", element=\"c305978b-d138-43b6-97ee-f058b946257e\")>,\n",
       " <selenium.webdriver.remote.webelement.WebElement (session=\"e4888028178fa1dbe4fc16937cd3c02f\", element=\"cfdc90a0-94ec-4b5d-9f6d-323ae662b4da\")>,\n",
       " <selenium.webdriver.remote.webelement.WebElement (session=\"e4888028178fa1dbe4fc16937cd3c02f\", element=\"65889ade-8066-47d9-a1fe-5c484dccf23c\")>,\n",
       " <selenium.webdriver.remote.webelement.WebElement (session=\"e4888028178fa1dbe4fc16937cd3c02f\", element=\"5b16b47a-ffbf-43c0-8f02-8aaa103f4f82\")>,\n",
       " <selenium.webdriver.remote.webelement.WebElement (session=\"e4888028178fa1dbe4fc16937cd3c02f\", element=\"f6b59249-a3aa-40e8-99df-9c734f64b831\")>,\n",
       " <selenium.webdriver.remote.webelement.WebElement (session=\"e4888028178fa1dbe4fc16937cd3c02f\", element=\"b8a4198d-208c-4b5e-9750-db6875d70c0d\")>,\n",
       " <selenium.webdriver.remote.webelement.WebElement (session=\"e4888028178fa1dbe4fc16937cd3c02f\", element=\"536e1707-f4d4-44ca-9816-aed2ccea4094\")>,\n",
       " <selenium.webdriver.remote.webelement.WebElement (session=\"e4888028178fa1dbe4fc16937cd3c02f\", element=\"5188a419-782e-47b0-9f74-28463597c7a5\")>,\n",
       " <selenium.webdriver.remote.webelement.WebElement (session=\"e4888028178fa1dbe4fc16937cd3c02f\", element=\"2fb3e496-6397-4d6e-a4bf-dc93826c9d14\")>,\n",
       " <selenium.webdriver.remote.webelement.WebElement (session=\"e4888028178fa1dbe4fc16937cd3c02f\", element=\"b4cf5f6a-0a8e-4ee4-9476-3f490128ceee\")>,\n",
       " <selenium.webdriver.remote.webelement.WebElement (session=\"e4888028178fa1dbe4fc16937cd3c02f\", element=\"96db1675-c089-49b9-a41f-ed8867e1a5a8\")>,\n",
       " <selenium.webdriver.remote.webelement.WebElement (session=\"e4888028178fa1dbe4fc16937cd3c02f\", element=\"1471ddb8-3282-4135-9745-748e94ed5e23\")>,\n",
       " <selenium.webdriver.remote.webelement.WebElement (session=\"e4888028178fa1dbe4fc16937cd3c02f\", element=\"23753a5b-a949-4599-8255-006242506136\")>,\n",
       " <selenium.webdriver.remote.webelement.WebElement (session=\"e4888028178fa1dbe4fc16937cd3c02f\", element=\"bddfe8d4-bd95-45d5-8806-981a9a5441e4\")>,\n",
       " <selenium.webdriver.remote.webelement.WebElement (session=\"e4888028178fa1dbe4fc16937cd3c02f\", element=\"d7bdda2e-c3ba-410a-9c82-1cf4ea365bf4\")>,\n",
       " <selenium.webdriver.remote.webelement.WebElement (session=\"e4888028178fa1dbe4fc16937cd3c02f\", element=\"09f82577-c1e7-429e-a564-f1c13cc53a78\")>,\n",
       " <selenium.webdriver.remote.webelement.WebElement (session=\"e4888028178fa1dbe4fc16937cd3c02f\", element=\"18e182e8-fe31-436c-913e-9f5531d92326\")>,\n",
       " <selenium.webdriver.remote.webelement.WebElement (session=\"e4888028178fa1dbe4fc16937cd3c02f\", element=\"c3550866-1d18-4eee-b01c-b0848b2fa7da\")>,\n",
       " <selenium.webdriver.remote.webelement.WebElement (session=\"e4888028178fa1dbe4fc16937cd3c02f\", element=\"340d85aa-85d3-4d82-b17a-5627e0492aae\")>,\n",
       " <selenium.webdriver.remote.webelement.WebElement (session=\"e4888028178fa1dbe4fc16937cd3c02f\", element=\"19dc51fe-6953-419d-9974-4f7f595570c9\")>,\n",
       " <selenium.webdriver.remote.webelement.WebElement (session=\"e4888028178fa1dbe4fc16937cd3c02f\", element=\"34f503e7-fc52-4511-8336-7a04dc72a47c\")>,\n",
       " <selenium.webdriver.remote.webelement.WebElement (session=\"e4888028178fa1dbe4fc16937cd3c02f\", element=\"a11049b9-9501-42ea-9f5a-440941be5cc6\")>,\n",
       " <selenium.webdriver.remote.webelement.WebElement (session=\"e4888028178fa1dbe4fc16937cd3c02f\", element=\"707b96aa-8248-41e8-a18d-1eaf6babecdc\")>,\n",
       " <selenium.webdriver.remote.webelement.WebElement (session=\"e4888028178fa1dbe4fc16937cd3c02f\", element=\"991b0518-9427-43d5-a3dc-5f47743a729b\")>,\n",
       " <selenium.webdriver.remote.webelement.WebElement (session=\"e4888028178fa1dbe4fc16937cd3c02f\", element=\"a844b1ae-d452-4c93-8248-a631f5ce252e\")>,\n",
       " <selenium.webdriver.remote.webelement.WebElement (session=\"e4888028178fa1dbe4fc16937cd3c02f\", element=\"6d0f7fb3-e964-4096-8a1a-015b52e75254\")>,\n",
       " <selenium.webdriver.remote.webelement.WebElement (session=\"e4888028178fa1dbe4fc16937cd3c02f\", element=\"b0ee271d-5808-4040-af70-ae1562633ad2\")>]"
      ]
     },
     "execution_count": 33,
     "metadata": {},
     "output_type": "execute_result"
    }
   ],
   "source": [
    "pro_disc=driver.find_elements(\"xpath\",'//a[@class=\"IRpwTa\"]')\n",
    "pro_disc"
   ]
  },
  {
   "cell_type": "code",
   "execution_count": 34,
   "id": "5550a29f",
   "metadata": {},
   "outputs": [
    {
     "data": {
      "text/plain": [
       "['UV Protection Rectangular Sunglasses (Free Size)',\n",
       " 'UV Protection Sports Sunglasses (62)',\n",
       " 'Gradient, UV Protection Wayfarer Sunglasses (Free Size)',\n",
       " 'UV Protection Clubmaster Sunglasses (53)',\n",
       " 'UV Protection, Gradient Rectangular Sunglasses (Free Si...',\n",
       " 'UV Protection Aviator Sunglasses (55)',\n",
       " 'Riding Glasses, Night Vision Spectacle Sunglasses (Fre...',\n",
       " 'UV Protection Aviator Sunglasses (57)',\n",
       " 'Mirrored, Night Vision Oval Sunglasses (Free Size)',\n",
       " 'Mirrored Aviator Sunglasses (Free Size)',\n",
       " 'UV Protection Aviator Sunglasses (Free Size)',\n",
       " 'UV Protection, Polarized Round Sunglasses (54)',\n",
       " 'UV Protection Round Sunglasses (53)',\n",
       " 'UV Protection Rectangular Sunglasses (55)',\n",
       " 'Mirrored Aviator Sunglasses (55)',\n",
       " 'UV Protection Spectacle Sunglasses (Free Size)',\n",
       " 'UV Protection Aviator Sunglasses (58)',\n",
       " 'UV Protection Round Sunglasses (54)',\n",
       " 'UV Protection Aviator Sunglasses (54)',\n",
       " 'Polarized, UV Protection Aviator Sunglasses (57)',\n",
       " 'UV Protection Wayfarer Sunglasses (Free Size)',\n",
       " 'Mirrored Aviator Sunglasses (55)',\n",
       " 'UV Protection, Mirrored Aviator Sunglasses (Free Size)',\n",
       " 'Riding Glasses, UV Protection, Others Aviator Sunglasse...',\n",
       " 'Polarized, UV Protection, Mirrored, Gradient Rectangula...',\n",
       " 'UV Protection Retro Square Sunglasses (Free Size)',\n",
       " 'UV Protection Round Sunglasses (Free Size)',\n",
       " 'UV Protection, Riding Glasses Rectangular Sunglasses (F...',\n",
       " 'UV Protection Round Sunglasses (Free Size)',\n",
       " 'Gradient, Toughened Glass Lens, UV Protection Retro Squ...',\n",
       " 'Mirrored, UV Protection Wayfarer Sunglasses (Free Size)',\n",
       " 'Polarized, UV Protection Retro Square Sunglasses (55)',\n",
       " 'by Lenskart Polarized, UV Protection Wayfarer Sunglasse...',\n",
       " 'UV Protection Shield Sunglasses (Free Size)',\n",
       " 'UV Protection Retro Square Sunglasses (Free Size)',\n",
       " 'Polarized, UV Protection Wayfarer, Retro Square Sunglas...',\n",
       " 'Polarized, UV Protection Round Sunglasses (51)',\n",
       " 'Night Vision, UV Protection Round Sunglasses (54)',\n",
       " 'Gradient, Toughened Glass Lens, UV Protection Retro Squ...',\n",
       " 'Night Vision, Riding Glasses Retro Square Sunglasses (5...']"
      ]
     },
     "execution_count": 34,
     "metadata": {},
     "output_type": "execute_result"
    }
   ],
   "source": [
    "product_discription=[]\n",
    "for i in pro_disc:\n",
    "    product_discription.append(i.text)\n",
    "product_discription"
   ]
  },
  {
   "cell_type": "code",
   "execution_count": 35,
   "id": "1a4a681d",
   "metadata": {},
   "outputs": [
    {
     "data": {
      "text/plain": [
       "40"
      ]
     },
     "execution_count": 35,
     "metadata": {},
     "output_type": "execute_result"
    }
   ],
   "source": [
    "len(product_discription)"
   ]
  },
  {
   "cell_type": "code",
   "execution_count": 40,
   "id": "5105117f",
   "metadata": {},
   "outputs": [
    {
     "data": {
      "text/plain": [
       "[<selenium.webdriver.remote.webelement.WebElement (session=\"e4888028178fa1dbe4fc16937cd3c02f\", element=\"440ac250-4e38-4f56-af3b-407d82481d0d\")>,\n",
       " <selenium.webdriver.remote.webelement.WebElement (session=\"e4888028178fa1dbe4fc16937cd3c02f\", element=\"6586235f-6dba-43b8-a1ab-362644789407\")>,\n",
       " <selenium.webdriver.remote.webelement.WebElement (session=\"e4888028178fa1dbe4fc16937cd3c02f\", element=\"0364ecdb-6b1a-4896-97a2-0c37241eace9\")>,\n",
       " <selenium.webdriver.remote.webelement.WebElement (session=\"e4888028178fa1dbe4fc16937cd3c02f\", element=\"27eeb980-c792-46e8-95a2-9dea5744a657\")>,\n",
       " <selenium.webdriver.remote.webelement.WebElement (session=\"e4888028178fa1dbe4fc16937cd3c02f\", element=\"ca606703-9427-40a3-b43c-350622305cbb\")>,\n",
       " <selenium.webdriver.remote.webelement.WebElement (session=\"e4888028178fa1dbe4fc16937cd3c02f\", element=\"ca6a499b-86e2-4e98-bc82-88150dbc8726\")>,\n",
       " <selenium.webdriver.remote.webelement.WebElement (session=\"e4888028178fa1dbe4fc16937cd3c02f\", element=\"323c0232-23f7-43dc-a837-0e78d6adb493\")>,\n",
       " <selenium.webdriver.remote.webelement.WebElement (session=\"e4888028178fa1dbe4fc16937cd3c02f\", element=\"3f3c5c5a-c9d8-4cbe-882d-2a888a1ec2cd\")>,\n",
       " <selenium.webdriver.remote.webelement.WebElement (session=\"e4888028178fa1dbe4fc16937cd3c02f\", element=\"580e38b5-63e6-4cbc-86e5-9a706aed7b26\")>,\n",
       " <selenium.webdriver.remote.webelement.WebElement (session=\"e4888028178fa1dbe4fc16937cd3c02f\", element=\"baab3b7e-aa73-4f32-ab33-722aa43a5b63\")>,\n",
       " <selenium.webdriver.remote.webelement.WebElement (session=\"e4888028178fa1dbe4fc16937cd3c02f\", element=\"14971b5a-a0d0-4c65-904c-bad073b35424\")>,\n",
       " <selenium.webdriver.remote.webelement.WebElement (session=\"e4888028178fa1dbe4fc16937cd3c02f\", element=\"c925e69d-5e83-46f2-a264-207ebd9d2f07\")>,\n",
       " <selenium.webdriver.remote.webelement.WebElement (session=\"e4888028178fa1dbe4fc16937cd3c02f\", element=\"dee1f9f4-45cc-462f-badc-b741ba0112de\")>,\n",
       " <selenium.webdriver.remote.webelement.WebElement (session=\"e4888028178fa1dbe4fc16937cd3c02f\", element=\"71e30fd9-8602-4221-8c49-6666bbf0f731\")>,\n",
       " <selenium.webdriver.remote.webelement.WebElement (session=\"e4888028178fa1dbe4fc16937cd3c02f\", element=\"8a638ccb-e51a-40aa-8c24-f8192a75d00f\")>,\n",
       " <selenium.webdriver.remote.webelement.WebElement (session=\"e4888028178fa1dbe4fc16937cd3c02f\", element=\"5d1ffcec-bb7d-45b5-b777-6293101b7769\")>,\n",
       " <selenium.webdriver.remote.webelement.WebElement (session=\"e4888028178fa1dbe4fc16937cd3c02f\", element=\"06c47810-d41c-4948-b01f-865e7acea99d\")>,\n",
       " <selenium.webdriver.remote.webelement.WebElement (session=\"e4888028178fa1dbe4fc16937cd3c02f\", element=\"05927d55-6520-4923-8b19-6b133ec5bd9e\")>,\n",
       " <selenium.webdriver.remote.webelement.WebElement (session=\"e4888028178fa1dbe4fc16937cd3c02f\", element=\"13cef02c-69bd-4169-b06e-3c6da9ad75c0\")>,\n",
       " <selenium.webdriver.remote.webelement.WebElement (session=\"e4888028178fa1dbe4fc16937cd3c02f\", element=\"454c3e7b-d7a9-4939-ab85-c284c1535da1\")>,\n",
       " <selenium.webdriver.remote.webelement.WebElement (session=\"e4888028178fa1dbe4fc16937cd3c02f\", element=\"422f3e3f-af0a-4f9d-b27d-e96078a334d5\")>,\n",
       " <selenium.webdriver.remote.webelement.WebElement (session=\"e4888028178fa1dbe4fc16937cd3c02f\", element=\"84cf4525-fdd7-4cb2-91aa-3d9ed3411c71\")>,\n",
       " <selenium.webdriver.remote.webelement.WebElement (session=\"e4888028178fa1dbe4fc16937cd3c02f\", element=\"29ea1c9b-aa09-4a68-81ca-695f58ce548e\")>,\n",
       " <selenium.webdriver.remote.webelement.WebElement (session=\"e4888028178fa1dbe4fc16937cd3c02f\", element=\"85826aec-4fa6-4709-b247-80329470edcf\")>,\n",
       " <selenium.webdriver.remote.webelement.WebElement (session=\"e4888028178fa1dbe4fc16937cd3c02f\", element=\"1b91daf7-914a-48c2-acd0-5785ae1765f5\")>,\n",
       " <selenium.webdriver.remote.webelement.WebElement (session=\"e4888028178fa1dbe4fc16937cd3c02f\", element=\"8eeab3ae-0a8e-4e19-a32b-3eec7b1a44b3\")>,\n",
       " <selenium.webdriver.remote.webelement.WebElement (session=\"e4888028178fa1dbe4fc16937cd3c02f\", element=\"dfb2130a-3537-4a31-89c1-d09b93db020f\")>,\n",
       " <selenium.webdriver.remote.webelement.WebElement (session=\"e4888028178fa1dbe4fc16937cd3c02f\", element=\"2dea655a-8477-4cf9-9b14-5e225b33f109\")>,\n",
       " <selenium.webdriver.remote.webelement.WebElement (session=\"e4888028178fa1dbe4fc16937cd3c02f\", element=\"f33c0eee-3c8a-453f-ac84-377931678f86\")>,\n",
       " <selenium.webdriver.remote.webelement.WebElement (session=\"e4888028178fa1dbe4fc16937cd3c02f\", element=\"ac30a6fd-b0cf-4515-a74c-5c01be793251\")>,\n",
       " <selenium.webdriver.remote.webelement.WebElement (session=\"e4888028178fa1dbe4fc16937cd3c02f\", element=\"afcf55d5-1f72-472e-b049-8e1a01444ec9\")>,\n",
       " <selenium.webdriver.remote.webelement.WebElement (session=\"e4888028178fa1dbe4fc16937cd3c02f\", element=\"0e64a571-8f20-43fb-989c-c2f2fab6d2be\")>,\n",
       " <selenium.webdriver.remote.webelement.WebElement (session=\"e4888028178fa1dbe4fc16937cd3c02f\", element=\"68076296-402a-4960-b2b9-a00a92adaa1f\")>,\n",
       " <selenium.webdriver.remote.webelement.WebElement (session=\"e4888028178fa1dbe4fc16937cd3c02f\", element=\"76ac75c3-fce0-4c04-96ec-740e1e086cd7\")>,\n",
       " <selenium.webdriver.remote.webelement.WebElement (session=\"e4888028178fa1dbe4fc16937cd3c02f\", element=\"f2d084bb-4aec-42e8-b544-021e38d2977a\")>,\n",
       " <selenium.webdriver.remote.webelement.WebElement (session=\"e4888028178fa1dbe4fc16937cd3c02f\", element=\"10dfb955-04f9-4ab0-9ec6-3a49932f6a30\")>,\n",
       " <selenium.webdriver.remote.webelement.WebElement (session=\"e4888028178fa1dbe4fc16937cd3c02f\", element=\"3ce1bef5-5e8e-4adb-920e-5ce38c9e7bb9\")>,\n",
       " <selenium.webdriver.remote.webelement.WebElement (session=\"e4888028178fa1dbe4fc16937cd3c02f\", element=\"52b105a0-ae2d-4a4f-b66a-462a211897dc\")>,\n",
       " <selenium.webdriver.remote.webelement.WebElement (session=\"e4888028178fa1dbe4fc16937cd3c02f\", element=\"22ff05af-5d32-499f-93e0-5f3e051b7f5a\")>,\n",
       " <selenium.webdriver.remote.webelement.WebElement (session=\"e4888028178fa1dbe4fc16937cd3c02f\", element=\"d1636a23-eb55-4a96-9aac-b1a7e2ac42dc\")>,\n",
       " <selenium.webdriver.remote.webelement.WebElement (session=\"e4888028178fa1dbe4fc16937cd3c02f\", element=\"feffc5ea-1401-4dc6-80ed-50971e257772\")>,\n",
       " <selenium.webdriver.remote.webelement.WebElement (session=\"e4888028178fa1dbe4fc16937cd3c02f\", element=\"ea775a9f-b954-4fff-b0cc-f97ba6fc12ec\")>,\n",
       " <selenium.webdriver.remote.webelement.WebElement (session=\"e4888028178fa1dbe4fc16937cd3c02f\", element=\"e46ca863-8ad6-4801-8363-485c471e2209\")>,\n",
       " <selenium.webdriver.remote.webelement.WebElement (session=\"e4888028178fa1dbe4fc16937cd3c02f\", element=\"26be2c59-8e8d-4a54-bffc-eef2412ae27d\")>,\n",
       " <selenium.webdriver.remote.webelement.WebElement (session=\"e4888028178fa1dbe4fc16937cd3c02f\", element=\"4b035f5b-97be-4da3-b58c-978c8877055c\")>]"
      ]
     },
     "execution_count": 40,
     "metadata": {},
     "output_type": "execute_result"
    }
   ],
   "source": [
    "price=driver.find_elements(\"xpath\",'//div[@class=\"_25b18c\"]')\n",
    "price"
   ]
  },
  {
   "cell_type": "code",
   "execution_count": 41,
   "id": "9bbe1178",
   "metadata": {},
   "outputs": [
    {
     "data": {
      "text/plain": [
       "['₹219₹99978% off',\n",
       " '₹345₹1,24572% off',\n",
       " '₹719₹89920% off',\n",
       " '₹313₹1,49979% off',\n",
       " '₹399₹1,99980% off',\n",
       " '₹246₹1,59984% off',\n",
       " '₹199₹99980% off',\n",
       " '₹314₹1,99984% off',\n",
       " '₹189₹59968% off',\n",
       " '₹379₹1,49974% off',\n",
       " '₹224₹1,19981% off',\n",
       " '₹664₹1,99966% off',\n",
       " '₹219₹99878% off',\n",
       " '₹189₹1,29985% off',\n",
       " '₹379₹1,49974% off',\n",
       " '₹399₹1,99980% off',\n",
       " '₹1,039₹1,29920% off',\n",
       " '₹214₹99978% off',\n",
       " '₹223₹1,59986% off',\n",
       " '₹759₹1,99962% off',\n",
       " '₹288₹1,49980% off',\n",
       " '₹379₹1,49974% off',\n",
       " '₹269₹1,89985% off',\n",
       " '₹232₹1,49984% off',\n",
       " '₹529₹2,09974% off',\n",
       " '₹341₹1,99982% off',\n",
       " '₹268₹1,29979% off',\n",
       " '₹449₹2,22579% off',\n",
       " '₹245₹99975% off',\n",
       " '₹598₹2,99980% off',\n",
       " '₹899₹99910% off',\n",
       " '₹616₹1,99969% off',\n",
       " '₹949₹1,99952% off',\n",
       " '₹719₹89920% off',\n",
       " '₹499₹2,22577% off',\n",
       " '₹664₹1,99966% off',\n",
       " '₹1,099₹1,99945% off',\n",
       " '₹233₹99976% off',\n",
       " '₹664₹3,20079% off',\n",
       " '₹233₹1,79987% off',\n",
       " '₹39980% off',\n",
       " '₹79920% off',\n",
       " '₹34982% off',\n",
       " '₹61669% off',\n",
       " '₹29981% off']"
      ]
     },
     "execution_count": 41,
     "metadata": {},
     "output_type": "execute_result"
    }
   ],
   "source": [
    "product_price=[]\n",
    "for i in price:\n",
    "    product_price.append(i.text)\n",
    "product_price"
   ]
  },
  {
   "cell_type": "code",
   "execution_count": 42,
   "id": "c126a302",
   "metadata": {
    "scrolled": true
   },
   "outputs": [
    {
     "data": {
      "text/plain": [
       "['₹219₹99978% off',\n",
       " '₹345₹1,24572% off',\n",
       " '₹719₹89920% off',\n",
       " '₹313₹1,49979% off',\n",
       " '₹399₹1,99980% off',\n",
       " '₹246₹1,59984% off',\n",
       " '₹199₹99980% off',\n",
       " '₹314₹1,99984% off',\n",
       " '₹189₹59968% off',\n",
       " '₹379₹1,49974% off',\n",
       " '₹224₹1,19981% off',\n",
       " '₹664₹1,99966% off',\n",
       " '₹219₹99878% off',\n",
       " '₹189₹1,29985% off',\n",
       " '₹379₹1,49974% off',\n",
       " '₹399₹1,99980% off',\n",
       " '₹1,039₹1,29920% off',\n",
       " '₹214₹99978% off',\n",
       " '₹223₹1,59986% off',\n",
       " '₹759₹1,99962% off',\n",
       " '₹288₹1,49980% off',\n",
       " '₹379₹1,49974% off',\n",
       " '₹269₹1,89985% off',\n",
       " '₹232₹1,49984% off',\n",
       " '₹529₹2,09974% off',\n",
       " '₹341₹1,99982% off',\n",
       " '₹268₹1,29979% off',\n",
       " '₹449₹2,22579% off',\n",
       " '₹245₹99975% off',\n",
       " '₹598₹2,99980% off',\n",
       " '₹899₹99910% off',\n",
       " '₹616₹1,99969% off',\n",
       " '₹949₹1,99952% off',\n",
       " '₹719₹89920% off',\n",
       " '₹499₹2,22577% off',\n",
       " '₹664₹1,99966% off',\n",
       " '₹1,099₹1,99945% off',\n",
       " '₹233₹99976% off',\n",
       " '₹664₹3,20079% off',\n",
       " '₹233₹1,79987% off']"
      ]
     },
     "execution_count": 42,
     "metadata": {},
     "output_type": "execute_result"
    }
   ],
   "source": [
    "product_price1=product_price[0:40]\n",
    "product_price1"
   ]
  },
  {
   "cell_type": "code",
   "execution_count": 43,
   "id": "d386abe2",
   "metadata": {},
   "outputs": [
    {
     "data": {
      "text/plain": [
       "40"
      ]
     },
     "execution_count": 43,
     "metadata": {},
     "output_type": "execute_result"
    }
   ],
   "source": [
    "len(product_price1)"
   ]
  },
  {
   "cell_type": "code",
   "execution_count": 54,
   "id": "eb49e131",
   "metadata": {},
   "outputs": [
    {
     "data": {
      "text/plain": [
       "<selenium.webdriver.remote.webelement.WebElement (session=\"e4888028178fa1dbe4fc16937cd3c02f\", element=\"6ae95cb0-20df-4a00-8150-2e304c98483e\")>"
      ]
     },
     "execution_count": 54,
     "metadata": {},
     "output_type": "execute_result"
    }
   ],
   "source": [
    "#searching web element for next btn\n",
    "next_btn=driver.find_element(\"xpath\",'/html/body/div[1]/div/div[3]/div[1]/div[2]/div[12]/div/div/nav/a[12]')\n",
    "next_btn"
   ]
  },
  {
   "cell_type": "code",
   "execution_count": 55,
   "id": "006ee21d",
   "metadata": {},
   "outputs": [],
   "source": [
    "next_btn.send_keys()"
   ]
  },
  {
   "cell_type": "code",
   "execution_count": 56,
   "id": "f4f96555",
   "metadata": {},
   "outputs": [
    {
     "data": {
      "text/plain": [
       "[<selenium.webdriver.remote.webelement.WebElement (session=\"e4888028178fa1dbe4fc16937cd3c02f\", element=\"87f3b6d5-a455-4529-b394-373ce86aca2d\")>,\n",
       " <selenium.webdriver.remote.webelement.WebElement (session=\"e4888028178fa1dbe4fc16937cd3c02f\", element=\"2b408579-d522-4729-9081-2d71b637a18d\")>,\n",
       " <selenium.webdriver.remote.webelement.WebElement (session=\"e4888028178fa1dbe4fc16937cd3c02f\", element=\"2914da62-826e-43cb-85ff-958b8a38d66c\")>,\n",
       " <selenium.webdriver.remote.webelement.WebElement (session=\"e4888028178fa1dbe4fc16937cd3c02f\", element=\"7952a747-95fe-41d4-95ca-db6c10e55797\")>,\n",
       " <selenium.webdriver.remote.webelement.WebElement (session=\"e4888028178fa1dbe4fc16937cd3c02f\", element=\"7e40e7bb-fc6a-4129-94d5-f28062ff8ecd\")>,\n",
       " <selenium.webdriver.remote.webelement.WebElement (session=\"e4888028178fa1dbe4fc16937cd3c02f\", element=\"8c857adc-f8c9-4a91-b807-47aa19403ce9\")>,\n",
       " <selenium.webdriver.remote.webelement.WebElement (session=\"e4888028178fa1dbe4fc16937cd3c02f\", element=\"23c897bc-51e8-44b5-b730-87bfe4c11178\")>,\n",
       " <selenium.webdriver.remote.webelement.WebElement (session=\"e4888028178fa1dbe4fc16937cd3c02f\", element=\"398592ae-e203-4eb7-b123-2b05881186b9\")>,\n",
       " <selenium.webdriver.remote.webelement.WebElement (session=\"e4888028178fa1dbe4fc16937cd3c02f\", element=\"315e1e5e-f2bf-4333-90ad-205c39804f06\")>,\n",
       " <selenium.webdriver.remote.webelement.WebElement (session=\"e4888028178fa1dbe4fc16937cd3c02f\", element=\"14f48191-d75e-4053-9bea-aad3971848e4\")>,\n",
       " <selenium.webdriver.remote.webelement.WebElement (session=\"e4888028178fa1dbe4fc16937cd3c02f\", element=\"77762b06-5455-4e05-adae-8fc91ac0dc39\")>,\n",
       " <selenium.webdriver.remote.webelement.WebElement (session=\"e4888028178fa1dbe4fc16937cd3c02f\", element=\"baa2d12a-63e1-48b1-b2fe-80796231c42f\")>,\n",
       " <selenium.webdriver.remote.webelement.WebElement (session=\"e4888028178fa1dbe4fc16937cd3c02f\", element=\"cf9dadac-8988-45dc-bd2c-62b4c0c11bf3\")>,\n",
       " <selenium.webdriver.remote.webelement.WebElement (session=\"e4888028178fa1dbe4fc16937cd3c02f\", element=\"25206a1b-d447-427f-89ab-7f4950aaa8c1\")>,\n",
       " <selenium.webdriver.remote.webelement.WebElement (session=\"e4888028178fa1dbe4fc16937cd3c02f\", element=\"aafa1db3-5cfb-42ea-bbbf-c4d46cb9bfc5\")>,\n",
       " <selenium.webdriver.remote.webelement.WebElement (session=\"e4888028178fa1dbe4fc16937cd3c02f\", element=\"9ad3dcad-34be-4303-b354-7cee3ca8f186\")>,\n",
       " <selenium.webdriver.remote.webelement.WebElement (session=\"e4888028178fa1dbe4fc16937cd3c02f\", element=\"396ca67e-6f16-4679-9a11-8287bf702ed5\")>,\n",
       " <selenium.webdriver.remote.webelement.WebElement (session=\"e4888028178fa1dbe4fc16937cd3c02f\", element=\"39624efb-e74d-479a-b95c-48d9300659ec\")>,\n",
       " <selenium.webdriver.remote.webelement.WebElement (session=\"e4888028178fa1dbe4fc16937cd3c02f\", element=\"2457e894-f8a1-44ca-9b03-e4d8427b40c1\")>,\n",
       " <selenium.webdriver.remote.webelement.WebElement (session=\"e4888028178fa1dbe4fc16937cd3c02f\", element=\"6545441c-8b3a-4e27-9f73-13f39c092908\")>,\n",
       " <selenium.webdriver.remote.webelement.WebElement (session=\"e4888028178fa1dbe4fc16937cd3c02f\", element=\"a636a9fb-3241-47d8-a1a9-3c3db749b5e8\")>,\n",
       " <selenium.webdriver.remote.webelement.WebElement (session=\"e4888028178fa1dbe4fc16937cd3c02f\", element=\"b8639f2c-80e6-4643-9d6e-85ff017b6039\")>,\n",
       " <selenium.webdriver.remote.webelement.WebElement (session=\"e4888028178fa1dbe4fc16937cd3c02f\", element=\"845abc17-9580-4684-bfda-d955f3cb46e8\")>,\n",
       " <selenium.webdriver.remote.webelement.WebElement (session=\"e4888028178fa1dbe4fc16937cd3c02f\", element=\"a6fde767-7663-4731-b803-260a388c11f0\")>,\n",
       " <selenium.webdriver.remote.webelement.WebElement (session=\"e4888028178fa1dbe4fc16937cd3c02f\", element=\"a1c2027e-775c-4671-b832-d7c8f4fda6fa\")>,\n",
       " <selenium.webdriver.remote.webelement.WebElement (session=\"e4888028178fa1dbe4fc16937cd3c02f\", element=\"f9414f22-8df6-448f-8ef7-3c8f3f974491\")>,\n",
       " <selenium.webdriver.remote.webelement.WebElement (session=\"e4888028178fa1dbe4fc16937cd3c02f\", element=\"fb302060-2431-466c-946e-3b0d7cc9d0cf\")>,\n",
       " <selenium.webdriver.remote.webelement.WebElement (session=\"e4888028178fa1dbe4fc16937cd3c02f\", element=\"d39d67f6-0585-4dc0-89bf-5047ce778ff5\")>,\n",
       " <selenium.webdriver.remote.webelement.WebElement (session=\"e4888028178fa1dbe4fc16937cd3c02f\", element=\"776a961c-7743-4980-8d7b-c36bbc422cfe\")>,\n",
       " <selenium.webdriver.remote.webelement.WebElement (session=\"e4888028178fa1dbe4fc16937cd3c02f\", element=\"45d8192d-2276-4ccb-b76e-d1fa704f28b0\")>,\n",
       " <selenium.webdriver.remote.webelement.WebElement (session=\"e4888028178fa1dbe4fc16937cd3c02f\", element=\"7c8187d3-3ee5-45f5-b80f-b2437d049799\")>,\n",
       " <selenium.webdriver.remote.webelement.WebElement (session=\"e4888028178fa1dbe4fc16937cd3c02f\", element=\"b7cfc755-761e-4fca-9f65-60ec2db66692\")>,\n",
       " <selenium.webdriver.remote.webelement.WebElement (session=\"e4888028178fa1dbe4fc16937cd3c02f\", element=\"5da88909-b385-4c71-a728-99be45bbc325\")>,\n",
       " <selenium.webdriver.remote.webelement.WebElement (session=\"e4888028178fa1dbe4fc16937cd3c02f\", element=\"2195b4f0-990a-445b-b91e-b36fea79767d\")>,\n",
       " <selenium.webdriver.remote.webelement.WebElement (session=\"e4888028178fa1dbe4fc16937cd3c02f\", element=\"998c59ed-8055-44a3-b7f8-7d0e0f6c7479\")>,\n",
       " <selenium.webdriver.remote.webelement.WebElement (session=\"e4888028178fa1dbe4fc16937cd3c02f\", element=\"703d83c3-af07-4179-91e3-d68465b25d9c\")>,\n",
       " <selenium.webdriver.remote.webelement.WebElement (session=\"e4888028178fa1dbe4fc16937cd3c02f\", element=\"e6cf6adf-cef8-4aa2-80e3-94185e1c47d4\")>,\n",
       " <selenium.webdriver.remote.webelement.WebElement (session=\"e4888028178fa1dbe4fc16937cd3c02f\", element=\"6158f8c4-4720-47ca-a8be-9185028ebbe5\")>,\n",
       " <selenium.webdriver.remote.webelement.WebElement (session=\"e4888028178fa1dbe4fc16937cd3c02f\", element=\"0bb94c19-5064-4e9d-b07a-b41f053ae7aa\")>,\n",
       " <selenium.webdriver.remote.webelement.WebElement (session=\"e4888028178fa1dbe4fc16937cd3c02f\", element=\"5d6c38f1-8cc8-4149-a872-fea9079feee1\")>]"
      ]
     },
     "execution_count": 56,
     "metadata": {},
     "output_type": "execute_result"
    }
   ],
   "source": [
    "brand=driver.find_elements(\"xpath\",'//div[@class=\"_2WkVRV\"]')\n",
    "brand"
   ]
  },
  {
   "cell_type": "code",
   "execution_count": 57,
   "id": "b07bf5f7",
   "metadata": {},
   "outputs": [
    {
     "data": {
      "text/plain": [
       "['Singco India',\n",
       " 'kingsunglasses',\n",
       " 'VINCENT CHASE',\n",
       " 'Ray-Ban',\n",
       " 'SRPM',\n",
       " 'Fastrack',\n",
       " 'ROZZETTA CRAFT',\n",
       " 'ROYAL SON',\n",
       " 'kingsunglasses',\n",
       " 'Rich Club',\n",
       " 'Fastrack',\n",
       " 'Ray-Ban',\n",
       " 'ROYAL SON',\n",
       " 'kingsunglasses',\n",
       " 'Fastrack',\n",
       " 'ROYAL SON',\n",
       " 'VINCENT CHASE',\n",
       " 'Lee Topper',\n",
       " 'AISLIN',\n",
       " 'ROZZETTA CRAFT',\n",
       " 'ROYAL SON',\n",
       " 'VINCENT CHASE',\n",
       " 'kingsunglasses',\n",
       " 'Ray-Ban',\n",
       " 'ROZZETTA CRAFT',\n",
       " 'Rich Club',\n",
       " 'AISLIN',\n",
       " 'VINCENT CHASE',\n",
       " 'kingsunglasses',\n",
       " 'Fastrack',\n",
       " 'New Specs',\n",
       " 'ROYAL SON',\n",
       " 'ROYAL SON',\n",
       " 'PIRASO',\n",
       " 'ROYAL SON',\n",
       " 'ROYAL SON',\n",
       " 'Fastrack',\n",
       " 'Urbanic',\n",
       " 'ROYAL SON',\n",
       " 'Ray-Ban']"
      ]
     },
     "execution_count": 57,
     "metadata": {},
     "output_type": "execute_result"
    }
   ],
   "source": [
    "brand3=[]\n",
    "for i in brand:\n",
    "    brand3.append(i.text)\n",
    "brand3"
   ]
  },
  {
   "cell_type": "code",
   "execution_count": 58,
   "id": "54c6bd90",
   "metadata": {},
   "outputs": [
    {
     "data": {
      "text/plain": [
       "['Singco India',\n",
       " 'kingsunglasses',\n",
       " 'VINCENT CHASE',\n",
       " 'Ray-Ban',\n",
       " 'SRPM',\n",
       " 'Fastrack',\n",
       " 'ROZZETTA CRAFT',\n",
       " 'ROYAL SON',\n",
       " 'kingsunglasses',\n",
       " 'Rich Club',\n",
       " 'Fastrack',\n",
       " 'Ray-Ban',\n",
       " 'ROYAL SON',\n",
       " 'kingsunglasses',\n",
       " 'Fastrack',\n",
       " 'ROYAL SON',\n",
       " 'VINCENT CHASE',\n",
       " 'Lee Topper',\n",
       " 'AISLIN',\n",
       " 'ROZZETTA CRAFT']"
      ]
     },
     "execution_count": 58,
     "metadata": {},
     "output_type": "execute_result"
    }
   ],
   "source": [
    "brand_=brand3[0:20]\n",
    "brand_"
   ]
  },
  {
   "cell_type": "code",
   "execution_count": 59,
   "id": "903f9c02",
   "metadata": {},
   "outputs": [
    {
     "data": {
      "text/plain": [
       "20"
      ]
     },
     "execution_count": 59,
     "metadata": {},
     "output_type": "execute_result"
    }
   ],
   "source": [
    "len(brand_)"
   ]
  },
  {
   "cell_type": "code",
   "execution_count": 60,
   "id": "397b52e2",
   "metadata": {},
   "outputs": [
    {
     "data": {
      "text/plain": [
       "[<selenium.webdriver.remote.webelement.WebElement (session=\"e4888028178fa1dbe4fc16937cd3c02f\", element=\"5e639342-4815-44d3-834a-d07eca01b886\")>,\n",
       " <selenium.webdriver.remote.webelement.WebElement (session=\"e4888028178fa1dbe4fc16937cd3c02f\", element=\"fc3e956c-de69-441d-9d70-7ddaaafc7fa7\")>,\n",
       " <selenium.webdriver.remote.webelement.WebElement (session=\"e4888028178fa1dbe4fc16937cd3c02f\", element=\"dcce7e1b-8062-463e-b614-33eb6840c556\")>,\n",
       " <selenium.webdriver.remote.webelement.WebElement (session=\"e4888028178fa1dbe4fc16937cd3c02f\", element=\"231056b3-1942-47a5-8aca-62ba63393afb\")>,\n",
       " <selenium.webdriver.remote.webelement.WebElement (session=\"e4888028178fa1dbe4fc16937cd3c02f\", element=\"492381a2-9a45-42d0-955a-7f2c36228a9e\")>,\n",
       " <selenium.webdriver.remote.webelement.WebElement (session=\"e4888028178fa1dbe4fc16937cd3c02f\", element=\"633a18b4-b4f9-4beb-b48f-367325a5c148\")>,\n",
       " <selenium.webdriver.remote.webelement.WebElement (session=\"e4888028178fa1dbe4fc16937cd3c02f\", element=\"f1b2dbc9-1501-46d7-a390-d79208730358\")>,\n",
       " <selenium.webdriver.remote.webelement.WebElement (session=\"e4888028178fa1dbe4fc16937cd3c02f\", element=\"f638002a-84b2-42a6-bf20-09fab44fb590\")>,\n",
       " <selenium.webdriver.remote.webelement.WebElement (session=\"e4888028178fa1dbe4fc16937cd3c02f\", element=\"6cb8d086-fcdf-4cbd-b0c3-591958cc16b6\")>,\n",
       " <selenium.webdriver.remote.webelement.WebElement (session=\"e4888028178fa1dbe4fc16937cd3c02f\", element=\"ab89532d-cb2f-44df-9ed2-e0dbd4b040e2\")>,\n",
       " <selenium.webdriver.remote.webelement.WebElement (session=\"e4888028178fa1dbe4fc16937cd3c02f\", element=\"281321bb-3c07-42b7-86f5-8df1f8cbc487\")>,\n",
       " <selenium.webdriver.remote.webelement.WebElement (session=\"e4888028178fa1dbe4fc16937cd3c02f\", element=\"ebbb94ef-1b25-4b88-93f4-578590e65f79\")>,\n",
       " <selenium.webdriver.remote.webelement.WebElement (session=\"e4888028178fa1dbe4fc16937cd3c02f\", element=\"5597a8a9-f790-466d-9f8b-9a8bffbd039a\")>,\n",
       " <selenium.webdriver.remote.webelement.WebElement (session=\"e4888028178fa1dbe4fc16937cd3c02f\", element=\"052dcd5e-95a3-4a15-a208-9e31e118b639\")>,\n",
       " <selenium.webdriver.remote.webelement.WebElement (session=\"e4888028178fa1dbe4fc16937cd3c02f\", element=\"8226443a-81c4-4032-b01e-f1c95b899527\")>,\n",
       " <selenium.webdriver.remote.webelement.WebElement (session=\"e4888028178fa1dbe4fc16937cd3c02f\", element=\"ca9b3019-b608-4e58-8e12-0dc516d81841\")>,\n",
       " <selenium.webdriver.remote.webelement.WebElement (session=\"e4888028178fa1dbe4fc16937cd3c02f\", element=\"ae331e44-3b44-4a0f-9f98-8c141f7883dd\")>,\n",
       " <selenium.webdriver.remote.webelement.WebElement (session=\"e4888028178fa1dbe4fc16937cd3c02f\", element=\"e488594c-1b8b-49e6-b564-ca8d3b61a67d\")>,\n",
       " <selenium.webdriver.remote.webelement.WebElement (session=\"e4888028178fa1dbe4fc16937cd3c02f\", element=\"07e5488c-b9a3-4084-9b99-6efe8f1c9412\")>,\n",
       " <selenium.webdriver.remote.webelement.WebElement (session=\"e4888028178fa1dbe4fc16937cd3c02f\", element=\"6d114d8f-608c-4577-b00a-cdd1177fbbea\")>,\n",
       " <selenium.webdriver.remote.webelement.WebElement (session=\"e4888028178fa1dbe4fc16937cd3c02f\", element=\"cf826dac-cefc-4306-bea2-5df7ae0c0c8e\")>,\n",
       " <selenium.webdriver.remote.webelement.WebElement (session=\"e4888028178fa1dbe4fc16937cd3c02f\", element=\"6ebe9e63-1c0e-4539-a417-323f7d978a74\")>,\n",
       " <selenium.webdriver.remote.webelement.WebElement (session=\"e4888028178fa1dbe4fc16937cd3c02f\", element=\"f73ee6ff-e123-47bc-b369-94b0dd3ca345\")>,\n",
       " <selenium.webdriver.remote.webelement.WebElement (session=\"e4888028178fa1dbe4fc16937cd3c02f\", element=\"8eb15150-68c3-439b-a6aa-ef2c1bc99238\")>,\n",
       " <selenium.webdriver.remote.webelement.WebElement (session=\"e4888028178fa1dbe4fc16937cd3c02f\", element=\"fe80c47e-38a7-4665-923b-b5f26d0b680d\")>,\n",
       " <selenium.webdriver.remote.webelement.WebElement (session=\"e4888028178fa1dbe4fc16937cd3c02f\", element=\"ba2cbe2b-8079-4808-b85b-afcdfbe06895\")>,\n",
       " <selenium.webdriver.remote.webelement.WebElement (session=\"e4888028178fa1dbe4fc16937cd3c02f\", element=\"2d313e91-c34d-40dc-8fc2-0c55ea84ffaf\")>,\n",
       " <selenium.webdriver.remote.webelement.WebElement (session=\"e4888028178fa1dbe4fc16937cd3c02f\", element=\"472feed5-8e8f-4d97-86d6-a3cfb80a237c\")>,\n",
       " <selenium.webdriver.remote.webelement.WebElement (session=\"e4888028178fa1dbe4fc16937cd3c02f\", element=\"825e71e9-8f01-4d8b-853d-4980282b1196\")>,\n",
       " <selenium.webdriver.remote.webelement.WebElement (session=\"e4888028178fa1dbe4fc16937cd3c02f\", element=\"92f8c5a4-139c-446c-8a8a-143a44c6fa92\")>,\n",
       " <selenium.webdriver.remote.webelement.WebElement (session=\"e4888028178fa1dbe4fc16937cd3c02f\", element=\"aa20649b-8f02-4452-8ba9-c7bec7819ae2\")>,\n",
       " <selenium.webdriver.remote.webelement.WebElement (session=\"e4888028178fa1dbe4fc16937cd3c02f\", element=\"a5bd285c-aa84-4850-bfca-fce9d3a6a96a\")>,\n",
       " <selenium.webdriver.remote.webelement.WebElement (session=\"e4888028178fa1dbe4fc16937cd3c02f\", element=\"677652bc-6b96-4a84-9200-56044aa491f3\")>,\n",
       " <selenium.webdriver.remote.webelement.WebElement (session=\"e4888028178fa1dbe4fc16937cd3c02f\", element=\"a95b1ca7-d264-4153-a26d-7c159bd1c371\")>,\n",
       " <selenium.webdriver.remote.webelement.WebElement (session=\"e4888028178fa1dbe4fc16937cd3c02f\", element=\"1842f7e9-8eaa-4155-99a7-aadca26317f5\")>,\n",
       " <selenium.webdriver.remote.webelement.WebElement (session=\"e4888028178fa1dbe4fc16937cd3c02f\", element=\"6427aa77-ecb0-4949-8fde-aad4fc5ef402\")>,\n",
       " <selenium.webdriver.remote.webelement.WebElement (session=\"e4888028178fa1dbe4fc16937cd3c02f\", element=\"9f17c9e5-2b3e-407a-8860-156d7f573a92\")>,\n",
       " <selenium.webdriver.remote.webelement.WebElement (session=\"e4888028178fa1dbe4fc16937cd3c02f\", element=\"81e0af72-553b-447f-b622-a7d20ca65745\")>,\n",
       " <selenium.webdriver.remote.webelement.WebElement (session=\"e4888028178fa1dbe4fc16937cd3c02f\", element=\"8d730223-43b5-4473-a4b8-3ac9b6f7ac93\")>,\n",
       " <selenium.webdriver.remote.webelement.WebElement (session=\"e4888028178fa1dbe4fc16937cd3c02f\", element=\"97ceee63-7503-45af-b2ec-21162a0d8a60\")>]"
      ]
     },
     "execution_count": 60,
     "metadata": {},
     "output_type": "execute_result"
    }
   ],
   "source": [
    "pro_disc=driver.find_elements(\"xpath\",'//a[@class=\"IRpwTa\"]')\n",
    "pro_disc"
   ]
  },
  {
   "cell_type": "code",
   "execution_count": 61,
   "id": "d1201850",
   "metadata": {},
   "outputs": [
    {
     "data": {
      "text/plain": [
       "['Gradient, Toughened Glass Lens, UV Protection Retro Squ...',\n",
       " 'UV Protection Round Sunglasses (Free Size)',\n",
       " 'Polarized, UV Protection Round Sunglasses (51)',\n",
       " 'Mirrored, UV Protection Aviator Sunglasses (58)',\n",
       " 'Night Vision, UV Protection Round Sunglasses (54)',\n",
       " 'UV Protection Shield Sunglasses (Free Size)',\n",
       " 'UV Protection Retro Square Sunglasses (Free Size)',\n",
       " 'Polarized, UV Protection Retro Square Sunglasses (62)',\n",
       " 'UV Protection, Riding Glasses, Mirrored Wayfarer Sungla...',\n",
       " 'UV Protection Retro Square Sunglasses (54)',\n",
       " 'UV Protection Wayfarer Sunglasses (Free Size)',\n",
       " 'Gradient Round Sunglasses (54)',\n",
       " 'UV Protection, Gradient Butterfly Sunglasses (52)',\n",
       " 'Mirrored, UV Protection Wayfarer, Rectangular Sunglasse...',\n",
       " 'UV Protection Wayfarer Sunglasses (55)',\n",
       " 'Polarized, UV Protection Wrap-around Sunglasses (62)',\n",
       " 'by Lenskart Polarized, UV Protection Wayfarer Sunglasse...',\n",
       " 'Riding Glasses, Night Vision Wrap-around Sunglasses (Fr...',\n",
       " 'UV Protection, Gradient Butterfly, Retro Square Sunglas...',\n",
       " 'UV Protection Aviator Sunglasses (62)',\n",
       " 'UV Protection, Gradient Butterfly Sunglasses (62)',\n",
       " 'by Lenskart Polarized, UV Protection Rectangular Sungla...',\n",
       " 'Mirrored, UV Protection Wayfarer Sunglasses (Free Size)',\n",
       " 'UV Protection Round Sunglasses (53)',\n",
       " 'UV Protection, Gradient Round Sunglasses (Free Size)',\n",
       " 'UV Protection, Others Round Sunglasses (48)',\n",
       " 'UV Protection, Gradient Oval Sunglasses (58)',\n",
       " 'by Lenskart Polarized, UV Protection Aviator Sunglasses...',\n",
       " 'UV Protection Rectangular Sunglasses (55)',\n",
       " 'UV Protection Wayfarer Sunglasses (Free Size)',\n",
       " 'UV Protection Rectangular Sunglasses (Free Size)',\n",
       " 'Polarized, UV Protection Aviator Sunglasses (57)',\n",
       " 'UV Protection, Gradient Wayfarer Sunglasses (55)',\n",
       " 'UV Protection Butterfly Sunglasses (60)',\n",
       " 'Polarized Rectangular Sunglasses (60)',\n",
       " 'Polarized, UV Protection Retro Square Sunglasses (62)',\n",
       " 'UV Protection Shield Sunglasses (Free Size)',\n",
       " 'Others Oval Sunglasses (Free Size)',\n",
       " 'Polarized, UV Protection Wayfarer Sunglasses (61)',\n",
       " 'UV Protection Wayfarer Sunglasses (56)']"
      ]
     },
     "execution_count": 61,
     "metadata": {},
     "output_type": "execute_result"
    }
   ],
   "source": [
    "product=[]\n",
    "for i in pro_disc:\n",
    "    product.append(i.text)\n",
    "product"
   ]
  },
  {
   "cell_type": "code",
   "execution_count": 62,
   "id": "49228bfb",
   "metadata": {},
   "outputs": [
    {
     "data": {
      "text/plain": [
       "['Gradient, Toughened Glass Lens, UV Protection Retro Squ...',\n",
       " 'UV Protection Round Sunglasses (Free Size)',\n",
       " 'Polarized, UV Protection Round Sunglasses (51)',\n",
       " 'Mirrored, UV Protection Aviator Sunglasses (58)',\n",
       " 'Night Vision, UV Protection Round Sunglasses (54)',\n",
       " 'UV Protection Shield Sunglasses (Free Size)',\n",
       " 'UV Protection Retro Square Sunglasses (Free Size)',\n",
       " 'Polarized, UV Protection Retro Square Sunglasses (62)',\n",
       " 'UV Protection, Riding Glasses, Mirrored Wayfarer Sungla...',\n",
       " 'UV Protection Retro Square Sunglasses (54)',\n",
       " 'UV Protection Wayfarer Sunglasses (Free Size)',\n",
       " 'Gradient Round Sunglasses (54)',\n",
       " 'UV Protection, Gradient Butterfly Sunglasses (52)',\n",
       " 'Mirrored, UV Protection Wayfarer, Rectangular Sunglasse...',\n",
       " 'UV Protection Wayfarer Sunglasses (55)',\n",
       " 'Polarized, UV Protection Wrap-around Sunglasses (62)',\n",
       " 'by Lenskart Polarized, UV Protection Wayfarer Sunglasse...',\n",
       " 'Riding Glasses, Night Vision Wrap-around Sunglasses (Fr...',\n",
       " 'UV Protection, Gradient Butterfly, Retro Square Sunglas...',\n",
       " 'UV Protection Aviator Sunglasses (62)']"
      ]
     },
     "execution_count": 62,
     "metadata": {},
     "output_type": "execute_result"
    }
   ],
   "source": [
    "product_disc=product[0:20]\n",
    "product_disc"
   ]
  },
  {
   "cell_type": "code",
   "execution_count": 63,
   "id": "61852804",
   "metadata": {},
   "outputs": [
    {
     "data": {
      "text/plain": [
       "20"
      ]
     },
     "execution_count": 63,
     "metadata": {},
     "output_type": "execute_result"
    }
   ],
   "source": [
    "len(product_disc)"
   ]
  },
  {
   "cell_type": "code",
   "execution_count": 64,
   "id": "7f19b098",
   "metadata": {},
   "outputs": [
    {
     "data": {
      "text/plain": [
       "[<selenium.webdriver.remote.webelement.WebElement (session=\"e4888028178fa1dbe4fc16937cd3c02f\", element=\"a57ffd8d-3037-4a5a-97b3-a5a11b37ad76\")>,\n",
       " <selenium.webdriver.remote.webelement.WebElement (session=\"e4888028178fa1dbe4fc16937cd3c02f\", element=\"9dbbdd3c-81b7-4987-8174-8a11d1769fc7\")>,\n",
       " <selenium.webdriver.remote.webelement.WebElement (session=\"e4888028178fa1dbe4fc16937cd3c02f\", element=\"fb8d6ba0-5bc4-4a5f-8a94-9857b43fc3f8\")>,\n",
       " <selenium.webdriver.remote.webelement.WebElement (session=\"e4888028178fa1dbe4fc16937cd3c02f\", element=\"0d7e52d0-f671-44ec-a066-51d2244529e8\")>,\n",
       " <selenium.webdriver.remote.webelement.WebElement (session=\"e4888028178fa1dbe4fc16937cd3c02f\", element=\"121e16e5-38e2-4fee-b13a-ad1ebb8e355b\")>,\n",
       " <selenium.webdriver.remote.webelement.WebElement (session=\"e4888028178fa1dbe4fc16937cd3c02f\", element=\"d1f348d0-6fa9-4ff4-a761-48ce983710db\")>,\n",
       " <selenium.webdriver.remote.webelement.WebElement (session=\"e4888028178fa1dbe4fc16937cd3c02f\", element=\"61504b7e-dd97-49bb-90df-3956bfa87478\")>,\n",
       " <selenium.webdriver.remote.webelement.WebElement (session=\"e4888028178fa1dbe4fc16937cd3c02f\", element=\"d7d5fe4f-f60d-45dd-b576-3573b9fa4d86\")>,\n",
       " <selenium.webdriver.remote.webelement.WebElement (session=\"e4888028178fa1dbe4fc16937cd3c02f\", element=\"aa420158-8fd3-47b7-86f1-0d5778b7fd26\")>,\n",
       " <selenium.webdriver.remote.webelement.WebElement (session=\"e4888028178fa1dbe4fc16937cd3c02f\", element=\"af841a6b-9e35-47e8-a388-8dafdb87694c\")>,\n",
       " <selenium.webdriver.remote.webelement.WebElement (session=\"e4888028178fa1dbe4fc16937cd3c02f\", element=\"7708f8cc-4043-4196-83c9-cc2f9ae9c035\")>,\n",
       " <selenium.webdriver.remote.webelement.WebElement (session=\"e4888028178fa1dbe4fc16937cd3c02f\", element=\"5a684230-a5d8-49d8-8ca4-fa8ff17faf8b\")>,\n",
       " <selenium.webdriver.remote.webelement.WebElement (session=\"e4888028178fa1dbe4fc16937cd3c02f\", element=\"ab6ce05f-01ff-4086-b36c-d1e87ad5ad18\")>,\n",
       " <selenium.webdriver.remote.webelement.WebElement (session=\"e4888028178fa1dbe4fc16937cd3c02f\", element=\"07746925-36ac-4334-9c50-3b1cae7229c8\")>,\n",
       " <selenium.webdriver.remote.webelement.WebElement (session=\"e4888028178fa1dbe4fc16937cd3c02f\", element=\"7d2f9331-7c6c-4d07-9b88-bd20e7003479\")>,\n",
       " <selenium.webdriver.remote.webelement.WebElement (session=\"e4888028178fa1dbe4fc16937cd3c02f\", element=\"bc77cf0e-541b-4171-83f2-e3ca628e7b05\")>,\n",
       " <selenium.webdriver.remote.webelement.WebElement (session=\"e4888028178fa1dbe4fc16937cd3c02f\", element=\"33c62007-6466-447b-ad6a-ca7f59a123d0\")>,\n",
       " <selenium.webdriver.remote.webelement.WebElement (session=\"e4888028178fa1dbe4fc16937cd3c02f\", element=\"e0f8c28f-5be8-433c-915d-babf485c5bf6\")>,\n",
       " <selenium.webdriver.remote.webelement.WebElement (session=\"e4888028178fa1dbe4fc16937cd3c02f\", element=\"fc2a96d6-2765-45c5-8133-bfa25b8896b3\")>,\n",
       " <selenium.webdriver.remote.webelement.WebElement (session=\"e4888028178fa1dbe4fc16937cd3c02f\", element=\"7633988c-f58a-42b2-b9ff-763629c54967\")>,\n",
       " <selenium.webdriver.remote.webelement.WebElement (session=\"e4888028178fa1dbe4fc16937cd3c02f\", element=\"23fea9e3-6d21-42e7-842b-4e9340f671e3\")>,\n",
       " <selenium.webdriver.remote.webelement.WebElement (session=\"e4888028178fa1dbe4fc16937cd3c02f\", element=\"c8d4467e-113d-419b-9db8-673b6df1d131\")>,\n",
       " <selenium.webdriver.remote.webelement.WebElement (session=\"e4888028178fa1dbe4fc16937cd3c02f\", element=\"d8f75908-8820-453b-91ff-0f498987ad81\")>,\n",
       " <selenium.webdriver.remote.webelement.WebElement (session=\"e4888028178fa1dbe4fc16937cd3c02f\", element=\"46cf1501-9b4d-40e1-8007-25d76537e114\")>,\n",
       " <selenium.webdriver.remote.webelement.WebElement (session=\"e4888028178fa1dbe4fc16937cd3c02f\", element=\"f54a562f-e067-4b03-ab42-85cd2c28afcb\")>,\n",
       " <selenium.webdriver.remote.webelement.WebElement (session=\"e4888028178fa1dbe4fc16937cd3c02f\", element=\"b2b66d2e-4d99-4e5d-b6db-3b53bf056e97\")>,\n",
       " <selenium.webdriver.remote.webelement.WebElement (session=\"e4888028178fa1dbe4fc16937cd3c02f\", element=\"3dce8dc0-3ade-4b50-b281-2509a1a27100\")>,\n",
       " <selenium.webdriver.remote.webelement.WebElement (session=\"e4888028178fa1dbe4fc16937cd3c02f\", element=\"6c8e5bb5-5195-41e2-ad6b-d69fa163aab4\")>,\n",
       " <selenium.webdriver.remote.webelement.WebElement (session=\"e4888028178fa1dbe4fc16937cd3c02f\", element=\"e286c301-0cdc-45f1-b296-ba71e3346b39\")>,\n",
       " <selenium.webdriver.remote.webelement.WebElement (session=\"e4888028178fa1dbe4fc16937cd3c02f\", element=\"2ad45072-54b7-438e-9311-1b6a9113e131\")>,\n",
       " <selenium.webdriver.remote.webelement.WebElement (session=\"e4888028178fa1dbe4fc16937cd3c02f\", element=\"4255a0d9-3f6f-4832-bd92-7c6a2295baa6\")>,\n",
       " <selenium.webdriver.remote.webelement.WebElement (session=\"e4888028178fa1dbe4fc16937cd3c02f\", element=\"a09e1b08-ae21-4cb0-a85e-e9ad0b87c17b\")>,\n",
       " <selenium.webdriver.remote.webelement.WebElement (session=\"e4888028178fa1dbe4fc16937cd3c02f\", element=\"53691b37-d7b5-4a99-8c47-1b41f2af5b40\")>,\n",
       " <selenium.webdriver.remote.webelement.WebElement (session=\"e4888028178fa1dbe4fc16937cd3c02f\", element=\"38e13393-b54b-4142-b762-b717a3017e4f\")>,\n",
       " <selenium.webdriver.remote.webelement.WebElement (session=\"e4888028178fa1dbe4fc16937cd3c02f\", element=\"7bd2f6a3-dca5-4680-a940-8c7a8b6db793\")>,\n",
       " <selenium.webdriver.remote.webelement.WebElement (session=\"e4888028178fa1dbe4fc16937cd3c02f\", element=\"40119a82-5186-4ac5-a55e-5d9ea6e40a34\")>,\n",
       " <selenium.webdriver.remote.webelement.WebElement (session=\"e4888028178fa1dbe4fc16937cd3c02f\", element=\"d815dd24-6f54-47b1-b617-cbac83216622\")>,\n",
       " <selenium.webdriver.remote.webelement.WebElement (session=\"e4888028178fa1dbe4fc16937cd3c02f\", element=\"28d237f8-c9fd-4dac-87d5-df62435a059d\")>,\n",
       " <selenium.webdriver.remote.webelement.WebElement (session=\"e4888028178fa1dbe4fc16937cd3c02f\", element=\"11084db8-a353-41a1-8c01-02fd4ee05910\")>,\n",
       " <selenium.webdriver.remote.webelement.WebElement (session=\"e4888028178fa1dbe4fc16937cd3c02f\", element=\"e1be3c34-24ae-4e23-8e58-a23833efe21e\")>]"
      ]
     },
     "execution_count": 64,
     "metadata": {},
     "output_type": "execute_result"
    }
   ],
   "source": [
    "price=driver.find_elements(\"xpath\",'//a[@class=\"_3bPFwb\"]')\n",
    "price"
   ]
  },
  {
   "cell_type": "code",
   "execution_count": 65,
   "id": "c92c0d9b",
   "metadata": {},
   "outputs": [
    {
     "data": {
      "text/plain": [
       "['₹664₹3,20079% off',\n",
       " '₹329₹1,59979% off\\nFree delivery',\n",
       " '₹1,099₹1,99945% off',\n",
       " '₹3,909₹5,59030% off\\nFree delivery',\n",
       " '₹266₹99973% off',\n",
       " '₹719₹89920% off',\n",
       " '₹474₹2,22578% off',\n",
       " '₹854₹1,99957% off\\nFree delivery',\n",
       " '₹213₹1,19982% off\\nFree delivery',\n",
       " '₹265₹69962% off\\nFree delivery',\n",
       " '₹899₹99910% off\\nFree delivery',\n",
       " '₹9,799₹10,89010% off\\nFree delivery',\n",
       " '₹664₹1,99966% off\\nFree delivery',\n",
       " '₹289₹1,99985% off\\nFree delivery',\n",
       " '₹735₹7998% off\\nFree delivery',\n",
       " '₹759₹1,99962% off\\nFree delivery',\n",
       " '₹749₹2,50070% off\\nFree delivery',\n",
       " '₹276₹2,49988% off\\nFree delivery',\n",
       " '₹498₹1,52567% off\\nFree delivery',\n",
       " '₹649₹2,55574% off\\nFree delivery',\n",
       " '₹699₹1,99965% off\\nFree delivery',\n",
       " '₹749₹1,99962% off\\nFree delivery',\n",
       " '₹269₹1,49982% off\\nFree delivery',\n",
       " '₹8,629₹9,59010% off\\nFree delivery',\n",
       " '₹399₹1,99980% off\\nFree delivery',\n",
       " '₹260₹79967% off\\nFree delivery',\n",
       " '₹498₹1,52567% off\\nFree delivery',\n",
       " '₹949₹1,99952% off\\nFree delivery',\n",
       " '₹269₹1,49982% off\\nFree delivery',\n",
       " '₹599₹79925% off\\nFree delivery',\n",
       " '₹189₹1,59988% off\\nFree delivery',\n",
       " '₹759₹1,99962% off\\nFree delivery',\n",
       " '₹217₹99978% off\\nFree delivery',\n",
       " '₹405₹2,59984% off\\nFree delivery',\n",
       " '₹664₹1,99966% off\\nFree delivery',\n",
       " '₹854₹1,99957% off\\nFree delivery',\n",
       " '₹809₹89910% off\\nFree delivery',\n",
       " '₹499₹99049% off',\n",
       " '₹664₹1,99966% off\\nFree delivery',\n",
       " '₹5,029₹5,59010% off\\nFree delivery']"
      ]
     },
     "execution_count": 65,
     "metadata": {},
     "output_type": "execute_result"
    }
   ],
   "source": [
    "price1=[]\n",
    "for i in price:\n",
    "    price1.append(i.text)\n",
    "price1"
   ]
  },
  {
   "cell_type": "code",
   "execution_count": 66,
   "id": "e839d8a5",
   "metadata": {},
   "outputs": [
    {
     "data": {
      "text/plain": [
       "['₹664₹3,20079% off',\n",
       " '₹329₹1,59979% off\\nFree delivery',\n",
       " '₹1,099₹1,99945% off',\n",
       " '₹3,909₹5,59030% off\\nFree delivery',\n",
       " '₹266₹99973% off',\n",
       " '₹719₹89920% off',\n",
       " '₹474₹2,22578% off',\n",
       " '₹854₹1,99957% off\\nFree delivery',\n",
       " '₹213₹1,19982% off\\nFree delivery',\n",
       " '₹265₹69962% off\\nFree delivery',\n",
       " '₹899₹99910% off\\nFree delivery',\n",
       " '₹9,799₹10,89010% off\\nFree delivery',\n",
       " '₹664₹1,99966% off\\nFree delivery',\n",
       " '₹289₹1,99985% off\\nFree delivery',\n",
       " '₹735₹7998% off\\nFree delivery',\n",
       " '₹759₹1,99962% off\\nFree delivery',\n",
       " '₹749₹2,50070% off\\nFree delivery',\n",
       " '₹276₹2,49988% off\\nFree delivery',\n",
       " '₹498₹1,52567% off\\nFree delivery',\n",
       " '₹649₹2,55574% off\\nFree delivery']"
      ]
     },
     "execution_count": 66,
     "metadata": {},
     "output_type": "execute_result"
    }
   ],
   "source": [
    "price_=price1[0:20]\n",
    "price_"
   ]
  },
  {
   "cell_type": "code",
   "execution_count": 68,
   "id": "16c935cd",
   "metadata": {},
   "outputs": [
    {
     "data": {
      "text/plain": [
       "20"
      ]
     },
     "execution_count": 68,
     "metadata": {},
     "output_type": "execute_result"
    }
   ],
   "source": [
    "len(price_)"
   ]
  },
  {
   "cell_type": "code",
   "execution_count": 69,
   "id": "683c8fc6",
   "metadata": {},
   "outputs": [
    {
     "data": {
      "text/plain": [
       "['Singco India',\n",
       " 'Silver Kartz',\n",
       " 'DAHAAZIL',\n",
       " 'Fastrack',\n",
       " 'New Specs',\n",
       " 'Elligator',\n",
       " 'PIRASO',\n",
       " 'ROYAL SON',\n",
       " 'SRPM',\n",
       " 'SUNBEE',\n",
       " 'Fastrack',\n",
       " 'ROZZETTA CRAFT',\n",
       " 'SUNBEE',\n",
       " 'SHAAH COLLECTIONS',\n",
       " 'Fastrack',\n",
       " 'Silver Kartz',\n",
       " 'PIRASO',\n",
       " 'PIRASO',\n",
       " 'PIRASO',\n",
       " 'ROYAL SON',\n",
       " 'Lee Topper',\n",
       " 'PIRASO',\n",
       " 'Lee Topper',\n",
       " 'ROZZETTA CRAFT',\n",
       " 'PIRASO',\n",
       " 'PIRASO',\n",
       " 'Sewell',\n",
       " 'GANSTA',\n",
       " 'ROZZETTA CRAFT',\n",
       " 'Mi',\n",
       " 'ROZZETTA CRAFT',\n",
       " 'Singco India',\n",
       " 'SHAAH COLLECTIONS',\n",
       " 'Fastrack',\n",
       " 'SRPM',\n",
       " 'ROYAL SON',\n",
       " 'New Specs',\n",
       " 'LIZA ANGEL',\n",
       " 'ROZZETTA CRAFT',\n",
       " 'ROZZETTA CRAFT',\n",
       " 'Lee Topper',\n",
       " 'NuVew',\n",
       " 'Fastrack',\n",
       " 'Silver Kartz',\n",
       " 'ROZZETTA CRAFT',\n",
       " 'PIRASO',\n",
       " 'LIZA ANGEL',\n",
       " 'GANSTA',\n",
       " 'CRYSTAL CART',\n",
       " 'ROYAL SON',\n",
       " 'DEIXELS',\n",
       " 'ROYAL SON',\n",
       " 'Elligator',\n",
       " 'kingsunglasses',\n",
       " 'ROYAL SON',\n",
       " 'ROZZETTA CRAFT',\n",
       " 'Fastrack',\n",
       " 'kingsunglasses',\n",
       " 'PIRASO',\n",
       " 'ROYAL SON',\n",
       " 'Silver Kartz',\n",
       " 'ROYAL SON',\n",
       " 'kingsunglasses',\n",
       " 'Singco India',\n",
       " 'CRYSTAL CART',\n",
       " 'PHENOMENAL',\n",
       " 'New Specs',\n",
       " 'ROZZETTA CRAFT',\n",
       " 'Lee Topper',\n",
       " 'Singco India',\n",
       " 'Fastrack',\n",
       " 'ROYAL SON',\n",
       " 'VINCENT CHASE',\n",
       " 'Fastrack',\n",
       " 'ROZZETTA CRAFT',\n",
       " 'ROYAL SON',\n",
       " 'VINCENT CHASE',\n",
       " 'SRPM',\n",
       " 'Singco India',\n",
       " 'GANSTA',\n",
       " 'Singco India',\n",
       " 'kingsunglasses',\n",
       " 'VINCENT CHASE',\n",
       " 'Ray-Ban',\n",
       " 'SRPM',\n",
       " 'Fastrack',\n",
       " 'ROZZETTA CRAFT',\n",
       " 'ROYAL SON',\n",
       " 'kingsunglasses',\n",
       " 'Rich Club',\n",
       " 'Fastrack',\n",
       " 'Ray-Ban',\n",
       " 'ROYAL SON',\n",
       " 'kingsunglasses',\n",
       " 'Fastrack',\n",
       " 'ROYAL SON',\n",
       " 'VINCENT CHASE',\n",
       " 'Lee Topper',\n",
       " 'AISLIN',\n",
       " 'ROZZETTA CRAFT']"
      ]
     },
     "execution_count": 69,
     "metadata": {},
     "output_type": "execute_result"
    }
   ],
   "source": [
    "brand=brand1+brand2+brand_\n",
    "brand"
   ]
  },
  {
   "cell_type": "code",
   "execution_count": 70,
   "id": "bfab20bd",
   "metadata": {},
   "outputs": [
    {
     "data": {
      "text/plain": [
       "100"
      ]
     },
     "execution_count": 70,
     "metadata": {},
     "output_type": "execute_result"
    }
   ],
   "source": [
    "len(brand)"
   ]
  },
  {
   "cell_type": "code",
   "execution_count": 71,
   "id": "438306c6",
   "metadata": {},
   "outputs": [
    {
     "data": {
      "text/plain": [
       "['UV Protection Rectangular Sunglasses (Free Size)',\n",
       " 'UV Protection Sports Sunglasses (62)',\n",
       " 'Gradient, UV Protection Wayfarer Sunglasses (Free Size)',\n",
       " 'UV Protection Clubmaster Sunglasses (53)',\n",
       " 'UV Protection, Gradient Rectangular Sunglasses (Free Si...',\n",
       " 'UV Protection Aviator Sunglasses (55)',\n",
       " 'Riding Glasses, Night Vision Spectacle Sunglasses (Fre...',\n",
       " 'UV Protection Aviator Sunglasses (57)',\n",
       " 'Mirrored, Night Vision Oval Sunglasses (Free Size)',\n",
       " 'Mirrored Aviator Sunglasses (Free Size)',\n",
       " 'UV Protection Aviator Sunglasses (Free Size)',\n",
       " 'UV Protection, Polarized Round Sunglasses (54)',\n",
       " 'UV Protection Round Sunglasses (53)',\n",
       " 'UV Protection Rectangular Sunglasses (55)',\n",
       " 'Mirrored Aviator Sunglasses (55)',\n",
       " 'UV Protection Spectacle Sunglasses (Free Size)',\n",
       " 'UV Protection Aviator Sunglasses (58)',\n",
       " 'UV Protection Round Sunglasses (54)',\n",
       " 'UV Protection Aviator Sunglasses (54)',\n",
       " 'Polarized, UV Protection Aviator Sunglasses (57)',\n",
       " 'UV Protection Wayfarer Sunglasses (Free Size)',\n",
       " 'Mirrored Aviator Sunglasses (55)',\n",
       " 'UV Protection, Mirrored Aviator Sunglasses (Free Size)',\n",
       " 'Riding Glasses, UV Protection, Others Aviator Sunglasse...',\n",
       " 'Polarized, UV Protection, Mirrored, Gradient Rectangula...',\n",
       " 'UV Protection Retro Square Sunglasses (Free Size)',\n",
       " 'UV Protection Round Sunglasses (Free Size)',\n",
       " 'UV Protection, Riding Glasses Rectangular Sunglasses (F...',\n",
       " 'UV Protection Round Sunglasses (Free Size)',\n",
       " 'Gradient, Toughened Glass Lens, UV Protection Retro Squ...',\n",
       " 'Mirrored, UV Protection Wayfarer Sunglasses (Free Size)',\n",
       " 'Polarized, UV Protection Retro Square Sunglasses (55)',\n",
       " 'by Lenskart Polarized, UV Protection Wayfarer Sunglasse...',\n",
       " 'UV Protection Shield Sunglasses (Free Size)',\n",
       " 'UV Protection Retro Square Sunglasses (Free Size)',\n",
       " 'Polarized, UV Protection Wayfarer, Retro Square Sunglas...',\n",
       " 'Polarized, UV Protection Round Sunglasses (51)',\n",
       " 'Night Vision, UV Protection Round Sunglasses (54)',\n",
       " 'Gradient, Toughened Glass Lens, UV Protection Retro Squ...',\n",
       " 'Night Vision, Riding Glasses Retro Square Sunglasses (5...',\n",
       " 'UV Protection Rectangular Sunglasses (Free Size)',\n",
       " 'UV Protection Sports Sunglasses (62)',\n",
       " 'Gradient, UV Protection Wayfarer Sunglasses (Free Size)',\n",
       " 'UV Protection Clubmaster Sunglasses (53)',\n",
       " 'UV Protection, Gradient Rectangular Sunglasses (Free Si...',\n",
       " 'UV Protection Aviator Sunglasses (55)',\n",
       " 'Riding Glasses, Night Vision Spectacle Sunglasses (Fre...',\n",
       " 'UV Protection Aviator Sunglasses (57)',\n",
       " 'Mirrored, Night Vision Oval Sunglasses (Free Size)',\n",
       " 'Mirrored Aviator Sunglasses (Free Size)',\n",
       " 'UV Protection Aviator Sunglasses (Free Size)',\n",
       " 'UV Protection, Polarized Round Sunglasses (54)',\n",
       " 'UV Protection Round Sunglasses (53)',\n",
       " 'UV Protection Rectangular Sunglasses (55)',\n",
       " 'Mirrored Aviator Sunglasses (55)',\n",
       " 'UV Protection Spectacle Sunglasses (Free Size)',\n",
       " 'UV Protection Aviator Sunglasses (58)',\n",
       " 'UV Protection Round Sunglasses (54)',\n",
       " 'UV Protection Aviator Sunglasses (54)',\n",
       " 'Polarized, UV Protection Aviator Sunglasses (57)',\n",
       " 'UV Protection Wayfarer Sunglasses (Free Size)',\n",
       " 'Mirrored Aviator Sunglasses (55)',\n",
       " 'UV Protection, Mirrored Aviator Sunglasses (Free Size)',\n",
       " 'Riding Glasses, UV Protection, Others Aviator Sunglasse...',\n",
       " 'Polarized, UV Protection, Mirrored, Gradient Rectangula...',\n",
       " 'UV Protection Retro Square Sunglasses (Free Size)',\n",
       " 'UV Protection Round Sunglasses (Free Size)',\n",
       " 'UV Protection, Riding Glasses Rectangular Sunglasses (F...',\n",
       " 'UV Protection Round Sunglasses (Free Size)',\n",
       " 'Gradient, Toughened Glass Lens, UV Protection Retro Squ...',\n",
       " 'Mirrored, UV Protection Wayfarer Sunglasses (Free Size)',\n",
       " 'Polarized, UV Protection Retro Square Sunglasses (55)',\n",
       " 'by Lenskart Polarized, UV Protection Wayfarer Sunglasse...',\n",
       " 'UV Protection Shield Sunglasses (Free Size)',\n",
       " 'UV Protection Retro Square Sunglasses (Free Size)',\n",
       " 'Polarized, UV Protection Wayfarer, Retro Square Sunglas...',\n",
       " 'Polarized, UV Protection Round Sunglasses (51)',\n",
       " 'Night Vision, UV Protection Round Sunglasses (54)',\n",
       " 'Gradient, Toughened Glass Lens, UV Protection Retro Squ...',\n",
       " 'Night Vision, Riding Glasses Retro Square Sunglasses (5...',\n",
       " 'Gradient, Toughened Glass Lens, UV Protection Retro Squ...',\n",
       " 'UV Protection Round Sunglasses (Free Size)',\n",
       " 'Polarized, UV Protection Round Sunglasses (51)',\n",
       " 'Mirrored, UV Protection Aviator Sunglasses (58)',\n",
       " 'Night Vision, UV Protection Round Sunglasses (54)',\n",
       " 'UV Protection Shield Sunglasses (Free Size)',\n",
       " 'UV Protection Retro Square Sunglasses (Free Size)',\n",
       " 'Polarized, UV Protection Retro Square Sunglasses (62)',\n",
       " 'UV Protection, Riding Glasses, Mirrored Wayfarer Sungla...',\n",
       " 'UV Protection Retro Square Sunglasses (54)',\n",
       " 'UV Protection Wayfarer Sunglasses (Free Size)',\n",
       " 'Gradient Round Sunglasses (54)',\n",
       " 'UV Protection, Gradient Butterfly Sunglasses (52)',\n",
       " 'Mirrored, UV Protection Wayfarer, Rectangular Sunglasse...',\n",
       " 'UV Protection Wayfarer Sunglasses (55)',\n",
       " 'Polarized, UV Protection Wrap-around Sunglasses (62)',\n",
       " 'by Lenskart Polarized, UV Protection Wayfarer Sunglasse...',\n",
       " 'Riding Glasses, Night Vision Wrap-around Sunglasses (Fr...',\n",
       " 'UV Protection, Gradient Butterfly, Retro Square Sunglas...',\n",
       " 'UV Protection Aviator Sunglasses (62)']"
      ]
     },
     "execution_count": 71,
     "metadata": {},
     "output_type": "execute_result"
    }
   ],
   "source": [
    "product_discription=product_discription+product_discription+product_disc\n",
    "product_discription"
   ]
  },
  {
   "cell_type": "code",
   "execution_count": 72,
   "id": "8cc2c4ee",
   "metadata": {},
   "outputs": [
    {
     "data": {
      "text/plain": [
       "100"
      ]
     },
     "execution_count": 72,
     "metadata": {},
     "output_type": "execute_result"
    }
   ],
   "source": [
    "len(product_discription)"
   ]
  },
  {
   "cell_type": "code",
   "execution_count": 77,
   "id": "24963ffd",
   "metadata": {
    "scrolled": true
   },
   "outputs": [
    {
     "data": {
      "text/plain": [
       "['₹219₹99978% off',\n",
       " '₹345₹1,24572% off',\n",
       " '₹719₹89920% off',\n",
       " '₹313₹1,49979% off',\n",
       " '₹399₹1,99980% off',\n",
       " '₹246₹1,59984% off',\n",
       " '₹199₹99980% off',\n",
       " '₹314₹1,99984% off',\n",
       " '₹189₹59968% off',\n",
       " '₹379₹1,49974% off',\n",
       " '₹224₹1,19981% off',\n",
       " '₹664₹1,99966% off',\n",
       " '₹219₹99878% off',\n",
       " '₹189₹1,29985% off',\n",
       " '₹379₹1,49974% off',\n",
       " '₹399₹1,99980% off',\n",
       " '₹1,039₹1,29920% off',\n",
       " '₹214₹99978% off',\n",
       " '₹223₹1,59986% off',\n",
       " '₹759₹1,99962% off',\n",
       " '₹288₹1,49980% off',\n",
       " '₹379₹1,49974% off',\n",
       " '₹269₹1,89985% off',\n",
       " '₹232₹1,49984% off',\n",
       " '₹529₹2,09974% off',\n",
       " '₹341₹1,99982% off',\n",
       " '₹268₹1,29979% off',\n",
       " '₹449₹2,22579% off',\n",
       " '₹245₹99975% off',\n",
       " '₹598₹2,99980% off',\n",
       " '₹899₹99910% off',\n",
       " '₹616₹1,99969% off',\n",
       " '₹949₹1,99952% off',\n",
       " '₹719₹89920% off',\n",
       " '₹499₹2,22577% off',\n",
       " '₹664₹1,99966% off',\n",
       " '₹1,099₹1,99945% off',\n",
       " '₹233₹99976% off',\n",
       " '₹664₹3,20079% off',\n",
       " '₹233₹1,79987% off',\n",
       " '₹39980% off',\n",
       " '₹79920% off',\n",
       " '₹34982% off',\n",
       " '₹61669% off',\n",
       " '₹29981% off',\n",
       " '₹219₹99978% off',\n",
       " '₹345₹1,24572% off',\n",
       " '₹719₹89920% off',\n",
       " '₹313₹1,49979% off',\n",
       " '₹399₹1,99980% off',\n",
       " '₹246₹1,59984% off',\n",
       " '₹199₹99980% off',\n",
       " '₹314₹1,99984% off',\n",
       " '₹189₹59968% off',\n",
       " '₹379₹1,49974% off',\n",
       " '₹224₹1,19981% off',\n",
       " '₹664₹1,99966% off',\n",
       " '₹219₹99878% off',\n",
       " '₹189₹1,29985% off',\n",
       " '₹379₹1,49974% off',\n",
       " '₹399₹1,99980% off',\n",
       " '₹1,039₹1,29920% off',\n",
       " '₹214₹99978% off',\n",
       " '₹223₹1,59986% off',\n",
       " '₹759₹1,99962% off',\n",
       " '₹288₹1,49980% off',\n",
       " '₹379₹1,49974% off',\n",
       " '₹269₹1,89985% off',\n",
       " '₹232₹1,49984% off',\n",
       " '₹529₹2,09974% off',\n",
       " '₹341₹1,99982% off',\n",
       " '₹268₹1,29979% off',\n",
       " '₹449₹2,22579% off',\n",
       " '₹245₹99975% off',\n",
       " '₹598₹2,99980% off',\n",
       " '₹899₹99910% off',\n",
       " '₹616₹1,99969% off',\n",
       " '₹949₹1,99952% off',\n",
       " '₹719₹89920% off',\n",
       " '₹499₹2,22577% off',\n",
       " '₹664₹1,99966% off',\n",
       " '₹1,099₹1,99945% off',\n",
       " '₹233₹99976% off',\n",
       " '₹664₹3,20079% off',\n",
       " '₹233₹1,79987% off',\n",
       " '₹664₹3,20079% off',\n",
       " '₹329₹1,59979% off\\nFree delivery',\n",
       " '₹1,099₹1,99945% off',\n",
       " '₹3,909₹5,59030% off\\nFree delivery',\n",
       " '₹266₹99973% off',\n",
       " '₹719₹89920% off',\n",
       " '₹474₹2,22578% off',\n",
       " '₹854₹1,99957% off\\nFree delivery',\n",
       " '₹213₹1,19982% off\\nFree delivery',\n",
       " '₹265₹69962% off\\nFree delivery',\n",
       " '₹899₹99910% off\\nFree delivery',\n",
       " '₹9,799₹10,89010% off\\nFree delivery',\n",
       " '₹664₹1,99966% off\\nFree delivery',\n",
       " '₹289₹1,99985% off\\nFree delivery',\n",
       " '₹735₹7998% off\\nFree delivery',\n",
       " '₹759₹1,99962% off\\nFree delivery',\n",
       " '₹749₹2,50070% off\\nFree delivery',\n",
       " '₹276₹2,49988% off\\nFree delivery',\n",
       " '₹498₹1,52567% off\\nFree delivery',\n",
       " '₹649₹2,55574% off\\nFree delivery']"
      ]
     },
     "execution_count": 77,
     "metadata": {},
     "output_type": "execute_result"
    }
   ],
   "source": [
    "new_price=product_price+product_price1+price_\n",
    "new_price"
   ]
  },
  {
   "cell_type": "code",
   "execution_count": 79,
   "id": "f0de4fb8",
   "metadata": {},
   "outputs": [
    {
     "data": {
      "text/plain": [
       "['₹219₹99978% off',\n",
       " '₹345₹1,24572% off',\n",
       " '₹719₹89920% off',\n",
       " '₹313₹1,49979% off',\n",
       " '₹399₹1,99980% off',\n",
       " '₹246₹1,59984% off',\n",
       " '₹199₹99980% off',\n",
       " '₹314₹1,99984% off',\n",
       " '₹189₹59968% off',\n",
       " '₹379₹1,49974% off',\n",
       " '₹224₹1,19981% off',\n",
       " '₹664₹1,99966% off',\n",
       " '₹219₹99878% off',\n",
       " '₹189₹1,29985% off',\n",
       " '₹379₹1,49974% off',\n",
       " '₹399₹1,99980% off',\n",
       " '₹1,039₹1,29920% off',\n",
       " '₹214₹99978% off',\n",
       " '₹223₹1,59986% off',\n",
       " '₹759₹1,99962% off',\n",
       " '₹288₹1,49980% off',\n",
       " '₹379₹1,49974% off',\n",
       " '₹269₹1,89985% off',\n",
       " '₹232₹1,49984% off',\n",
       " '₹529₹2,09974% off',\n",
       " '₹341₹1,99982% off',\n",
       " '₹268₹1,29979% off',\n",
       " '₹449₹2,22579% off',\n",
       " '₹245₹99975% off',\n",
       " '₹598₹2,99980% off',\n",
       " '₹899₹99910% off',\n",
       " '₹616₹1,99969% off',\n",
       " '₹949₹1,99952% off',\n",
       " '₹719₹89920% off',\n",
       " '₹499₹2,22577% off',\n",
       " '₹664₹1,99966% off',\n",
       " '₹1,099₹1,99945% off',\n",
       " '₹233₹99976% off',\n",
       " '₹664₹3,20079% off',\n",
       " '₹233₹1,79987% off',\n",
       " '₹39980% off',\n",
       " '₹79920% off',\n",
       " '₹34982% off',\n",
       " '₹61669% off',\n",
       " '₹29981% off',\n",
       " '₹219₹99978% off',\n",
       " '₹345₹1,24572% off',\n",
       " '₹719₹89920% off',\n",
       " '₹313₹1,49979% off',\n",
       " '₹399₹1,99980% off',\n",
       " '₹246₹1,59984% off',\n",
       " '₹199₹99980% off',\n",
       " '₹314₹1,99984% off',\n",
       " '₹189₹59968% off',\n",
       " '₹379₹1,49974% off',\n",
       " '₹224₹1,19981% off',\n",
       " '₹664₹1,99966% off',\n",
       " '₹219₹99878% off',\n",
       " '₹189₹1,29985% off',\n",
       " '₹379₹1,49974% off',\n",
       " '₹399₹1,99980% off',\n",
       " '₹1,039₹1,29920% off',\n",
       " '₹214₹99978% off',\n",
       " '₹223₹1,59986% off',\n",
       " '₹759₹1,99962% off',\n",
       " '₹288₹1,49980% off',\n",
       " '₹379₹1,49974% off',\n",
       " '₹269₹1,89985% off',\n",
       " '₹232₹1,49984% off',\n",
       " '₹529₹2,09974% off',\n",
       " '₹341₹1,99982% off',\n",
       " '₹268₹1,29979% off',\n",
       " '₹449₹2,22579% off',\n",
       " '₹245₹99975% off',\n",
       " '₹598₹2,99980% off',\n",
       " '₹899₹99910% off',\n",
       " '₹616₹1,99969% off',\n",
       " '₹949₹1,99952% off',\n",
       " '₹719₹89920% off',\n",
       " '₹499₹2,22577% off',\n",
       " '₹664₹1,99966% off',\n",
       " '₹1,099₹1,99945% off',\n",
       " '₹233₹99976% off',\n",
       " '₹664₹3,20079% off',\n",
       " '₹233₹1,79987% off',\n",
       " '₹664₹3,20079% off',\n",
       " '₹329₹1,59979% off\\nFree delivery',\n",
       " '₹1,099₹1,99945% off',\n",
       " '₹3,909₹5,59030% off\\nFree delivery',\n",
       " '₹266₹99973% off',\n",
       " '₹719₹89920% off',\n",
       " '₹474₹2,22578% off',\n",
       " '₹854₹1,99957% off\\nFree delivery',\n",
       " '₹213₹1,19982% off\\nFree delivery',\n",
       " '₹265₹69962% off\\nFree delivery',\n",
       " '₹899₹99910% off\\nFree delivery',\n",
       " '₹9,799₹10,89010% off\\nFree delivery',\n",
       " '₹664₹1,99966% off\\nFree delivery',\n",
       " '₹289₹1,99985% off\\nFree delivery',\n",
       " '₹735₹7998% off\\nFree delivery']"
      ]
     },
     "execution_count": 79,
     "metadata": {},
     "output_type": "execute_result"
    }
   ],
   "source": [
    "price=new_price[0:100]\n",
    "price"
   ]
  },
  {
   "cell_type": "code",
   "execution_count": 80,
   "id": "03187d47",
   "metadata": {},
   "outputs": [
    {
     "data": {
      "text/plain": [
       "100"
      ]
     },
     "execution_count": 80,
     "metadata": {},
     "output_type": "execute_result"
    }
   ],
   "source": [
    "len(price)"
   ]
  },
  {
   "cell_type": "code",
   "execution_count": 81,
   "id": "ae2761a4",
   "metadata": {},
   "outputs": [
    {
     "data": {
      "text/html": [
       "<div>\n",
       "<style scoped>\n",
       "    .dataframe tbody tr th:only-of-type {\n",
       "        vertical-align: middle;\n",
       "    }\n",
       "\n",
       "    .dataframe tbody tr th {\n",
       "        vertical-align: top;\n",
       "    }\n",
       "\n",
       "    .dataframe thead th {\n",
       "        text-align: right;\n",
       "    }\n",
       "</style>\n",
       "<table border=\"1\" class=\"dataframe\">\n",
       "  <thead>\n",
       "    <tr style=\"text-align: right;\">\n",
       "      <th></th>\n",
       "      <th>BRAND NAME</th>\n",
       "      <th>PRODUCT DESCRIPTION</th>\n",
       "      <th>PRICE</th>\n",
       "    </tr>\n",
       "  </thead>\n",
       "  <tbody>\n",
       "    <tr>\n",
       "      <th>0</th>\n",
       "      <td>Singco India</td>\n",
       "      <td>UV Protection Rectangular Sunglasses (Free Size)</td>\n",
       "      <td>₹219₹99978% off</td>\n",
       "    </tr>\n",
       "    <tr>\n",
       "      <th>1</th>\n",
       "      <td>Silver Kartz</td>\n",
       "      <td>UV Protection Sports Sunglasses (62)</td>\n",
       "      <td>₹345₹1,24572% off</td>\n",
       "    </tr>\n",
       "    <tr>\n",
       "      <th>2</th>\n",
       "      <td>DAHAAZIL</td>\n",
       "      <td>Gradient, UV Protection Wayfarer Sunglasses (F...</td>\n",
       "      <td>₹719₹89920% off</td>\n",
       "    </tr>\n",
       "    <tr>\n",
       "      <th>3</th>\n",
       "      <td>Fastrack</td>\n",
       "      <td>UV Protection Clubmaster Sunglasses (53)</td>\n",
       "      <td>₹313₹1,49979% off</td>\n",
       "    </tr>\n",
       "    <tr>\n",
       "      <th>4</th>\n",
       "      <td>New Specs</td>\n",
       "      <td>UV Protection, Gradient Rectangular Sunglasses...</td>\n",
       "      <td>₹399₹1,99980% off</td>\n",
       "    </tr>\n",
       "    <tr>\n",
       "      <th>...</th>\n",
       "      <td>...</td>\n",
       "      <td>...</td>\n",
       "      <td>...</td>\n",
       "    </tr>\n",
       "    <tr>\n",
       "      <th>95</th>\n",
       "      <td>ROYAL SON</td>\n",
       "      <td>Polarized, UV Protection Wrap-around Sunglasse...</td>\n",
       "      <td>₹899₹99910% off\\nFree delivery</td>\n",
       "    </tr>\n",
       "    <tr>\n",
       "      <th>96</th>\n",
       "      <td>VINCENT CHASE</td>\n",
       "      <td>by Lenskart Polarized, UV Protection Wayfarer ...</td>\n",
       "      <td>₹9,799₹10,89010% off\\nFree delivery</td>\n",
       "    </tr>\n",
       "    <tr>\n",
       "      <th>97</th>\n",
       "      <td>Lee Topper</td>\n",
       "      <td>Riding Glasses, Night Vision Wrap-around Sungl...</td>\n",
       "      <td>₹664₹1,99966% off\\nFree delivery</td>\n",
       "    </tr>\n",
       "    <tr>\n",
       "      <th>98</th>\n",
       "      <td>AISLIN</td>\n",
       "      <td>UV Protection, Gradient Butterfly, Retro Squar...</td>\n",
       "      <td>₹289₹1,99985% off\\nFree delivery</td>\n",
       "    </tr>\n",
       "    <tr>\n",
       "      <th>99</th>\n",
       "      <td>ROZZETTA CRAFT</td>\n",
       "      <td>UV Protection Aviator Sunglasses (62)</td>\n",
       "      <td>₹735₹7998% off\\nFree delivery</td>\n",
       "    </tr>\n",
       "  </tbody>\n",
       "</table>\n",
       "<p>100 rows × 3 columns</p>\n",
       "</div>"
      ],
      "text/plain": [
       "        BRAND NAME                                PRODUCT DESCRIPTION  \\\n",
       "0     Singco India   UV Protection Rectangular Sunglasses (Free Size)   \n",
       "1     Silver Kartz               UV Protection Sports Sunglasses (62)   \n",
       "2         DAHAAZIL  Gradient, UV Protection Wayfarer Sunglasses (F...   \n",
       "3         Fastrack           UV Protection Clubmaster Sunglasses (53)   \n",
       "4        New Specs  UV Protection, Gradient Rectangular Sunglasses...   \n",
       "..             ...                                                ...   \n",
       "95       ROYAL SON  Polarized, UV Protection Wrap-around Sunglasse...   \n",
       "96   VINCENT CHASE  by Lenskart Polarized, UV Protection Wayfarer ...   \n",
       "97      Lee Topper  Riding Glasses, Night Vision Wrap-around Sungl...   \n",
       "98          AISLIN  UV Protection, Gradient Butterfly, Retro Squar...   \n",
       "99  ROZZETTA CRAFT              UV Protection Aviator Sunglasses (62)   \n",
       "\n",
       "                                  PRICE  \n",
       "0                       ₹219₹99978% off  \n",
       "1                     ₹345₹1,24572% off  \n",
       "2                       ₹719₹89920% off  \n",
       "3                     ₹313₹1,49979% off  \n",
       "4                     ₹399₹1,99980% off  \n",
       "..                                  ...  \n",
       "95       ₹899₹99910% off\\nFree delivery  \n",
       "96  ₹9,799₹10,89010% off\\nFree delivery  \n",
       "97     ₹664₹1,99966% off\\nFree delivery  \n",
       "98     ₹289₹1,99985% off\\nFree delivery  \n",
       "99        ₹735₹7998% off\\nFree delivery  \n",
       "\n",
       "[100 rows x 3 columns]"
      ]
     },
     "execution_count": 81,
     "metadata": {},
     "output_type": "execute_result"
    }
   ],
   "source": [
    "df=pd.DataFrame({'BRAND NAME':brand,'PRODUCT DESCRIPTION':product_discription,'PRICE':price})\n",
    "df"
   ]
  },
  {
   "cell_type": "code",
   "execution_count": null,
   "id": "74676407",
   "metadata": {},
   "outputs": [],
   "source": [
    "#Q5: Scrape 100 reviews data from flipkart.com for iphone11 phone.\n",
    "#This task will be done in following steps:\n",
    "#1. First get the webpage https://www.flipkart.com/\n",
    "#2. Enter “iphone 11” in “Search” field . \n",
    "#3. Then click the search button."
   ]
  },
  {
   "cell_type": "code",
   "execution_count": 3,
   "id": "28fadf9d",
   "metadata": {},
   "outputs": [],
   "source": [
    "url=' https://www.flipkart.com/'\n",
    "driver.get(url)"
   ]
  },
  {
   "cell_type": "code",
   "execution_count": 4,
   "id": "b454c4fe",
   "metadata": {},
   "outputs": [
    {
     "data": {
      "text/plain": [
       "<selenium.webdriver.remote.webelement.WebElement (session=\"42d409609793f7023f76b66e8affa564\", element=\"44b6aece-410b-4009-8685-4d079ab4d323\")>"
      ]
     },
     "execution_count": 4,
     "metadata": {},
     "output_type": "execute_result"
    }
   ],
   "source": [
    "#searching web element for search bar\n",
    "search_bar=driver.find_element(\"xpath\",'/html/body/div[1]/div/div[1]/div[1]/div[2]/div[2]/form/div/div/input')\n",
    "search_bar"
   ]
  },
  {
   "cell_type": "code",
   "execution_count": 5,
   "id": "a7ca62fd",
   "metadata": {},
   "outputs": [],
   "source": [
    "#writing on search bar\n",
    "search_bar.send_keys('iphone 11')"
   ]
  },
  {
   "cell_type": "code",
   "execution_count": 6,
   "id": "59d0fbb5",
   "metadata": {},
   "outputs": [
    {
     "data": {
      "text/plain": [
       "<selenium.webdriver.remote.webelement.WebElement (session=\"42d409609793f7023f76b66e8affa564\", element=\"bd66b9c1-3220-4840-9fbd-78d7cb147e7b\")>"
      ]
     },
     "execution_count": 6,
     "metadata": {},
     "output_type": "execute_result"
    }
   ],
   "source": [
    "#finding web element for search btn\n",
    "search_btn=driver.find_element(\"xpath\",'/html/body/div[1]/div/div[1]/div[1]/div[2]/div[2]/form/div/button')\n",
    "search_btn"
   ]
  },
  {
   "cell_type": "code",
   "execution_count": 7,
   "id": "7cb22024",
   "metadata": {},
   "outputs": [],
   "source": [
    "#clicking on search btn\n",
    "search_btn.click()"
   ]
  },
  {
   "cell_type": "code",
   "execution_count": 14,
   "id": "c4a2406e",
   "metadata": {},
   "outputs": [
    {
     "data": {
      "text/plain": [
       "[<selenium.webdriver.remote.webelement.WebElement (session=\"42d409609793f7023f76b66e8affa564\", element=\"8f43e3f3-a676-4faf-aa14-5ce7dbb7add2\")>,\n",
       " <selenium.webdriver.remote.webelement.WebElement (session=\"42d409609793f7023f76b66e8affa564\", element=\"3277604f-67aa-4724-be60-e52c724473f0\")>,\n",
       " <selenium.webdriver.remote.webelement.WebElement (session=\"42d409609793f7023f76b66e8affa564\", element=\"b59c613c-2df7-433c-a83a-5d691d34ea48\")>,\n",
       " <selenium.webdriver.remote.webelement.WebElement (session=\"42d409609793f7023f76b66e8affa564\", element=\"b7859dd0-d5c7-483b-812d-2dd2e68a5930\")>,\n",
       " <selenium.webdriver.remote.webelement.WebElement (session=\"42d409609793f7023f76b66e8affa564\", element=\"b65784a3-1615-40da-b6cd-6f99b129170d\")>,\n",
       " <selenium.webdriver.remote.webelement.WebElement (session=\"42d409609793f7023f76b66e8affa564\", element=\"a760a26f-afe0-4f15-be9f-36e7156f4ff6\")>,\n",
       " <selenium.webdriver.remote.webelement.WebElement (session=\"42d409609793f7023f76b66e8affa564\", element=\"bb475fc4-151b-4e38-b711-6ae6db37410c\")>,\n",
       " <selenium.webdriver.remote.webelement.WebElement (session=\"42d409609793f7023f76b66e8affa564\", element=\"7c5c1005-7d4e-4007-823f-4eb042f1c46c\")>,\n",
       " <selenium.webdriver.remote.webelement.WebElement (session=\"42d409609793f7023f76b66e8affa564\", element=\"1eada460-499b-477a-bfc5-b7487f37feac\")>,\n",
       " <selenium.webdriver.remote.webelement.WebElement (session=\"42d409609793f7023f76b66e8affa564\", element=\"f33ab8aa-14fb-4251-abcd-36fde3aee289\")>,\n",
       " <selenium.webdriver.remote.webelement.WebElement (session=\"42d409609793f7023f76b66e8affa564\", element=\"aea9373b-e42b-4625-9d8e-c4520ffe347a\")>,\n",
       " <selenium.webdriver.remote.webelement.WebElement (session=\"42d409609793f7023f76b66e8affa564\", element=\"e91804e5-d6e0-4638-ba9a-3ceca34ae8a0\")>,\n",
       " <selenium.webdriver.remote.webelement.WebElement (session=\"42d409609793f7023f76b66e8affa564\", element=\"22bee678-9cbf-403d-806d-1c55b15f0c28\")>,\n",
       " <selenium.webdriver.remote.webelement.WebElement (session=\"42d409609793f7023f76b66e8affa564\", element=\"054d450e-7ab6-478c-9460-a31e07aee9bc\")>,\n",
       " <selenium.webdriver.remote.webelement.WebElement (session=\"42d409609793f7023f76b66e8affa564\", element=\"d68fad75-6558-4e01-83aa-ad0b44bb0a55\")>,\n",
       " <selenium.webdriver.remote.webelement.WebElement (session=\"42d409609793f7023f76b66e8affa564\", element=\"666da1e8-1ec9-42d5-9150-c45be3c3738f\")>,\n",
       " <selenium.webdriver.remote.webelement.WebElement (session=\"42d409609793f7023f76b66e8affa564\", element=\"2b4b2500-b4c7-4ed8-b201-8dffbc34fe3f\")>,\n",
       " <selenium.webdriver.remote.webelement.WebElement (session=\"42d409609793f7023f76b66e8affa564\", element=\"08b4fcac-0f69-4fe7-92e3-1e11fcfbf9a4\")>,\n",
       " <selenium.webdriver.remote.webelement.WebElement (session=\"42d409609793f7023f76b66e8affa564\", element=\"08e19fd4-9833-4049-8efd-a552481db2b2\")>,\n",
       " <selenium.webdriver.remote.webelement.WebElement (session=\"42d409609793f7023f76b66e8affa564\", element=\"8475eb87-efb4-4757-bca6-ac5d50bf91f9\")>,\n",
       " <selenium.webdriver.remote.webelement.WebElement (session=\"42d409609793f7023f76b66e8affa564\", element=\"f510702b-6a9f-4e93-ac0a-f65d450e35ad\")>,\n",
       " <selenium.webdriver.remote.webelement.WebElement (session=\"42d409609793f7023f76b66e8affa564\", element=\"51294324-8988-488f-8bda-ce5112cb217b\")>,\n",
       " <selenium.webdriver.remote.webelement.WebElement (session=\"42d409609793f7023f76b66e8affa564\", element=\"8632cc0d-1c00-40c8-a285-0a3bf37a3e71\")>,\n",
       " <selenium.webdriver.remote.webelement.WebElement (session=\"42d409609793f7023f76b66e8affa564\", element=\"4271dab0-3637-4ef1-8767-e52ebcdc8165\")>]"
      ]
     },
     "execution_count": 14,
     "metadata": {},
     "output_type": "execute_result"
    }
   ],
   "source": [
    "rating=driver.find_elements(\"xpath\",'//div[@class=\"_3LWZlK\"]')\n",
    "rating"
   ]
  },
  {
   "cell_type": "code",
   "execution_count": 15,
   "id": "14df155e",
   "metadata": {},
   "outputs": [
    {
     "data": {
      "text/plain": [
       "['4.6',\n",
       " '4.6',\n",
       " '4.6',\n",
       " '4.6',\n",
       " '4.6',\n",
       " '4.6',\n",
       " '4.6',\n",
       " '4.6',\n",
       " '4.6',\n",
       " '4.6',\n",
       " '4.6',\n",
       " '4.6',\n",
       " '4.4',\n",
       " '4.6',\n",
       " '4.6',\n",
       " '4.6',\n",
       " '4.6',\n",
       " '4.6',\n",
       " '4.6',\n",
       " '4.6',\n",
       " '4.6',\n",
       " '4.6',\n",
       " '4.6',\n",
       " '4.6']"
      ]
     },
     "execution_count": 15,
     "metadata": {},
     "output_type": "execute_result"
    }
   ],
   "source": [
    "rating1=[]\n",
    "for i in rating:\n",
    "    rating1.append(i.text)\n",
    "rating1"
   ]
  },
  {
   "cell_type": "code",
   "execution_count": 27,
   "id": "e9fe669f",
   "metadata": {},
   "outputs": [
    {
     "data": {
      "text/plain": [
       "<selenium.webdriver.remote.webelement.WebElement (session=\"42d409609793f7023f76b66e8affa564\", element=\"e6051baf-2464-4941-8998-ced3c8d52ecf\")>"
      ]
     },
     "execution_count": 27,
     "metadata": {},
     "output_type": "execute_result"
    }
   ],
   "source": [
    "#searching web element for next btn\n",
    "next_btn=driver.find_element(\"xpath\",'/html/body/div[1]/div/div[3]/div[1]/div[2]/div[26]/div/div/nav/a[5]')\n",
    "next_btn"
   ]
  },
  {
   "cell_type": "code",
   "execution_count": 28,
   "id": "8910bc1f",
   "metadata": {},
   "outputs": [],
   "source": [
    "next_btn.click()"
   ]
  },
  {
   "cell_type": "code",
   "execution_count": 29,
   "id": "421989d8",
   "metadata": {},
   "outputs": [
    {
     "data": {
      "text/plain": [
       "[<selenium.webdriver.remote.webelement.WebElement (session=\"42d409609793f7023f76b66e8affa564\", element=\"b780b48b-4570-4d8b-95f4-e47d971b64b5\")>,\n",
       " <selenium.webdriver.remote.webelement.WebElement (session=\"42d409609793f7023f76b66e8affa564\", element=\"02673ae3-dde7-46af-b73e-ea547149f46b\")>,\n",
       " <selenium.webdriver.remote.webelement.WebElement (session=\"42d409609793f7023f76b66e8affa564\", element=\"bb25b1db-2da7-4f54-be18-f880a804cc9a\")>,\n",
       " <selenium.webdriver.remote.webelement.WebElement (session=\"42d409609793f7023f76b66e8affa564\", element=\"8cb81425-de51-4053-8024-9233b0ee23cd\")>,\n",
       " <selenium.webdriver.remote.webelement.WebElement (session=\"42d409609793f7023f76b66e8affa564\", element=\"656635fb-0cdb-4ed5-a752-10ae9016c0f4\")>,\n",
       " <selenium.webdriver.remote.webelement.WebElement (session=\"42d409609793f7023f76b66e8affa564\", element=\"c70b6c1c-0a5b-4158-88f5-9681f2ae1f92\")>,\n",
       " <selenium.webdriver.remote.webelement.WebElement (session=\"42d409609793f7023f76b66e8affa564\", element=\"d9dccfc4-9745-4bbf-b03a-1e972bd946de\")>,\n",
       " <selenium.webdriver.remote.webelement.WebElement (session=\"42d409609793f7023f76b66e8affa564\", element=\"bed57c27-cb73-4769-a8b9-e7bbcf8526fa\")>,\n",
       " <selenium.webdriver.remote.webelement.WebElement (session=\"42d409609793f7023f76b66e8affa564\", element=\"2a0a8873-d962-4321-92da-2f7e09587bbf\")>,\n",
       " <selenium.webdriver.remote.webelement.WebElement (session=\"42d409609793f7023f76b66e8affa564\", element=\"6fdbde71-6eb5-462b-80e2-2306fdf08344\")>,\n",
       " <selenium.webdriver.remote.webelement.WebElement (session=\"42d409609793f7023f76b66e8affa564\", element=\"04c5eb1f-a5f7-432a-95a3-9c3a39aa7542\")>,\n",
       " <selenium.webdriver.remote.webelement.WebElement (session=\"42d409609793f7023f76b66e8affa564\", element=\"81b476c2-bf18-4174-bcfd-d08ee2cd601e\")>,\n",
       " <selenium.webdriver.remote.webelement.WebElement (session=\"42d409609793f7023f76b66e8affa564\", element=\"5daa7779-5144-4226-9ff7-442c301f5176\")>,\n",
       " <selenium.webdriver.remote.webelement.WebElement (session=\"42d409609793f7023f76b66e8affa564\", element=\"4c3cdf24-e07f-4548-a05c-08c6952052ea\")>,\n",
       " <selenium.webdriver.remote.webelement.WebElement (session=\"42d409609793f7023f76b66e8affa564\", element=\"e51a884c-5081-4b19-93ec-289c5de01b03\")>,\n",
       " <selenium.webdriver.remote.webelement.WebElement (session=\"42d409609793f7023f76b66e8affa564\", element=\"0818d7b5-36c1-4992-adb1-8043c60c5057\")>,\n",
       " <selenium.webdriver.remote.webelement.WebElement (session=\"42d409609793f7023f76b66e8affa564\", element=\"3572445e-fbe5-4604-95a4-c2eb5b774c9f\")>,\n",
       " <selenium.webdriver.remote.webelement.WebElement (session=\"42d409609793f7023f76b66e8affa564\", element=\"fbf851ca-dc51-41da-bc81-80ad0c7eecbc\")>,\n",
       " <selenium.webdriver.remote.webelement.WebElement (session=\"42d409609793f7023f76b66e8affa564\", element=\"3731ec02-00f0-4319-bffc-22d6d39b6cf3\")>,\n",
       " <selenium.webdriver.remote.webelement.WebElement (session=\"42d409609793f7023f76b66e8affa564\", element=\"ec43a30d-d63b-4874-83a4-64a2e5dcbb97\")>,\n",
       " <selenium.webdriver.remote.webelement.WebElement (session=\"42d409609793f7023f76b66e8affa564\", element=\"a60a8404-3633-4752-8f4f-c7ad12dd97a5\")>,\n",
       " <selenium.webdriver.remote.webelement.WebElement (session=\"42d409609793f7023f76b66e8affa564\", element=\"196b0973-632f-4a28-bb01-57728c7d8d06\")>,\n",
       " <selenium.webdriver.remote.webelement.WebElement (session=\"42d409609793f7023f76b66e8affa564\", element=\"6253fde3-90d1-4e7e-8961-8c4b28ae9cf3\")>,\n",
       " <selenium.webdriver.remote.webelement.WebElement (session=\"42d409609793f7023f76b66e8affa564\", element=\"cfd2b4f9-5cee-4ae3-9097-4f2c3e862091\")>]"
      ]
     },
     "execution_count": 29,
     "metadata": {},
     "output_type": "execute_result"
    }
   ],
   "source": [
    "rating=driver.find_elements(\"xpath\",'//div[@class=\"_3LWZlK\"]')\n",
    "rating"
   ]
  },
  {
   "cell_type": "code",
   "execution_count": 31,
   "id": "eefdc5fd",
   "metadata": {},
   "outputs": [
    {
     "data": {
      "text/plain": [
       "['4.6',\n",
       " '4.4',\n",
       " '4.6',\n",
       " '4.6',\n",
       " '4.6',\n",
       " '4.6',\n",
       " '4.6',\n",
       " '4.6',\n",
       " '4.6',\n",
       " '4.6',\n",
       " '4.6',\n",
       " '4.6',\n",
       " '4.6',\n",
       " '4.6',\n",
       " '4.4',\n",
       " '4.7',\n",
       " '4.6',\n",
       " '4.7',\n",
       " '4.7',\n",
       " '4.6',\n",
       " '4.7',\n",
       " '4.7',\n",
       " '4.7',\n",
       " '4.6']"
      ]
     },
     "execution_count": 31,
     "metadata": {},
     "output_type": "execute_result"
    }
   ],
   "source": [
    "rating_=[]\n",
    "for i in rating:\n",
    "    rating_.append(i.text)\n",
    "rating_"
   ]
  },
  {
   "cell_type": "code",
   "execution_count": 32,
   "id": "8635df0f",
   "metadata": {},
   "outputs": [
    {
     "data": {
      "text/plain": [
       "<selenium.webdriver.remote.webelement.WebElement (session=\"42d409609793f7023f76b66e8affa564\", element=\"e6051baf-2464-4941-8998-ced3c8d52ecf\")>"
      ]
     },
     "execution_count": 32,
     "metadata": {},
     "output_type": "execute_result"
    }
   ],
   "source": [
    "#searching web element for next btn\n",
    "next_btn=driver.find_element(\"xpath\",'/html/body/div[1]/div/div[3]/div[1]/div[2]/div[26]/div/div/nav/a[6]')\n",
    "next_btn"
   ]
  },
  {
   "cell_type": "code",
   "execution_count": 33,
   "id": "22913f70",
   "metadata": {},
   "outputs": [],
   "source": [
    "next_btn.click()"
   ]
  },
  {
   "cell_type": "code",
   "execution_count": 34,
   "id": "092dbbce",
   "metadata": {},
   "outputs": [
    {
     "data": {
      "text/plain": [
       "[<selenium.webdriver.remote.webelement.WebElement (session=\"42d409609793f7023f76b66e8affa564\", element=\"fba66d8a-3e0f-4299-8122-da1f0ae69e81\")>,\n",
       " <selenium.webdriver.remote.webelement.WebElement (session=\"42d409609793f7023f76b66e8affa564\", element=\"6745f584-bc91-46d1-a441-a538aa03e0b9\")>,\n",
       " <selenium.webdriver.remote.webelement.WebElement (session=\"42d409609793f7023f76b66e8affa564\", element=\"dc4d3238-330d-4f03-93af-32bd3aba821d\")>,\n",
       " <selenium.webdriver.remote.webelement.WebElement (session=\"42d409609793f7023f76b66e8affa564\", element=\"55006783-bcb2-4181-b414-fb91f2642621\")>,\n",
       " <selenium.webdriver.remote.webelement.WebElement (session=\"42d409609793f7023f76b66e8affa564\", element=\"f9e94214-b1dc-4b35-84f6-e84c8cb741ed\")>,\n",
       " <selenium.webdriver.remote.webelement.WebElement (session=\"42d409609793f7023f76b66e8affa564\", element=\"b1b07cfb-c251-4160-8ad1-822b1cc7fafd\")>,\n",
       " <selenium.webdriver.remote.webelement.WebElement (session=\"42d409609793f7023f76b66e8affa564\", element=\"2702e832-c92d-43af-ad37-b09cfade7159\")>,\n",
       " <selenium.webdriver.remote.webelement.WebElement (session=\"42d409609793f7023f76b66e8affa564\", element=\"dc822b48-f30a-4264-87ae-ab6cb21f35af\")>,\n",
       " <selenium.webdriver.remote.webelement.WebElement (session=\"42d409609793f7023f76b66e8affa564\", element=\"043e39ab-e438-4603-8072-89d4d2ba0937\")>,\n",
       " <selenium.webdriver.remote.webelement.WebElement (session=\"42d409609793f7023f76b66e8affa564\", element=\"7e44e709-62b7-434e-982f-c75bd2ade088\")>,\n",
       " <selenium.webdriver.remote.webelement.WebElement (session=\"42d409609793f7023f76b66e8affa564\", element=\"be3beccb-f5cd-4033-823f-93fddb53501e\")>,\n",
       " <selenium.webdriver.remote.webelement.WebElement (session=\"42d409609793f7023f76b66e8affa564\", element=\"616a71c2-e736-4814-b96d-1f7e626a881d\")>,\n",
       " <selenium.webdriver.remote.webelement.WebElement (session=\"42d409609793f7023f76b66e8affa564\", element=\"9e5ca11f-7e94-4883-8285-6f6157a33808\")>,\n",
       " <selenium.webdriver.remote.webelement.WebElement (session=\"42d409609793f7023f76b66e8affa564\", element=\"de5dc1be-3a99-446c-b1c3-a19f877d984d\")>,\n",
       " <selenium.webdriver.remote.webelement.WebElement (session=\"42d409609793f7023f76b66e8affa564\", element=\"055c7588-cc83-4572-84bd-951c32cdb0dd\")>,\n",
       " <selenium.webdriver.remote.webelement.WebElement (session=\"42d409609793f7023f76b66e8affa564\", element=\"0c59e7e7-4b07-449d-9e21-3927e34daa67\")>,\n",
       " <selenium.webdriver.remote.webelement.WebElement (session=\"42d409609793f7023f76b66e8affa564\", element=\"ff102900-5e80-4602-8edb-d50645c890de\")>,\n",
       " <selenium.webdriver.remote.webelement.WebElement (session=\"42d409609793f7023f76b66e8affa564\", element=\"8c696f62-714b-4d21-99ee-c7e280df963b\")>,\n",
       " <selenium.webdriver.remote.webelement.WebElement (session=\"42d409609793f7023f76b66e8affa564\", element=\"35caeb05-a6ac-4fe5-8b4b-84743dc7e343\")>,\n",
       " <selenium.webdriver.remote.webelement.WebElement (session=\"42d409609793f7023f76b66e8affa564\", element=\"81264bee-db82-4d50-b10d-ba34042288a1\")>,\n",
       " <selenium.webdriver.remote.webelement.WebElement (session=\"42d409609793f7023f76b66e8affa564\", element=\"18e64d9f-a31b-48cd-9d41-037105d5e8de\")>,\n",
       " <selenium.webdriver.remote.webelement.WebElement (session=\"42d409609793f7023f76b66e8affa564\", element=\"38b9df2d-f911-4926-b36d-362ddb8b3f31\")>,\n",
       " <selenium.webdriver.remote.webelement.WebElement (session=\"42d409609793f7023f76b66e8affa564\", element=\"baea3c5e-5dce-43bf-ae46-965058153c59\")>,\n",
       " <selenium.webdriver.remote.webelement.WebElement (session=\"42d409609793f7023f76b66e8affa564\", element=\"a999451d-5d3c-4030-bdea-42daef731281\")>]"
      ]
     },
     "execution_count": 34,
     "metadata": {},
     "output_type": "execute_result"
    }
   ],
   "source": [
    "rating=driver.find_elements(\"xpath\",'//div[@class=\"_3LWZlK\"]')\n",
    "rating"
   ]
  },
  {
   "cell_type": "code",
   "execution_count": 35,
   "id": "315b2d7f",
   "metadata": {},
   "outputs": [
    {
     "data": {
      "text/plain": [
       "['4.7',\n",
       " '4.6',\n",
       " '4.6',\n",
       " '4.4',\n",
       " '4.6',\n",
       " '4.6',\n",
       " '4.7',\n",
       " '4.7',\n",
       " '4.7',\n",
       " '4.6',\n",
       " '4.6',\n",
       " '4.7',\n",
       " '4.6',\n",
       " '4.6',\n",
       " '4.6',\n",
       " '4.4',\n",
       " '3.9',\n",
       " '3.9',\n",
       " '3.9',\n",
       " '4.5',\n",
       " '4.5',\n",
       " '4.5',\n",
       " '4.4',\n",
       " '4.4']"
      ]
     },
     "execution_count": 35,
     "metadata": {},
     "output_type": "execute_result"
    }
   ],
   "source": [
    "rating2=[]\n",
    "for i in rating:\n",
    "    rating2.append(i.text)\n",
    "rating2"
   ]
  },
  {
   "cell_type": "code",
   "execution_count": 37,
   "id": "0af2e6a5",
   "metadata": {},
   "outputs": [
    {
     "data": {
      "text/plain": [
       "<selenium.webdriver.remote.webelement.WebElement (session=\"42d409609793f7023f76b66e8affa564\", element=\"e6051baf-2464-4941-8998-ced3c8d52ecf\")>"
      ]
     },
     "execution_count": 37,
     "metadata": {},
     "output_type": "execute_result"
    }
   ],
   "source": [
    "next_btn=driver.find_element(\"xpath\",'/html/body/div[1]/div/div[3]/div[1]/div[2]/div[26]/div/div/nav/a[6]')\n",
    "next_btn"
   ]
  },
  {
   "cell_type": "code",
   "execution_count": 38,
   "id": "0160b131",
   "metadata": {},
   "outputs": [],
   "source": [
    "next_btn.click()"
   ]
  },
  {
   "cell_type": "code",
   "execution_count": 39,
   "id": "a2f818fd",
   "metadata": {},
   "outputs": [
    {
     "data": {
      "text/plain": [
       "[<selenium.webdriver.remote.webelement.WebElement (session=\"42d409609793f7023f76b66e8affa564\", element=\"f630a7bd-0852-44cb-b705-934a8f6e6952\")>,\n",
       " <selenium.webdriver.remote.webelement.WebElement (session=\"42d409609793f7023f76b66e8affa564\", element=\"13d47f80-099c-4f9d-88a7-e50e9f28e7e5\")>,\n",
       " <selenium.webdriver.remote.webelement.WebElement (session=\"42d409609793f7023f76b66e8affa564\", element=\"bb6c23f7-abcc-4a22-aee5-c85c59df39fe\")>,\n",
       " <selenium.webdriver.remote.webelement.WebElement (session=\"42d409609793f7023f76b66e8affa564\", element=\"3d6118c2-cc49-495d-b69f-9b60076eb466\")>,\n",
       " <selenium.webdriver.remote.webelement.WebElement (session=\"42d409609793f7023f76b66e8affa564\", element=\"3cca71c5-a111-4e34-902b-3d925ec3659a\")>,\n",
       " <selenium.webdriver.remote.webelement.WebElement (session=\"42d409609793f7023f76b66e8affa564\", element=\"35625d28-4d45-4e95-ae4f-724bc49ac2c8\")>,\n",
       " <selenium.webdriver.remote.webelement.WebElement (session=\"42d409609793f7023f76b66e8affa564\", element=\"6c94525f-9ced-42eb-8928-f5c091f644c4\")>,\n",
       " <selenium.webdriver.remote.webelement.WebElement (session=\"42d409609793f7023f76b66e8affa564\", element=\"1c16c7cd-3d64-4698-acca-f6caf863fb14\")>,\n",
       " <selenium.webdriver.remote.webelement.WebElement (session=\"42d409609793f7023f76b66e8affa564\", element=\"36df6da0-44f7-4b20-9b07-03ab4c96b080\")>,\n",
       " <selenium.webdriver.remote.webelement.WebElement (session=\"42d409609793f7023f76b66e8affa564\", element=\"4bf93e9a-e1da-4f28-b0b0-ce98bf576c79\")>,\n",
       " <selenium.webdriver.remote.webelement.WebElement (session=\"42d409609793f7023f76b66e8affa564\", element=\"6100508a-f4a1-4bbf-91c8-2a93b4b21bf0\")>,\n",
       " <selenium.webdriver.remote.webelement.WebElement (session=\"42d409609793f7023f76b66e8affa564\", element=\"cf4288aa-360b-4d28-8a80-28ef54cdf10c\")>,\n",
       " <selenium.webdriver.remote.webelement.WebElement (session=\"42d409609793f7023f76b66e8affa564\", element=\"0fa7cc10-affb-435e-a03b-906901fd61bd\")>,\n",
       " <selenium.webdriver.remote.webelement.WebElement (session=\"42d409609793f7023f76b66e8affa564\", element=\"134580e5-c9f4-4b9b-8fa8-03d39e383c89\")>,\n",
       " <selenium.webdriver.remote.webelement.WebElement (session=\"42d409609793f7023f76b66e8affa564\", element=\"2724006a-a317-4f07-86ab-b5fac7cd8013\")>,\n",
       " <selenium.webdriver.remote.webelement.WebElement (session=\"42d409609793f7023f76b66e8affa564\", element=\"6bed201e-954f-4acd-9190-8867f1b9bcf8\")>,\n",
       " <selenium.webdriver.remote.webelement.WebElement (session=\"42d409609793f7023f76b66e8affa564\", element=\"661d6b41-b94c-44de-a225-64de55d0ae64\")>]"
      ]
     },
     "execution_count": 39,
     "metadata": {},
     "output_type": "execute_result"
    }
   ],
   "source": [
    "rating=driver.find_elements(\"xpath\",'//div[@class=\"_3LWZlK\"]')\n",
    "rating"
   ]
  },
  {
   "cell_type": "code",
   "execution_count": 40,
   "id": "dd85c33f",
   "metadata": {},
   "outputs": [
    {
     "data": {
      "text/plain": [
       "['4.6',\n",
       " '4.4',\n",
       " '4.6',\n",
       " '4.5',\n",
       " '4.4',\n",
       " '3.9',\n",
       " '3.9',\n",
       " '4.4',\n",
       " '4.5',\n",
       " '4.4',\n",
       " '4.7',\n",
       " '4.4',\n",
       " '4.5',\n",
       " '4.5',\n",
       " '4.6',\n",
       " '4.6',\n",
       " '4.4']"
      ]
     },
     "execution_count": 40,
     "metadata": {},
     "output_type": "execute_result"
    }
   ],
   "source": [
    "rating3=[]\n",
    "for i in rating:\n",
    "    rating3.append(i.text)\n",
    "rating3"
   ]
  },
  {
   "cell_type": "code",
   "execution_count": 49,
   "id": "1a91539f",
   "metadata": {},
   "outputs": [],
   "source": [
    "rating=rating1+rating2+rating3"
   ]
  },
  {
   "cell_type": "code",
   "execution_count": 50,
   "id": "186a6583",
   "metadata": {},
   "outputs": [
    {
     "data": {
      "text/plain": [
       "['4.6',\n",
       " '4.6',\n",
       " '4.6',\n",
       " '4.6',\n",
       " '4.6',\n",
       " '4.6',\n",
       " '4.6',\n",
       " '4.6',\n",
       " '4.6',\n",
       " '4.6',\n",
       " '4.6',\n",
       " '4.6',\n",
       " '4.4',\n",
       " '4.6',\n",
       " '4.6',\n",
       " '4.6',\n",
       " '4.6',\n",
       " '4.6',\n",
       " '4.6',\n",
       " '4.6',\n",
       " '4.6',\n",
       " '4.6',\n",
       " '4.6',\n",
       " '4.6',\n",
       " '4.7',\n",
       " '4.6',\n",
       " '4.6',\n",
       " '4.4',\n",
       " '4.6',\n",
       " '4.6',\n",
       " '4.7',\n",
       " '4.7',\n",
       " '4.7',\n",
       " '4.6',\n",
       " '4.6',\n",
       " '4.7',\n",
       " '4.6',\n",
       " '4.6',\n",
       " '4.6',\n",
       " '4.4',\n",
       " '3.9',\n",
       " '3.9',\n",
       " '3.9',\n",
       " '4.5',\n",
       " '4.5',\n",
       " '4.5',\n",
       " '4.4',\n",
       " '4.4',\n",
       " '4.6',\n",
       " '4.4',\n",
       " '4.6',\n",
       " '4.5',\n",
       " '4.4',\n",
       " '3.9',\n",
       " '3.9',\n",
       " '4.4',\n",
       " '4.5',\n",
       " '4.4',\n",
       " '4.7',\n",
       " '4.4',\n",
       " '4.5',\n",
       " '4.5',\n",
       " '4.6',\n",
       " '4.6',\n",
       " '4.4',\n",
       " '4.6',\n",
       " '4.4',\n",
       " '4.6',\n",
       " '4.6',\n",
       " '4.6',\n",
       " '4.6',\n",
       " '4.6',\n",
       " '4.6',\n",
       " '4.6',\n",
       " '4.6',\n",
       " '4.6',\n",
       " '4.6',\n",
       " '4.6',\n",
       " '4.6',\n",
       " '4.4',\n",
       " '4.7',\n",
       " '4.6',\n",
       " '4.7',\n",
       " '4.7',\n",
       " '4.6',\n",
       " '4.7',\n",
       " '4.7',\n",
       " '4.7',\n",
       " '4.6']"
      ]
     },
     "execution_count": 50,
     "metadata": {},
     "output_type": "execute_result"
    }
   ],
   "source": [
    "rating"
   ]
  },
  {
   "cell_type": "code",
   "execution_count": 51,
   "id": "6b154956",
   "metadata": {},
   "outputs": [
    {
     "data": {
      "text/plain": [
       "89"
      ]
     },
     "execution_count": 51,
     "metadata": {},
     "output_type": "execute_result"
    }
   ],
   "source": [
    "len(rating)"
   ]
  },
  {
   "cell_type": "code",
   "execution_count": null,
   "id": "af658ea0",
   "metadata": {},
   "outputs": [],
   "source": [
    "#Q6: Scrape data for first 100 sneakers you find when you visit flipkart.com and search for “sneakers” in the \n",
    "#search field.\n",
    "#You have to scrape 4 attributes of each sneaker:\n",
    "#1. Brand\n",
    "#2. Product Description\n",
    "#3. Price"
   ]
  },
  {
   "cell_type": "code",
   "execution_count": 8,
   "id": "7853bb7b",
   "metadata": {},
   "outputs": [],
   "source": [
    "url=' https://www.flipkart.com/'\n",
    "driver.get(url)"
   ]
  },
  {
   "cell_type": "code",
   "execution_count": 9,
   "id": "7656d85e",
   "metadata": {},
   "outputs": [
    {
     "data": {
      "text/plain": [
       "<selenium.webdriver.remote.webelement.WebElement (session=\"a07b435010209bd93cc3e4bfebb6c457\", element=\"dabc43a1-3d33-42fe-9f5f-e0f506d712ff\")>"
      ]
     },
     "execution_count": 9,
     "metadata": {},
     "output_type": "execute_result"
    }
   ],
   "source": [
    "#searching the web element for search bar\n",
    "search_bar=driver.find_element(\"xpath\",'/html/body/div[1]/div/div[1]/div[1]/div[2]/div[2]/form/div/div/input')\n",
    "search_bar"
   ]
  },
  {
   "cell_type": "code",
   "execution_count": 10,
   "id": "fbbff893",
   "metadata": {},
   "outputs": [],
   "source": [
    "#wrirting on the search bar\n",
    "search_bar.send_keys('sneaker')"
   ]
  },
  {
   "cell_type": "code",
   "execution_count": 11,
   "id": "a2e0df44",
   "metadata": {},
   "outputs": [
    {
     "data": {
      "text/plain": [
       "<selenium.webdriver.remote.webelement.WebElement (session=\"a07b435010209bd93cc3e4bfebb6c457\", element=\"a445afa6-c8f2-4a98-9122-74a9694e1d93\")>"
      ]
     },
     "execution_count": 11,
     "metadata": {},
     "output_type": "execute_result"
    }
   ],
   "source": [
    "#finding for search icon\n",
    "search_icon=driver.find_element(\"xpath\",'/html/body/div[1]/div/div[1]/div[1]/div[2]/div[2]/form/div/button')\n",
    "search_icon"
   ]
  },
  {
   "cell_type": "code",
   "execution_count": 16,
   "id": "e920c809",
   "metadata": {},
   "outputs": [],
   "source": [
    "search_icon.click()"
   ]
  },
  {
   "cell_type": "code",
   "execution_count": 17,
   "id": "73c848ee",
   "metadata": {},
   "outputs": [
    {
     "data": {
      "text/plain": [
       "[<selenium.webdriver.remote.webelement.WebElement (session=\"a07b435010209bd93cc3e4bfebb6c457\", element=\"5f90d69c-5389-43a7-9b75-dd42c329062d\")>,\n",
       " <selenium.webdriver.remote.webelement.WebElement (session=\"a07b435010209bd93cc3e4bfebb6c457\", element=\"765df5d2-bbef-4cc9-85b8-00c5ce95b468\")>,\n",
       " <selenium.webdriver.remote.webelement.WebElement (session=\"a07b435010209bd93cc3e4bfebb6c457\", element=\"206149aa-7961-4080-9ac7-75fc8516ccba\")>,\n",
       " <selenium.webdriver.remote.webelement.WebElement (session=\"a07b435010209bd93cc3e4bfebb6c457\", element=\"1b028091-5607-442a-baf4-1c6d96d2d2c5\")>,\n",
       " <selenium.webdriver.remote.webelement.WebElement (session=\"a07b435010209bd93cc3e4bfebb6c457\", element=\"8e612b0c-e09d-4b74-87df-7c9da006d515\")>,\n",
       " <selenium.webdriver.remote.webelement.WebElement (session=\"a07b435010209bd93cc3e4bfebb6c457\", element=\"ce5499ef-0518-4a9f-8040-d271ed7f24b4\")>,\n",
       " <selenium.webdriver.remote.webelement.WebElement (session=\"a07b435010209bd93cc3e4bfebb6c457\", element=\"cc415540-8295-4b11-8baa-38d184802b4b\")>,\n",
       " <selenium.webdriver.remote.webelement.WebElement (session=\"a07b435010209bd93cc3e4bfebb6c457\", element=\"58bd1f9d-38a0-4d0e-8027-34a6c26e0c9a\")>,\n",
       " <selenium.webdriver.remote.webelement.WebElement (session=\"a07b435010209bd93cc3e4bfebb6c457\", element=\"8d098c8c-9f24-49a0-8e5c-bcf57a6168c2\")>,\n",
       " <selenium.webdriver.remote.webelement.WebElement (session=\"a07b435010209bd93cc3e4bfebb6c457\", element=\"88c5184a-e889-491f-bfa4-67a6f16ec452\")>,\n",
       " <selenium.webdriver.remote.webelement.WebElement (session=\"a07b435010209bd93cc3e4bfebb6c457\", element=\"7b0c67e6-218e-4a75-9a3c-6928733c3ff0\")>,\n",
       " <selenium.webdriver.remote.webelement.WebElement (session=\"a07b435010209bd93cc3e4bfebb6c457\", element=\"8a81db03-21e3-4ee3-9767-e38272ea6572\")>,\n",
       " <selenium.webdriver.remote.webelement.WebElement (session=\"a07b435010209bd93cc3e4bfebb6c457\", element=\"fb7c6045-94f7-419d-a949-835d10077117\")>,\n",
       " <selenium.webdriver.remote.webelement.WebElement (session=\"a07b435010209bd93cc3e4bfebb6c457\", element=\"b5dba2a0-d0e7-4525-8de3-fbcf6133040b\")>,\n",
       " <selenium.webdriver.remote.webelement.WebElement (session=\"a07b435010209bd93cc3e4bfebb6c457\", element=\"1cb2fee7-c9af-4b3d-ab6b-b3f1c82f835a\")>,\n",
       " <selenium.webdriver.remote.webelement.WebElement (session=\"a07b435010209bd93cc3e4bfebb6c457\", element=\"3471b5ac-0b86-47c1-87e3-4a34d987f4b1\")>,\n",
       " <selenium.webdriver.remote.webelement.WebElement (session=\"a07b435010209bd93cc3e4bfebb6c457\", element=\"4f076b3c-096e-456e-9c1a-2685a5aaa906\")>,\n",
       " <selenium.webdriver.remote.webelement.WebElement (session=\"a07b435010209bd93cc3e4bfebb6c457\", element=\"15665bb6-d428-4bb2-bc74-4cf26957977c\")>,\n",
       " <selenium.webdriver.remote.webelement.WebElement (session=\"a07b435010209bd93cc3e4bfebb6c457\", element=\"4d87b6af-f142-4378-a4ba-1ea972ffd90d\")>,\n",
       " <selenium.webdriver.remote.webelement.WebElement (session=\"a07b435010209bd93cc3e4bfebb6c457\", element=\"58acffad-5d9d-4da4-bc6a-4242d2c99dfb\")>,\n",
       " <selenium.webdriver.remote.webelement.WebElement (session=\"a07b435010209bd93cc3e4bfebb6c457\", element=\"f986078b-a704-4170-82b2-b92e24e66501\")>,\n",
       " <selenium.webdriver.remote.webelement.WebElement (session=\"a07b435010209bd93cc3e4bfebb6c457\", element=\"955ecad7-075e-47a1-b0ba-1f90611e9eef\")>,\n",
       " <selenium.webdriver.remote.webelement.WebElement (session=\"a07b435010209bd93cc3e4bfebb6c457\", element=\"57eb2580-ef40-4238-9c6c-ad99c10dcd4c\")>,\n",
       " <selenium.webdriver.remote.webelement.WebElement (session=\"a07b435010209bd93cc3e4bfebb6c457\", element=\"d3716b57-c464-4a58-98eb-3c8d5ef75074\")>,\n",
       " <selenium.webdriver.remote.webelement.WebElement (session=\"a07b435010209bd93cc3e4bfebb6c457\", element=\"0f1af0e7-22cf-43ae-8b4c-5a640fe18b70\")>,\n",
       " <selenium.webdriver.remote.webelement.WebElement (session=\"a07b435010209bd93cc3e4bfebb6c457\", element=\"0095def0-738c-40c7-a88c-058751ab73f1\")>,\n",
       " <selenium.webdriver.remote.webelement.WebElement (session=\"a07b435010209bd93cc3e4bfebb6c457\", element=\"57dde9fe-ab7e-4e15-9674-e540936f5333\")>,\n",
       " <selenium.webdriver.remote.webelement.WebElement (session=\"a07b435010209bd93cc3e4bfebb6c457\", element=\"a75e7df8-f6b0-45e8-8572-1b3369f8cdcf\")>,\n",
       " <selenium.webdriver.remote.webelement.WebElement (session=\"a07b435010209bd93cc3e4bfebb6c457\", element=\"e3f9d2db-bdaa-4c43-ab02-f6025f8b2d1c\")>,\n",
       " <selenium.webdriver.remote.webelement.WebElement (session=\"a07b435010209bd93cc3e4bfebb6c457\", element=\"a151ace4-d3c6-44b5-a1c9-d10aacd1cd8d\")>,\n",
       " <selenium.webdriver.remote.webelement.WebElement (session=\"a07b435010209bd93cc3e4bfebb6c457\", element=\"ae9ca96b-5f7a-45cb-97a9-252c2e56d8c9\")>,\n",
       " <selenium.webdriver.remote.webelement.WebElement (session=\"a07b435010209bd93cc3e4bfebb6c457\", element=\"827cc079-7e9a-445b-ab60-21613a2cf859\")>,\n",
       " <selenium.webdriver.remote.webelement.WebElement (session=\"a07b435010209bd93cc3e4bfebb6c457\", element=\"9165edc8-42ff-441d-8f7e-873b67fc2c29\")>,\n",
       " <selenium.webdriver.remote.webelement.WebElement (session=\"a07b435010209bd93cc3e4bfebb6c457\", element=\"499327d2-db76-4115-bda8-67e3975c72bb\")>,\n",
       " <selenium.webdriver.remote.webelement.WebElement (session=\"a07b435010209bd93cc3e4bfebb6c457\", element=\"fa15f098-7816-443a-99b6-90d38ca0046b\")>,\n",
       " <selenium.webdriver.remote.webelement.WebElement (session=\"a07b435010209bd93cc3e4bfebb6c457\", element=\"88da8379-c623-48f0-8c7e-4ddd4ffad1be\")>,\n",
       " <selenium.webdriver.remote.webelement.WebElement (session=\"a07b435010209bd93cc3e4bfebb6c457\", element=\"16b88366-eb3b-4508-a72d-84b0a09b88b2\")>,\n",
       " <selenium.webdriver.remote.webelement.WebElement (session=\"a07b435010209bd93cc3e4bfebb6c457\", element=\"ad1fafc0-b2ea-4af1-ad22-8dea5b194108\")>,\n",
       " <selenium.webdriver.remote.webelement.WebElement (session=\"a07b435010209bd93cc3e4bfebb6c457\", element=\"5a21df29-dd7a-424f-a428-41637f5ff88e\")>,\n",
       " <selenium.webdriver.remote.webelement.WebElement (session=\"a07b435010209bd93cc3e4bfebb6c457\", element=\"6e8f9880-0d06-49d2-b19a-34ee0d935f1c\")>]"
      ]
     },
     "execution_count": 17,
     "metadata": {},
     "output_type": "execute_result"
    }
   ],
   "source": [
    "brand=driver.find_elements(\"xpath\",'//div[@class=\"_2WkVRV\"]')\n",
    "brand"
   ]
  },
  {
   "cell_type": "code",
   "execution_count": 18,
   "id": "b4d5df08",
   "metadata": {},
   "outputs": [
    {
     "data": {
      "text/plain": [
       "['Sumohan',\n",
       " 'Nilatin',\n",
       " 'WOODLAND',\n",
       " 'BRUTON',\n",
       " 'PUMA',\n",
       " 'URBANBOX',\n",
       " 'SFR',\n",
       " 'luxury fashion',\n",
       " 'aadi',\n",
       " 'KWIK FIT',\n",
       " 'BRUTON',\n",
       " 'RapidBox',\n",
       " 'ASTEROID',\n",
       " 'Labbin',\n",
       " 'Magnolia',\n",
       " 'Kirjak',\n",
       " 'Kraasa',\n",
       " 'aadi',\n",
       " 'Kraasa',\n",
       " 'Roadster',\n",
       " 'BIRDE',\n",
       " 'BIRDE',\n",
       " 'AMICO',\n",
       " 'kardam&sons',\n",
       " 'Kzaara',\n",
       " 'Robbie jones',\n",
       " 'Dizzler',\n",
       " 'Numenzo',\n",
       " 'Chevit',\n",
       " 'ONECENTRE',\n",
       " 'India hub',\n",
       " 'KNIGHT WALKERS',\n",
       " 'CLYMB',\n",
       " 'HOTSTYLE',\n",
       " 'BIRDE',\n",
       " 'RapidBox',\n",
       " 'BRUTON',\n",
       " 'Chevit',\n",
       " 'Rzisbo',\n",
       " 'Nilatin']"
      ]
     },
     "execution_count": 18,
     "metadata": {},
     "output_type": "execute_result"
    }
   ],
   "source": [
    "brand1=[]\n",
    "for i in brand:\n",
    "    brand1.append(i.text)\n",
    "brand1"
   ]
  },
  {
   "cell_type": "code",
   "execution_count": 19,
   "id": "748c9e5e",
   "metadata": {},
   "outputs": [
    {
     "data": {
      "text/plain": [
       "40"
      ]
     },
     "execution_count": 19,
     "metadata": {},
     "output_type": "execute_result"
    }
   ],
   "source": [
    "len(brand1)"
   ]
  },
  {
   "cell_type": "code",
   "execution_count": 20,
   "id": "f2a63f98",
   "metadata": {},
   "outputs": [
    {
     "data": {
      "text/plain": [
       "[<selenium.webdriver.remote.webelement.WebElement (session=\"a07b435010209bd93cc3e4bfebb6c457\", element=\"79b7ba9b-e477-47bb-9bb5-38f29db2c12d\")>,\n",
       " <selenium.webdriver.remote.webelement.WebElement (session=\"a07b435010209bd93cc3e4bfebb6c457\", element=\"4663c24c-122c-4845-8240-4e543a04bac4\")>,\n",
       " <selenium.webdriver.remote.webelement.WebElement (session=\"a07b435010209bd93cc3e4bfebb6c457\", element=\"65eabec3-6a20-4e98-8c25-a88c442bfe2f\")>,\n",
       " <selenium.webdriver.remote.webelement.WebElement (session=\"a07b435010209bd93cc3e4bfebb6c457\", element=\"cca829ff-9460-490d-855e-60f81b0b8717\")>,\n",
       " <selenium.webdriver.remote.webelement.WebElement (session=\"a07b435010209bd93cc3e4bfebb6c457\", element=\"d08bb986-4082-4dad-ab02-0006e1fff0ef\")>,\n",
       " <selenium.webdriver.remote.webelement.WebElement (session=\"a07b435010209bd93cc3e4bfebb6c457\", element=\"c7c271f6-247e-4be0-992d-bb5bb2f28015\")>,\n",
       " <selenium.webdriver.remote.webelement.WebElement (session=\"a07b435010209bd93cc3e4bfebb6c457\", element=\"03a5a4f1-7407-4f0c-abd0-46fb97bbb269\")>,\n",
       " <selenium.webdriver.remote.webelement.WebElement (session=\"a07b435010209bd93cc3e4bfebb6c457\", element=\"8ad92b3d-5958-42e7-8e19-13581a181029\")>,\n",
       " <selenium.webdriver.remote.webelement.WebElement (session=\"a07b435010209bd93cc3e4bfebb6c457\", element=\"8e294178-b021-4413-83fc-82d62585a264\")>,\n",
       " <selenium.webdriver.remote.webelement.WebElement (session=\"a07b435010209bd93cc3e4bfebb6c457\", element=\"e3b936c8-c787-4773-a835-1264fa617d2a\")>,\n",
       " <selenium.webdriver.remote.webelement.WebElement (session=\"a07b435010209bd93cc3e4bfebb6c457\", element=\"e0e6d31a-e0ef-4460-b7b6-ddabc65c2bb9\")>,\n",
       " <selenium.webdriver.remote.webelement.WebElement (session=\"a07b435010209bd93cc3e4bfebb6c457\", element=\"77636896-5cfe-4e60-824f-cd4ff1f2599c\")>,\n",
       " <selenium.webdriver.remote.webelement.WebElement (session=\"a07b435010209bd93cc3e4bfebb6c457\", element=\"ddf3d868-86cd-411a-9588-b623ff7908d4\")>,\n",
       " <selenium.webdriver.remote.webelement.WebElement (session=\"a07b435010209bd93cc3e4bfebb6c457\", element=\"4d621531-1d24-4ee4-94f2-43430a9c6b98\")>,\n",
       " <selenium.webdriver.remote.webelement.WebElement (session=\"a07b435010209bd93cc3e4bfebb6c457\", element=\"787794ef-f90d-468b-afe9-1f1dd3bf4efa\")>,\n",
       " <selenium.webdriver.remote.webelement.WebElement (session=\"a07b435010209bd93cc3e4bfebb6c457\", element=\"b1d7d78f-6414-4924-9f93-d20a7072678d\")>,\n",
       " <selenium.webdriver.remote.webelement.WebElement (session=\"a07b435010209bd93cc3e4bfebb6c457\", element=\"97a79617-92c5-4e61-a53b-da7ab4fbf9e2\")>,\n",
       " <selenium.webdriver.remote.webelement.WebElement (session=\"a07b435010209bd93cc3e4bfebb6c457\", element=\"05822a40-3200-4968-89c8-9a3db96fb885\")>,\n",
       " <selenium.webdriver.remote.webelement.WebElement (session=\"a07b435010209bd93cc3e4bfebb6c457\", element=\"6221063d-2d7a-4ffa-b683-f791445c9eed\")>,\n",
       " <selenium.webdriver.remote.webelement.WebElement (session=\"a07b435010209bd93cc3e4bfebb6c457\", element=\"1a054b65-8c35-433f-9945-5048e16f02e3\")>,\n",
       " <selenium.webdriver.remote.webelement.WebElement (session=\"a07b435010209bd93cc3e4bfebb6c457\", element=\"056c9001-1e7a-4328-b463-3dd5292225ad\")>,\n",
       " <selenium.webdriver.remote.webelement.WebElement (session=\"a07b435010209bd93cc3e4bfebb6c457\", element=\"2b634342-b7e2-4dcf-8421-8712e2b991b3\")>,\n",
       " <selenium.webdriver.remote.webelement.WebElement (session=\"a07b435010209bd93cc3e4bfebb6c457\", element=\"d2b9587f-8715-43cc-a0bc-82e275efebb6\")>,\n",
       " <selenium.webdriver.remote.webelement.WebElement (session=\"a07b435010209bd93cc3e4bfebb6c457\", element=\"7b6ab9f5-5778-4bf6-9edd-5668831fa003\")>,\n",
       " <selenium.webdriver.remote.webelement.WebElement (session=\"a07b435010209bd93cc3e4bfebb6c457\", element=\"915b47ee-0bbd-4ccb-b5f7-9dcd7f0788e4\")>,\n",
       " <selenium.webdriver.remote.webelement.WebElement (session=\"a07b435010209bd93cc3e4bfebb6c457\", element=\"72292cef-b7d8-4781-a5d6-a4a5ed80ee13\")>,\n",
       " <selenium.webdriver.remote.webelement.WebElement (session=\"a07b435010209bd93cc3e4bfebb6c457\", element=\"1163299e-2b4c-4568-a3b1-ecf174eb8224\")>,\n",
       " <selenium.webdriver.remote.webelement.WebElement (session=\"a07b435010209bd93cc3e4bfebb6c457\", element=\"e3e17aba-c462-439b-8c46-c8ee8168e5e4\")>,\n",
       " <selenium.webdriver.remote.webelement.WebElement (session=\"a07b435010209bd93cc3e4bfebb6c457\", element=\"09479714-90d7-439e-8378-ec6d56fe6ec1\")>,\n",
       " <selenium.webdriver.remote.webelement.WebElement (session=\"a07b435010209bd93cc3e4bfebb6c457\", element=\"d6153d3a-0454-477d-9e54-0d39fdef1d18\")>,\n",
       " <selenium.webdriver.remote.webelement.WebElement (session=\"a07b435010209bd93cc3e4bfebb6c457\", element=\"fddafe02-6087-4472-a114-630c57e2f050\")>,\n",
       " <selenium.webdriver.remote.webelement.WebElement (session=\"a07b435010209bd93cc3e4bfebb6c457\", element=\"b286087f-7fc9-4d4b-8fc8-619fe59b8de8\")>,\n",
       " <selenium.webdriver.remote.webelement.WebElement (session=\"a07b435010209bd93cc3e4bfebb6c457\", element=\"3ff39130-8c6d-4f43-a01c-1ffd66ee3817\")>,\n",
       " <selenium.webdriver.remote.webelement.WebElement (session=\"a07b435010209bd93cc3e4bfebb6c457\", element=\"2c13f216-8d92-4bc8-a885-a395e45d5ef2\")>]"
      ]
     },
     "execution_count": 20,
     "metadata": {},
     "output_type": "execute_result"
    }
   ],
   "source": [
    "pro_disc=driver.find_elements(\"xpath\",'//a[@class=\"IRpwTa\"]')\n",
    "pro_disc"
   ]
  },
  {
   "cell_type": "code",
   "execution_count": 21,
   "id": "0badf0fc",
   "metadata": {},
   "outputs": [
    {
     "data": {
      "text/plain": [
       "['Black Sneaker For Men Sneakers For Men',\n",
       " 'Sneakers For Men',\n",
       " 'Modern Trendy Sneakers Shoes Sneakers For Men',\n",
       " 'Puma Smash v2 L Sneakers For Men',\n",
       " 'Sneakers For Men',\n",
       " 'Luxuryfashion casual sneaker shoes Sneakers For Men',\n",
       " 'Sneakers For Men',\n",
       " 'Kwik FIT casual sneaker shoes and partywear shoes Casua...',\n",
       " 'Modern Trendy Sneakers Shoes Sneakers For Men',\n",
       " \"Original Luxury Branded Fashionable Men's Casual Walkin...\",\n",
       " 'Sneakers For Men',\n",
       " 'Sneakers For Men',\n",
       " \"men's Skyblue sneakers lace-up trendy casual Sneakers F...\",\n",
       " 'Shark-41 Sneakers For Men',\n",
       " 'Sneakers For Men',\n",
       " 'Casuals, Canvas, Partywear Sneakers For Men',\n",
       " 'Sneakers For Men',\n",
       " 'Stylish Comfortable Lightweight, Breathable Walking Sho...',\n",
       " 'Stylish Comfortable Lightweight, Breathable Walking Sho...',\n",
       " 'Sneakers For Men',\n",
       " 'Fashionable Luxury Canvas Casual Outdoor Sneakers White...',\n",
       " 'Sneakers For Men',\n",
       " 'Casual Sneakers Canvas Shoes For Men Sneakers For Men',\n",
       " 'Sneakers For Men',\n",
       " 'Super Stylish & Trendy Combo Pack of 02 Pairs Sneakers ...',\n",
       " 'STR2 Sneakers For Men',\n",
       " 'Sneakers For Men',\n",
       " 'Sneakers For Men',\n",
       " 'Sneakers For Men',\n",
       " 'Stylish Comfortable Lightweight, Breathable Casual Walk...',\n",
       " 'Lightweight Pack Of 1 Trendy Sneakers Sneakers For Men',\n",
       " \"Men's Combo Pack of 02 Shoes for Men Casual Sneakers Ou...\",\n",
       " 'Sneakers For Men',\n",
       " 'Sneakers For Men']"
      ]
     },
     "execution_count": 21,
     "metadata": {},
     "output_type": "execute_result"
    }
   ],
   "source": [
    "pro_discription=[]\n",
    "for i in pro_disc:\n",
    "    pro_discription.append(i.text)\n",
    "pro_discription"
   ]
  },
  {
   "cell_type": "code",
   "execution_count": 23,
   "id": "dd45576a",
   "metadata": {},
   "outputs": [
    {
     "data": {
      "text/plain": [
       "[<selenium.webdriver.remote.webelement.WebElement (session=\"a07b435010209bd93cc3e4bfebb6c457\", element=\"275ccdc2-3a05-4b65-8343-a552ad2db2f2\")>,\n",
       " <selenium.webdriver.remote.webelement.WebElement (session=\"a07b435010209bd93cc3e4bfebb6c457\", element=\"88ccbc27-b933-4fe0-b5b9-3734faae4232\")>,\n",
       " <selenium.webdriver.remote.webelement.WebElement (session=\"a07b435010209bd93cc3e4bfebb6c457\", element=\"ebfa7780-4331-4d8f-9914-6d4b8eb4119d\")>,\n",
       " <selenium.webdriver.remote.webelement.WebElement (session=\"a07b435010209bd93cc3e4bfebb6c457\", element=\"479831f9-bc67-4e96-8bd2-b4dce4e819e3\")>,\n",
       " <selenium.webdriver.remote.webelement.WebElement (session=\"a07b435010209bd93cc3e4bfebb6c457\", element=\"4c019859-bd78-4a8b-b315-ef49b0d7d382\")>,\n",
       " <selenium.webdriver.remote.webelement.WebElement (session=\"a07b435010209bd93cc3e4bfebb6c457\", element=\"fa435f69-8b84-4644-af0a-feb9873e6932\")>,\n",
       " <selenium.webdriver.remote.webelement.WebElement (session=\"a07b435010209bd93cc3e4bfebb6c457\", element=\"1bbaf4bc-32bc-4927-bb42-daf587677839\")>,\n",
       " <selenium.webdriver.remote.webelement.WebElement (session=\"a07b435010209bd93cc3e4bfebb6c457\", element=\"37ef2880-ed65-4521-969d-2d8fa624e376\")>,\n",
       " <selenium.webdriver.remote.webelement.WebElement (session=\"a07b435010209bd93cc3e4bfebb6c457\", element=\"6b1c5337-1577-414c-9efd-2d5264882847\")>,\n",
       " <selenium.webdriver.remote.webelement.WebElement (session=\"a07b435010209bd93cc3e4bfebb6c457\", element=\"cb7018ea-fb20-476d-81f6-b437865d9a00\")>,\n",
       " <selenium.webdriver.remote.webelement.WebElement (session=\"a07b435010209bd93cc3e4bfebb6c457\", element=\"516d88c1-5ba6-473e-a336-05662f06eb1e\")>,\n",
       " <selenium.webdriver.remote.webelement.WebElement (session=\"a07b435010209bd93cc3e4bfebb6c457\", element=\"6c82af20-a018-47d6-95f7-1c7161ad2b2c\")>,\n",
       " <selenium.webdriver.remote.webelement.WebElement (session=\"a07b435010209bd93cc3e4bfebb6c457\", element=\"6d8929cf-7a3e-415c-a48d-144723960ab1\")>,\n",
       " <selenium.webdriver.remote.webelement.WebElement (session=\"a07b435010209bd93cc3e4bfebb6c457\", element=\"4fcfd012-1918-4d8d-858b-a2176376714c\")>,\n",
       " <selenium.webdriver.remote.webelement.WebElement (session=\"a07b435010209bd93cc3e4bfebb6c457\", element=\"4a7852c1-f34f-49a5-beed-72d7d90dd55a\")>,\n",
       " <selenium.webdriver.remote.webelement.WebElement (session=\"a07b435010209bd93cc3e4bfebb6c457\", element=\"d380a086-0bbb-4ce2-9358-3aaad6db4ff8\")>,\n",
       " <selenium.webdriver.remote.webelement.WebElement (session=\"a07b435010209bd93cc3e4bfebb6c457\", element=\"eb2a93ea-8b83-47d0-972c-d62522df42ad\")>,\n",
       " <selenium.webdriver.remote.webelement.WebElement (session=\"a07b435010209bd93cc3e4bfebb6c457\", element=\"dfa8193b-21db-4b27-a7ec-2dcef55e24be\")>,\n",
       " <selenium.webdriver.remote.webelement.WebElement (session=\"a07b435010209bd93cc3e4bfebb6c457\", element=\"f7bec353-d2a5-4337-aedd-6c12db7abbe6\")>,\n",
       " <selenium.webdriver.remote.webelement.WebElement (session=\"a07b435010209bd93cc3e4bfebb6c457\", element=\"8b34d4af-0271-4580-8cbf-507c63f62564\")>,\n",
       " <selenium.webdriver.remote.webelement.WebElement (session=\"a07b435010209bd93cc3e4bfebb6c457\", element=\"af4acde9-5b3e-4702-b20a-4e3eb49fd51a\")>,\n",
       " <selenium.webdriver.remote.webelement.WebElement (session=\"a07b435010209bd93cc3e4bfebb6c457\", element=\"042f1b37-932c-452d-9066-261f82d0658b\")>,\n",
       " <selenium.webdriver.remote.webelement.WebElement (session=\"a07b435010209bd93cc3e4bfebb6c457\", element=\"16e8c911-db2a-4fbc-a6ed-6ed8aae8a760\")>,\n",
       " <selenium.webdriver.remote.webelement.WebElement (session=\"a07b435010209bd93cc3e4bfebb6c457\", element=\"efe8846b-3150-42b5-b48a-c3624becf1b3\")>,\n",
       " <selenium.webdriver.remote.webelement.WebElement (session=\"a07b435010209bd93cc3e4bfebb6c457\", element=\"e4aceec3-f2b1-4566-9c72-52a0d1945245\")>,\n",
       " <selenium.webdriver.remote.webelement.WebElement (session=\"a07b435010209bd93cc3e4bfebb6c457\", element=\"2bbeb4cc-31ed-438e-a544-893f7f39956a\")>,\n",
       " <selenium.webdriver.remote.webelement.WebElement (session=\"a07b435010209bd93cc3e4bfebb6c457\", element=\"ed44c085-93a7-489f-aedd-43ce4087161a\")>,\n",
       " <selenium.webdriver.remote.webelement.WebElement (session=\"a07b435010209bd93cc3e4bfebb6c457\", element=\"f8c3cc26-3a27-4f33-bc15-b624d40e97f7\")>,\n",
       " <selenium.webdriver.remote.webelement.WebElement (session=\"a07b435010209bd93cc3e4bfebb6c457\", element=\"97822bd5-3b49-4f12-a4e3-73473a25ff58\")>,\n",
       " <selenium.webdriver.remote.webelement.WebElement (session=\"a07b435010209bd93cc3e4bfebb6c457\", element=\"6059e328-7408-47f1-843b-b6413760975f\")>,\n",
       " <selenium.webdriver.remote.webelement.WebElement (session=\"a07b435010209bd93cc3e4bfebb6c457\", element=\"38bc1574-6ddc-469b-a003-9272e9b1de41\")>,\n",
       " <selenium.webdriver.remote.webelement.WebElement (session=\"a07b435010209bd93cc3e4bfebb6c457\", element=\"ac671e87-4037-4c40-a63c-b47688dfdeb0\")>,\n",
       " <selenium.webdriver.remote.webelement.WebElement (session=\"a07b435010209bd93cc3e4bfebb6c457\", element=\"fcf31a6c-e626-49ef-bb6f-24856bf34709\")>,\n",
       " <selenium.webdriver.remote.webelement.WebElement (session=\"a07b435010209bd93cc3e4bfebb6c457\", element=\"7f6b3705-d347-48f6-b23e-c5465abcfca4\")>,\n",
       " <selenium.webdriver.remote.webelement.WebElement (session=\"a07b435010209bd93cc3e4bfebb6c457\", element=\"5945b292-e926-4120-920f-dd7742515977\")>,\n",
       " <selenium.webdriver.remote.webelement.WebElement (session=\"a07b435010209bd93cc3e4bfebb6c457\", element=\"7744e4b9-a399-4279-94c8-d318507d1b25\")>,\n",
       " <selenium.webdriver.remote.webelement.WebElement (session=\"a07b435010209bd93cc3e4bfebb6c457\", element=\"d470f988-b0a2-4b4e-8867-55db2c803f62\")>,\n",
       " <selenium.webdriver.remote.webelement.WebElement (session=\"a07b435010209bd93cc3e4bfebb6c457\", element=\"f1b0799f-6c59-46ad-8ece-b4b8a28a89b3\")>,\n",
       " <selenium.webdriver.remote.webelement.WebElement (session=\"a07b435010209bd93cc3e4bfebb6c457\", element=\"547a5412-c803-4ac5-9003-3531862c7863\")>,\n",
       " <selenium.webdriver.remote.webelement.WebElement (session=\"a07b435010209bd93cc3e4bfebb6c457\", element=\"5e2af912-b7d9-406e-b12b-a7683f565ef8\")>]"
      ]
     },
     "execution_count": 23,
     "metadata": {},
     "output_type": "execute_result"
    }
   ],
   "source": [
    "price=driver.find_elements(\"xpath\",'//div[@class=\"_30jeq3\"]')\n",
    "price"
   ]
  },
  {
   "cell_type": "code",
   "execution_count": 24,
   "id": "a929ea65",
   "metadata": {},
   "outputs": [
    {
     "data": {
      "text/plain": [
       "['₹499',\n",
       " '₹450',\n",
       " '₹1,797',\n",
       " '₹284',\n",
       " '₹1,658',\n",
       " '₹219',\n",
       " '₹289',\n",
       " '₹474',\n",
       " '₹425',\n",
       " '₹397',\n",
       " '₹299',\n",
       " '₹630',\n",
       " '₹474',\n",
       " '₹449',\n",
       " '₹449',\n",
       " '₹490',\n",
       " '₹539',\n",
       " '₹299',\n",
       " '₹539',\n",
       " '₹1,465',\n",
       " '₹442',\n",
       " '₹442',\n",
       " '₹494',\n",
       " '₹449',\n",
       " '₹254',\n",
       " '₹449',\n",
       " '₹435',\n",
       " '₹466',\n",
       " '₹649',\n",
       " '₹299',\n",
       " '₹448',\n",
       " '₹699',\n",
       " '₹519',\n",
       " '₹284',\n",
       " '₹442',\n",
       " '₹620',\n",
       " '₹199',\n",
       " '₹466',\n",
       " '₹490',\n",
       " '₹569']"
      ]
     },
     "execution_count": 24,
     "metadata": {},
     "output_type": "execute_result"
    }
   ],
   "source": [
    "price1=[]\n",
    "for i in price:\n",
    "    price1.append(i.text)\n",
    "price1"
   ]
  },
  {
   "cell_type": "code",
   "execution_count": 25,
   "id": "e52d5fd1",
   "metadata": {},
   "outputs": [
    {
     "data": {
      "text/plain": [
       "40"
      ]
     },
     "execution_count": 25,
     "metadata": {},
     "output_type": "execute_result"
    }
   ],
   "source": [
    "len(price1)"
   ]
  },
  {
   "cell_type": "code",
   "execution_count": 26,
   "id": "7d9e0462",
   "metadata": {},
   "outputs": [
    {
     "data": {
      "text/plain": [
       "[<selenium.webdriver.remote.webelement.WebElement (session=\"a07b435010209bd93cc3e4bfebb6c457\", element=\"46b683d5-8e9e-40f1-8107-dfc29cacc78e\")>,\n",
       " <selenium.webdriver.remote.webelement.WebElement (session=\"a07b435010209bd93cc3e4bfebb6c457\", element=\"fd0153e6-fb23-4979-8bbb-9816d51b4034\")>,\n",
       " <selenium.webdriver.remote.webelement.WebElement (session=\"a07b435010209bd93cc3e4bfebb6c457\", element=\"1ddb478b-e5f9-4780-a373-2fac06364de7\")>,\n",
       " <selenium.webdriver.remote.webelement.WebElement (session=\"a07b435010209bd93cc3e4bfebb6c457\", element=\"047fb858-385b-4037-8bec-519fb51a1aea\")>,\n",
       " <selenium.webdriver.remote.webelement.WebElement (session=\"a07b435010209bd93cc3e4bfebb6c457\", element=\"dd4fee1b-acbf-415b-b3dc-457fbb8a1a70\")>,\n",
       " <selenium.webdriver.remote.webelement.WebElement (session=\"a07b435010209bd93cc3e4bfebb6c457\", element=\"f742f0f3-f28f-4792-9125-7c2634f8f54c\")>,\n",
       " <selenium.webdriver.remote.webelement.WebElement (session=\"a07b435010209bd93cc3e4bfebb6c457\", element=\"f5732bbe-26e4-4938-acd1-e64aab22130d\")>,\n",
       " <selenium.webdriver.remote.webelement.WebElement (session=\"a07b435010209bd93cc3e4bfebb6c457\", element=\"e0abc1fd-2acc-47e0-aee7-0c9114faecd3\")>,\n",
       " <selenium.webdriver.remote.webelement.WebElement (session=\"a07b435010209bd93cc3e4bfebb6c457\", element=\"cba9cf3a-8422-431c-ae71-3b40af54f13c\")>,\n",
       " <selenium.webdriver.remote.webelement.WebElement (session=\"a07b435010209bd93cc3e4bfebb6c457\", element=\"e10aa51f-ff3e-42c9-8184-508b5994706c\")>,\n",
       " <selenium.webdriver.remote.webelement.WebElement (session=\"a07b435010209bd93cc3e4bfebb6c457\", element=\"f0324e28-c5ca-4274-a703-e3c049d575ff\")>,\n",
       " <selenium.webdriver.remote.webelement.WebElement (session=\"a07b435010209bd93cc3e4bfebb6c457\", element=\"a109c504-0546-404c-aba1-68a9cbd69f3e\")>,\n",
       " <selenium.webdriver.remote.webelement.WebElement (session=\"a07b435010209bd93cc3e4bfebb6c457\", element=\"aef54dcd-3b61-4b3d-ab5a-36b5cddb63cf\")>,\n",
       " <selenium.webdriver.remote.webelement.WebElement (session=\"a07b435010209bd93cc3e4bfebb6c457\", element=\"229dd0ce-29ef-4f81-92b2-c90901c9d0e9\")>,\n",
       " <selenium.webdriver.remote.webelement.WebElement (session=\"a07b435010209bd93cc3e4bfebb6c457\", element=\"bafe896e-f62f-4ea1-8f0d-7f22669389b3\")>,\n",
       " <selenium.webdriver.remote.webelement.WebElement (session=\"a07b435010209bd93cc3e4bfebb6c457\", element=\"7a239eba-a5f7-4306-a64a-e92d4ed4b32d\")>,\n",
       " <selenium.webdriver.remote.webelement.WebElement (session=\"a07b435010209bd93cc3e4bfebb6c457\", element=\"fb9c24a9-e9ca-4cfd-bfc4-5f4df5492997\")>,\n",
       " <selenium.webdriver.remote.webelement.WebElement (session=\"a07b435010209bd93cc3e4bfebb6c457\", element=\"fb80d5c2-cebc-4fb0-adba-a39c7309c0f2\")>,\n",
       " <selenium.webdriver.remote.webelement.WebElement (session=\"a07b435010209bd93cc3e4bfebb6c457\", element=\"60ca6b2e-f39c-485f-99a9-bb149776a601\")>,\n",
       " <selenium.webdriver.remote.webelement.WebElement (session=\"a07b435010209bd93cc3e4bfebb6c457\", element=\"745c2af1-882b-4a8d-a63b-4b8b6f620776\")>,\n",
       " <selenium.webdriver.remote.webelement.WebElement (session=\"a07b435010209bd93cc3e4bfebb6c457\", element=\"7d5a4b1c-d70e-456b-99a7-49abc5cd2130\")>,\n",
       " <selenium.webdriver.remote.webelement.WebElement (session=\"a07b435010209bd93cc3e4bfebb6c457\", element=\"aa338439-3593-4aba-a561-f712d5ada2f0\")>,\n",
       " <selenium.webdriver.remote.webelement.WebElement (session=\"a07b435010209bd93cc3e4bfebb6c457\", element=\"8b50a404-1a09-4c91-af32-3f599cf07b54\")>,\n",
       " <selenium.webdriver.remote.webelement.WebElement (session=\"a07b435010209bd93cc3e4bfebb6c457\", element=\"13fb7fbc-de4e-48f4-bedf-c4206ada73af\")>,\n",
       " <selenium.webdriver.remote.webelement.WebElement (session=\"a07b435010209bd93cc3e4bfebb6c457\", element=\"bf94bd49-e9a4-4da4-b62c-646290d59bb1\")>,\n",
       " <selenium.webdriver.remote.webelement.WebElement (session=\"a07b435010209bd93cc3e4bfebb6c457\", element=\"c4292c3d-0907-4b66-9550-bb2e587f5598\")>,\n",
       " <selenium.webdriver.remote.webelement.WebElement (session=\"a07b435010209bd93cc3e4bfebb6c457\", element=\"16d65c65-12ef-4f5a-ad72-d5b7b65debc7\")>,\n",
       " <selenium.webdriver.remote.webelement.WebElement (session=\"a07b435010209bd93cc3e4bfebb6c457\", element=\"abba08cc-0454-4ea4-b669-00463d9e8ba7\")>,\n",
       " <selenium.webdriver.remote.webelement.WebElement (session=\"a07b435010209bd93cc3e4bfebb6c457\", element=\"fdef1d0c-d157-4c91-ae74-48b4dfcd15dd\")>,\n",
       " <selenium.webdriver.remote.webelement.WebElement (session=\"a07b435010209bd93cc3e4bfebb6c457\", element=\"3c859669-ba41-4579-90f0-4b436c284014\")>,\n",
       " <selenium.webdriver.remote.webelement.WebElement (session=\"a07b435010209bd93cc3e4bfebb6c457\", element=\"0040edda-c65a-4872-928d-4e26943d0ea5\")>,\n",
       " <selenium.webdriver.remote.webelement.WebElement (session=\"a07b435010209bd93cc3e4bfebb6c457\", element=\"dc9db92f-4b68-443e-a6a7-e9f2279fabd7\")>,\n",
       " <selenium.webdriver.remote.webelement.WebElement (session=\"a07b435010209bd93cc3e4bfebb6c457\", element=\"c3b99fd3-dd8c-4892-a0aa-9b79dec5bd59\")>,\n",
       " <selenium.webdriver.remote.webelement.WebElement (session=\"a07b435010209bd93cc3e4bfebb6c457\", element=\"0e3e2699-f0a5-4d06-b221-f0af9cc7180c\")>,\n",
       " <selenium.webdriver.remote.webelement.WebElement (session=\"a07b435010209bd93cc3e4bfebb6c457\", element=\"099e6926-b0c3-4d97-83d3-658eb691f1b9\")>,\n",
       " <selenium.webdriver.remote.webelement.WebElement (session=\"a07b435010209bd93cc3e4bfebb6c457\", element=\"bac6f77f-6e37-4e6a-b1ce-ffbb5507bcea\")>,\n",
       " <selenium.webdriver.remote.webelement.WebElement (session=\"a07b435010209bd93cc3e4bfebb6c457\", element=\"4691efb6-9e15-45a9-a87c-57fefa9b1fb4\")>,\n",
       " <selenium.webdriver.remote.webelement.WebElement (session=\"a07b435010209bd93cc3e4bfebb6c457\", element=\"e0614621-89a2-4380-9991-97eb3940d32b\")>,\n",
       " <selenium.webdriver.remote.webelement.WebElement (session=\"a07b435010209bd93cc3e4bfebb6c457\", element=\"0a850507-03a5-4936-b9b0-4810475af2ab\")>,\n",
       " <selenium.webdriver.remote.webelement.WebElement (session=\"a07b435010209bd93cc3e4bfebb6c457\", element=\"f44aeb92-54c6-42ff-8d86-7e2291f8226e\")>]"
      ]
     },
     "execution_count": 26,
     "metadata": {},
     "output_type": "execute_result"
    }
   ],
   "source": [
    "disc=driver.find_elements(\"xpath\",'//div[@class=\"_3Ay6Sb\"]')\n",
    "disc"
   ]
  },
  {
   "cell_type": "code",
   "execution_count": 61,
   "id": "cf6abb81",
   "metadata": {
    "scrolled": true
   },
   "outputs": [
    {
     "data": {
      "text/plain": [
       "['50% off',\n",
       " '68% off',\n",
       " '79% off',\n",
       " '50% off',\n",
       " '69% off',\n",
       " '52% off',\n",
       " '76% off',\n",
       " '81% off',\n",
       " '50% off',\n",
       " '66% off',\n",
       " '78% off',\n",
       " '65% off',\n",
       " '47% off',\n",
       " '50% off',\n",
       " '57% off',\n",
       " '40% off',\n",
       " '50% off',\n",
       " '64% off',\n",
       " '54% off',\n",
       " '54% off',\n",
       " '62% off',\n",
       " '70% off',\n",
       " '58% off',\n",
       " '75% off',\n",
       " '55% off',\n",
       " '41% off',\n",
       " '79% off',\n",
       " '61% off',\n",
       " '87% off',\n",
       " '14% off',\n",
       " '56% off',\n",
       " '64% off',\n",
       " '50% off',\n",
       " '53% off',\n",
       " '46% off',\n",
       " '75% off',\n",
       " '15% off',\n",
       " '55% off',\n",
       " '50% off',\n",
       " '65% off']"
      ]
     },
     "execution_count": 61,
     "metadata": {},
     "output_type": "execute_result"
    }
   ],
   "source": [
    "discount=[]\n",
    "for i in disc:\n",
    "    discount.append(i.text)\n",
    "discount"
   ]
  },
  {
   "cell_type": "code",
   "execution_count": 79,
   "id": "f1885951",
   "metadata": {},
   "outputs": [
    {
     "data": {
      "text/plain": [
       "40"
      ]
     },
     "execution_count": 79,
     "metadata": {},
     "output_type": "execute_result"
    }
   ],
   "source": [
    "len(discount)"
   ]
  },
  {
   "cell_type": "code",
   "execution_count": 80,
   "id": "44e2f562",
   "metadata": {},
   "outputs": [
    {
     "data": {
      "text/plain": [
       "<selenium.webdriver.remote.webelement.WebElement (session=\"5461a2fb68d9c6323e8b3b7f3e10a7a7\", element=\"f2f23376-42e8-42e3-9877-6a63f21389f9\")>"
      ]
     },
     "execution_count": 80,
     "metadata": {},
     "output_type": "execute_result"
    }
   ],
   "source": [
    "#searching web element for next tab\n",
    "next_btn=driver.find_element(\"xpath\",'/html/body/div[1]/div/div[3]/div[1]/div[2]/div[12]/div/div/nav/a[11]')\n",
    "next_btn"
   ]
  },
  {
   "cell_type": "code",
   "execution_count": 81,
   "id": "1f027e41",
   "metadata": {},
   "outputs": [],
   "source": [
    "next_btn.click()"
   ]
  },
  {
   "cell_type": "code",
   "execution_count": 82,
   "id": "c17d4469",
   "metadata": {},
   "outputs": [
    {
     "data": {
      "text/plain": [
       "[<selenium.webdriver.remote.webelement.WebElement (session=\"5461a2fb68d9c6323e8b3b7f3e10a7a7\", element=\"9f215af8-d6b2-4545-9558-992d26b61871\")>,\n",
       " <selenium.webdriver.remote.webelement.WebElement (session=\"5461a2fb68d9c6323e8b3b7f3e10a7a7\", element=\"18c9e802-9490-4f17-be9c-e8c916381b6b\")>,\n",
       " <selenium.webdriver.remote.webelement.WebElement (session=\"5461a2fb68d9c6323e8b3b7f3e10a7a7\", element=\"331ed2cb-5d8c-4da4-8da4-5f444d39fb4d\")>,\n",
       " <selenium.webdriver.remote.webelement.WebElement (session=\"5461a2fb68d9c6323e8b3b7f3e10a7a7\", element=\"d782b480-85dc-47f9-af6a-bd7b3722f0f6\")>,\n",
       " <selenium.webdriver.remote.webelement.WebElement (session=\"5461a2fb68d9c6323e8b3b7f3e10a7a7\", element=\"43cf9e93-1184-48cf-b104-c9902023c378\")>,\n",
       " <selenium.webdriver.remote.webelement.WebElement (session=\"5461a2fb68d9c6323e8b3b7f3e10a7a7\", element=\"2a547b33-b915-4808-8300-1c5c805ade5f\")>,\n",
       " <selenium.webdriver.remote.webelement.WebElement (session=\"5461a2fb68d9c6323e8b3b7f3e10a7a7\", element=\"2d86e1bb-8ea8-4710-b88c-c2d037946128\")>,\n",
       " <selenium.webdriver.remote.webelement.WebElement (session=\"5461a2fb68d9c6323e8b3b7f3e10a7a7\", element=\"bb4df4d9-0cec-474e-a74d-387774bb30ab\")>,\n",
       " <selenium.webdriver.remote.webelement.WebElement (session=\"5461a2fb68d9c6323e8b3b7f3e10a7a7\", element=\"d0cdd84e-3efe-429e-9ab6-5f8d274aaa4f\")>,\n",
       " <selenium.webdriver.remote.webelement.WebElement (session=\"5461a2fb68d9c6323e8b3b7f3e10a7a7\", element=\"c18e5e28-e6fe-47ff-975a-bb6d7a0ebc2f\")>,\n",
       " <selenium.webdriver.remote.webelement.WebElement (session=\"5461a2fb68d9c6323e8b3b7f3e10a7a7\", element=\"4c3d3323-a3e8-4fa8-8455-6cb55102148f\")>,\n",
       " <selenium.webdriver.remote.webelement.WebElement (session=\"5461a2fb68d9c6323e8b3b7f3e10a7a7\", element=\"a9ae2e81-aec8-4db7-9ef0-f97018b1a85c\")>,\n",
       " <selenium.webdriver.remote.webelement.WebElement (session=\"5461a2fb68d9c6323e8b3b7f3e10a7a7\", element=\"0dd102c6-76cc-494c-9d89-ee1d0e9fb258\")>,\n",
       " <selenium.webdriver.remote.webelement.WebElement (session=\"5461a2fb68d9c6323e8b3b7f3e10a7a7\", element=\"3f823b35-70fb-4f76-a3ba-4374b7377433\")>,\n",
       " <selenium.webdriver.remote.webelement.WebElement (session=\"5461a2fb68d9c6323e8b3b7f3e10a7a7\", element=\"c907a792-717d-4fd8-bd32-f978961a835c\")>,\n",
       " <selenium.webdriver.remote.webelement.WebElement (session=\"5461a2fb68d9c6323e8b3b7f3e10a7a7\", element=\"a63d7e3f-7bf2-4417-a534-95250fd8016e\")>,\n",
       " <selenium.webdriver.remote.webelement.WebElement (session=\"5461a2fb68d9c6323e8b3b7f3e10a7a7\", element=\"619968aa-5753-49a8-8353-87813f76c214\")>,\n",
       " <selenium.webdriver.remote.webelement.WebElement (session=\"5461a2fb68d9c6323e8b3b7f3e10a7a7\", element=\"cde441c9-1801-46f9-9a92-bb920e727094\")>,\n",
       " <selenium.webdriver.remote.webelement.WebElement (session=\"5461a2fb68d9c6323e8b3b7f3e10a7a7\", element=\"e0e2e244-33d3-4f0f-9537-df57d496b161\")>,\n",
       " <selenium.webdriver.remote.webelement.WebElement (session=\"5461a2fb68d9c6323e8b3b7f3e10a7a7\", element=\"d5be7ec3-6b5e-4df5-b380-5a33c5567128\")>,\n",
       " <selenium.webdriver.remote.webelement.WebElement (session=\"5461a2fb68d9c6323e8b3b7f3e10a7a7\", element=\"e595aed3-34e6-4292-a701-df4f0e01c4cc\")>,\n",
       " <selenium.webdriver.remote.webelement.WebElement (session=\"5461a2fb68d9c6323e8b3b7f3e10a7a7\", element=\"af659e8f-a59c-44e4-9257-52e8b6693452\")>,\n",
       " <selenium.webdriver.remote.webelement.WebElement (session=\"5461a2fb68d9c6323e8b3b7f3e10a7a7\", element=\"43341d05-6779-4ab0-9490-5eae2f522a27\")>,\n",
       " <selenium.webdriver.remote.webelement.WebElement (session=\"5461a2fb68d9c6323e8b3b7f3e10a7a7\", element=\"a866077b-6228-4955-a3d5-eda37ca631ed\")>,\n",
       " <selenium.webdriver.remote.webelement.WebElement (session=\"5461a2fb68d9c6323e8b3b7f3e10a7a7\", element=\"d14f83f5-5b71-4508-85fc-3169b6b91527\")>,\n",
       " <selenium.webdriver.remote.webelement.WebElement (session=\"5461a2fb68d9c6323e8b3b7f3e10a7a7\", element=\"1d87b6c6-8c3d-4c69-92df-c34943e9c795\")>,\n",
       " <selenium.webdriver.remote.webelement.WebElement (session=\"5461a2fb68d9c6323e8b3b7f3e10a7a7\", element=\"d5cc1554-f91e-498f-abf2-7871769d7c64\")>,\n",
       " <selenium.webdriver.remote.webelement.WebElement (session=\"5461a2fb68d9c6323e8b3b7f3e10a7a7\", element=\"90853ee5-b7c9-4424-b498-99dbbce457ba\")>,\n",
       " <selenium.webdriver.remote.webelement.WebElement (session=\"5461a2fb68d9c6323e8b3b7f3e10a7a7\", element=\"6115a92b-3631-4167-bb7a-23a219e5d056\")>,\n",
       " <selenium.webdriver.remote.webelement.WebElement (session=\"5461a2fb68d9c6323e8b3b7f3e10a7a7\", element=\"e8e0d0d9-8b67-4b69-b881-5994d5eb8026\")>,\n",
       " <selenium.webdriver.remote.webelement.WebElement (session=\"5461a2fb68d9c6323e8b3b7f3e10a7a7\", element=\"2920a654-27b2-49c2-a4a5-88c90b3cae0d\")>,\n",
       " <selenium.webdriver.remote.webelement.WebElement (session=\"5461a2fb68d9c6323e8b3b7f3e10a7a7\", element=\"0b80ef69-e160-4802-a19e-0e1a61346e45\")>,\n",
       " <selenium.webdriver.remote.webelement.WebElement (session=\"5461a2fb68d9c6323e8b3b7f3e10a7a7\", element=\"30c212c2-3d46-4beb-9e45-70ad474a78dc\")>,\n",
       " <selenium.webdriver.remote.webelement.WebElement (session=\"5461a2fb68d9c6323e8b3b7f3e10a7a7\", element=\"9d82fec5-ba4a-450b-9f3e-beaa29879bb3\")>,\n",
       " <selenium.webdriver.remote.webelement.WebElement (session=\"5461a2fb68d9c6323e8b3b7f3e10a7a7\", element=\"ab5ab177-775f-419e-8271-8e95f8e4befa\")>,\n",
       " <selenium.webdriver.remote.webelement.WebElement (session=\"5461a2fb68d9c6323e8b3b7f3e10a7a7\", element=\"49e5d8cb-c571-4cdb-b22e-6d53c3a3ea66\")>,\n",
       " <selenium.webdriver.remote.webelement.WebElement (session=\"5461a2fb68d9c6323e8b3b7f3e10a7a7\", element=\"f94cc5fc-0893-4cf7-b9f2-abf81cf61045\")>,\n",
       " <selenium.webdriver.remote.webelement.WebElement (session=\"5461a2fb68d9c6323e8b3b7f3e10a7a7\", element=\"205c5e6d-8fe4-41d2-b847-f9248c9622fd\")>,\n",
       " <selenium.webdriver.remote.webelement.WebElement (session=\"5461a2fb68d9c6323e8b3b7f3e10a7a7\", element=\"dae49b71-5a1a-423e-a6e6-c0a793a5c341\")>,\n",
       " <selenium.webdriver.remote.webelement.WebElement (session=\"5461a2fb68d9c6323e8b3b7f3e10a7a7\", element=\"81392048-6fc7-4d78-af62-68e7e6d04af5\")>]"
      ]
     },
     "execution_count": 82,
     "metadata": {},
     "output_type": "execute_result"
    }
   ],
   "source": [
    "brand=driver.find_elements(\"xpath\",'//div[@class=\"_2WkVRV\"]')\n",
    "brand"
   ]
  },
  {
   "cell_type": "code",
   "execution_count": 27,
   "id": "dd996865",
   "metadata": {},
   "outputs": [
    {
     "data": {
      "text/plain": [
       "['Sumohan',\n",
       " 'Nilatin',\n",
       " 'WOODLAND',\n",
       " 'BRUTON',\n",
       " 'PUMA',\n",
       " 'URBANBOX',\n",
       " 'SFR',\n",
       " 'luxury fashion',\n",
       " 'aadi',\n",
       " 'KWIK FIT',\n",
       " 'BRUTON',\n",
       " 'RapidBox',\n",
       " 'ASTEROID',\n",
       " 'Labbin',\n",
       " 'Magnolia',\n",
       " 'Kirjak',\n",
       " 'Kraasa',\n",
       " 'aadi',\n",
       " 'Kraasa',\n",
       " 'Roadster',\n",
       " 'BIRDE',\n",
       " 'BIRDE',\n",
       " 'AMICO',\n",
       " 'kardam&sons',\n",
       " 'Kzaara',\n",
       " 'Robbie jones',\n",
       " 'Dizzler',\n",
       " 'Numenzo',\n",
       " 'Chevit',\n",
       " 'ONECENTRE',\n",
       " 'India hub',\n",
       " 'KNIGHT WALKERS',\n",
       " 'CLYMB',\n",
       " 'HOTSTYLE',\n",
       " 'BIRDE',\n",
       " 'RapidBox',\n",
       " 'BRUTON',\n",
       " 'Chevit',\n",
       " 'Rzisbo',\n",
       " 'Nilatin']"
      ]
     },
     "execution_count": 27,
     "metadata": {},
     "output_type": "execute_result"
    }
   ],
   "source": [
    "brand2=[]\n",
    "for i in brand:\n",
    "    brand2.append(i.text)\n",
    "brand2"
   ]
  },
  {
   "cell_type": "code",
   "execution_count": 84,
   "id": "8f746299",
   "metadata": {},
   "outputs": [
    {
     "data": {
      "text/plain": [
       "40"
      ]
     },
     "execution_count": 84,
     "metadata": {},
     "output_type": "execute_result"
    }
   ],
   "source": [
    "len(brand2)"
   ]
  },
  {
   "cell_type": "code",
   "execution_count": 28,
   "id": "83204a6d",
   "metadata": {},
   "outputs": [
    {
     "data": {
      "text/plain": [
       "[<selenium.webdriver.remote.webelement.WebElement (session=\"a07b435010209bd93cc3e4bfebb6c457\", element=\"79b7ba9b-e477-47bb-9bb5-38f29db2c12d\")>,\n",
       " <selenium.webdriver.remote.webelement.WebElement (session=\"a07b435010209bd93cc3e4bfebb6c457\", element=\"4663c24c-122c-4845-8240-4e543a04bac4\")>,\n",
       " <selenium.webdriver.remote.webelement.WebElement (session=\"a07b435010209bd93cc3e4bfebb6c457\", element=\"65eabec3-6a20-4e98-8c25-a88c442bfe2f\")>,\n",
       " <selenium.webdriver.remote.webelement.WebElement (session=\"a07b435010209bd93cc3e4bfebb6c457\", element=\"cca829ff-9460-490d-855e-60f81b0b8717\")>,\n",
       " <selenium.webdriver.remote.webelement.WebElement (session=\"a07b435010209bd93cc3e4bfebb6c457\", element=\"d08bb986-4082-4dad-ab02-0006e1fff0ef\")>,\n",
       " <selenium.webdriver.remote.webelement.WebElement (session=\"a07b435010209bd93cc3e4bfebb6c457\", element=\"c7c271f6-247e-4be0-992d-bb5bb2f28015\")>,\n",
       " <selenium.webdriver.remote.webelement.WebElement (session=\"a07b435010209bd93cc3e4bfebb6c457\", element=\"03a5a4f1-7407-4f0c-abd0-46fb97bbb269\")>,\n",
       " <selenium.webdriver.remote.webelement.WebElement (session=\"a07b435010209bd93cc3e4bfebb6c457\", element=\"8ad92b3d-5958-42e7-8e19-13581a181029\")>,\n",
       " <selenium.webdriver.remote.webelement.WebElement (session=\"a07b435010209bd93cc3e4bfebb6c457\", element=\"8e294178-b021-4413-83fc-82d62585a264\")>,\n",
       " <selenium.webdriver.remote.webelement.WebElement (session=\"a07b435010209bd93cc3e4bfebb6c457\", element=\"e3b936c8-c787-4773-a835-1264fa617d2a\")>,\n",
       " <selenium.webdriver.remote.webelement.WebElement (session=\"a07b435010209bd93cc3e4bfebb6c457\", element=\"e0e6d31a-e0ef-4460-b7b6-ddabc65c2bb9\")>,\n",
       " <selenium.webdriver.remote.webelement.WebElement (session=\"a07b435010209bd93cc3e4bfebb6c457\", element=\"77636896-5cfe-4e60-824f-cd4ff1f2599c\")>,\n",
       " <selenium.webdriver.remote.webelement.WebElement (session=\"a07b435010209bd93cc3e4bfebb6c457\", element=\"ddf3d868-86cd-411a-9588-b623ff7908d4\")>,\n",
       " <selenium.webdriver.remote.webelement.WebElement (session=\"a07b435010209bd93cc3e4bfebb6c457\", element=\"4d621531-1d24-4ee4-94f2-43430a9c6b98\")>,\n",
       " <selenium.webdriver.remote.webelement.WebElement (session=\"a07b435010209bd93cc3e4bfebb6c457\", element=\"787794ef-f90d-468b-afe9-1f1dd3bf4efa\")>,\n",
       " <selenium.webdriver.remote.webelement.WebElement (session=\"a07b435010209bd93cc3e4bfebb6c457\", element=\"b1d7d78f-6414-4924-9f93-d20a7072678d\")>,\n",
       " <selenium.webdriver.remote.webelement.WebElement (session=\"a07b435010209bd93cc3e4bfebb6c457\", element=\"97a79617-92c5-4e61-a53b-da7ab4fbf9e2\")>,\n",
       " <selenium.webdriver.remote.webelement.WebElement (session=\"a07b435010209bd93cc3e4bfebb6c457\", element=\"05822a40-3200-4968-89c8-9a3db96fb885\")>,\n",
       " <selenium.webdriver.remote.webelement.WebElement (session=\"a07b435010209bd93cc3e4bfebb6c457\", element=\"6221063d-2d7a-4ffa-b683-f791445c9eed\")>,\n",
       " <selenium.webdriver.remote.webelement.WebElement (session=\"a07b435010209bd93cc3e4bfebb6c457\", element=\"1a054b65-8c35-433f-9945-5048e16f02e3\")>,\n",
       " <selenium.webdriver.remote.webelement.WebElement (session=\"a07b435010209bd93cc3e4bfebb6c457\", element=\"056c9001-1e7a-4328-b463-3dd5292225ad\")>,\n",
       " <selenium.webdriver.remote.webelement.WebElement (session=\"a07b435010209bd93cc3e4bfebb6c457\", element=\"2b634342-b7e2-4dcf-8421-8712e2b991b3\")>,\n",
       " <selenium.webdriver.remote.webelement.WebElement (session=\"a07b435010209bd93cc3e4bfebb6c457\", element=\"d2b9587f-8715-43cc-a0bc-82e275efebb6\")>,\n",
       " <selenium.webdriver.remote.webelement.WebElement (session=\"a07b435010209bd93cc3e4bfebb6c457\", element=\"7b6ab9f5-5778-4bf6-9edd-5668831fa003\")>,\n",
       " <selenium.webdriver.remote.webelement.WebElement (session=\"a07b435010209bd93cc3e4bfebb6c457\", element=\"915b47ee-0bbd-4ccb-b5f7-9dcd7f0788e4\")>,\n",
       " <selenium.webdriver.remote.webelement.WebElement (session=\"a07b435010209bd93cc3e4bfebb6c457\", element=\"72292cef-b7d8-4781-a5d6-a4a5ed80ee13\")>,\n",
       " <selenium.webdriver.remote.webelement.WebElement (session=\"a07b435010209bd93cc3e4bfebb6c457\", element=\"1163299e-2b4c-4568-a3b1-ecf174eb8224\")>,\n",
       " <selenium.webdriver.remote.webelement.WebElement (session=\"a07b435010209bd93cc3e4bfebb6c457\", element=\"e3e17aba-c462-439b-8c46-c8ee8168e5e4\")>,\n",
       " <selenium.webdriver.remote.webelement.WebElement (session=\"a07b435010209bd93cc3e4bfebb6c457\", element=\"09479714-90d7-439e-8378-ec6d56fe6ec1\")>,\n",
       " <selenium.webdriver.remote.webelement.WebElement (session=\"a07b435010209bd93cc3e4bfebb6c457\", element=\"d6153d3a-0454-477d-9e54-0d39fdef1d18\")>,\n",
       " <selenium.webdriver.remote.webelement.WebElement (session=\"a07b435010209bd93cc3e4bfebb6c457\", element=\"fddafe02-6087-4472-a114-630c57e2f050\")>,\n",
       " <selenium.webdriver.remote.webelement.WebElement (session=\"a07b435010209bd93cc3e4bfebb6c457\", element=\"b286087f-7fc9-4d4b-8fc8-619fe59b8de8\")>,\n",
       " <selenium.webdriver.remote.webelement.WebElement (session=\"a07b435010209bd93cc3e4bfebb6c457\", element=\"3ff39130-8c6d-4f43-a01c-1ffd66ee3817\")>,\n",
       " <selenium.webdriver.remote.webelement.WebElement (session=\"a07b435010209bd93cc3e4bfebb6c457\", element=\"2c13f216-8d92-4bc8-a885-a395e45d5ef2\")>]"
      ]
     },
     "execution_count": 28,
     "metadata": {},
     "output_type": "execute_result"
    }
   ],
   "source": [
    "pro_disc=driver.find_elements(\"xpath\",'//a[@class=\"IRpwTa\"]')\n",
    "pro_disc"
   ]
  },
  {
   "cell_type": "code",
   "execution_count": 30,
   "id": "3646f572",
   "metadata": {
    "scrolled": true
   },
   "outputs": [
    {
     "data": {
      "text/plain": [
       "['Black Sneaker For Men Sneakers For Men',\n",
       " 'Sneakers For Men',\n",
       " 'Modern Trendy Sneakers Shoes Sneakers For Men',\n",
       " 'Puma Smash v2 L Sneakers For Men',\n",
       " 'Sneakers For Men',\n",
       " 'Luxuryfashion casual sneaker shoes Sneakers For Men',\n",
       " 'Sneakers For Men',\n",
       " 'Kwik FIT casual sneaker shoes and partywear shoes Casua...',\n",
       " 'Modern Trendy Sneakers Shoes Sneakers For Men',\n",
       " \"Original Luxury Branded Fashionable Men's Casual Walkin...\",\n",
       " 'Sneakers For Men',\n",
       " 'Sneakers For Men',\n",
       " \"men's Skyblue sneakers lace-up trendy casual Sneakers F...\",\n",
       " 'Shark-41 Sneakers For Men',\n",
       " 'Sneakers For Men',\n",
       " 'Casuals, Canvas, Partywear Sneakers For Men',\n",
       " 'Sneakers For Men',\n",
       " 'Stylish Comfortable Lightweight, Breathable Walking Sho...',\n",
       " 'Stylish Comfortable Lightweight, Breathable Walking Sho...',\n",
       " 'Sneakers For Men',\n",
       " 'Fashionable Luxury Canvas Casual Outdoor Sneakers White...',\n",
       " 'Sneakers For Men',\n",
       " 'Casual Sneakers Canvas Shoes For Men Sneakers For Men',\n",
       " 'Sneakers For Men',\n",
       " 'Super Stylish & Trendy Combo Pack of 02 Pairs Sneakers ...',\n",
       " 'STR2 Sneakers For Men',\n",
       " 'Sneakers For Men',\n",
       " 'Sneakers For Men',\n",
       " 'Sneakers For Men',\n",
       " 'Stylish Comfortable Lightweight, Breathable Casual Walk...',\n",
       " 'Lightweight Pack Of 1 Trendy Sneakers Sneakers For Men',\n",
       " \"Men's Combo Pack of 02 Shoes for Men Casual Sneakers Ou...\",\n",
       " 'Sneakers For Men',\n",
       " 'Sneakers For Men']"
      ]
     },
     "execution_count": 30,
     "metadata": {},
     "output_type": "execute_result"
    }
   ],
   "source": [
    "pro_disc1=[]\n",
    "for i in pro_disc:\n",
    "    pro_disc1.append(i.text)\n",
    "pro_disc1\n"
   ]
  },
  {
   "cell_type": "code",
   "execution_count": 29,
   "id": "656a62c5",
   "metadata": {},
   "outputs": [
    {
     "data": {
      "text/plain": [
       "[<selenium.webdriver.remote.webelement.WebElement (session=\"a07b435010209bd93cc3e4bfebb6c457\", element=\"275ccdc2-3a05-4b65-8343-a552ad2db2f2\")>,\n",
       " <selenium.webdriver.remote.webelement.WebElement (session=\"a07b435010209bd93cc3e4bfebb6c457\", element=\"88ccbc27-b933-4fe0-b5b9-3734faae4232\")>,\n",
       " <selenium.webdriver.remote.webelement.WebElement (session=\"a07b435010209bd93cc3e4bfebb6c457\", element=\"ebfa7780-4331-4d8f-9914-6d4b8eb4119d\")>,\n",
       " <selenium.webdriver.remote.webelement.WebElement (session=\"a07b435010209bd93cc3e4bfebb6c457\", element=\"479831f9-bc67-4e96-8bd2-b4dce4e819e3\")>,\n",
       " <selenium.webdriver.remote.webelement.WebElement (session=\"a07b435010209bd93cc3e4bfebb6c457\", element=\"4c019859-bd78-4a8b-b315-ef49b0d7d382\")>,\n",
       " <selenium.webdriver.remote.webelement.WebElement (session=\"a07b435010209bd93cc3e4bfebb6c457\", element=\"fa435f69-8b84-4644-af0a-feb9873e6932\")>,\n",
       " <selenium.webdriver.remote.webelement.WebElement (session=\"a07b435010209bd93cc3e4bfebb6c457\", element=\"1bbaf4bc-32bc-4927-bb42-daf587677839\")>,\n",
       " <selenium.webdriver.remote.webelement.WebElement (session=\"a07b435010209bd93cc3e4bfebb6c457\", element=\"37ef2880-ed65-4521-969d-2d8fa624e376\")>,\n",
       " <selenium.webdriver.remote.webelement.WebElement (session=\"a07b435010209bd93cc3e4bfebb6c457\", element=\"6b1c5337-1577-414c-9efd-2d5264882847\")>,\n",
       " <selenium.webdriver.remote.webelement.WebElement (session=\"a07b435010209bd93cc3e4bfebb6c457\", element=\"cb7018ea-fb20-476d-81f6-b437865d9a00\")>,\n",
       " <selenium.webdriver.remote.webelement.WebElement (session=\"a07b435010209bd93cc3e4bfebb6c457\", element=\"516d88c1-5ba6-473e-a336-05662f06eb1e\")>,\n",
       " <selenium.webdriver.remote.webelement.WebElement (session=\"a07b435010209bd93cc3e4bfebb6c457\", element=\"6c82af20-a018-47d6-95f7-1c7161ad2b2c\")>,\n",
       " <selenium.webdriver.remote.webelement.WebElement (session=\"a07b435010209bd93cc3e4bfebb6c457\", element=\"6d8929cf-7a3e-415c-a48d-144723960ab1\")>,\n",
       " <selenium.webdriver.remote.webelement.WebElement (session=\"a07b435010209bd93cc3e4bfebb6c457\", element=\"4fcfd012-1918-4d8d-858b-a2176376714c\")>,\n",
       " <selenium.webdriver.remote.webelement.WebElement (session=\"a07b435010209bd93cc3e4bfebb6c457\", element=\"4a7852c1-f34f-49a5-beed-72d7d90dd55a\")>,\n",
       " <selenium.webdriver.remote.webelement.WebElement (session=\"a07b435010209bd93cc3e4bfebb6c457\", element=\"d380a086-0bbb-4ce2-9358-3aaad6db4ff8\")>,\n",
       " <selenium.webdriver.remote.webelement.WebElement (session=\"a07b435010209bd93cc3e4bfebb6c457\", element=\"eb2a93ea-8b83-47d0-972c-d62522df42ad\")>,\n",
       " <selenium.webdriver.remote.webelement.WebElement (session=\"a07b435010209bd93cc3e4bfebb6c457\", element=\"dfa8193b-21db-4b27-a7ec-2dcef55e24be\")>,\n",
       " <selenium.webdriver.remote.webelement.WebElement (session=\"a07b435010209bd93cc3e4bfebb6c457\", element=\"f7bec353-d2a5-4337-aedd-6c12db7abbe6\")>,\n",
       " <selenium.webdriver.remote.webelement.WebElement (session=\"a07b435010209bd93cc3e4bfebb6c457\", element=\"8b34d4af-0271-4580-8cbf-507c63f62564\")>,\n",
       " <selenium.webdriver.remote.webelement.WebElement (session=\"a07b435010209bd93cc3e4bfebb6c457\", element=\"af4acde9-5b3e-4702-b20a-4e3eb49fd51a\")>,\n",
       " <selenium.webdriver.remote.webelement.WebElement (session=\"a07b435010209bd93cc3e4bfebb6c457\", element=\"042f1b37-932c-452d-9066-261f82d0658b\")>,\n",
       " <selenium.webdriver.remote.webelement.WebElement (session=\"a07b435010209bd93cc3e4bfebb6c457\", element=\"16e8c911-db2a-4fbc-a6ed-6ed8aae8a760\")>,\n",
       " <selenium.webdriver.remote.webelement.WebElement (session=\"a07b435010209bd93cc3e4bfebb6c457\", element=\"efe8846b-3150-42b5-b48a-c3624becf1b3\")>,\n",
       " <selenium.webdriver.remote.webelement.WebElement (session=\"a07b435010209bd93cc3e4bfebb6c457\", element=\"e4aceec3-f2b1-4566-9c72-52a0d1945245\")>,\n",
       " <selenium.webdriver.remote.webelement.WebElement (session=\"a07b435010209bd93cc3e4bfebb6c457\", element=\"2bbeb4cc-31ed-438e-a544-893f7f39956a\")>,\n",
       " <selenium.webdriver.remote.webelement.WebElement (session=\"a07b435010209bd93cc3e4bfebb6c457\", element=\"ed44c085-93a7-489f-aedd-43ce4087161a\")>,\n",
       " <selenium.webdriver.remote.webelement.WebElement (session=\"a07b435010209bd93cc3e4bfebb6c457\", element=\"f8c3cc26-3a27-4f33-bc15-b624d40e97f7\")>,\n",
       " <selenium.webdriver.remote.webelement.WebElement (session=\"a07b435010209bd93cc3e4bfebb6c457\", element=\"97822bd5-3b49-4f12-a4e3-73473a25ff58\")>,\n",
       " <selenium.webdriver.remote.webelement.WebElement (session=\"a07b435010209bd93cc3e4bfebb6c457\", element=\"6059e328-7408-47f1-843b-b6413760975f\")>,\n",
       " <selenium.webdriver.remote.webelement.WebElement (session=\"a07b435010209bd93cc3e4bfebb6c457\", element=\"38bc1574-6ddc-469b-a003-9272e9b1de41\")>,\n",
       " <selenium.webdriver.remote.webelement.WebElement (session=\"a07b435010209bd93cc3e4bfebb6c457\", element=\"ac671e87-4037-4c40-a63c-b47688dfdeb0\")>,\n",
       " <selenium.webdriver.remote.webelement.WebElement (session=\"a07b435010209bd93cc3e4bfebb6c457\", element=\"fcf31a6c-e626-49ef-bb6f-24856bf34709\")>,\n",
       " <selenium.webdriver.remote.webelement.WebElement (session=\"a07b435010209bd93cc3e4bfebb6c457\", element=\"7f6b3705-d347-48f6-b23e-c5465abcfca4\")>,\n",
       " <selenium.webdriver.remote.webelement.WebElement (session=\"a07b435010209bd93cc3e4bfebb6c457\", element=\"5945b292-e926-4120-920f-dd7742515977\")>,\n",
       " <selenium.webdriver.remote.webelement.WebElement (session=\"a07b435010209bd93cc3e4bfebb6c457\", element=\"7744e4b9-a399-4279-94c8-d318507d1b25\")>,\n",
       " <selenium.webdriver.remote.webelement.WebElement (session=\"a07b435010209bd93cc3e4bfebb6c457\", element=\"d470f988-b0a2-4b4e-8867-55db2c803f62\")>,\n",
       " <selenium.webdriver.remote.webelement.WebElement (session=\"a07b435010209bd93cc3e4bfebb6c457\", element=\"f1b0799f-6c59-46ad-8ece-b4b8a28a89b3\")>,\n",
       " <selenium.webdriver.remote.webelement.WebElement (session=\"a07b435010209bd93cc3e4bfebb6c457\", element=\"547a5412-c803-4ac5-9003-3531862c7863\")>,\n",
       " <selenium.webdriver.remote.webelement.WebElement (session=\"a07b435010209bd93cc3e4bfebb6c457\", element=\"5e2af912-b7d9-406e-b12b-a7683f565ef8\")>]"
      ]
     },
     "execution_count": 29,
     "metadata": {},
     "output_type": "execute_result"
    }
   ],
   "source": [
    "price=driver.find_elements(\"xpath\",'//div[@class=\"_30jeq3\"]')\n",
    "price"
   ]
  },
  {
   "cell_type": "code",
   "execution_count": 31,
   "id": "8e7a6813",
   "metadata": {},
   "outputs": [
    {
     "data": {
      "text/plain": [
       "['₹499',\n",
       " '₹450',\n",
       " '₹1,797',\n",
       " '₹284',\n",
       " '₹1,658',\n",
       " '₹219',\n",
       " '₹289',\n",
       " '₹474',\n",
       " '₹425',\n",
       " '₹397',\n",
       " '₹299',\n",
       " '₹630',\n",
       " '₹474',\n",
       " '₹449',\n",
       " '₹449',\n",
       " '₹490',\n",
       " '₹539',\n",
       " '₹299',\n",
       " '₹539',\n",
       " '₹1,465',\n",
       " '₹442',\n",
       " '₹442',\n",
       " '₹494',\n",
       " '₹449',\n",
       " '₹254',\n",
       " '₹449',\n",
       " '₹435',\n",
       " '₹466',\n",
       " '₹649',\n",
       " '₹299',\n",
       " '₹448',\n",
       " '₹699',\n",
       " '₹519',\n",
       " '₹284',\n",
       " '₹442',\n",
       " '₹620',\n",
       " '₹199',\n",
       " '₹466',\n",
       " '₹490',\n",
       " '₹569']"
      ]
     },
     "execution_count": 31,
     "metadata": {},
     "output_type": "execute_result"
    }
   ],
   "source": [
    "price2=[]\n",
    "for i in price:\n",
    "    price2.append(i.text)\n",
    "price2"
   ]
  },
  {
   "cell_type": "code",
   "execution_count": 32,
   "id": "496c72eb",
   "metadata": {
    "scrolled": true
   },
   "outputs": [
    {
     "data": {
      "text/plain": [
       "[<selenium.webdriver.remote.webelement.WebElement (session=\"a07b435010209bd93cc3e4bfebb6c457\", element=\"46b683d5-8e9e-40f1-8107-dfc29cacc78e\")>,\n",
       " <selenium.webdriver.remote.webelement.WebElement (session=\"a07b435010209bd93cc3e4bfebb6c457\", element=\"fd0153e6-fb23-4979-8bbb-9816d51b4034\")>,\n",
       " <selenium.webdriver.remote.webelement.WebElement (session=\"a07b435010209bd93cc3e4bfebb6c457\", element=\"1ddb478b-e5f9-4780-a373-2fac06364de7\")>,\n",
       " <selenium.webdriver.remote.webelement.WebElement (session=\"a07b435010209bd93cc3e4bfebb6c457\", element=\"047fb858-385b-4037-8bec-519fb51a1aea\")>,\n",
       " <selenium.webdriver.remote.webelement.WebElement (session=\"a07b435010209bd93cc3e4bfebb6c457\", element=\"dd4fee1b-acbf-415b-b3dc-457fbb8a1a70\")>,\n",
       " <selenium.webdriver.remote.webelement.WebElement (session=\"a07b435010209bd93cc3e4bfebb6c457\", element=\"f742f0f3-f28f-4792-9125-7c2634f8f54c\")>,\n",
       " <selenium.webdriver.remote.webelement.WebElement (session=\"a07b435010209bd93cc3e4bfebb6c457\", element=\"f5732bbe-26e4-4938-acd1-e64aab22130d\")>,\n",
       " <selenium.webdriver.remote.webelement.WebElement (session=\"a07b435010209bd93cc3e4bfebb6c457\", element=\"e0abc1fd-2acc-47e0-aee7-0c9114faecd3\")>,\n",
       " <selenium.webdriver.remote.webelement.WebElement (session=\"a07b435010209bd93cc3e4bfebb6c457\", element=\"cba9cf3a-8422-431c-ae71-3b40af54f13c\")>,\n",
       " <selenium.webdriver.remote.webelement.WebElement (session=\"a07b435010209bd93cc3e4bfebb6c457\", element=\"e10aa51f-ff3e-42c9-8184-508b5994706c\")>,\n",
       " <selenium.webdriver.remote.webelement.WebElement (session=\"a07b435010209bd93cc3e4bfebb6c457\", element=\"f0324e28-c5ca-4274-a703-e3c049d575ff\")>,\n",
       " <selenium.webdriver.remote.webelement.WebElement (session=\"a07b435010209bd93cc3e4bfebb6c457\", element=\"a109c504-0546-404c-aba1-68a9cbd69f3e\")>,\n",
       " <selenium.webdriver.remote.webelement.WebElement (session=\"a07b435010209bd93cc3e4bfebb6c457\", element=\"aef54dcd-3b61-4b3d-ab5a-36b5cddb63cf\")>,\n",
       " <selenium.webdriver.remote.webelement.WebElement (session=\"a07b435010209bd93cc3e4bfebb6c457\", element=\"229dd0ce-29ef-4f81-92b2-c90901c9d0e9\")>,\n",
       " <selenium.webdriver.remote.webelement.WebElement (session=\"a07b435010209bd93cc3e4bfebb6c457\", element=\"bafe896e-f62f-4ea1-8f0d-7f22669389b3\")>,\n",
       " <selenium.webdriver.remote.webelement.WebElement (session=\"a07b435010209bd93cc3e4bfebb6c457\", element=\"7a239eba-a5f7-4306-a64a-e92d4ed4b32d\")>,\n",
       " <selenium.webdriver.remote.webelement.WebElement (session=\"a07b435010209bd93cc3e4bfebb6c457\", element=\"fb9c24a9-e9ca-4cfd-bfc4-5f4df5492997\")>,\n",
       " <selenium.webdriver.remote.webelement.WebElement (session=\"a07b435010209bd93cc3e4bfebb6c457\", element=\"fb80d5c2-cebc-4fb0-adba-a39c7309c0f2\")>,\n",
       " <selenium.webdriver.remote.webelement.WebElement (session=\"a07b435010209bd93cc3e4bfebb6c457\", element=\"60ca6b2e-f39c-485f-99a9-bb149776a601\")>,\n",
       " <selenium.webdriver.remote.webelement.WebElement (session=\"a07b435010209bd93cc3e4bfebb6c457\", element=\"745c2af1-882b-4a8d-a63b-4b8b6f620776\")>,\n",
       " <selenium.webdriver.remote.webelement.WebElement (session=\"a07b435010209bd93cc3e4bfebb6c457\", element=\"7d5a4b1c-d70e-456b-99a7-49abc5cd2130\")>,\n",
       " <selenium.webdriver.remote.webelement.WebElement (session=\"a07b435010209bd93cc3e4bfebb6c457\", element=\"aa338439-3593-4aba-a561-f712d5ada2f0\")>,\n",
       " <selenium.webdriver.remote.webelement.WebElement (session=\"a07b435010209bd93cc3e4bfebb6c457\", element=\"8b50a404-1a09-4c91-af32-3f599cf07b54\")>,\n",
       " <selenium.webdriver.remote.webelement.WebElement (session=\"a07b435010209bd93cc3e4bfebb6c457\", element=\"13fb7fbc-de4e-48f4-bedf-c4206ada73af\")>,\n",
       " <selenium.webdriver.remote.webelement.WebElement (session=\"a07b435010209bd93cc3e4bfebb6c457\", element=\"bf94bd49-e9a4-4da4-b62c-646290d59bb1\")>,\n",
       " <selenium.webdriver.remote.webelement.WebElement (session=\"a07b435010209bd93cc3e4bfebb6c457\", element=\"c4292c3d-0907-4b66-9550-bb2e587f5598\")>,\n",
       " <selenium.webdriver.remote.webelement.WebElement (session=\"a07b435010209bd93cc3e4bfebb6c457\", element=\"16d65c65-12ef-4f5a-ad72-d5b7b65debc7\")>,\n",
       " <selenium.webdriver.remote.webelement.WebElement (session=\"a07b435010209bd93cc3e4bfebb6c457\", element=\"abba08cc-0454-4ea4-b669-00463d9e8ba7\")>,\n",
       " <selenium.webdriver.remote.webelement.WebElement (session=\"a07b435010209bd93cc3e4bfebb6c457\", element=\"fdef1d0c-d157-4c91-ae74-48b4dfcd15dd\")>,\n",
       " <selenium.webdriver.remote.webelement.WebElement (session=\"a07b435010209bd93cc3e4bfebb6c457\", element=\"3c859669-ba41-4579-90f0-4b436c284014\")>,\n",
       " <selenium.webdriver.remote.webelement.WebElement (session=\"a07b435010209bd93cc3e4bfebb6c457\", element=\"0040edda-c65a-4872-928d-4e26943d0ea5\")>,\n",
       " <selenium.webdriver.remote.webelement.WebElement (session=\"a07b435010209bd93cc3e4bfebb6c457\", element=\"dc9db92f-4b68-443e-a6a7-e9f2279fabd7\")>,\n",
       " <selenium.webdriver.remote.webelement.WebElement (session=\"a07b435010209bd93cc3e4bfebb6c457\", element=\"c3b99fd3-dd8c-4892-a0aa-9b79dec5bd59\")>,\n",
       " <selenium.webdriver.remote.webelement.WebElement (session=\"a07b435010209bd93cc3e4bfebb6c457\", element=\"0e3e2699-f0a5-4d06-b221-f0af9cc7180c\")>,\n",
       " <selenium.webdriver.remote.webelement.WebElement (session=\"a07b435010209bd93cc3e4bfebb6c457\", element=\"099e6926-b0c3-4d97-83d3-658eb691f1b9\")>,\n",
       " <selenium.webdriver.remote.webelement.WebElement (session=\"a07b435010209bd93cc3e4bfebb6c457\", element=\"bac6f77f-6e37-4e6a-b1ce-ffbb5507bcea\")>,\n",
       " <selenium.webdriver.remote.webelement.WebElement (session=\"a07b435010209bd93cc3e4bfebb6c457\", element=\"4691efb6-9e15-45a9-a87c-57fefa9b1fb4\")>,\n",
       " <selenium.webdriver.remote.webelement.WebElement (session=\"a07b435010209bd93cc3e4bfebb6c457\", element=\"e0614621-89a2-4380-9991-97eb3940d32b\")>,\n",
       " <selenium.webdriver.remote.webelement.WebElement (session=\"a07b435010209bd93cc3e4bfebb6c457\", element=\"0a850507-03a5-4936-b9b0-4810475af2ab\")>,\n",
       " <selenium.webdriver.remote.webelement.WebElement (session=\"a07b435010209bd93cc3e4bfebb6c457\", element=\"f44aeb92-54c6-42ff-8d86-7e2291f8226e\")>]"
      ]
     },
     "execution_count": 32,
     "metadata": {},
     "output_type": "execute_result"
    }
   ],
   "source": [
    "disc=driver.find_elements(\"xpath\",'//div[@class=\"_3Ay6Sb\"]')\n",
    "disc"
   ]
  },
  {
   "cell_type": "code",
   "execution_count": 33,
   "id": "cd68a7ea",
   "metadata": {
    "scrolled": true
   },
   "outputs": [
    {
     "data": {
      "text/plain": [
       "['50% off',\n",
       " '65% off',\n",
       " '40% off',\n",
       " '78% off',\n",
       " '52% off',\n",
       " '78% off',\n",
       " '71% off',\n",
       " '63% off',\n",
       " '57% off',\n",
       " '80% off',\n",
       " '76% off',\n",
       " '36% off',\n",
       " '76% off',\n",
       " '55% off',\n",
       " '55% off',\n",
       " '75% off',\n",
       " '46% off',\n",
       " '70% off',\n",
       " '46% off',\n",
       " '65% off',\n",
       " '55% off',\n",
       " '55% off',\n",
       " '50% off',\n",
       " '71% off',\n",
       " '74% off',\n",
       " '55% off',\n",
       " '39% off',\n",
       " '64% off',\n",
       " '65% off',\n",
       " '51% off',\n",
       " '77% off',\n",
       " '65% off',\n",
       " '65% off',\n",
       " '71% off',\n",
       " '55% off',\n",
       " '37% off',\n",
       " '66% off',\n",
       " '57% off',\n",
       " '50% off',\n",
       " '81% off']"
      ]
     },
     "execution_count": 33,
     "metadata": {},
     "output_type": "execute_result"
    }
   ],
   "source": [
    "discount2=[]\n",
    "for i in disc:\n",
    "    discount2.append(i.text)\n",
    "discount2"
   ]
  },
  {
   "cell_type": "code",
   "execution_count": 38,
   "id": "252bd240",
   "metadata": {},
   "outputs": [
    {
     "data": {
      "text/plain": [
       "<selenium.webdriver.remote.webelement.WebElement (session=\"a07b435010209bd93cc3e4bfebb6c457\", element=\"44c8f68c-202f-4cb4-9406-5fc97bfa49f9\")>"
      ]
     },
     "execution_count": 38,
     "metadata": {},
     "output_type": "execute_result"
    }
   ],
   "source": [
    "#searching for webelement for next btn\n",
    "next_btn=driver.find_element(\"xpath\",'/html/body/div[1]/div/div[3]/div[1]/div[2]/div[12]/div/div/nav/a[11]')\n",
    "next_btn"
   ]
  },
  {
   "cell_type": "code",
   "execution_count": 39,
   "id": "db782f98",
   "metadata": {},
   "outputs": [],
   "source": [
    "next_btn.click()"
   ]
  },
  {
   "cell_type": "code",
   "execution_count": 40,
   "id": "4023888b",
   "metadata": {
    "scrolled": true
   },
   "outputs": [
    {
     "data": {
      "text/plain": [
       "[<selenium.webdriver.remote.webelement.WebElement (session=\"a07b435010209bd93cc3e4bfebb6c457\", element=\"9eed2e94-3a27-41bb-b888-ee2756be3688\")>,\n",
       " <selenium.webdriver.remote.webelement.WebElement (session=\"a07b435010209bd93cc3e4bfebb6c457\", element=\"b5125bd5-587e-4221-8946-8f1b638fd27e\")>,\n",
       " <selenium.webdriver.remote.webelement.WebElement (session=\"a07b435010209bd93cc3e4bfebb6c457\", element=\"be6a95c8-87f6-4f04-8656-9defec909bd1\")>,\n",
       " <selenium.webdriver.remote.webelement.WebElement (session=\"a07b435010209bd93cc3e4bfebb6c457\", element=\"a75536bb-1365-4056-bd90-75ad126a6c7a\")>,\n",
       " <selenium.webdriver.remote.webelement.WebElement (session=\"a07b435010209bd93cc3e4bfebb6c457\", element=\"e1823e4e-4961-4441-b73a-5050fc98c70e\")>,\n",
       " <selenium.webdriver.remote.webelement.WebElement (session=\"a07b435010209bd93cc3e4bfebb6c457\", element=\"d04be858-0fd9-47b9-9752-efe041094472\")>,\n",
       " <selenium.webdriver.remote.webelement.WebElement (session=\"a07b435010209bd93cc3e4bfebb6c457\", element=\"28fd3b97-197d-4ff2-b2f3-761a413b87eb\")>,\n",
       " <selenium.webdriver.remote.webelement.WebElement (session=\"a07b435010209bd93cc3e4bfebb6c457\", element=\"aa094a7c-5329-4df8-b9cb-19d988836950\")>,\n",
       " <selenium.webdriver.remote.webelement.WebElement (session=\"a07b435010209bd93cc3e4bfebb6c457\", element=\"530fb457-27ef-48f6-ab47-4498567fee18\")>,\n",
       " <selenium.webdriver.remote.webelement.WebElement (session=\"a07b435010209bd93cc3e4bfebb6c457\", element=\"962a2eff-0358-47b4-8333-268428edecd9\")>,\n",
       " <selenium.webdriver.remote.webelement.WebElement (session=\"a07b435010209bd93cc3e4bfebb6c457\", element=\"8a1217ae-83a1-4aa0-ba29-bfd6cead3263\")>,\n",
       " <selenium.webdriver.remote.webelement.WebElement (session=\"a07b435010209bd93cc3e4bfebb6c457\", element=\"a61d9e98-aa0a-41e3-b0f5-d7c78862a78c\")>,\n",
       " <selenium.webdriver.remote.webelement.WebElement (session=\"a07b435010209bd93cc3e4bfebb6c457\", element=\"5523caaf-5df5-408c-82e0-cf00bf326f08\")>,\n",
       " <selenium.webdriver.remote.webelement.WebElement (session=\"a07b435010209bd93cc3e4bfebb6c457\", element=\"8eabc67e-1145-4ded-9a61-3fb0301e1d94\")>,\n",
       " <selenium.webdriver.remote.webelement.WebElement (session=\"a07b435010209bd93cc3e4bfebb6c457\", element=\"46e21832-3d92-48e3-8ca2-98e6a4b27860\")>,\n",
       " <selenium.webdriver.remote.webelement.WebElement (session=\"a07b435010209bd93cc3e4bfebb6c457\", element=\"d7c711ea-00fc-4696-a6a4-fd19df91b1c7\")>,\n",
       " <selenium.webdriver.remote.webelement.WebElement (session=\"a07b435010209bd93cc3e4bfebb6c457\", element=\"ed1fcf60-1bb5-4701-8881-53eacd4ae39e\")>,\n",
       " <selenium.webdriver.remote.webelement.WebElement (session=\"a07b435010209bd93cc3e4bfebb6c457\", element=\"944928bb-564c-4b5e-9aaa-d1b7f401478b\")>,\n",
       " <selenium.webdriver.remote.webelement.WebElement (session=\"a07b435010209bd93cc3e4bfebb6c457\", element=\"2d710423-c9ae-4784-badf-191729686693\")>,\n",
       " <selenium.webdriver.remote.webelement.WebElement (session=\"a07b435010209bd93cc3e4bfebb6c457\", element=\"86bbbbed-7374-4b79-a19d-23fd046b1ef2\")>,\n",
       " <selenium.webdriver.remote.webelement.WebElement (session=\"a07b435010209bd93cc3e4bfebb6c457\", element=\"efdbf908-a4df-4533-912b-b5607eb97c39\")>,\n",
       " <selenium.webdriver.remote.webelement.WebElement (session=\"a07b435010209bd93cc3e4bfebb6c457\", element=\"c027e743-997f-4a8e-bce4-a06ec3fae30b\")>,\n",
       " <selenium.webdriver.remote.webelement.WebElement (session=\"a07b435010209bd93cc3e4bfebb6c457\", element=\"fbeb0f93-a50a-4e9a-be76-84265331711b\")>,\n",
       " <selenium.webdriver.remote.webelement.WebElement (session=\"a07b435010209bd93cc3e4bfebb6c457\", element=\"46c2fc6b-1c0d-407d-9403-9917c1bbb273\")>,\n",
       " <selenium.webdriver.remote.webelement.WebElement (session=\"a07b435010209bd93cc3e4bfebb6c457\", element=\"5e1e130f-b100-4b9e-a173-21651d0f927a\")>,\n",
       " <selenium.webdriver.remote.webelement.WebElement (session=\"a07b435010209bd93cc3e4bfebb6c457\", element=\"0587621b-78d2-4f2f-b8b7-e82d4b9816b3\")>,\n",
       " <selenium.webdriver.remote.webelement.WebElement (session=\"a07b435010209bd93cc3e4bfebb6c457\", element=\"68777373-e5f0-4581-b896-01e02856c671\")>,\n",
       " <selenium.webdriver.remote.webelement.WebElement (session=\"a07b435010209bd93cc3e4bfebb6c457\", element=\"e94c8627-38e3-407b-9fb0-01aeadaa05b9\")>,\n",
       " <selenium.webdriver.remote.webelement.WebElement (session=\"a07b435010209bd93cc3e4bfebb6c457\", element=\"f18cb686-e4ed-453e-b0b8-899b01580a0c\")>,\n",
       " <selenium.webdriver.remote.webelement.WebElement (session=\"a07b435010209bd93cc3e4bfebb6c457\", element=\"2aeeb05a-6706-4a6b-b81f-c0d4e3ca0ee2\")>,\n",
       " <selenium.webdriver.remote.webelement.WebElement (session=\"a07b435010209bd93cc3e4bfebb6c457\", element=\"b44ab1e4-05b6-4890-848d-4c93016c0d72\")>,\n",
       " <selenium.webdriver.remote.webelement.WebElement (session=\"a07b435010209bd93cc3e4bfebb6c457\", element=\"eebb6dee-c3a8-4ddd-ab89-066785bbd8ae\")>,\n",
       " <selenium.webdriver.remote.webelement.WebElement (session=\"a07b435010209bd93cc3e4bfebb6c457\", element=\"2f4c57ab-574a-4ff2-b758-2bbc624afcee\")>,\n",
       " <selenium.webdriver.remote.webelement.WebElement (session=\"a07b435010209bd93cc3e4bfebb6c457\", element=\"099e06a1-c1cd-42e6-b009-85d6373e9330\")>,\n",
       " <selenium.webdriver.remote.webelement.WebElement (session=\"a07b435010209bd93cc3e4bfebb6c457\", element=\"e30e06df-6237-4bb1-ab7c-1b128c481480\")>,\n",
       " <selenium.webdriver.remote.webelement.WebElement (session=\"a07b435010209bd93cc3e4bfebb6c457\", element=\"65accb48-cb1e-4d2a-89f3-a648160866ec\")>,\n",
       " <selenium.webdriver.remote.webelement.WebElement (session=\"a07b435010209bd93cc3e4bfebb6c457\", element=\"ec710999-3a00-465e-b527-86a6afae4fc3\")>,\n",
       " <selenium.webdriver.remote.webelement.WebElement (session=\"a07b435010209bd93cc3e4bfebb6c457\", element=\"03636c13-7018-4f17-b8c4-aa6ce5c8d3db\")>,\n",
       " <selenium.webdriver.remote.webelement.WebElement (session=\"a07b435010209bd93cc3e4bfebb6c457\", element=\"c62f2692-ade4-4db7-8077-fe4fa21656b1\")>,\n",
       " <selenium.webdriver.remote.webelement.WebElement (session=\"a07b435010209bd93cc3e4bfebb6c457\", element=\"832884ec-a269-487f-8a67-483552a4f137\")>]"
      ]
     },
     "execution_count": 40,
     "metadata": {},
     "output_type": "execute_result"
    }
   ],
   "source": [
    "brand=driver.find_elements(\"xpath\",'//div[@class=\"_2WkVRV\"]')\n",
    "brand"
   ]
  },
  {
   "cell_type": "code",
   "execution_count": 41,
   "id": "ac744050",
   "metadata": {
    "scrolled": true
   },
   "outputs": [
    {
     "data": {
      "text/plain": [
       "['Rzisbo',\n",
       " 'corsac',\n",
       " 'Numenzo',\n",
       " 'sixXplus',\n",
       " 'luxury fashion',\n",
       " 'ASTEROID',\n",
       " 'BRUTON',\n",
       " 'Nilatin',\n",
       " 'AMICO',\n",
       " 'KNIGHT WALKERS',\n",
       " 'BRUTON',\n",
       " 'KNIGHT WALKERS',\n",
       " 'PUMA',\n",
       " 'Stinson',\n",
       " 'Robbie jones',\n",
       " 'U.S. POLO ASSN.',\n",
       " 'Layasa',\n",
       " 'BIRDE',\n",
       " 'D-SNEAKERZ',\n",
       " 'Bacan',\n",
       " 'SCATCHITE',\n",
       " 'Shoes Bank',\n",
       " 'PUMA',\n",
       " 'KWIK FIT',\n",
       " 'Magnolia',\n",
       " 'PUMA',\n",
       " 'BRUTON',\n",
       " 'Scull Wings',\n",
       " 'luxury fashion',\n",
       " 'SHOELAMB',\n",
       " 'PUMA',\n",
       " 'BUXBERRY',\n",
       " 'LE GREEM',\n",
       " 'Eiffel',\n",
       " 'Kraasa',\n",
       " 'aadi',\n",
       " 'SPARX',\n",
       " 'Magnolia',\n",
       " 'WHITE WALKERS',\n",
       " 'KNIGHT WALKERS']"
      ]
     },
     "execution_count": 41,
     "metadata": {},
     "output_type": "execute_result"
    }
   ],
   "source": [
    "brand3=[]\n",
    "for i in brand:\n",
    "    brand3.append(i.text)\n",
    "brand3"
   ]
  },
  {
   "cell_type": "code",
   "execution_count": 51,
   "id": "46de4bff",
   "metadata": {},
   "outputs": [
    {
     "data": {
      "text/plain": [
       "['Rzisbo',\n",
       " 'corsac',\n",
       " 'Numenzo',\n",
       " 'sixXplus',\n",
       " 'luxury fashion',\n",
       " 'ASTEROID',\n",
       " 'BRUTON',\n",
       " 'Nilatin',\n",
       " 'AMICO',\n",
       " 'KNIGHT WALKERS',\n",
       " 'BRUTON',\n",
       " 'KNIGHT WALKERS',\n",
       " 'PUMA',\n",
       " 'Stinson',\n",
       " 'Robbie jones',\n",
       " 'U.S. POLO ASSN.',\n",
       " 'Layasa',\n",
       " 'BIRDE',\n",
       " 'D-SNEAKERZ',\n",
       " 'Bacan']"
      ]
     },
     "execution_count": 51,
     "metadata": {},
     "output_type": "execute_result"
    }
   ],
   "source": [
    "Brand3=brand3[0:20]\n",
    "Brand3"
   ]
  },
  {
   "cell_type": "code",
   "execution_count": 42,
   "id": "86bfafe1",
   "metadata": {},
   "outputs": [
    {
     "data": {
      "text/plain": [
       "[<selenium.webdriver.remote.webelement.WebElement (session=\"a07b435010209bd93cc3e4bfebb6c457\", element=\"31736e9c-8d54-4e15-a6c9-9771ce1833ea\")>,\n",
       " <selenium.webdriver.remote.webelement.WebElement (session=\"a07b435010209bd93cc3e4bfebb6c457\", element=\"3f4e389c-63a7-45c0-91ac-5e205f27fcc7\")>,\n",
       " <selenium.webdriver.remote.webelement.WebElement (session=\"a07b435010209bd93cc3e4bfebb6c457\", element=\"7f1c1dab-5788-4287-8597-dec6f00d7a54\")>,\n",
       " <selenium.webdriver.remote.webelement.WebElement (session=\"a07b435010209bd93cc3e4bfebb6c457\", element=\"f56a9884-8518-4457-9f23-44685a4895c5\")>,\n",
       " <selenium.webdriver.remote.webelement.WebElement (session=\"a07b435010209bd93cc3e4bfebb6c457\", element=\"fc2c64ee-32e2-4902-af3a-398fb450587b\")>,\n",
       " <selenium.webdriver.remote.webelement.WebElement (session=\"a07b435010209bd93cc3e4bfebb6c457\", element=\"dbd58401-4b7a-42f6-9a66-fdf8e2a16f84\")>,\n",
       " <selenium.webdriver.remote.webelement.WebElement (session=\"a07b435010209bd93cc3e4bfebb6c457\", element=\"ae2ea09d-0d46-42eb-93a0-9c186a5a9242\")>,\n",
       " <selenium.webdriver.remote.webelement.WebElement (session=\"a07b435010209bd93cc3e4bfebb6c457\", element=\"102d8d4b-428f-40be-9d4a-52cb1ecf62eb\")>,\n",
       " <selenium.webdriver.remote.webelement.WebElement (session=\"a07b435010209bd93cc3e4bfebb6c457\", element=\"05b32c47-7031-4ca4-bb4e-4050fb9264bd\")>,\n",
       " <selenium.webdriver.remote.webelement.WebElement (session=\"a07b435010209bd93cc3e4bfebb6c457\", element=\"982738a7-bde5-4fd4-bb15-955498adad3e\")>,\n",
       " <selenium.webdriver.remote.webelement.WebElement (session=\"a07b435010209bd93cc3e4bfebb6c457\", element=\"97ce148c-a60c-4d31-9e11-06238a1766c2\")>,\n",
       " <selenium.webdriver.remote.webelement.WebElement (session=\"a07b435010209bd93cc3e4bfebb6c457\", element=\"de5bb875-24a3-4325-81b4-b96d9c4ede1d\")>,\n",
       " <selenium.webdriver.remote.webelement.WebElement (session=\"a07b435010209bd93cc3e4bfebb6c457\", element=\"e10a0757-de89-4f3f-8b76-3c315de82f5e\")>,\n",
       " <selenium.webdriver.remote.webelement.WebElement (session=\"a07b435010209bd93cc3e4bfebb6c457\", element=\"ba6c4461-a3bf-46e3-a3fd-12beb7146e5a\")>,\n",
       " <selenium.webdriver.remote.webelement.WebElement (session=\"a07b435010209bd93cc3e4bfebb6c457\", element=\"afaaf6c2-fa2d-4683-b343-40c2a98e8613\")>,\n",
       " <selenium.webdriver.remote.webelement.WebElement (session=\"a07b435010209bd93cc3e4bfebb6c457\", element=\"a82510fa-95b5-48d9-ba71-a8bba96ccd41\")>,\n",
       " <selenium.webdriver.remote.webelement.WebElement (session=\"a07b435010209bd93cc3e4bfebb6c457\", element=\"6c6788f4-9fa8-4ab8-9665-6aefe0a944f4\")>,\n",
       " <selenium.webdriver.remote.webelement.WebElement (session=\"a07b435010209bd93cc3e4bfebb6c457\", element=\"c207dc81-59f9-4ef5-b71f-516b17372b46\")>,\n",
       " <selenium.webdriver.remote.webelement.WebElement (session=\"a07b435010209bd93cc3e4bfebb6c457\", element=\"c847060c-2b0d-415b-8f8a-faae4553f4ad\")>,\n",
       " <selenium.webdriver.remote.webelement.WebElement (session=\"a07b435010209bd93cc3e4bfebb6c457\", element=\"ff8546cb-d692-4a3b-8dae-42fa30968f1d\")>,\n",
       " <selenium.webdriver.remote.webelement.WebElement (session=\"a07b435010209bd93cc3e4bfebb6c457\", element=\"95b25ccb-ff56-42c1-957d-f6417be5173f\")>,\n",
       " <selenium.webdriver.remote.webelement.WebElement (session=\"a07b435010209bd93cc3e4bfebb6c457\", element=\"cad8de87-d615-4c00-a954-93066fdbc02d\")>,\n",
       " <selenium.webdriver.remote.webelement.WebElement (session=\"a07b435010209bd93cc3e4bfebb6c457\", element=\"ee6a6e9e-6895-4997-bbdd-763bc598577c\")>,\n",
       " <selenium.webdriver.remote.webelement.WebElement (session=\"a07b435010209bd93cc3e4bfebb6c457\", element=\"56c4f43d-9554-44f6-a12f-8e51f1afa8af\")>,\n",
       " <selenium.webdriver.remote.webelement.WebElement (session=\"a07b435010209bd93cc3e4bfebb6c457\", element=\"99f3f3c4-b99a-41df-8c89-89947ebd9cb6\")>,\n",
       " <selenium.webdriver.remote.webelement.WebElement (session=\"a07b435010209bd93cc3e4bfebb6c457\", element=\"34c97537-3a47-49fe-94a4-cf096ca34819\")>,\n",
       " <selenium.webdriver.remote.webelement.WebElement (session=\"a07b435010209bd93cc3e4bfebb6c457\", element=\"acf011e0-99e5-4970-9aba-fd3fd47ffc93\")>,\n",
       " <selenium.webdriver.remote.webelement.WebElement (session=\"a07b435010209bd93cc3e4bfebb6c457\", element=\"26b22645-b7de-46a8-b302-94e6401fc567\")>,\n",
       " <selenium.webdriver.remote.webelement.WebElement (session=\"a07b435010209bd93cc3e4bfebb6c457\", element=\"514f8028-d3b1-4145-a5e9-ffcaae24bbf9\")>,\n",
       " <selenium.webdriver.remote.webelement.WebElement (session=\"a07b435010209bd93cc3e4bfebb6c457\", element=\"b92b131f-83a2-4541-bb00-74be2e5c8a84\")>,\n",
       " <selenium.webdriver.remote.webelement.WebElement (session=\"a07b435010209bd93cc3e4bfebb6c457\", element=\"898e71ea-aba7-4555-bfac-7cec0aa03aa9\")>,\n",
       " <selenium.webdriver.remote.webelement.WebElement (session=\"a07b435010209bd93cc3e4bfebb6c457\", element=\"68482c18-36b1-4ad9-92a2-6f052e0ec24f\")>,\n",
       " <selenium.webdriver.remote.webelement.WebElement (session=\"a07b435010209bd93cc3e4bfebb6c457\", element=\"fb156401-9b77-4694-9d56-fae98d5e55fb\")>]"
      ]
     },
     "execution_count": 42,
     "metadata": {},
     "output_type": "execute_result"
    }
   ],
   "source": [
    "pro_disc=driver.find_elements(\"xpath\",'//a[@class=\"IRpwTa\"]')\n",
    "pro_disc"
   ]
  },
  {
   "cell_type": "code",
   "execution_count": 43,
   "id": "23b2ae7e",
   "metadata": {},
   "outputs": [
    {
     "data": {
      "text/plain": [
       "['Sneakers For Men',\n",
       " 'STYLISH MENS BLACK SNEAKER Sneakers For Men',\n",
       " '411 Casual Sneakers For Men',\n",
       " 'Casual For Men (Blue 07) Sneakers For Men (Blue) Sneake...',\n",
       " 'Luxury Fashionable casual sneaker shoes Sneakers For Me...',\n",
       " 'Original Luxury Branded Black Fancy Casual Walking Part...',\n",
       " 'Exclusive Sneaker Shoes Sneakers For Men',\n",
       " 'Sneakers For Men',\n",
       " 'Sneakers For Men',\n",
       " 'SS1100 Sneakers For Men',\n",
       " 'Sneaker Sneakers For Men',\n",
       " 'Smash v2 L White- Black Sneakers For Men',\n",
       " 'Casual Sneakers White Shoes For Men Sneakers For Men',\n",
       " 'CLARKIN 2.0 Sneakers For Men',\n",
       " 'Sneakers For Men',\n",
       " 'Sports Running Shoes Sneakers For Men',\n",
       " \"Casual , Partywear Sneakers Shoes For Men's And Boys Wh...\",\n",
       " 'Sneakers For Men',\n",
       " 'Sneakers Sneakers For Men',\n",
       " \"White Sneaker For Men's/Boy's Sneakers For Men\",\n",
       " 'ST Activate V2 Sneakers For Men',\n",
       " 'Sneakers For Men',\n",
       " 'R78 Sneakers For Men',\n",
       " 'Lattest Sneakers Shoe Sneakers For Men',\n",
       " 'Luxury Fashionable casual sneaker shoes Sneakers For Me...',\n",
       " \"Men's White Casual Walking Running Sneaker Shoe Sneaker...\",\n",
       " 'Blend Sneakers For Men',\n",
       " 'Comfortable & Ultra Light Weight Sneaker Sneakers For M...',\n",
       " 'Series 7 Sneakers For Men',\n",
       " 'Sneakers For Men',\n",
       " 'Men White Sneakers Sneakers For Men',\n",
       " 'Sneakers For Men',\n",
       " 'Stylish & Trending Outdoor Walking Comfortable Sneakers...']"
      ]
     },
     "execution_count": 43,
     "metadata": {},
     "output_type": "execute_result"
    }
   ],
   "source": [
    "pro_disc3=[]\n",
    "for i in pro_disc:\n",
    "    pro_disc3.append(i.text)\n",
    "pro_disc3"
   ]
  },
  {
   "cell_type": "code",
   "execution_count": 100,
   "id": "4ab73fad",
   "metadata": {},
   "outputs": [
    {
     "data": {
      "text/plain": [
       "['Sneakers For Men',\n",
       " 'STAN SMITH VULC Sneakers For Men',\n",
       " 'Combo Pack of 3 Casual Shoes, Sneakers For Men',\n",
       " 'Exclusive Sneaker Shoes Sneakers For Men',\n",
       " \"White casual, gym,training & Running sneakers for men's...\",\n",
       " 'Sneakers For Men',\n",
       " 'Brave Sneakers For Men',\n",
       " 'Sneakers For Men',\n",
       " 'Sneakers For Men',\n",
       " 'R78 Sneakers For Men',\n",
       " 'Blend Sneakers For Men',\n",
       " 'STYLISH MENS BLACK TRENDY SNEAKER FOR MENS Sneakers For...',\n",
       " 'Sneakers For Men',\n",
       " 'Trinity Sneakers For Men',\n",
       " 'Sneakers For Men',\n",
       " 'Sneakers For Men',\n",
       " 'CLARKIN Sneakers For Men',\n",
       " 'Sneakers For Men',\n",
       " 'Sneakers For Men',\n",
       " 'Blend Sneakers For Men']"
      ]
     },
     "execution_count": 100,
     "metadata": {},
     "output_type": "execute_result"
    }
   ],
   "source": [
    "Pro_disc=pro_disc3[0:20]\n",
    "Pro_disc"
   ]
  },
  {
   "cell_type": "code",
   "execution_count": 44,
   "id": "1cd0adaa",
   "metadata": {},
   "outputs": [
    {
     "data": {
      "text/plain": [
       "[<selenium.webdriver.remote.webelement.WebElement (session=\"a07b435010209bd93cc3e4bfebb6c457\", element=\"0b46a630-ae5d-4465-9214-37c1b709d1a0\")>,\n",
       " <selenium.webdriver.remote.webelement.WebElement (session=\"a07b435010209bd93cc3e4bfebb6c457\", element=\"14ee3085-46ce-467f-a46a-945bb26f49dc\")>,\n",
       " <selenium.webdriver.remote.webelement.WebElement (session=\"a07b435010209bd93cc3e4bfebb6c457\", element=\"2f9535a3-75c6-4f3b-99c9-b4236e9e2c00\")>,\n",
       " <selenium.webdriver.remote.webelement.WebElement (session=\"a07b435010209bd93cc3e4bfebb6c457\", element=\"134c405f-8a22-4baf-a464-93ea12f2d3ae\")>,\n",
       " <selenium.webdriver.remote.webelement.WebElement (session=\"a07b435010209bd93cc3e4bfebb6c457\", element=\"510555bb-0c13-4780-8a65-d7a61d72aa19\")>,\n",
       " <selenium.webdriver.remote.webelement.WebElement (session=\"a07b435010209bd93cc3e4bfebb6c457\", element=\"059919b7-86f1-49cc-b578-429a129a62d6\")>,\n",
       " <selenium.webdriver.remote.webelement.WebElement (session=\"a07b435010209bd93cc3e4bfebb6c457\", element=\"2330155b-fc10-4ead-8509-d62f7c4556e7\")>,\n",
       " <selenium.webdriver.remote.webelement.WebElement (session=\"a07b435010209bd93cc3e4bfebb6c457\", element=\"7779c278-c91d-4fc0-a21e-c63dde192fdc\")>,\n",
       " <selenium.webdriver.remote.webelement.WebElement (session=\"a07b435010209bd93cc3e4bfebb6c457\", element=\"0c44e516-474b-4fb9-a9fb-2119a4150095\")>,\n",
       " <selenium.webdriver.remote.webelement.WebElement (session=\"a07b435010209bd93cc3e4bfebb6c457\", element=\"df71453f-6db4-45f1-b94c-adc3dfb71b17\")>,\n",
       " <selenium.webdriver.remote.webelement.WebElement (session=\"a07b435010209bd93cc3e4bfebb6c457\", element=\"2555efd7-2279-4571-8846-b0c10264e8ae\")>,\n",
       " <selenium.webdriver.remote.webelement.WebElement (session=\"a07b435010209bd93cc3e4bfebb6c457\", element=\"a6cba1a2-687f-4e7f-b444-10ee6303ff65\")>,\n",
       " <selenium.webdriver.remote.webelement.WebElement (session=\"a07b435010209bd93cc3e4bfebb6c457\", element=\"78181761-2a11-40cf-82d1-055103deb7cb\")>,\n",
       " <selenium.webdriver.remote.webelement.WebElement (session=\"a07b435010209bd93cc3e4bfebb6c457\", element=\"83435d47-1fff-4b96-8428-d2fde177501e\")>,\n",
       " <selenium.webdriver.remote.webelement.WebElement (session=\"a07b435010209bd93cc3e4bfebb6c457\", element=\"2506dbd5-d62c-4060-8519-a6e2dd1d9e83\")>,\n",
       " <selenium.webdriver.remote.webelement.WebElement (session=\"a07b435010209bd93cc3e4bfebb6c457\", element=\"700ae8b6-69bb-4f27-981d-bcf457be8543\")>,\n",
       " <selenium.webdriver.remote.webelement.WebElement (session=\"a07b435010209bd93cc3e4bfebb6c457\", element=\"bc1a2d60-5038-4575-b8c0-21be79ad81cb\")>,\n",
       " <selenium.webdriver.remote.webelement.WebElement (session=\"a07b435010209bd93cc3e4bfebb6c457\", element=\"57325e31-7137-4cbe-a7e2-c7e01baf6d3b\")>,\n",
       " <selenium.webdriver.remote.webelement.WebElement (session=\"a07b435010209bd93cc3e4bfebb6c457\", element=\"c8d439b3-9df7-4724-9aae-20c6e3404658\")>,\n",
       " <selenium.webdriver.remote.webelement.WebElement (session=\"a07b435010209bd93cc3e4bfebb6c457\", element=\"d8852f36-71ec-4c4e-945f-b10ca85c9cb6\")>,\n",
       " <selenium.webdriver.remote.webelement.WebElement (session=\"a07b435010209bd93cc3e4bfebb6c457\", element=\"cb61a077-f9d2-44f5-bdc1-e61d04c0ab95\")>,\n",
       " <selenium.webdriver.remote.webelement.WebElement (session=\"a07b435010209bd93cc3e4bfebb6c457\", element=\"2daba197-9965-4a09-ae45-56e3e58cebae\")>,\n",
       " <selenium.webdriver.remote.webelement.WebElement (session=\"a07b435010209bd93cc3e4bfebb6c457\", element=\"d67c1a16-1ebb-4b02-bdc0-c572be22acc1\")>,\n",
       " <selenium.webdriver.remote.webelement.WebElement (session=\"a07b435010209bd93cc3e4bfebb6c457\", element=\"d4b0e47e-d29d-4f01-b853-e817331e86b2\")>,\n",
       " <selenium.webdriver.remote.webelement.WebElement (session=\"a07b435010209bd93cc3e4bfebb6c457\", element=\"ce70091d-81b6-4f5e-90b9-74d466dfd70d\")>,\n",
       " <selenium.webdriver.remote.webelement.WebElement (session=\"a07b435010209bd93cc3e4bfebb6c457\", element=\"8587b707-c835-49fd-99ed-ff550799adc6\")>,\n",
       " <selenium.webdriver.remote.webelement.WebElement (session=\"a07b435010209bd93cc3e4bfebb6c457\", element=\"cae02632-3fc5-4b7d-ba79-df15fd0fc1da\")>,\n",
       " <selenium.webdriver.remote.webelement.WebElement (session=\"a07b435010209bd93cc3e4bfebb6c457\", element=\"927a7759-4dda-4341-b54c-1dfd3e1e8918\")>,\n",
       " <selenium.webdriver.remote.webelement.WebElement (session=\"a07b435010209bd93cc3e4bfebb6c457\", element=\"facf1af9-9cbb-4bc0-bb39-9a9048e7b802\")>,\n",
       " <selenium.webdriver.remote.webelement.WebElement (session=\"a07b435010209bd93cc3e4bfebb6c457\", element=\"0b0df139-9b61-4b35-92e0-d8415c3d4f84\")>,\n",
       " <selenium.webdriver.remote.webelement.WebElement (session=\"a07b435010209bd93cc3e4bfebb6c457\", element=\"e78d3388-19d4-4669-8213-61eb010fea89\")>,\n",
       " <selenium.webdriver.remote.webelement.WebElement (session=\"a07b435010209bd93cc3e4bfebb6c457\", element=\"18db4a6d-da95-41f2-8924-67a2fb1eda33\")>,\n",
       " <selenium.webdriver.remote.webelement.WebElement (session=\"a07b435010209bd93cc3e4bfebb6c457\", element=\"de88c15e-0239-48e8-992a-42f79ded4187\")>,\n",
       " <selenium.webdriver.remote.webelement.WebElement (session=\"a07b435010209bd93cc3e4bfebb6c457\", element=\"fdd70377-a3ef-4f70-a7d4-76d345cbf0af\")>,\n",
       " <selenium.webdriver.remote.webelement.WebElement (session=\"a07b435010209bd93cc3e4bfebb6c457\", element=\"edf64f21-3069-423b-b545-64b35494daca\")>,\n",
       " <selenium.webdriver.remote.webelement.WebElement (session=\"a07b435010209bd93cc3e4bfebb6c457\", element=\"651eb86f-16fb-4d71-ab05-37ad7f92a640\")>,\n",
       " <selenium.webdriver.remote.webelement.WebElement (session=\"a07b435010209bd93cc3e4bfebb6c457\", element=\"261fccf5-b01f-4634-b27d-1a76b3448fb4\")>,\n",
       " <selenium.webdriver.remote.webelement.WebElement (session=\"a07b435010209bd93cc3e4bfebb6c457\", element=\"6c999820-0e88-45d1-9d44-e80803719a57\")>,\n",
       " <selenium.webdriver.remote.webelement.WebElement (session=\"a07b435010209bd93cc3e4bfebb6c457\", element=\"18ae8250-0795-44a5-b9b3-1ca8eb724022\")>,\n",
       " <selenium.webdriver.remote.webelement.WebElement (session=\"a07b435010209bd93cc3e4bfebb6c457\", element=\"1066caa7-cbad-4525-a9af-5744c7d7199a\")>]"
      ]
     },
     "execution_count": 44,
     "metadata": {},
     "output_type": "execute_result"
    }
   ],
   "source": [
    "price=driver.find_elements(\"xpath\",'//div[@class=\"_30jeq3\"]')\n",
    "price"
   ]
  },
  {
   "cell_type": "code",
   "execution_count": 45,
   "id": "595be35a",
   "metadata": {},
   "outputs": [
    {
     "data": {
      "text/plain": [
       "['₹490',\n",
       " '₹474',\n",
       " '₹402',\n",
       " '₹499',\n",
       " '₹399',\n",
       " '₹474',\n",
       " '₹299',\n",
       " '₹569',\n",
       " '₹494',\n",
       " '₹664',\n",
       " '₹284',\n",
       " '₹699',\n",
       " '₹1,854',\n",
       " '₹249',\n",
       " '₹426',\n",
       " '₹1,799',\n",
       " '₹499',\n",
       " '₹353',\n",
       " '₹299',\n",
       " '₹450',\n",
       " '₹378',\n",
       " '₹297',\n",
       " '₹1,469',\n",
       " '₹499',\n",
       " '₹449',\n",
       " '₹2,339',\n",
       " '₹269',\n",
       " '₹496',\n",
       " '₹379',\n",
       " '₹683',\n",
       " '₹1,319',\n",
       " '₹449',\n",
       " '₹499',\n",
       " '₹469',\n",
       " '₹539',\n",
       " '₹499',\n",
       " '₹721',\n",
       " '₹449',\n",
       " '₹599',\n",
       " '₹699']"
      ]
     },
     "execution_count": 45,
     "metadata": {},
     "output_type": "execute_result"
    }
   ],
   "source": [
    "price3=[]\n",
    "for i in price:\n",
    "    price3.append(i.text)\n",
    "price3"
   ]
  },
  {
   "cell_type": "code",
   "execution_count": 46,
   "id": "09f5548c",
   "metadata": {},
   "outputs": [
    {
     "data": {
      "text/plain": [
       "['₹490',\n",
       " '₹474',\n",
       " '₹402',\n",
       " '₹499',\n",
       " '₹399',\n",
       " '₹474',\n",
       " '₹299',\n",
       " '₹569',\n",
       " '₹494',\n",
       " '₹664',\n",
       " '₹284',\n",
       " '₹699',\n",
       " '₹1,854',\n",
       " '₹249',\n",
       " '₹426',\n",
       " '₹1,799',\n",
       " '₹499',\n",
       " '₹353',\n",
       " '₹299',\n",
       " '₹450']"
      ]
     },
     "execution_count": 46,
     "metadata": {},
     "output_type": "execute_result"
    }
   ],
   "source": [
    "Price=price3[0:20]\n",
    "Price"
   ]
  },
  {
   "cell_type": "code",
   "execution_count": 47,
   "id": "dfdfd2ac",
   "metadata": {},
   "outputs": [
    {
     "data": {
      "text/plain": [
       "[<selenium.webdriver.remote.webelement.WebElement (session=\"a07b435010209bd93cc3e4bfebb6c457\", element=\"4c67cd3d-afa6-49c3-b95d-eb6c3a2707eb\")>,\n",
       " <selenium.webdriver.remote.webelement.WebElement (session=\"a07b435010209bd93cc3e4bfebb6c457\", element=\"feb23e94-694c-49c3-ae12-10aaf7523044\")>,\n",
       " <selenium.webdriver.remote.webelement.WebElement (session=\"a07b435010209bd93cc3e4bfebb6c457\", element=\"eda5d34a-3b42-4845-a48c-d6150e9b6293\")>,\n",
       " <selenium.webdriver.remote.webelement.WebElement (session=\"a07b435010209bd93cc3e4bfebb6c457\", element=\"a53b971d-4465-4401-a8f3-c5f953c5d2d1\")>,\n",
       " <selenium.webdriver.remote.webelement.WebElement (session=\"a07b435010209bd93cc3e4bfebb6c457\", element=\"54e83bf5-47ca-4757-83ae-00647ec2e4f8\")>,\n",
       " <selenium.webdriver.remote.webelement.WebElement (session=\"a07b435010209bd93cc3e4bfebb6c457\", element=\"2b7f61d3-057a-4f30-b824-d76ec41e45fe\")>,\n",
       " <selenium.webdriver.remote.webelement.WebElement (session=\"a07b435010209bd93cc3e4bfebb6c457\", element=\"d039c631-cf90-49dd-a000-934e7d628b87\")>,\n",
       " <selenium.webdriver.remote.webelement.WebElement (session=\"a07b435010209bd93cc3e4bfebb6c457\", element=\"182a548f-9be7-45d1-8437-b4873bb599a4\")>,\n",
       " <selenium.webdriver.remote.webelement.WebElement (session=\"a07b435010209bd93cc3e4bfebb6c457\", element=\"f905dfac-3e15-43fa-8e49-715dda28a461\")>,\n",
       " <selenium.webdriver.remote.webelement.WebElement (session=\"a07b435010209bd93cc3e4bfebb6c457\", element=\"6f6b26f9-648a-41c0-ad72-6123f67fdb81\")>,\n",
       " <selenium.webdriver.remote.webelement.WebElement (session=\"a07b435010209bd93cc3e4bfebb6c457\", element=\"8b70e41b-4a4b-42bb-b64c-9b397ca994b2\")>,\n",
       " <selenium.webdriver.remote.webelement.WebElement (session=\"a07b435010209bd93cc3e4bfebb6c457\", element=\"22e4f6ae-de67-4964-82f5-53414903dbf7\")>,\n",
       " <selenium.webdriver.remote.webelement.WebElement (session=\"a07b435010209bd93cc3e4bfebb6c457\", element=\"7296f484-6ab6-4291-b97e-525389f625a1\")>,\n",
       " <selenium.webdriver.remote.webelement.WebElement (session=\"a07b435010209bd93cc3e4bfebb6c457\", element=\"620dbf9c-c3c5-4cb4-83ff-28e9ee89f5d4\")>,\n",
       " <selenium.webdriver.remote.webelement.WebElement (session=\"a07b435010209bd93cc3e4bfebb6c457\", element=\"2a97f220-221b-424c-8a65-5293c70215ea\")>,\n",
       " <selenium.webdriver.remote.webelement.WebElement (session=\"a07b435010209bd93cc3e4bfebb6c457\", element=\"cd4260f8-6d57-4c89-b0a6-b6d411afa4dc\")>,\n",
       " <selenium.webdriver.remote.webelement.WebElement (session=\"a07b435010209bd93cc3e4bfebb6c457\", element=\"7a14eb36-6ceb-44a1-9016-91e6a51cec84\")>,\n",
       " <selenium.webdriver.remote.webelement.WebElement (session=\"a07b435010209bd93cc3e4bfebb6c457\", element=\"63f55b07-daee-4045-ae5b-af5b9b1b3922\")>,\n",
       " <selenium.webdriver.remote.webelement.WebElement (session=\"a07b435010209bd93cc3e4bfebb6c457\", element=\"47b39b13-c6be-46b8-ba16-35696e21a0d4\")>,\n",
       " <selenium.webdriver.remote.webelement.WebElement (session=\"a07b435010209bd93cc3e4bfebb6c457\", element=\"fc53d8e9-f7ba-4cf8-8a2c-28d3db069f9d\")>,\n",
       " <selenium.webdriver.remote.webelement.WebElement (session=\"a07b435010209bd93cc3e4bfebb6c457\", element=\"10d09cda-8ac0-4dd6-a0a2-085dfedccfa0\")>,\n",
       " <selenium.webdriver.remote.webelement.WebElement (session=\"a07b435010209bd93cc3e4bfebb6c457\", element=\"41019987-cf42-4045-aadf-8a5c303f8843\")>,\n",
       " <selenium.webdriver.remote.webelement.WebElement (session=\"a07b435010209bd93cc3e4bfebb6c457\", element=\"63d27905-da8b-49dc-9aaa-3850a5ce6ab9\")>,\n",
       " <selenium.webdriver.remote.webelement.WebElement (session=\"a07b435010209bd93cc3e4bfebb6c457\", element=\"466a9f32-9de7-45cf-9f1a-57cc583a668f\")>,\n",
       " <selenium.webdriver.remote.webelement.WebElement (session=\"a07b435010209bd93cc3e4bfebb6c457\", element=\"9f3f1ba0-de6a-4035-8073-f8bf8faa203b\")>,\n",
       " <selenium.webdriver.remote.webelement.WebElement (session=\"a07b435010209bd93cc3e4bfebb6c457\", element=\"d531e125-bda4-4e46-9713-2d4ff1ebd477\")>,\n",
       " <selenium.webdriver.remote.webelement.WebElement (session=\"a07b435010209bd93cc3e4bfebb6c457\", element=\"2d7a75ee-1b40-46d7-9368-fb25a70b6e1b\")>,\n",
       " <selenium.webdriver.remote.webelement.WebElement (session=\"a07b435010209bd93cc3e4bfebb6c457\", element=\"58cdd36a-0c06-4d2e-a450-6d868462efe2\")>,\n",
       " <selenium.webdriver.remote.webelement.WebElement (session=\"a07b435010209bd93cc3e4bfebb6c457\", element=\"434d7b22-4fcb-4ef4-a164-86e1ddbfd576\")>,\n",
       " <selenium.webdriver.remote.webelement.WebElement (session=\"a07b435010209bd93cc3e4bfebb6c457\", element=\"a4c9faa5-2414-493b-b287-220f46a618b8\")>,\n",
       " <selenium.webdriver.remote.webelement.WebElement (session=\"a07b435010209bd93cc3e4bfebb6c457\", element=\"e7770553-af92-472b-950b-1151351bb837\")>,\n",
       " <selenium.webdriver.remote.webelement.WebElement (session=\"a07b435010209bd93cc3e4bfebb6c457\", element=\"42afdee2-11d2-4259-874d-337d0744bca3\")>,\n",
       " <selenium.webdriver.remote.webelement.WebElement (session=\"a07b435010209bd93cc3e4bfebb6c457\", element=\"19a5ed9a-1d91-4c7a-89f6-91f463c803af\")>,\n",
       " <selenium.webdriver.remote.webelement.WebElement (session=\"a07b435010209bd93cc3e4bfebb6c457\", element=\"93b78173-7e7c-42d4-b007-1eddf92c4eee\")>,\n",
       " <selenium.webdriver.remote.webelement.WebElement (session=\"a07b435010209bd93cc3e4bfebb6c457\", element=\"1d596f77-08ec-4241-a269-e8e4ba90a24f\")>,\n",
       " <selenium.webdriver.remote.webelement.WebElement (session=\"a07b435010209bd93cc3e4bfebb6c457\", element=\"096137e0-ee6e-4023-9056-a6c193d23e8e\")>,\n",
       " <selenium.webdriver.remote.webelement.WebElement (session=\"a07b435010209bd93cc3e4bfebb6c457\", element=\"5b894e36-e345-4952-ad3b-3b598e20a83d\")>,\n",
       " <selenium.webdriver.remote.webelement.WebElement (session=\"a07b435010209bd93cc3e4bfebb6c457\", element=\"d459e2eb-2ac5-4ef6-b2da-eaa1fccb19e4\")>,\n",
       " <selenium.webdriver.remote.webelement.WebElement (session=\"a07b435010209bd93cc3e4bfebb6c457\", element=\"0b03e0ba-5a8e-4807-8083-e4cb20a6b57c\")>,\n",
       " <selenium.webdriver.remote.webelement.WebElement (session=\"a07b435010209bd93cc3e4bfebb6c457\", element=\"dbf410a8-667c-4794-9bde-c5bac1827bb9\")>]"
      ]
     },
     "execution_count": 47,
     "metadata": {},
     "output_type": "execute_result"
    }
   ],
   "source": [
    "disc=driver.find_elements(\"xpath\",'//div[@class=\"_3Ay6Sb\"]')\n",
    "disc"
   ]
  },
  {
   "cell_type": "code",
   "execution_count": 48,
   "id": "219ae697",
   "metadata": {},
   "outputs": [
    {
     "data": {
      "text/plain": [
       "['50% off',\n",
       " '68% off',\n",
       " '79% off',\n",
       " '50% off',\n",
       " '69% off',\n",
       " '52% off',\n",
       " '76% off',\n",
       " '81% off',\n",
       " '50% off',\n",
       " '66% off',\n",
       " '78% off',\n",
       " '65% off',\n",
       " '47% off',\n",
       " '50% off',\n",
       " '57% off',\n",
       " '40% off',\n",
       " '50% off',\n",
       " '64% off',\n",
       " '54% off',\n",
       " '54% off',\n",
       " '62% off',\n",
       " '70% off',\n",
       " '58% off',\n",
       " '75% off',\n",
       " '55% off',\n",
       " '41% off',\n",
       " '79% off',\n",
       " '61% off',\n",
       " '87% off',\n",
       " '14% off',\n",
       " '56% off',\n",
       " '64% off',\n",
       " '50% off',\n",
       " '53% off',\n",
       " '46% off',\n",
       " '75% off',\n",
       " '15% off',\n",
       " '55% off',\n",
       " '50% off',\n",
       " '65% off']"
      ]
     },
     "execution_count": 48,
     "metadata": {},
     "output_type": "execute_result"
    }
   ],
   "source": [
    "disc3=[]\n",
    "for i in disc:\n",
    "    disc3.append(i.text)\n",
    "disc3"
   ]
  },
  {
   "cell_type": "code",
   "execution_count": 49,
   "id": "e45f76d1",
   "metadata": {},
   "outputs": [
    {
     "data": {
      "text/plain": [
       "['50% off',\n",
       " '68% off',\n",
       " '79% off',\n",
       " '50% off',\n",
       " '69% off',\n",
       " '52% off',\n",
       " '76% off',\n",
       " '81% off',\n",
       " '50% off',\n",
       " '66% off',\n",
       " '78% off',\n",
       " '65% off',\n",
       " '47% off',\n",
       " '50% off',\n",
       " '57% off',\n",
       " '40% off',\n",
       " '50% off',\n",
       " '64% off',\n",
       " '54% off',\n",
       " '54% off']"
      ]
     },
     "execution_count": 49,
     "metadata": {},
     "output_type": "execute_result"
    }
   ],
   "source": [
    "Discount=disc3[0:20]\n",
    "Discount"
   ]
  },
  {
   "cell_type": "code",
   "execution_count": 52,
   "id": "853803fa",
   "metadata": {
    "scrolled": true
   },
   "outputs": [
    {
     "data": {
      "text/plain": [
       "['Sumohan',\n",
       " 'Nilatin',\n",
       " 'WOODLAND',\n",
       " 'BRUTON',\n",
       " 'PUMA',\n",
       " 'URBANBOX',\n",
       " 'SFR',\n",
       " 'luxury fashion',\n",
       " 'aadi',\n",
       " 'KWIK FIT',\n",
       " 'BRUTON',\n",
       " 'RapidBox',\n",
       " 'ASTEROID',\n",
       " 'Labbin',\n",
       " 'Magnolia',\n",
       " 'Kirjak',\n",
       " 'Kraasa',\n",
       " 'aadi',\n",
       " 'Kraasa',\n",
       " 'Roadster',\n",
       " 'BIRDE',\n",
       " 'BIRDE',\n",
       " 'AMICO',\n",
       " 'kardam&sons',\n",
       " 'Kzaara',\n",
       " 'Robbie jones',\n",
       " 'Dizzler',\n",
       " 'Numenzo',\n",
       " 'Chevit',\n",
       " 'ONECENTRE',\n",
       " 'India hub',\n",
       " 'KNIGHT WALKERS',\n",
       " 'CLYMB',\n",
       " 'HOTSTYLE',\n",
       " 'BIRDE',\n",
       " 'RapidBox',\n",
       " 'BRUTON',\n",
       " 'Chevit',\n",
       " 'Rzisbo',\n",
       " 'Nilatin',\n",
       " 'Sumohan',\n",
       " 'Nilatin',\n",
       " 'WOODLAND',\n",
       " 'BRUTON',\n",
       " 'PUMA',\n",
       " 'URBANBOX',\n",
       " 'SFR',\n",
       " 'luxury fashion',\n",
       " 'aadi',\n",
       " 'KWIK FIT',\n",
       " 'BRUTON',\n",
       " 'RapidBox',\n",
       " 'ASTEROID',\n",
       " 'Labbin',\n",
       " 'Magnolia',\n",
       " 'Kirjak',\n",
       " 'Kraasa',\n",
       " 'aadi',\n",
       " 'Kraasa',\n",
       " 'Roadster',\n",
       " 'BIRDE',\n",
       " 'BIRDE',\n",
       " 'AMICO',\n",
       " 'kardam&sons',\n",
       " 'Kzaara',\n",
       " 'Robbie jones',\n",
       " 'Dizzler',\n",
       " 'Numenzo',\n",
       " 'Chevit',\n",
       " 'ONECENTRE',\n",
       " 'India hub',\n",
       " 'KNIGHT WALKERS',\n",
       " 'CLYMB',\n",
       " 'HOTSTYLE',\n",
       " 'BIRDE',\n",
       " 'RapidBox',\n",
       " 'BRUTON',\n",
       " 'Chevit',\n",
       " 'Rzisbo',\n",
       " 'Nilatin',\n",
       " 'Rzisbo',\n",
       " 'corsac',\n",
       " 'Numenzo',\n",
       " 'sixXplus',\n",
       " 'luxury fashion',\n",
       " 'ASTEROID',\n",
       " 'BRUTON',\n",
       " 'Nilatin',\n",
       " 'AMICO',\n",
       " 'KNIGHT WALKERS',\n",
       " 'BRUTON',\n",
       " 'KNIGHT WALKERS',\n",
       " 'PUMA',\n",
       " 'Stinson',\n",
       " 'Robbie jones',\n",
       " 'U.S. POLO ASSN.',\n",
       " 'Layasa',\n",
       " 'BIRDE',\n",
       " 'D-SNEAKERZ',\n",
       " 'Bacan',\n",
       " 'SCATCHITE',\n",
       " 'Shoes Bank',\n",
       " 'PUMA',\n",
       " 'KWIK FIT',\n",
       " 'Magnolia',\n",
       " 'PUMA',\n",
       " 'BRUTON',\n",
       " 'Scull Wings',\n",
       " 'luxury fashion',\n",
       " 'SHOELAMB',\n",
       " 'PUMA',\n",
       " 'BUXBERRY',\n",
       " 'LE GREEM',\n",
       " 'Eiffel',\n",
       " 'Kraasa',\n",
       " 'aadi',\n",
       " 'SPARX',\n",
       " 'Magnolia',\n",
       " 'WHITE WALKERS',\n",
       " 'KNIGHT WALKERS']"
      ]
     },
     "execution_count": 52,
     "metadata": {},
     "output_type": "execute_result"
    }
   ],
   "source": [
    "brand=brand1+brand2+brand3\n",
    "brand"
   ]
  },
  {
   "cell_type": "code",
   "execution_count": 54,
   "id": "ed9ee6b4",
   "metadata": {},
   "outputs": [
    {
     "data": {
      "text/plain": [
       "['Sumohan',\n",
       " 'Nilatin',\n",
       " 'WOODLAND',\n",
       " 'BRUTON',\n",
       " 'PUMA',\n",
       " 'URBANBOX',\n",
       " 'SFR',\n",
       " 'luxury fashion',\n",
       " 'aadi',\n",
       " 'KWIK FIT',\n",
       " 'BRUTON',\n",
       " 'RapidBox',\n",
       " 'ASTEROID',\n",
       " 'Labbin',\n",
       " 'Magnolia',\n",
       " 'Kirjak',\n",
       " 'Kraasa',\n",
       " 'aadi',\n",
       " 'Kraasa',\n",
       " 'Roadster',\n",
       " 'BIRDE',\n",
       " 'BIRDE',\n",
       " 'AMICO',\n",
       " 'kardam&sons',\n",
       " 'Kzaara',\n",
       " 'Robbie jones',\n",
       " 'Dizzler',\n",
       " 'Numenzo',\n",
       " 'Chevit',\n",
       " 'ONECENTRE',\n",
       " 'India hub',\n",
       " 'KNIGHT WALKERS',\n",
       " 'CLYMB',\n",
       " 'HOTSTYLE',\n",
       " 'BIRDE',\n",
       " 'RapidBox',\n",
       " 'BRUTON',\n",
       " 'Chevit',\n",
       " 'Rzisbo',\n",
       " 'Nilatin',\n",
       " 'Sumohan',\n",
       " 'Nilatin',\n",
       " 'WOODLAND',\n",
       " 'BRUTON',\n",
       " 'PUMA',\n",
       " 'URBANBOX',\n",
       " 'SFR',\n",
       " 'luxury fashion',\n",
       " 'aadi',\n",
       " 'KWIK FIT',\n",
       " 'BRUTON',\n",
       " 'RapidBox',\n",
       " 'ASTEROID',\n",
       " 'Labbin',\n",
       " 'Magnolia',\n",
       " 'Kirjak',\n",
       " 'Kraasa',\n",
       " 'aadi',\n",
       " 'Kraasa',\n",
       " 'Roadster',\n",
       " 'BIRDE',\n",
       " 'BIRDE',\n",
       " 'AMICO',\n",
       " 'kardam&sons',\n",
       " 'Kzaara',\n",
       " 'Robbie jones',\n",
       " 'Dizzler',\n",
       " 'Numenzo',\n",
       " 'Chevit',\n",
       " 'ONECENTRE',\n",
       " 'India hub',\n",
       " 'KNIGHT WALKERS',\n",
       " 'CLYMB',\n",
       " 'HOTSTYLE',\n",
       " 'BIRDE',\n",
       " 'RapidBox',\n",
       " 'BRUTON',\n",
       " 'Chevit',\n",
       " 'Rzisbo',\n",
       " 'Nilatin',\n",
       " 'Rzisbo',\n",
       " 'corsac',\n",
       " 'Numenzo',\n",
       " 'sixXplus',\n",
       " 'luxury fashion',\n",
       " 'ASTEROID',\n",
       " 'BRUTON',\n",
       " 'Nilatin',\n",
       " 'AMICO',\n",
       " 'KNIGHT WALKERS',\n",
       " 'BRUTON',\n",
       " 'KNIGHT WALKERS',\n",
       " 'PUMA',\n",
       " 'Stinson',\n",
       " 'Robbie jones',\n",
       " 'U.S. POLO ASSN.',\n",
       " 'Layasa',\n",
       " 'BIRDE',\n",
       " 'D-SNEAKERZ',\n",
       " 'Bacan']"
      ]
     },
     "execution_count": 54,
     "metadata": {},
     "output_type": "execute_result"
    }
   ],
   "source": [
    "product_brand=brand[0:100]\n",
    "product_brand"
   ]
  },
  {
   "cell_type": "code",
   "execution_count": 55,
   "id": "68d5d5cb",
   "metadata": {},
   "outputs": [
    {
     "data": {
      "text/plain": [
       "100"
      ]
     },
     "execution_count": 55,
     "metadata": {},
     "output_type": "execute_result"
    }
   ],
   "source": [
    "len(product_brand)"
   ]
  },
  {
   "cell_type": "code",
   "execution_count": 56,
   "id": "7beefc45",
   "metadata": {},
   "outputs": [
    {
     "data": {
      "text/plain": [
       "['Black Sneaker For Men Sneakers For Men',\n",
       " 'Sneakers For Men',\n",
       " 'Modern Trendy Sneakers Shoes Sneakers For Men',\n",
       " 'Puma Smash v2 L Sneakers For Men',\n",
       " 'Sneakers For Men',\n",
       " 'Luxuryfashion casual sneaker shoes Sneakers For Men',\n",
       " 'Sneakers For Men',\n",
       " 'Kwik FIT casual sneaker shoes and partywear shoes Casua...',\n",
       " 'Modern Trendy Sneakers Shoes Sneakers For Men',\n",
       " \"Original Luxury Branded Fashionable Men's Casual Walkin...\",\n",
       " 'Sneakers For Men',\n",
       " 'Sneakers For Men',\n",
       " \"men's Skyblue sneakers lace-up trendy casual Sneakers F...\",\n",
       " 'Shark-41 Sneakers For Men',\n",
       " 'Sneakers For Men',\n",
       " 'Casuals, Canvas, Partywear Sneakers For Men',\n",
       " 'Sneakers For Men',\n",
       " 'Stylish Comfortable Lightweight, Breathable Walking Sho...',\n",
       " 'Stylish Comfortable Lightweight, Breathable Walking Sho...',\n",
       " 'Sneakers For Men',\n",
       " 'Fashionable Luxury Canvas Casual Outdoor Sneakers White...',\n",
       " 'Sneakers For Men',\n",
       " 'Casual Sneakers Canvas Shoes For Men Sneakers For Men',\n",
       " 'Sneakers For Men',\n",
       " 'Super Stylish & Trendy Combo Pack of 02 Pairs Sneakers ...',\n",
       " 'STR2 Sneakers For Men',\n",
       " 'Sneakers For Men',\n",
       " 'Sneakers For Men',\n",
       " 'Sneakers For Men',\n",
       " 'Stylish Comfortable Lightweight, Breathable Casual Walk...',\n",
       " 'Lightweight Pack Of 1 Trendy Sneakers Sneakers For Men',\n",
       " \"Men's Combo Pack of 02 Shoes for Men Casual Sneakers Ou...\",\n",
       " 'Sneakers For Men',\n",
       " 'Sneakers For Men',\n",
       " 'Black Sneaker For Men Sneakers For Men',\n",
       " 'Sneakers For Men',\n",
       " 'Modern Trendy Sneakers Shoes Sneakers For Men',\n",
       " 'Puma Smash v2 L Sneakers For Men',\n",
       " 'Sneakers For Men',\n",
       " 'Luxuryfashion casual sneaker shoes Sneakers For Men',\n",
       " 'Sneakers For Men',\n",
       " 'Kwik FIT casual sneaker shoes and partywear shoes Casua...',\n",
       " 'Modern Trendy Sneakers Shoes Sneakers For Men',\n",
       " \"Original Luxury Branded Fashionable Men's Casual Walkin...\",\n",
       " 'Sneakers For Men',\n",
       " 'Sneakers For Men',\n",
       " \"men's Skyblue sneakers lace-up trendy casual Sneakers F...\",\n",
       " 'Shark-41 Sneakers For Men',\n",
       " 'Sneakers For Men',\n",
       " 'Casuals, Canvas, Partywear Sneakers For Men',\n",
       " 'Sneakers For Men',\n",
       " 'Stylish Comfortable Lightweight, Breathable Walking Sho...',\n",
       " 'Stylish Comfortable Lightweight, Breathable Walking Sho...',\n",
       " 'Sneakers For Men',\n",
       " 'Fashionable Luxury Canvas Casual Outdoor Sneakers White...',\n",
       " 'Sneakers For Men',\n",
       " 'Casual Sneakers Canvas Shoes For Men Sneakers For Men',\n",
       " 'Sneakers For Men',\n",
       " 'Super Stylish & Trendy Combo Pack of 02 Pairs Sneakers ...',\n",
       " 'STR2 Sneakers For Men',\n",
       " 'Sneakers For Men',\n",
       " 'Sneakers For Men',\n",
       " 'Sneakers For Men',\n",
       " 'Stylish Comfortable Lightweight, Breathable Casual Walk...',\n",
       " 'Lightweight Pack Of 1 Trendy Sneakers Sneakers For Men',\n",
       " \"Men's Combo Pack of 02 Shoes for Men Casual Sneakers Ou...\",\n",
       " 'Sneakers For Men',\n",
       " 'Sneakers For Men',\n",
       " 'Sneakers For Men',\n",
       " 'STYLISH MENS BLACK SNEAKER Sneakers For Men',\n",
       " '411 Casual Sneakers For Men',\n",
       " 'Casual For Men (Blue 07) Sneakers For Men (Blue) Sneake...',\n",
       " 'Luxury Fashionable casual sneaker shoes Sneakers For Me...',\n",
       " 'Original Luxury Branded Black Fancy Casual Walking Part...',\n",
       " 'Exclusive Sneaker Shoes Sneakers For Men',\n",
       " 'Sneakers For Men',\n",
       " 'Sneakers For Men',\n",
       " 'SS1100 Sneakers For Men',\n",
       " 'Sneaker Sneakers For Men',\n",
       " 'Smash v2 L White- Black Sneakers For Men',\n",
       " 'Casual Sneakers White Shoes For Men Sneakers For Men',\n",
       " 'CLARKIN 2.0 Sneakers For Men',\n",
       " 'Sneakers For Men',\n",
       " 'Sports Running Shoes Sneakers For Men',\n",
       " \"Casual , Partywear Sneakers Shoes For Men's And Boys Wh...\",\n",
       " 'Sneakers For Men',\n",
       " 'Sneakers Sneakers For Men',\n",
       " \"White Sneaker For Men's/Boy's Sneakers For Men\",\n",
       " 'ST Activate V2 Sneakers For Men',\n",
       " 'Sneakers For Men',\n",
       " 'R78 Sneakers For Men',\n",
       " 'Lattest Sneakers Shoe Sneakers For Men',\n",
       " 'Luxury Fashionable casual sneaker shoes Sneakers For Me...',\n",
       " \"Men's White Casual Walking Running Sneaker Shoe Sneaker...\",\n",
       " 'Blend Sneakers For Men',\n",
       " 'Comfortable & Ultra Light Weight Sneaker Sneakers For M...',\n",
       " 'Series 7 Sneakers For Men',\n",
       " 'Sneakers For Men',\n",
       " 'Men White Sneakers Sneakers For Men',\n",
       " 'Sneakers For Men',\n",
       " 'Stylish & Trending Outdoor Walking Comfortable Sneakers...']"
      ]
     },
     "execution_count": 56,
     "metadata": {},
     "output_type": "execute_result"
    }
   ],
   "source": [
    "pro_disc=pro_discription+pro_disc1+pro_disc3\n",
    "pro_disc"
   ]
  },
  {
   "cell_type": "code",
   "execution_count": 58,
   "id": "c4b5c3c2",
   "metadata": {},
   "outputs": [
    {
     "data": {
      "text/plain": [
       "['₹499',\n",
       " '₹450',\n",
       " '₹1,797',\n",
       " '₹284',\n",
       " '₹1,658',\n",
       " '₹219',\n",
       " '₹289',\n",
       " '₹474',\n",
       " '₹425',\n",
       " '₹397',\n",
       " '₹299',\n",
       " '₹630',\n",
       " '₹474',\n",
       " '₹449',\n",
       " '₹449',\n",
       " '₹490',\n",
       " '₹539',\n",
       " '₹299',\n",
       " '₹539',\n",
       " '₹1,465',\n",
       " '₹442',\n",
       " '₹442',\n",
       " '₹494',\n",
       " '₹449',\n",
       " '₹254',\n",
       " '₹449',\n",
       " '₹435',\n",
       " '₹466',\n",
       " '₹649',\n",
       " '₹299',\n",
       " '₹448',\n",
       " '₹699',\n",
       " '₹519',\n",
       " '₹284',\n",
       " '₹442',\n",
       " '₹620',\n",
       " '₹199',\n",
       " '₹466',\n",
       " '₹490',\n",
       " '₹569',\n",
       " '₹499',\n",
       " '₹450',\n",
       " '₹1,797',\n",
       " '₹284',\n",
       " '₹1,658',\n",
       " '₹219',\n",
       " '₹289',\n",
       " '₹474',\n",
       " '₹425',\n",
       " '₹397',\n",
       " '₹299',\n",
       " '₹630',\n",
       " '₹474',\n",
       " '₹449',\n",
       " '₹449',\n",
       " '₹490',\n",
       " '₹539',\n",
       " '₹299',\n",
       " '₹539',\n",
       " '₹1,465',\n",
       " '₹442',\n",
       " '₹442',\n",
       " '₹494',\n",
       " '₹449',\n",
       " '₹254',\n",
       " '₹449',\n",
       " '₹435',\n",
       " '₹466',\n",
       " '₹649',\n",
       " '₹299',\n",
       " '₹448',\n",
       " '₹699',\n",
       " '₹519',\n",
       " '₹284',\n",
       " '₹442',\n",
       " '₹620',\n",
       " '₹199',\n",
       " '₹466',\n",
       " '₹490',\n",
       " '₹569',\n",
       " '₹490',\n",
       " '₹474',\n",
       " '₹402',\n",
       " '₹499',\n",
       " '₹399',\n",
       " '₹474',\n",
       " '₹299',\n",
       " '₹569',\n",
       " '₹494',\n",
       " '₹664',\n",
       " '₹284',\n",
       " '₹699',\n",
       " '₹1,854',\n",
       " '₹249',\n",
       " '₹426',\n",
       " '₹1,799',\n",
       " '₹499',\n",
       " '₹353',\n",
       " '₹299',\n",
       " '₹450']"
      ]
     },
     "execution_count": 58,
     "metadata": {},
     "output_type": "execute_result"
    }
   ],
   "source": [
    "product_price=price1+price2+Price\n",
    "product_price"
   ]
  },
  {
   "cell_type": "code",
   "execution_count": 59,
   "id": "1005196e",
   "metadata": {},
   "outputs": [
    {
     "data": {
      "text/plain": [
       "100"
      ]
     },
     "execution_count": 59,
     "metadata": {},
     "output_type": "execute_result"
    }
   ],
   "source": [
    "len(product_price)"
   ]
  },
  {
   "cell_type": "code",
   "execution_count": 64,
   "id": "118837d0",
   "metadata": {},
   "outputs": [
    {
     "data": {
      "text/plain": [
       "['50% off',\n",
       " '68% off',\n",
       " '79% off',\n",
       " '50% off',\n",
       " '69% off',\n",
       " '52% off',\n",
       " '76% off',\n",
       " '81% off',\n",
       " '50% off',\n",
       " '66% off',\n",
       " '78% off',\n",
       " '65% off',\n",
       " '47% off',\n",
       " '50% off',\n",
       " '57% off',\n",
       " '40% off',\n",
       " '50% off',\n",
       " '64% off',\n",
       " '54% off',\n",
       " '54% off',\n",
       " '62% off',\n",
       " '70% off',\n",
       " '58% off',\n",
       " '75% off',\n",
       " '55% off',\n",
       " '41% off',\n",
       " '79% off',\n",
       " '61% off',\n",
       " '87% off',\n",
       " '14% off',\n",
       " '56% off',\n",
       " '64% off',\n",
       " '50% off',\n",
       " '53% off',\n",
       " '46% off',\n",
       " '75% off',\n",
       " '15% off',\n",
       " '55% off',\n",
       " '50% off',\n",
       " '65% off',\n",
       " '50% off',\n",
       " '65% off',\n",
       " '40% off',\n",
       " '78% off',\n",
       " '52% off',\n",
       " '78% off',\n",
       " '71% off',\n",
       " '63% off',\n",
       " '57% off',\n",
       " '80% off',\n",
       " '76% off',\n",
       " '36% off',\n",
       " '76% off',\n",
       " '55% off',\n",
       " '55% off',\n",
       " '75% off',\n",
       " '46% off',\n",
       " '70% off',\n",
       " '46% off',\n",
       " '65% off',\n",
       " '55% off',\n",
       " '55% off',\n",
       " '50% off',\n",
       " '71% off',\n",
       " '74% off',\n",
       " '55% off',\n",
       " '39% off',\n",
       " '64% off',\n",
       " '65% off',\n",
       " '51% off',\n",
       " '77% off',\n",
       " '65% off',\n",
       " '65% off',\n",
       " '71% off',\n",
       " '55% off',\n",
       " '37% off',\n",
       " '66% off',\n",
       " '57% off',\n",
       " '50% off',\n",
       " '81% off',\n",
       " '50% off',\n",
       " '68% off',\n",
       " '79% off',\n",
       " '50% off',\n",
       " '69% off',\n",
       " '52% off',\n",
       " '76% off',\n",
       " '81% off',\n",
       " '50% off',\n",
       " '66% off',\n",
       " '78% off',\n",
       " '65% off',\n",
       " '47% off',\n",
       " '50% off',\n",
       " '57% off',\n",
       " '40% off',\n",
       " '50% off',\n",
       " '64% off',\n",
       " '54% off',\n",
       " '54% off']"
      ]
     },
     "execution_count": 64,
     "metadata": {},
     "output_type": "execute_result"
    }
   ],
   "source": [
    "product_discount=discount+discount2+Discount\n",
    "product_discount"
   ]
  },
  {
   "cell_type": "code",
   "execution_count": 65,
   "id": "840e5dad",
   "metadata": {},
   "outputs": [
    {
     "data": {
      "text/plain": [
       "100"
      ]
     },
     "execution_count": 65,
     "metadata": {},
     "output_type": "execute_result"
    }
   ],
   "source": [
    "len(product_discount)"
   ]
  },
  {
   "cell_type": "code",
   "execution_count": null,
   "id": "a9bf3659",
   "metadata": {},
   "outputs": [],
   "source": [
    "#Q8: Go to webpage https://www.amazon.in/\n",
    "#Enter “Laptop” in the search field and then click the search icon.\n",
    "#Then set CPU Type filter to “Intel Core i7”\n",
    "#After setting the filters scrape first 10 laptops data. You have to scrape 3 attributesfor each laptop:\n",
    "#1. Title\n",
    "#2. Ratings\n",
    "#3. Price\n"
   ]
  },
  {
   "cell_type": "code",
   "execution_count": 75,
   "id": "6a8ecfb7",
   "metadata": {},
   "outputs": [],
   "source": [
    "url='https://www.amazon.in/'\n",
    "driver.get(url)"
   ]
  },
  {
   "cell_type": "code",
   "execution_count": 76,
   "id": "cfee3b9a",
   "metadata": {},
   "outputs": [
    {
     "data": {
      "text/plain": [
       "<selenium.webdriver.remote.webelement.WebElement (session=\"6c14acf529b615c28cefe59954f7a9f1\", element=\"61f03f88-9c54-4b45-9cbe-fe0dc2f97a84\")>"
      ]
     },
     "execution_count": 76,
     "metadata": {},
     "output_type": "execute_result"
    }
   ],
   "source": [
    "#finding web element for search bar\n",
    "search_bar=driver.find_element(\"xpath\",'/html/body/div[1]/header/div/div[1]/div[2]/div/form/div[2]/div[1]/input')\n",
    "search_bar"
   ]
  },
  {
   "cell_type": "code",
   "execution_count": 77,
   "id": "c95900d0",
   "metadata": {},
   "outputs": [],
   "source": [
    "#writing on search bar\n",
    "search_bar.send_keys('laptop')"
   ]
  },
  {
   "cell_type": "code",
   "execution_count": 78,
   "id": "dcef3906",
   "metadata": {},
   "outputs": [
    {
     "data": {
      "text/plain": [
       "<selenium.webdriver.remote.webelement.WebElement (session=\"6c14acf529b615c28cefe59954f7a9f1\", element=\"0dc1fe6f-8646-4bf1-8979-23aa4f0c472d\")>"
      ]
     },
     "execution_count": 78,
     "metadata": {},
     "output_type": "execute_result"
    }
   ],
   "source": [
    "#searching web element for search icon\n",
    "search_icon=driver.find_element(\"xpath\",'/html/body/div[1]/header/div/div[1]/div[2]/div/form/div[3]/div')\n",
    "search_icon\n"
   ]
  },
  {
   "cell_type": "code",
   "execution_count": 79,
   "id": "b2dcf263",
   "metadata": {},
   "outputs": [],
   "source": [
    "search_icon.click()"
   ]
  },
  {
   "cell_type": "code",
   "execution_count": 80,
   "id": "da384d2d",
   "metadata": {},
   "outputs": [
    {
     "data": {
      "text/plain": [
       "[<selenium.webdriver.remote.webelement.WebElement (session=\"6c14acf529b615c28cefe59954f7a9f1\", element=\"c6db5865-5469-47ae-918b-0d8ad7989263\")>,\n",
       " <selenium.webdriver.remote.webelement.WebElement (session=\"6c14acf529b615c28cefe59954f7a9f1\", element=\"9720f18a-71b4-433a-b284-6a2fbebfa668\")>,\n",
       " <selenium.webdriver.remote.webelement.WebElement (session=\"6c14acf529b615c28cefe59954f7a9f1\", element=\"c9b0f0ac-fa3b-4c44-8cae-8e979ceb1383\")>,\n",
       " <selenium.webdriver.remote.webelement.WebElement (session=\"6c14acf529b615c28cefe59954f7a9f1\", element=\"6b5c3496-6317-4580-9a90-057bf6b15984\")>,\n",
       " <selenium.webdriver.remote.webelement.WebElement (session=\"6c14acf529b615c28cefe59954f7a9f1\", element=\"3df8e7e6-e246-4ddc-9934-46af78868844\")>,\n",
       " <selenium.webdriver.remote.webelement.WebElement (session=\"6c14acf529b615c28cefe59954f7a9f1\", element=\"c89b96d3-ebea-4c35-a807-3a984bcf0976\")>,\n",
       " <selenium.webdriver.remote.webelement.WebElement (session=\"6c14acf529b615c28cefe59954f7a9f1\", element=\"72dd71b1-5201-47ae-8750-781d0db386d7\")>,\n",
       " <selenium.webdriver.remote.webelement.WebElement (session=\"6c14acf529b615c28cefe59954f7a9f1\", element=\"99a1c278-bcec-4fef-bb42-680d076d4099\")>,\n",
       " <selenium.webdriver.remote.webelement.WebElement (session=\"6c14acf529b615c28cefe59954f7a9f1\", element=\"ba0eed57-87dc-4953-9360-2d3ab189e0df\")>,\n",
       " <selenium.webdriver.remote.webelement.WebElement (session=\"6c14acf529b615c28cefe59954f7a9f1\", element=\"948b5809-fc4b-4fad-9ddd-070f4fd59aee\")>,\n",
       " <selenium.webdriver.remote.webelement.WebElement (session=\"6c14acf529b615c28cefe59954f7a9f1\", element=\"e0fada37-7206-4b86-b4e0-b87d91254ee9\")>,\n",
       " <selenium.webdriver.remote.webelement.WebElement (session=\"6c14acf529b615c28cefe59954f7a9f1\", element=\"922cddad-2977-4831-be3f-73b77d34dc43\")>,\n",
       " <selenium.webdriver.remote.webelement.WebElement (session=\"6c14acf529b615c28cefe59954f7a9f1\", element=\"545f9b3e-d719-4f42-9078-178229c15db5\")>,\n",
       " <selenium.webdriver.remote.webelement.WebElement (session=\"6c14acf529b615c28cefe59954f7a9f1\", element=\"2dd94a6a-4484-4611-a65d-ea55480a5eeb\")>,\n",
       " <selenium.webdriver.remote.webelement.WebElement (session=\"6c14acf529b615c28cefe59954f7a9f1\", element=\"81ee9f68-c1e7-4ca4-9594-0231e91e745f\")>,\n",
       " <selenium.webdriver.remote.webelement.WebElement (session=\"6c14acf529b615c28cefe59954f7a9f1\", element=\"dc333a30-95c1-4b68-93b9-0ef6325bbc94\")>,\n",
       " <selenium.webdriver.remote.webelement.WebElement (session=\"6c14acf529b615c28cefe59954f7a9f1\", element=\"787831f5-8afe-4494-a1b1-93e62c6c4a8d\")>,\n",
       " <selenium.webdriver.remote.webelement.WebElement (session=\"6c14acf529b615c28cefe59954f7a9f1\", element=\"a1ab45a2-6049-4193-9f23-234ddc5317c7\")>,\n",
       " <selenium.webdriver.remote.webelement.WebElement (session=\"6c14acf529b615c28cefe59954f7a9f1\", element=\"b8bd9262-3a85-4c10-813f-b6b12cdb4229\")>,\n",
       " <selenium.webdriver.remote.webelement.WebElement (session=\"6c14acf529b615c28cefe59954f7a9f1\", element=\"8b4531cb-cf6f-46db-8d42-79497a160b01\")>,\n",
       " <selenium.webdriver.remote.webelement.WebElement (session=\"6c14acf529b615c28cefe59954f7a9f1\", element=\"fd02b311-e2a3-4f77-8334-9a5f892955e8\")>,\n",
       " <selenium.webdriver.remote.webelement.WebElement (session=\"6c14acf529b615c28cefe59954f7a9f1\", element=\"1a2ee654-a250-478a-8261-dbf5cee78a1f\")>,\n",
       " <selenium.webdriver.remote.webelement.WebElement (session=\"6c14acf529b615c28cefe59954f7a9f1\", element=\"539238ee-5bcb-443f-8cf7-06b92d1ef67e\")>,\n",
       " <selenium.webdriver.remote.webelement.WebElement (session=\"6c14acf529b615c28cefe59954f7a9f1\", element=\"7c4f1c7a-d159-42e8-a6da-d778debb0d65\")>]"
      ]
     },
     "execution_count": 80,
     "metadata": {},
     "output_type": "execute_result"
    }
   ],
   "source": [
    "title=driver.find_elements(\"xpath\",'//div[@class=\"a-section a-spacing-none s-padding-right-small s-title-instructions-style\"]')\n",
    "title"
   ]
  },
  {
   "cell_type": "code",
   "execution_count": 81,
   "id": "ee5bdd20",
   "metadata": {},
   "outputs": [
    {
     "data": {
      "text/plain": [
       "['ASUS TUF Gaming F15 (2021), 15.6\" (39.62 cms) FHD 144Hz, Intel Core i7-11600H 11th Gen, 4GB RTX 3050 Graphics, Gaming Laptop (16GB/512GB SSD/Windows 10/Office 2019/Gray/2.3 Kg), FX566HCB-HN299TS',\n",
       " 'ASUS Zenbook 14 OLED (2022), 14\" (35.56 cms) 2.8K OLED 16:10 90Hz, Intel Core Evo i7-1260P 12th Gen, Thin and Light Laptop (16GB/512GB SSD/Windows 11/Office 2021/Blue/1.39 kg), UX3402ZA-KM731WS',\n",
       " 'Acer Nitro 5 Gaming Laptop/12th Gen Intel Core i7-12700H Processor 14core/15.6\"(39.6cm) FHD 144Hz Display(16GB/512GB SSD/1TB HDD/RTX 3050Ti Graphics/Windows 11/RGB),AN515-58 + Xbox Game Pass Ultimate',\n",
       " 'ASUS Vivobook 15, 15.6-inch (39.62 cms) FHD, Intel Core i7-1065G7 10th Gen, Thin and Light Laptop (16GB/512GB SSD/Iris Plus Graphics/Windows 11/Office 2021/Silver/1.8 kg), X515JA-EJ701WS',\n",
       " 'Lenovo ThinkBook 15 Intel 11th Gen Core i7 15.6\"(39.62 cm)FHD Thin and Light Laptop (16GB/512GB SSD/Windows 11 Home/MS Office H&S 2021/Iris® Xe Graphics/Backlit/Mineral Grey/1.7 Kg) 20VE00W4IH',\n",
       " 'Hp Pavilion 15 12Th Gen Intel Core I7 16Gb Sdram/1Tb Ssd 15.6 Inches (39.6Cm) Fhd,IPS/Intel Iris Xe Graphics/B&O/Windows 11 Home/Alexa/Backlit Kb/Fpr/Mso 2021/1.75Kg, 15-Eg2039Tu, Natural Silver',\n",
       " 'Lenovo IdeaPad Slim 5 Pro Intel Core i7 11th Gen 14\" (35.56cm) 2.2K IPS Thin & Light Laptop (16GB/512GB SSD/Win11/Office 2021/Backlit/3Yr Warranty/3months Game Pass/Storm Grey/1.38Kg), 82L3006YIN',\n",
       " 'Hp Pavilion X360 11Th Gen Intel Core I7 14 Inches Fhd Multitouch 2In1 Laptop (16Gb Ram/512Gb Ssd/B&O/Windows 11 Home/Fpr/Backlit Kb/Intel Iris Xe Graphics/Pen/Alexa/Ms Office/Silver/1.52Kg)14-Dy1047Tu',\n",
       " 'Lenovo ThinkPad E14 Intel Core i7 11th Gen 14-inch (35.56cm) FHD TN Antiglare Thin and Light Laptop (16GB RAM/512GB SSD/Windows 11 Home/Microsoft Office H&S 2021/FPR/Black/1.59 kg), 20TAS1B400',\n",
       " 'LG Gram 16 Intel Evo 11th Gen i7 Thin & Light Laptop 2K+ IPS 16:10 Display [16 GB RAM/ 512 GB SSD/ Windows 11 / Iris Xe Graphics/ Thunderbolt 4, USC -C x 2 / 1.19 kg, Black/ 3Yr Warranty] 16Z90P',\n",
       " '(Renewed) Lenovo IdeaPad Slim 3i (82H801CSIN) Intel Core i5-1135G7 15.6 inches FHD Laptop (8GB /256GB SSD /Iris Xe Graphics /Windows 10 Home SL) Arctic Grey, 2.2kg',\n",
       " 'HP Pavilion 14 12th Gen Intel Core i7 16GB SDRAM/1TB SSD 14 inch(35.6cm) FHD,IPS,Micro-Edge Display/Intel UHD Graphics/B&O/Win 11/Alexa Built-in/Backlit KB/FPR/MSO 2021/Natural Silver, 14-dv2015TU',\n",
       " '(Renewed) Dell Latitude E7470 Intel Core i7 6th Gen 14 inches Laptop /16 GB RAM/512 GB SSD/Windows 10 Pro/MS Office/HD Display/Integrated Graphics, 1.9 kg',\n",
       " '(Renewed) Dell Intel Core i7 7th Gen 14.Inch(35.6 cms) (1920 x 1080)FHD TOUCHSCREEN Laptop (32GB RAM /2TB HDD/Windows 10 Pro/MS Office/Intel HD Integrated Graphics/ Black/1.18Kg,Black) Latitude E7480',\n",
       " 'Samsung Galaxy Book2 360 Intel 12th Gen i7 EvoTM 33.78cm (13.3\") AMOLED Thin & Light Laptop (16 GB/512 GB SSD/Windows 11/MS Office/Backlit KB/Fingerprint Sensor/Graphite/1.16Kg), NP730QED-KA1IN',\n",
       " 'HP Pavilion 11th Gen Intel Core i7 Processor 15.6 inches FHD Gaming Laptop (16GB/512GB SSD/Windows 11/NVIDIA RTX 3050 Graphics/MS Office/ Shadow Black & Ultra Violet/2.23Kg), 15-dk2096TX',\n",
       " 'Infinix INBook X1 Pro Core i7 10th Gen - (16 GB/512 GB SSD/Windows 11 Home) XL12 Thin and Light Laptop (14 Inch, Noble Red, 1.48 kg)',\n",
       " '(Renewed) HP 840G1 Elitebook 14 Inch Screen Laptop (4th Gen Intel Core i7 - 4600u /8 GB/240 GB SSD/Widnows 10 Pro), Black-Grey',\n",
       " 'MSI Modern 14, Intel i7-1165G7, 14\" FHD IPS-Level 60Hz Panel Laptop (8GB/512GB NVMe SSD/Windows 10 Home/Intel UHD Graphics/Carbon Grey/1.3Kg), B11MOU-473IN',\n",
       " '(Renewed) Dell Latitude Laptop E7480 Intel Core i7 - 7600u Processor 7th Gen, 16 GB Ram & 512 GB SSD, 14.1 Inches (Ultra Slim & Feather Light 1.37KG) Notebook Computer',\n",
       " 'Lenovo Legion 5 Intel Core i7 11th Gen 15.6\" (39.62cm) FHD IPS Gaming Laptop (16GB/512GB SSD/4GB NVIDIA RTX 3050/120Hz/Windows 11/Office 2021/Backlit/3months Game Pass/Phantom Blue/2.4Kg), 82JK00BEIN',\n",
       " '(Renewed) ASUS VivoBook 14 (2021), 14-inch (35.56 cms) FHD, Intel Core i7-1065G7 10th Gen, Thin and Light Laptop (16GB/512GB SSD/Integrated Graphics/Office 2021/Windows 11/Silver/1.6 Kg), X415JA-EK701WS',\n",
       " '(Renewed) Hp Elitebook X360 1030 G2 Laptop (Intel Core I7 7Th Gen/8Gb/512Gb Ssd/Webcam/13.3 Inches Touch/Windows 10 Pro) (2-In-1 Convertible)',\n",
       " '(Refurbished) Lenovo Intel 5th Gen Core i7 14 Inch(35.56 cms) 1366 x 768 HD Laptop (8GB RAM/1TB HDD/Windows 10 Pro/MS Office/ Intel HD graphics,Black,2.0kg) Lenovo ThinkPad T450']"
      ]
     },
     "execution_count": 81,
     "metadata": {},
     "output_type": "execute_result"
    }
   ],
   "source": [
    "title1=[]\n",
    "for i in title:\n",
    "    title1.append(i.text)\n",
    "title1"
   ]
  },
  {
   "cell_type": "code",
   "execution_count": 82,
   "id": "2cb6c78e",
   "metadata": {},
   "outputs": [
    {
     "data": {
      "text/plain": [
       "['ASUS TUF Gaming F15 (2021), 15.6\" (39.62 cms) FHD 144Hz, Intel Core i7-11600H 11th Gen, 4GB RTX 3050 Graphics, Gaming Laptop (16GB/512GB SSD/Windows 10/Office 2019/Gray/2.3 Kg), FX566HCB-HN299TS',\n",
       " 'ASUS Zenbook 14 OLED (2022), 14\" (35.56 cms) 2.8K OLED 16:10 90Hz, Intel Core Evo i7-1260P 12th Gen, Thin and Light Laptop (16GB/512GB SSD/Windows 11/Office 2021/Blue/1.39 kg), UX3402ZA-KM731WS',\n",
       " 'Acer Nitro 5 Gaming Laptop/12th Gen Intel Core i7-12700H Processor 14core/15.6\"(39.6cm) FHD 144Hz Display(16GB/512GB SSD/1TB HDD/RTX 3050Ti Graphics/Windows 11/RGB),AN515-58 + Xbox Game Pass Ultimate',\n",
       " 'ASUS Vivobook 15, 15.6-inch (39.62 cms) FHD, Intel Core i7-1065G7 10th Gen, Thin and Light Laptop (16GB/512GB SSD/Iris Plus Graphics/Windows 11/Office 2021/Silver/1.8 kg), X515JA-EJ701WS',\n",
       " 'Lenovo ThinkBook 15 Intel 11th Gen Core i7 15.6\"(39.62 cm)FHD Thin and Light Laptop (16GB/512GB SSD/Windows 11 Home/MS Office H&S 2021/Iris® Xe Graphics/Backlit/Mineral Grey/1.7 Kg) 20VE00W4IH',\n",
       " 'Hp Pavilion 15 12Th Gen Intel Core I7 16Gb Sdram/1Tb Ssd 15.6 Inches (39.6Cm) Fhd,IPS/Intel Iris Xe Graphics/B&O/Windows 11 Home/Alexa/Backlit Kb/Fpr/Mso 2021/1.75Kg, 15-Eg2039Tu, Natural Silver',\n",
       " 'Lenovo IdeaPad Slim 5 Pro Intel Core i7 11th Gen 14\" (35.56cm) 2.2K IPS Thin & Light Laptop (16GB/512GB SSD/Win11/Office 2021/Backlit/3Yr Warranty/3months Game Pass/Storm Grey/1.38Kg), 82L3006YIN',\n",
       " 'Hp Pavilion X360 11Th Gen Intel Core I7 14 Inches Fhd Multitouch 2In1 Laptop (16Gb Ram/512Gb Ssd/B&O/Windows 11 Home/Fpr/Backlit Kb/Intel Iris Xe Graphics/Pen/Alexa/Ms Office/Silver/1.52Kg)14-Dy1047Tu',\n",
       " 'Lenovo ThinkPad E14 Intel Core i7 11th Gen 14-inch (35.56cm) FHD TN Antiglare Thin and Light Laptop (16GB RAM/512GB SSD/Windows 11 Home/Microsoft Office H&S 2021/FPR/Black/1.59 kg), 20TAS1B400',\n",
       " 'LG Gram 16 Intel Evo 11th Gen i7 Thin & Light Laptop 2K+ IPS 16:10 Display [16 GB RAM/ 512 GB SSD/ Windows 11 / Iris Xe Graphics/ Thunderbolt 4, USC -C x 2 / 1.19 kg, Black/ 3Yr Warranty] 16Z90P']"
      ]
     },
     "execution_count": 82,
     "metadata": {},
     "output_type": "execute_result"
    }
   ],
   "source": [
    "TITLE=title1[0:10]\n",
    "TITLE"
   ]
  },
  {
   "cell_type": "code",
   "execution_count": 83,
   "id": "d4bc1461",
   "metadata": {},
   "outputs": [
    {
     "data": {
      "text/plain": [
       "10"
      ]
     },
     "execution_count": 83,
     "metadata": {},
     "output_type": "execute_result"
    }
   ],
   "source": [
    "len(TITLE)"
   ]
  },
  {
   "cell_type": "code",
   "execution_count": 84,
   "id": "d2908d50",
   "metadata": {},
   "outputs": [
    {
     "data": {
      "text/plain": [
       "[<selenium.webdriver.remote.webelement.WebElement (session=\"6c14acf529b615c28cefe59954f7a9f1\", element=\"ee96707d-58cd-4294-b10e-03b63cfeebbd\")>,\n",
       " <selenium.webdriver.remote.webelement.WebElement (session=\"6c14acf529b615c28cefe59954f7a9f1\", element=\"fda873f8-e8a8-4da7-a95b-87c0ae951dc4\")>,\n",
       " <selenium.webdriver.remote.webelement.WebElement (session=\"6c14acf529b615c28cefe59954f7a9f1\", element=\"fe5842d0-db7f-45a9-8024-2d95e93b1424\")>,\n",
       " <selenium.webdriver.remote.webelement.WebElement (session=\"6c14acf529b615c28cefe59954f7a9f1\", element=\"eff4c9b7-f1ca-4f0f-9946-5050cfef0cf7\")>,\n",
       " <selenium.webdriver.remote.webelement.WebElement (session=\"6c14acf529b615c28cefe59954f7a9f1\", element=\"96fa3c6b-726a-48cd-b7d4-0c4cf3c7cb41\")>,\n",
       " <selenium.webdriver.remote.webelement.WebElement (session=\"6c14acf529b615c28cefe59954f7a9f1\", element=\"0c0b38dd-ebc9-4ae2-8277-7b167dba1feb\")>,\n",
       " <selenium.webdriver.remote.webelement.WebElement (session=\"6c14acf529b615c28cefe59954f7a9f1\", element=\"757f982e-e6f8-4c7a-9427-8c1deccba82c\")>,\n",
       " <selenium.webdriver.remote.webelement.WebElement (session=\"6c14acf529b615c28cefe59954f7a9f1\", element=\"1532a539-40c0-49be-bd65-0e08427a91d2\")>,\n",
       " <selenium.webdriver.remote.webelement.WebElement (session=\"6c14acf529b615c28cefe59954f7a9f1\", element=\"177ac267-447e-49a9-b75f-c1f8824e8c26\")>,\n",
       " <selenium.webdriver.remote.webelement.WebElement (session=\"6c14acf529b615c28cefe59954f7a9f1\", element=\"31b29008-8119-42ca-85d5-166c2e7ccd8b\")>,\n",
       " <selenium.webdriver.remote.webelement.WebElement (session=\"6c14acf529b615c28cefe59954f7a9f1\", element=\"f77f1ed8-aafd-4cab-8972-3498fc55ecb1\")>,\n",
       " <selenium.webdriver.remote.webelement.WebElement (session=\"6c14acf529b615c28cefe59954f7a9f1\", element=\"4de658e2-bcb3-4a62-a163-7bf55db6b2ec\")>,\n",
       " <selenium.webdriver.remote.webelement.WebElement (session=\"6c14acf529b615c28cefe59954f7a9f1\", element=\"ec96ba01-3a7f-472e-bfea-0aac317d9fcb\")>,\n",
       " <selenium.webdriver.remote.webelement.WebElement (session=\"6c14acf529b615c28cefe59954f7a9f1\", element=\"cf4a5057-9dbb-4a7f-b9ae-2fa4450b18cc\")>,\n",
       " <selenium.webdriver.remote.webelement.WebElement (session=\"6c14acf529b615c28cefe59954f7a9f1\", element=\"628d0992-7323-4aaf-b4a4-d20788f1e183\")>,\n",
       " <selenium.webdriver.remote.webelement.WebElement (session=\"6c14acf529b615c28cefe59954f7a9f1\", element=\"b55edca4-f640-4213-9722-fd55bb04c169\")>]"
      ]
     },
     "execution_count": 84,
     "metadata": {},
     "output_type": "execute_result"
    }
   ],
   "source": [
    "rating=driver.find_elements(\"xpath\",'//div[@class=\"a-row a-size-small\"]')\n",
    "rating"
   ]
  },
  {
   "cell_type": "code",
   "execution_count": 85,
   "id": "eee68aeb",
   "metadata": {},
   "outputs": [
    {
     "data": {
      "text/plain": [
       "['26',\n",
       " '7',\n",
       " '85',\n",
       " '161',\n",
       " '50',\n",
       " '5',\n",
       " '9',\n",
       " '14',\n",
       " '143',\n",
       " '9',\n",
       " '12',\n",
       " '10',\n",
       " '6',\n",
       " '36',\n",
       " '1',\n",
       " '18']"
      ]
     },
     "execution_count": 85,
     "metadata": {},
     "output_type": "execute_result"
    }
   ],
   "source": [
    "rating1=[]\n",
    "for i in rating:\n",
    "    rating1.append(i.text)\n",
    "rating1"
   ]
  },
  {
   "cell_type": "code",
   "execution_count": 86,
   "id": "03f51bc9",
   "metadata": {},
   "outputs": [
    {
     "data": {
      "text/plain": [
       "['26', '7', '85', '161', '50', '5', '9', '14', '143', '9']"
      ]
     },
     "execution_count": 86,
     "metadata": {},
     "output_type": "execute_result"
    }
   ],
   "source": [
    "RATING=rating1[0:10]\n",
    "RATING"
   ]
  },
  {
   "cell_type": "code",
   "execution_count": 87,
   "id": "a4478824",
   "metadata": {},
   "outputs": [
    {
     "data": {
      "text/plain": [
       "10"
      ]
     },
     "execution_count": 87,
     "metadata": {},
     "output_type": "execute_result"
    }
   ],
   "source": [
    "len(RATING)"
   ]
  },
  {
   "cell_type": "code",
   "execution_count": 88,
   "id": "c2a6a938",
   "metadata": {},
   "outputs": [
    {
     "data": {
      "text/plain": [
       "[<selenium.webdriver.remote.webelement.WebElement (session=\"6c14acf529b615c28cefe59954f7a9f1\", element=\"bac787e0-dd9b-4588-8edd-185f43f560c1\")>,\n",
       " <selenium.webdriver.remote.webelement.WebElement (session=\"6c14acf529b615c28cefe59954f7a9f1\", element=\"a0e79479-7f5e-4d6f-a93a-006299051870\")>,\n",
       " <selenium.webdriver.remote.webelement.WebElement (session=\"6c14acf529b615c28cefe59954f7a9f1\", element=\"a26f647b-5a20-41a7-9b93-c2164e664d0a\")>,\n",
       " <selenium.webdriver.remote.webelement.WebElement (session=\"6c14acf529b615c28cefe59954f7a9f1\", element=\"02ec86ef-c348-4ae8-84ef-b9deb42467ad\")>,\n",
       " <selenium.webdriver.remote.webelement.WebElement (session=\"6c14acf529b615c28cefe59954f7a9f1\", element=\"e8cbeb0d-1e2f-4515-ae74-ad9dc16345f7\")>,\n",
       " <selenium.webdriver.remote.webelement.WebElement (session=\"6c14acf529b615c28cefe59954f7a9f1\", element=\"a853093b-705f-411b-8645-76a772a9236a\")>,\n",
       " <selenium.webdriver.remote.webelement.WebElement (session=\"6c14acf529b615c28cefe59954f7a9f1\", element=\"27f24faa-e3d0-4fd5-bc87-210b3c838bbe\")>,\n",
       " <selenium.webdriver.remote.webelement.WebElement (session=\"6c14acf529b615c28cefe59954f7a9f1\", element=\"8340c1a9-238d-4310-a372-e3e940b0e09b\")>,\n",
       " <selenium.webdriver.remote.webelement.WebElement (session=\"6c14acf529b615c28cefe59954f7a9f1\", element=\"0db02818-76d3-464f-afd3-b83792b38555\")>,\n",
       " <selenium.webdriver.remote.webelement.WebElement (session=\"6c14acf529b615c28cefe59954f7a9f1\", element=\"0bee7c04-da7d-4f9c-8d96-87666c61845b\")>,\n",
       " <selenium.webdriver.remote.webelement.WebElement (session=\"6c14acf529b615c28cefe59954f7a9f1\", element=\"238e266a-f354-4286-a575-8fcd3070dbcc\")>,\n",
       " <selenium.webdriver.remote.webelement.WebElement (session=\"6c14acf529b615c28cefe59954f7a9f1\", element=\"1296ebe7-de2e-4aa5-a8af-97f480482e7d\")>,\n",
       " <selenium.webdriver.remote.webelement.WebElement (session=\"6c14acf529b615c28cefe59954f7a9f1\", element=\"16cd2a95-4c77-4c1c-a881-a4d2f3b46791\")>,\n",
       " <selenium.webdriver.remote.webelement.WebElement (session=\"6c14acf529b615c28cefe59954f7a9f1\", element=\"eb74d80e-d25b-411e-b41b-9d0b4518414e\")>,\n",
       " <selenium.webdriver.remote.webelement.WebElement (session=\"6c14acf529b615c28cefe59954f7a9f1\", element=\"220ca374-2665-4de7-919e-4b7886603918\")>,\n",
       " <selenium.webdriver.remote.webelement.WebElement (session=\"6c14acf529b615c28cefe59954f7a9f1\", element=\"4a42c383-6961-4de4-83ef-edfc4ddd8fa2\")>,\n",
       " <selenium.webdriver.remote.webelement.WebElement (session=\"6c14acf529b615c28cefe59954f7a9f1\", element=\"518e3737-b7b1-49a5-8328-e095fb9586ea\")>,\n",
       " <selenium.webdriver.remote.webelement.WebElement (session=\"6c14acf529b615c28cefe59954f7a9f1\", element=\"b4e06a1a-341c-42e4-890c-620f39a9b966\")>,\n",
       " <selenium.webdriver.remote.webelement.WebElement (session=\"6c14acf529b615c28cefe59954f7a9f1\", element=\"6eecd171-bdd6-432c-9f04-bf97f4df27ea\")>,\n",
       " <selenium.webdriver.remote.webelement.WebElement (session=\"6c14acf529b615c28cefe59954f7a9f1\", element=\"93c5c792-4b65-4488-a4cb-b577ff7a4631\")>,\n",
       " <selenium.webdriver.remote.webelement.WebElement (session=\"6c14acf529b615c28cefe59954f7a9f1\", element=\"01c1f138-f597-4851-9df7-b0c1005b7b0d\")>,\n",
       " <selenium.webdriver.remote.webelement.WebElement (session=\"6c14acf529b615c28cefe59954f7a9f1\", element=\"81e44f52-db57-4448-a30e-9fbc3b990525\")>,\n",
       " <selenium.webdriver.remote.webelement.WebElement (session=\"6c14acf529b615c28cefe59954f7a9f1\", element=\"54ae5a2c-ec68-49e0-bc67-cd12218443b9\")>]"
      ]
     },
     "execution_count": 88,
     "metadata": {},
     "output_type": "execute_result"
    }
   ],
   "source": [
    "price=driver.find_elements(\"xpath\",'//span[@class=\"a-price-whole\"]')\n",
    "price"
   ]
  },
  {
   "cell_type": "code",
   "execution_count": 90,
   "id": "59cc52df",
   "metadata": {},
   "outputs": [
    {
     "data": {
      "text/plain": [
       "['89,990',\n",
       " '1,07,794',\n",
       " '1,09,990',\n",
       " '57,890',\n",
       " '82,990',\n",
       " '87,900',\n",
       " '75,990',\n",
       " '82,990',\n",
       " '94,990',\n",
       " '85,499',\n",
       " '38,325',\n",
       " '86,990',\n",
       " '39,177',\n",
       " '56,995',\n",
       " '1,05,990',\n",
       " '91,900',\n",
       " '53,999',\n",
       " '37,190',\n",
       " '59,990',\n",
       " '45,298',\n",
       " '51,490',\n",
       " '56,490',\n",
       " '40,999']"
      ]
     },
     "execution_count": 90,
     "metadata": {},
     "output_type": "execute_result"
    }
   ],
   "source": [
    "price1=[]\n",
    "for i in price:\n",
    "    price1.append(i.text)\n",
    "price1"
   ]
  },
  {
   "cell_type": "code",
   "execution_count": 91,
   "id": "eee50fcb",
   "metadata": {},
   "outputs": [
    {
     "data": {
      "text/plain": [
       "['89,990',\n",
       " '1,07,794',\n",
       " '1,09,990',\n",
       " '57,890',\n",
       " '82,990',\n",
       " '87,900',\n",
       " '75,990',\n",
       " '82,990',\n",
       " '94,990',\n",
       " '85,499']"
      ]
     },
     "execution_count": 91,
     "metadata": {},
     "output_type": "execute_result"
    }
   ],
   "source": [
    "PRICE=price1[0:10]\n",
    "PRICE"
   ]
  },
  {
   "cell_type": "code",
   "execution_count": null,
   "id": "90fd9e68",
   "metadata": {},
   "outputs": [],
   "source": [
    "#Q9: Write a python program to scrape data for first 10 job results for Data Scientist Designation in Noida \n",
    "#location. You have to scrape company name, No. of days ago when job was posted, Rating of the company. \n",
    "#This task will be done in following steps:\n",
    "#1. First get the webpage https://www.ambitionbox.com/\n",
    "#2. Click on the Job option as shown in the image\n",
    "#. After reaching to the next webpage, In place of “Search by Designations, Companies, Skills” enter\n",
    "#“Data Scientist” and click on search button.\n",
    "#4. You will reach to the following web page click on location and in place of “Search location” enter\n",
    "#“Noida” and select location “Noida”"
   ]
  },
  {
   "cell_type": "code",
   "execution_count": 3,
   "id": "6e5e1cac",
   "metadata": {},
   "outputs": [],
   "source": [
    "url=' https://www.am4. You will reach to the following web page click on location and in place of “Search location” enterbitionbox.com/'\n",
    "driver.get(url)“Noida” and select location “Noida”"
   ]
  },
  {
   "cell_type": "code",
   "execution_count": 4,
   "id": "b6809612",
   "metadata": {},
   "outputs": [
    {
     "data": {
      "text/plain": [
       "<selenium.webdriver.remote.webelement.WebElement (session=\"b14cccdb0bd9a7de51b06479a5b292ec\", element=\"12b9461e-55f7-468e-8d50-ee0e36319cf0\")>"
      ]
     },
     "execution_count": 4,
     "metadata": {},
     "output_type": "execute_result"
    }
   ],
   "source": [
    "#searching web element for job section\n",
    "jobs=driver.find_element(\"xpath\",'/html/body/div[1]/nav/nav/a[6]')\n",
    "jobs\n"
   ]
  },
  {
   "cell_type": "code",
   "execution_count": 5,
   "id": "99ffa847",
   "metadata": {},
   "outputs": [],
   "source": [
    "jobs.click()"
   ]
  },
  {
   "cell_type": "code",
   "execution_count": 6,
   "id": "0b30852c",
   "metadata": {},
   "outputs": [
    {
     "data": {
      "text/plain": [
       "<selenium.webdriver.remote.webelement.WebElement (session=\"b14cccdb0bd9a7de51b06479a5b292ec\", element=\"3f892b88-faa7-40ae-8058-5c1d33bd180f\")>"
      ]
     },
     "execution_count": 6,
     "metadata": {},
     "output_type": "execute_result"
    }
   ],
   "source": [
    "#searching web element for search bar\n",
    "search_bar=driver.find_element(\"xpath\",'/html/body/div/div/div/div[2]/div[1]/div[1]/div/div/div/div/span/input')\n",
    "search_bar"
   ]
  },
  {
   "cell_type": "code",
   "execution_count": 7,
   "id": "aa69cfb3",
   "metadata": {},
   "outputs": [],
   "source": [
    "#writing on search bar\n",
    "search_bar.send_keys('data scientist')"
   ]
  },
  {
   "cell_type": "code",
   "execution_count": 8,
   "id": "6b4d70e0",
   "metadata": {},
   "outputs": [
    {
     "data": {
      "text/plain": [
       "<selenium.webdriver.remote.webelement.WebElement (session=\"b14cccdb0bd9a7de51b06479a5b292ec\", element=\"7b7c834b-758b-4b54-a9cf-569759cdbc6f\")>"
      ]
     },
     "execution_count": 8,
     "metadata": {},
     "output_type": "execute_result"
    }
   ],
   "source": [
    "#clicking on search btn\n",
    "search_btn=driver.find_element(\"xpath\",'/html/body/div/div/div/div[2]/div[1]/div[1]/div/div/div/button')\n",
    "search_btn"
   ]
  },
  {
   "cell_type": "code",
   "execution_count": 9,
   "id": "3e2ecf4d",
   "metadata": {},
   "outputs": [],
   "source": [
    "search_btn.click()"
   ]
  },
  {
   "cell_type": "code",
   "execution_count": 10,
   "id": "9795b1a9",
   "metadata": {},
   "outputs": [
    {
     "data": {
      "text/plain": [
       "<selenium.webdriver.remote.webelement.WebElement (session=\"b14cccdb0bd9a7de51b06479a5b292ec\", element=\"20bde127-0450-4ba6-9583-0404b2b2978a\")>"
      ]
     },
     "execution_count": 10,
     "metadata": {},
     "output_type": "execute_result"
    }
   ],
   "source": [
    "#searching web element for location bar\n",
    "location=driver.find_element(\"xpath\",'/html/body/div/div/div/div[2]/div[1]/div[2]/div[1]/div/div/div/div[2]')\n",
    "location"
   ]
  },
  {
   "cell_type": "code",
   "execution_count": 12,
   "id": "140f880e",
   "metadata": {},
   "outputs": [],
   "source": [
    "#clicking on location btn\n",
    "location.click()\n"
   ]
  },
  {
   "cell_type": "code",
   "execution_count": 13,
   "id": "47bc3212",
   "metadata": {},
   "outputs": [
    {
     "data": {
      "text/plain": [
       "<selenium.webdriver.remote.webelement.WebElement (session=\"b14cccdb0bd9a7de51b06479a5b292ec\", element=\"9ece6874-6a48-4784-bae2-271360d38df0\")>"
      ]
     },
     "execution_count": 13,
     "metadata": {},
     "output_type": "execute_result"
    }
   ],
   "source": [
    "#searching web element for location\n",
    "location1=driver.find_element(\"xpath\",'/html/body/div/div/div/div[2]/div[1]/div[2]/div[1]/div/div/div/div[2]/div[2]/div/div[2]/input')\n",
    "location1"
   ]
  },
  {
   "cell_type": "code",
   "execution_count": 14,
   "id": "47853edd",
   "metadata": {},
   "outputs": [],
   "source": [
    "#writing on location bar\n",
    "location1.send_keys('noida')"
   ]
  },
  {
   "cell_type": "code",
   "execution_count": 15,
   "id": "1f08a817",
   "metadata": {},
   "outputs": [
    {
     "data": {
      "text/plain": [
       "<selenium.webdriver.remote.webelement.WebElement (session=\"b14cccdb0bd9a7de51b06479a5b292ec\", element=\"fddeaf66-9740-438c-8d27-4223951c9035\")>"
      ]
     },
     "execution_count": 15,
     "metadata": {},
     "output_type": "execute_result"
    }
   ],
   "source": [
    "#searching web element for search icon\n",
    "search_icon=driver.find_element(\"xpath\",'/html/body/div/div/div/div[2]/div[1]/div[2]/div[1]/div/div/div/div[2]/div[2]/div/div[2]/i')\n",
    "search_icon"
   ]
  },
  {
   "cell_type": "code",
   "execution_count": 17,
   "id": "dbe6dc39",
   "metadata": {},
   "outputs": [],
   "source": [
    "#clicking on search icon\n",
    "search_icon.click()"
   ]
  },
  {
   "cell_type": "code",
   "execution_count": 18,
   "id": "134ea1ce",
   "metadata": {},
   "outputs": [
    {
     "data": {
      "text/plain": [
       "[<selenium.webdriver.remote.webelement.WebElement (session=\"b14cccdb0bd9a7de51b06479a5b292ec\", element=\"ae7cb470-7a0c-424a-84fb-2197bbf4ed47\")>,\n",
       " <selenium.webdriver.remote.webelement.WebElement (session=\"b14cccdb0bd9a7de51b06479a5b292ec\", element=\"abd3a1ad-3ce6-4e1a-bb03-5370e0778036\")>,\n",
       " <selenium.webdriver.remote.webelement.WebElement (session=\"b14cccdb0bd9a7de51b06479a5b292ec\", element=\"ec9a2a5e-7a96-44de-a3fa-da73c831a8a5\")>,\n",
       " <selenium.webdriver.remote.webelement.WebElement (session=\"b14cccdb0bd9a7de51b06479a5b292ec\", element=\"41ba4c0a-fc38-4a5c-916e-fd796d20f170\")>,\n",
       " <selenium.webdriver.remote.webelement.WebElement (session=\"b14cccdb0bd9a7de51b06479a5b292ec\", element=\"0e669ddd-a743-4d3e-ae62-e5113cde4e7b\")>,\n",
       " <selenium.webdriver.remote.webelement.WebElement (session=\"b14cccdb0bd9a7de51b06479a5b292ec\", element=\"70197f1c-85fd-436b-83b2-44e9f17c1712\")>,\n",
       " <selenium.webdriver.remote.webelement.WebElement (session=\"b14cccdb0bd9a7de51b06479a5b292ec\", element=\"b87d1267-1bce-4702-bf87-71fe418789b3\")>,\n",
       " <selenium.webdriver.remote.webelement.WebElement (session=\"b14cccdb0bd9a7de51b06479a5b292ec\", element=\"6bc344e3-533d-4dfa-b97c-0325e916e728\")>,\n",
       " <selenium.webdriver.remote.webelement.WebElement (session=\"b14cccdb0bd9a7de51b06479a5b292ec\", element=\"d02a4d58-8a58-4f58-b6bf-4a73837ffaac\")>,\n",
       " <selenium.webdriver.remote.webelement.WebElement (session=\"b14cccdb0bd9a7de51b06479a5b292ec\", element=\"d1a113d6-89ea-40e9-8059-3d96c8f4f9a0\")>]"
      ]
     },
     "execution_count": 18,
     "metadata": {},
     "output_type": "execute_result"
    }
   ],
   "source": [
    "company=driver.find_elements(\"xpath\",'//p[@class=\"company body-medium\"]')\n",
    "company"
   ]
  },
  {
   "cell_type": "code",
   "execution_count": 19,
   "id": "52561ada",
   "metadata": {},
   "outputs": [
    {
     "data": {
      "text/plain": [
       "['Optum Global Solutions (India) Private Limited',\n",
       " 'GENPACT India Private Limited',\n",
       " 'Latent bridge',\n",
       " 'Dew Solutions Pvt. Ltd.',\n",
       " 'InfoEdge India Ltd.',\n",
       " 'Info Edge India Limited',\n",
       " 'Info Edge India Limited',\n",
       " 'Careerera',\n",
       " 'CRMnext',\n",
       " 'Careernet Consulting']"
      ]
     },
     "execution_count": 19,
     "metadata": {},
     "output_type": "execute_result"
    }
   ],
   "source": [
    "company_name=[]\n",
    "for i in company:\n",
    "    company_name.append(i.text)\n",
    "company_name"
   ]
  },
  {
   "cell_type": "code",
   "execution_count": 20,
   "id": "613b8077",
   "metadata": {},
   "outputs": [
    {
     "data": {
      "text/plain": [
       "10"
      ]
     },
     "execution_count": 20,
     "metadata": {},
     "output_type": "execute_result"
    }
   ],
   "source": [
    "len(company_name)"
   ]
  },
  {
   "cell_type": "code",
   "execution_count": 31,
   "id": "21daab92",
   "metadata": {},
   "outputs": [
    {
     "data": {
      "text/plain": [
       "[<selenium.webdriver.remote.webelement.WebElement (session=\"b14cccdb0bd9a7de51b06479a5b292ec\", element=\"b6995d49-6edb-4411-82e2-8ac28fcffb53\")>,\n",
       " <selenium.webdriver.remote.webelement.WebElement (session=\"b14cccdb0bd9a7de51b06479a5b292ec\", element=\"493e4bd5-e497-45e9-9c9f-8f7daa74a0d0\")>,\n",
       " <selenium.webdriver.remote.webelement.WebElement (session=\"b14cccdb0bd9a7de51b06479a5b292ec\", element=\"2ca30f34-97c1-4106-bee9-57e78523cb31\")>,\n",
       " <selenium.webdriver.remote.webelement.WebElement (session=\"b14cccdb0bd9a7de51b06479a5b292ec\", element=\"01ad014e-cb66-41e6-83d3-84b97dc475e2\")>,\n",
       " <selenium.webdriver.remote.webelement.WebElement (session=\"b14cccdb0bd9a7de51b06479a5b292ec\", element=\"b0196b76-1f74-4bf7-a0f2-e9a9711196ee\")>,\n",
       " <selenium.webdriver.remote.webelement.WebElement (session=\"b14cccdb0bd9a7de51b06479a5b292ec\", element=\"506c316b-8eba-47f8-963f-0b884560006f\")>,\n",
       " <selenium.webdriver.remote.webelement.WebElement (session=\"b14cccdb0bd9a7de51b06479a5b292ec\", element=\"50257346-96a1-44e9-b039-fd82bcd0c99b\")>,\n",
       " <selenium.webdriver.remote.webelement.WebElement (session=\"b14cccdb0bd9a7de51b06479a5b292ec\", element=\"d4546536-5dda-46d0-ad51-1e16ed5c6412\")>,\n",
       " <selenium.webdriver.remote.webelement.WebElement (session=\"b14cccdb0bd9a7de51b06479a5b292ec\", element=\"c2f3d82c-8748-40d3-814a-d82ded26b733\")>,\n",
       " <selenium.webdriver.remote.webelement.WebElement (session=\"b14cccdb0bd9a7de51b06479a5b292ec\", element=\"7f1010b8-35f4-43f2-ab7e-8d4e62d6756b\")>,\n",
       " <selenium.webdriver.remote.webelement.WebElement (session=\"b14cccdb0bd9a7de51b06479a5b292ec\", element=\"163c2e74-d34a-4ec3-9c6b-bf8c1317ae4e\")>,\n",
       " <selenium.webdriver.remote.webelement.WebElement (session=\"b14cccdb0bd9a7de51b06479a5b292ec\", element=\"dcab7b1e-8134-41b8-b5d5-392191fe426c\")>,\n",
       " <selenium.webdriver.remote.webelement.WebElement (session=\"b14cccdb0bd9a7de51b06479a5b292ec\", element=\"9f7fb9fc-4555-40e8-a2a7-876e4ddf615e\")>,\n",
       " <selenium.webdriver.remote.webelement.WebElement (session=\"b14cccdb0bd9a7de51b06479a5b292ec\", element=\"18d3978e-f315-43ac-9693-7cb68e2a7e1b\")>]"
      ]
     },
     "execution_count": 31,
     "metadata": {},
     "output_type": "execute_result"
    }
   ],
   "source": [
    "rating=driver.find_elements(\"xpath\",'//a[@class=\"rating rating-35\"]')\n",
    "rating"
   ]
  },
  {
   "cell_type": "code",
   "execution_count": 32,
   "id": "1929915a",
   "metadata": {},
   "outputs": [
    {
     "data": {
      "text/plain": [
       "['3.9',\n",
       " '3.9',\n",
       " '3.9',\n",
       " '3.8',\n",
       " '3.9',\n",
       " '3.8',\n",
       " '3.8',\n",
       " '3.8',\n",
       " '3.8',\n",
       " '3.8',\n",
       " '3.8',\n",
       " '3.9',\n",
       " '3.9',\n",
       " '3.8']"
      ]
     },
     "execution_count": 32,
     "metadata": {},
     "output_type": "execute_result"
    }
   ],
   "source": [
    "company_rating=[]\n",
    "for i in rating:\n",
    "    company_rating.append(i.text)\n",
    "company_rating"
   ]
  },
  {
   "cell_type": "code",
   "execution_count": 34,
   "id": "859d3947",
   "metadata": {},
   "outputs": [
    {
     "data": {
      "text/plain": [
       "['3.9', '3.9', '3.9', '3.8', '3.9', '3.8', '3.8', '3.8', '3.8', '3.8']"
      ]
     },
     "execution_count": 34,
     "metadata": {},
     "output_type": "execute_result"
    }
   ],
   "source": [
    "rating1=company_rating[0:10]\n",
    "rating1"
   ]
  },
  {
   "cell_type": "code",
   "execution_count": 37,
   "id": "96c9c2e5",
   "metadata": {},
   "outputs": [],
   "source": [
    "df=pd.DataFrame({'COMPANY':company_name,'RATING':rating1})"
   ]
  },
  {
   "cell_type": "code",
   "execution_count": 38,
   "id": "2a7591d4",
   "metadata": {},
   "outputs": [
    {
     "data": {
      "text/html": [
       "<div>\n",
       "<style scoped>\n",
       "    .dataframe tbody tr th:only-of-type {\n",
       "        vertical-align: middle;\n",
       "    }\n",
       "\n",
       "    .dataframe tbody tr th {\n",
       "        vertical-align: top;\n",
       "    }\n",
       "\n",
       "    .dataframe thead th {\n",
       "        text-align: right;\n",
       "    }\n",
       "</style>\n",
       "<table border=\"1\" class=\"dataframe\">\n",
       "  <thead>\n",
       "    <tr style=\"text-align: right;\">\n",
       "      <th></th>\n",
       "      <th>COMPANY</th>\n",
       "      <th>RATING</th>\n",
       "    </tr>\n",
       "  </thead>\n",
       "  <tbody>\n",
       "    <tr>\n",
       "      <th>0</th>\n",
       "      <td>Optum Global Solutions (India) Private Limited</td>\n",
       "      <td>3.9</td>\n",
       "    </tr>\n",
       "    <tr>\n",
       "      <th>1</th>\n",
       "      <td>GENPACT India Private Limited</td>\n",
       "      <td>3.9</td>\n",
       "    </tr>\n",
       "    <tr>\n",
       "      <th>2</th>\n",
       "      <td>Latent bridge</td>\n",
       "      <td>3.9</td>\n",
       "    </tr>\n",
       "    <tr>\n",
       "      <th>3</th>\n",
       "      <td>Dew Solutions Pvt. Ltd.</td>\n",
       "      <td>3.8</td>\n",
       "    </tr>\n",
       "    <tr>\n",
       "      <th>4</th>\n",
       "      <td>InfoEdge India Ltd.</td>\n",
       "      <td>3.9</td>\n",
       "    </tr>\n",
       "    <tr>\n",
       "      <th>5</th>\n",
       "      <td>Info Edge India Limited</td>\n",
       "      <td>3.8</td>\n",
       "    </tr>\n",
       "    <tr>\n",
       "      <th>6</th>\n",
       "      <td>Info Edge India Limited</td>\n",
       "      <td>3.8</td>\n",
       "    </tr>\n",
       "    <tr>\n",
       "      <th>7</th>\n",
       "      <td>Careerera</td>\n",
       "      <td>3.8</td>\n",
       "    </tr>\n",
       "    <tr>\n",
       "      <th>8</th>\n",
       "      <td>CRMnext</td>\n",
       "      <td>3.8</td>\n",
       "    </tr>\n",
       "    <tr>\n",
       "      <th>9</th>\n",
       "      <td>Careernet Consulting</td>\n",
       "      <td>3.8</td>\n",
       "    </tr>\n",
       "  </tbody>\n",
       "</table>\n",
       "</div>"
      ],
      "text/plain": [
       "                                          COMPANY RATING\n",
       "0  Optum Global Solutions (India) Private Limited    3.9\n",
       "1                   GENPACT India Private Limited    3.9\n",
       "2                                   Latent bridge    3.9\n",
       "3                         Dew Solutions Pvt. Ltd.    3.8\n",
       "4                             InfoEdge India Ltd.    3.9\n",
       "5                         Info Edge India Limited    3.8\n",
       "6                         Info Edge India Limited    3.8\n",
       "7                                       Careerera    3.8\n",
       "8                                         CRMnext    3.8\n",
       "9                            Careernet Consulting    3.8"
      ]
     },
     "execution_count": 38,
     "metadata": {},
     "output_type": "execute_result"
    }
   ],
   "source": [
    "df"
   ]
  },
  {
   "cell_type": "code",
   "execution_count": null,
   "id": "a586ff7c",
   "metadata": {},
   "outputs": [],
   "source": [
    "#Q10: Write a python program to scrape the salary data for Data Scientist designation.\n",
    "#You have to scrape Company name, Number of salaries, Average salary, Minsalary, Max Salary. \n",
    "#The above task will be, done as shown in the below steps:\n",
    "#1. First get the webpage https://www.ambitionbox.com/\n",
    "#2. Click on the salaries option as shown in the image.\n",
    "#. After reaching to the following webpage, In place of “Search Job Profile” enters “Data Scientist” and \n",
    "#then click on “Data Scientist”.\n",
    "#4. Scrape the data for the first 10 companies. Scrape the company name, total salary record, average \n",
    "#salary, minimum salary, maximum salary, experience required.\n",
    "#5. Store the data in a dataframe.\n"
   ]
  },
  {
   "cell_type": "code",
   "execution_count": 3,
   "id": "7e09dffa",
   "metadata": {},
   "outputs": [],
   "source": [
    "url=' https://www.ambitionbox.com/'\n",
    "driver.get(url)"
   ]
  },
  {
   "cell_type": "code",
   "execution_count": 4,
   "id": "d71abc1d",
   "metadata": {},
   "outputs": [
    {
     "data": {
      "text/plain": [
       "<selenium.webdriver.remote.webelement.WebElement (session=\"0204b2cef8505b0c78ae6fc6b22ed03a\", element=\"eb7fa6d8-6c7a-4718-96b3-9861568e2afb\")>"
      ]
     },
     "execution_count": 4,
     "metadata": {},
     "output_type": "execute_result"
    }
   ],
   "source": [
    "#searching for web element for salaries bar\n",
    "salaries_bar=driver.find_element(\"xpath\",'/html/body/div[1]/nav/nav/a[4]')\n",
    "salaries_bar"
   ]
  },
  {
   "cell_type": "code",
   "execution_count": 5,
   "id": "9c938eaf",
   "metadata": {},
   "outputs": [],
   "source": [
    "#clicking on salalries bar\n",
    "salaries_bar.click()"
   ]
  },
  {
   "cell_type": "code",
   "execution_count": 6,
   "id": "ff199a0d",
   "metadata": {},
   "outputs": [
    {
     "data": {
      "text/plain": [
       "<selenium.webdriver.remote.webelement.WebElement (session=\"0204b2cef8505b0c78ae6fc6b22ed03a\", element=\"a1436dfb-9e9e-40c1-bc85-60cd88046812\")>"
      ]
     },
     "execution_count": 6,
     "metadata": {},
     "output_type": "execute_result"
    }
   ],
   "source": [
    "#searching web element for search bar\n",
    "search_bar=driver.find_element(\"xpath\",'/html/body/div/div/div/main/section[1]/div[2]/div[1]/span/input')\n",
    "search_bar"
   ]
  },
  {
   "cell_type": "code",
   "execution_count": 7,
   "id": "609665ac",
   "metadata": {},
   "outputs": [],
   "source": [
    "#writing on search bar\n",
    "search_bar.send_keys('data scientist')"
   ]
  },
  {
   "cell_type": "code",
   "execution_count": 8,
   "id": "1997eb95",
   "metadata": {
    "scrolled": true
   },
   "outputs": [
    {
     "data": {
      "text/plain": [
       "<selenium.webdriver.remote.webelement.WebElement (session=\"0204b2cef8505b0c78ae6fc6b22ed03a\", element=\"50b9e32f-db92-47e1-a126-54595fdc31b2\")>"
      ]
     },
     "execution_count": 8,
     "metadata": {},
     "output_type": "execute_result"
    }
   ],
   "source": [
    "#finding web element for search icon\n",
    "search_icon=driver.find_element(\"xpath\",'/html/body/div/div/div/main/section[1]/div[2]/div[1]/i[1]')\n",
    "search_icon"
   ]
  },
  {
   "cell_type": "code",
   "execution_count": 25,
   "id": "e2f8c873",
   "metadata": {},
   "outputs": [
    {
     "data": {
      "text/plain": [
       "[<selenium.webdriver.remote.webelement.WebElement (session=\"0204b2cef8505b0c78ae6fc6b22ed03a\", element=\"9b496417-f59e-4485-ac9d-d6c7670a9721\")>,\n",
       " <selenium.webdriver.remote.webelement.WebElement (session=\"0204b2cef8505b0c78ae6fc6b22ed03a\", element=\"9405071c-3c14-4ea0-84d2-180e7b28f606\")>,\n",
       " <selenium.webdriver.remote.webelement.WebElement (session=\"0204b2cef8505b0c78ae6fc6b22ed03a\", element=\"96b945fe-44b1-4a22-99a2-b993d7db1ba4\")>,\n",
       " <selenium.webdriver.remote.webelement.WebElement (session=\"0204b2cef8505b0c78ae6fc6b22ed03a\", element=\"f070982f-1269-45aa-a70d-a9199d698544\")>,\n",
       " <selenium.webdriver.remote.webelement.WebElement (session=\"0204b2cef8505b0c78ae6fc6b22ed03a\", element=\"22b7927f-128c-49ce-86a5-bd4a3eaf1304\")>,\n",
       " <selenium.webdriver.remote.webelement.WebElement (session=\"0204b2cef8505b0c78ae6fc6b22ed03a\", element=\"f1c1ce4d-36c1-48a2-b745-f7d94e147c49\")>,\n",
       " <selenium.webdriver.remote.webelement.WebElement (session=\"0204b2cef8505b0c78ae6fc6b22ed03a\", element=\"d72ada81-a1dd-46f1-a599-600176002518\")>,\n",
       " <selenium.webdriver.remote.webelement.WebElement (session=\"0204b2cef8505b0c78ae6fc6b22ed03a\", element=\"823352e1-c3e9-4581-8ada-01be14d2a3b0\")>,\n",
       " <selenium.webdriver.remote.webelement.WebElement (session=\"0204b2cef8505b0c78ae6fc6b22ed03a\", element=\"87882c57-9083-4779-87be-e51a231190ef\")>,\n",
       " <selenium.webdriver.remote.webelement.WebElement (session=\"0204b2cef8505b0c78ae6fc6b22ed03a\", element=\"3801bf6e-fddf-49c9-b56e-83f4149beab1\")>,\n",
       " <selenium.webdriver.remote.webelement.WebElement (session=\"0204b2cef8505b0c78ae6fc6b22ed03a\", element=\"1898055d-7217-40d2-bb9b-1e689e92d126\")>,\n",
       " <selenium.webdriver.remote.webelement.WebElement (session=\"0204b2cef8505b0c78ae6fc6b22ed03a\", element=\"9f0ae882-eb10-4f0f-ac4f-1041636837f1\")>,\n",
       " <selenium.webdriver.remote.webelement.WebElement (session=\"0204b2cef8505b0c78ae6fc6b22ed03a\", element=\"a26e7fb0-a4e0-4f4f-bbd1-2928e77b4baf\")>,\n",
       " <selenium.webdriver.remote.webelement.WebElement (session=\"0204b2cef8505b0c78ae6fc6b22ed03a\", element=\"e4832ae6-aaac-42ec-bae9-342bf77060e7\")>,\n",
       " <selenium.webdriver.remote.webelement.WebElement (session=\"0204b2cef8505b0c78ae6fc6b22ed03a\", element=\"00f5f860-3014-455e-9830-6789ef1b4f65\")>,\n",
       " <selenium.webdriver.remote.webelement.WebElement (session=\"0204b2cef8505b0c78ae6fc6b22ed03a\", element=\"b1d67372-dc6c-465c-a94c-7fee480883fc\")>,\n",
       " <selenium.webdriver.remote.webelement.WebElement (session=\"0204b2cef8505b0c78ae6fc6b22ed03a\", element=\"104e0457-69d1-49e9-9ce6-a2c30b5b21d9\")>,\n",
       " <selenium.webdriver.remote.webelement.WebElement (session=\"0204b2cef8505b0c78ae6fc6b22ed03a\", element=\"725d3f9b-1a87-4908-b71c-a290fc1454ff\")>,\n",
       " <selenium.webdriver.remote.webelement.WebElement (session=\"0204b2cef8505b0c78ae6fc6b22ed03a\", element=\"7fc29312-45bc-47b2-83c1-f0a747dcaf83\")>,\n",
       " <selenium.webdriver.remote.webelement.WebElement (session=\"0204b2cef8505b0c78ae6fc6b22ed03a\", element=\"2b1cb85a-d889-4429-8b53-90221e6f1a31\")>,\n",
       " <selenium.webdriver.remote.webelement.WebElement (session=\"0204b2cef8505b0c78ae6fc6b22ed03a\", element=\"11b753ce-de5d-4ea1-afca-15347315f56b\")>,\n",
       " <selenium.webdriver.remote.webelement.WebElement (session=\"0204b2cef8505b0c78ae6fc6b22ed03a\", element=\"f28a9bdc-2013-4609-b0da-98b097e83506\")>,\n",
       " <selenium.webdriver.remote.webelement.WebElement (session=\"0204b2cef8505b0c78ae6fc6b22ed03a\", element=\"86b1b080-329a-423b-a68b-029268f74698\")>,\n",
       " <selenium.webdriver.remote.webelement.WebElement (session=\"0204b2cef8505b0c78ae6fc6b22ed03a\", element=\"b9df374b-72df-44b7-8a67-f7c9af4418ea\")>,\n",
       " <selenium.webdriver.remote.webelement.WebElement (session=\"0204b2cef8505b0c78ae6fc6b22ed03a\", element=\"05a56fc3-d24a-4f54-b2aa-f81d18a6a18a\")>]"
      ]
     },
     "execution_count": 25,
     "metadata": {},
     "output_type": "execute_result"
    }
   ],
   "source": [
    "company=driver.find_elements(\"xpath\",'//div[@class=\"company-info\"]')\n",
    "company"
   ]
  },
  {
   "cell_type": "code",
   "execution_count": 29,
   "id": "4921b582",
   "metadata": {},
   "outputs": [
    {
     "data": {
      "text/plain": [
       "['WalmartData Scientist Salary3 yrs experience (based on 12 salaries)',\n",
       " 'Ab InbevData Scientist Salary3-4 yrs experience (based on 33 salaries)',\n",
       " 'ZSData Scientist Salary2 yrs experience (based on 15 salaries)',\n",
       " 'OptumData Scientist Salary3-4 yrs experience (based on 32 salaries)',\n",
       " 'Reliance JioData Scientist Salary3-4 yrs experience (based on 21 salaries)',\n",
       " 'Fractal AnalyticsData Scientist Salary2-4 yrs experience (based on 89 salaries)',\n",
       " 'Tiger AnalyticsData Scientist Salary2-4 yrs experience (based on 51 salaries)',\n",
       " 'UnitedHealthData Scientist Salary2-4 yrs experience (based on 57 salaries)',\n",
       " 'EXL ServiceData Scientist Salary3-4 yrs experience (based on 21 salaries)',\n",
       " 'DeloitteData Scientist Salary2-4 yrs experience (based on 69 salaries)',\n",
       " 'TCS3.1Salary Rating 42k reviews',\n",
       " 'Cognizant3.4Salary Rating 26.5k reviews',\n",
       " '',\n",
       " '',\n",
       " '',\n",
       " '',\n",
       " '',\n",
       " '',\n",
       " '',\n",
       " '',\n",
       " '',\n",
       " '',\n",
       " '',\n",
       " '',\n",
       " '']"
      ]
     },
     "execution_count": 29,
     "metadata": {},
     "output_type": "execute_result"
    }
   ],
   "source": [
    "company1=[]\n",
    "for i in company:\n",
    "    company1.append(i.text.replace('\\n',''))\n",
    "company1"
   ]
  },
  {
   "cell_type": "code",
   "execution_count": 30,
   "id": "09f99097",
   "metadata": {},
   "outputs": [
    {
     "data": {
      "text/plain": [
       "['WalmartData Scientist Salary3 yrs experience (based on 12 salaries)',\n",
       " 'Ab InbevData Scientist Salary3-4 yrs experience (based on 33 salaries)',\n",
       " 'ZSData Scientist Salary2 yrs experience (based on 15 salaries)',\n",
       " 'OptumData Scientist Salary3-4 yrs experience (based on 32 salaries)',\n",
       " 'Reliance JioData Scientist Salary3-4 yrs experience (based on 21 salaries)',\n",
       " 'Fractal AnalyticsData Scientist Salary2-4 yrs experience (based on 89 salaries)',\n",
       " 'Tiger AnalyticsData Scientist Salary2-4 yrs experience (based on 51 salaries)',\n",
       " 'UnitedHealthData Scientist Salary2-4 yrs experience (based on 57 salaries)',\n",
       " 'EXL ServiceData Scientist Salary3-4 yrs experience (based on 21 salaries)',\n",
       " 'DeloitteData Scientist Salary2-4 yrs experience (based on 69 salaries)']"
      ]
     },
     "execution_count": 30,
     "metadata": {},
     "output_type": "execute_result"
    }
   ],
   "source": [
    "com_name=company1[0:10]\n",
    "com_name"
   ]
  },
  {
   "cell_type": "code",
   "execution_count": 54,
   "id": "3c341527",
   "metadata": {},
   "outputs": [
    {
     "data": {
      "text/plain": [
       "10"
      ]
     },
     "execution_count": 54,
     "metadata": {},
     "output_type": "execute_result"
    }
   ],
   "source": [
    "len(com_name)"
   ]
  },
  {
   "cell_type": "code",
   "execution_count": 37,
   "id": "fcc99a8a",
   "metadata": {},
   "outputs": [
    {
     "data": {
      "text/plain": [
       "[<selenium.webdriver.remote.webelement.WebElement (session=\"0204b2cef8505b0c78ae6fc6b22ed03a\", element=\"695ae44f-71d7-46d3-9866-94ad82c16e88\")>,\n",
       " <selenium.webdriver.remote.webelement.WebElement (session=\"0204b2cef8505b0c78ae6fc6b22ed03a\", element=\"7fedb483-7146-4485-bb17-003e2c40aef1\")>,\n",
       " <selenium.webdriver.remote.webelement.WebElement (session=\"0204b2cef8505b0c78ae6fc6b22ed03a\", element=\"732c5ea1-6024-48df-8a74-4a6495cb4717\")>,\n",
       " <selenium.webdriver.remote.webelement.WebElement (session=\"0204b2cef8505b0c78ae6fc6b22ed03a\", element=\"51e5c84c-2b5a-4e2c-8917-0d5090488b56\")>,\n",
       " <selenium.webdriver.remote.webelement.WebElement (session=\"0204b2cef8505b0c78ae6fc6b22ed03a\", element=\"0e3fba50-ef8a-448f-8898-82c8d90ec611\")>,\n",
       " <selenium.webdriver.remote.webelement.WebElement (session=\"0204b2cef8505b0c78ae6fc6b22ed03a\", element=\"798a8282-4b32-4ced-99d0-7812e3976719\")>,\n",
       " <selenium.webdriver.remote.webelement.WebElement (session=\"0204b2cef8505b0c78ae6fc6b22ed03a\", element=\"23e056e4-668d-4cf8-95d4-345c4f9f2e85\")>,\n",
       " <selenium.webdriver.remote.webelement.WebElement (session=\"0204b2cef8505b0c78ae6fc6b22ed03a\", element=\"4561bbd7-4bfa-448d-b8cb-2b4e4e3b87a6\")>,\n",
       " <selenium.webdriver.remote.webelement.WebElement (session=\"0204b2cef8505b0c78ae6fc6b22ed03a\", element=\"6f52e4cc-2e01-4d29-84b1-f2691e7b125a\")>,\n",
       " <selenium.webdriver.remote.webelement.WebElement (session=\"0204b2cef8505b0c78ae6fc6b22ed03a\", element=\"e59988be-536d-45cc-bf22-ca7da72f38e7\")>]"
      ]
     },
     "execution_count": 37,
     "metadata": {},
     "output_type": "execute_result"
    }
   ],
   "source": [
    "exp=driver.find_elements(\"xpath\",'//div[@class=\"sbold-list-header\"]')\n",
    "exp"
   ]
  },
  {
   "cell_type": "code",
   "execution_count": 38,
   "id": "0c6d2e61",
   "metadata": {},
   "outputs": [
    {
     "data": {
      "text/plain": [
       "['3 yrs experience (based on 12 salaries)',\n",
       " '3-4 yrs experience (based on 33 salaries)',\n",
       " '2 yrs experience (based on 15 salaries)',\n",
       " '3-4 yrs experience (based on 32 salaries)',\n",
       " '3-4 yrs experience (based on 21 salaries)',\n",
       " '2-4 yrs experience (based on 89 salaries)',\n",
       " '2-4 yrs experience (based on 51 salaries)',\n",
       " '2-4 yrs experience (based on 57 salaries)',\n",
       " '3-4 yrs experience (based on 21 salaries)',\n",
       " '2-4 yrs experience (based on 69 salaries)']"
      ]
     },
     "execution_count": 38,
     "metadata": {},
     "output_type": "execute_result"
    }
   ],
   "source": [
    "expe=[]\n",
    "for i in exp:\n",
    "    expe.append(i.text)\n",
    "expe"
   ]
  },
  {
   "cell_type": "code",
   "execution_count": 53,
   "id": "ad9ce7ea",
   "metadata": {},
   "outputs": [
    {
     "data": {
      "text/plain": [
       "10"
      ]
     },
     "execution_count": 53,
     "metadata": {},
     "output_type": "execute_result"
    }
   ],
   "source": [
    "len(expe)"
   ]
  },
  {
   "cell_type": "code",
   "execution_count": 39,
   "id": "c4bafb18",
   "metadata": {},
   "outputs": [
    {
     "data": {
      "text/plain": [
       "[<selenium.webdriver.remote.webelement.WebElement (session=\"0204b2cef8505b0c78ae6fc6b22ed03a\", element=\"65504b8d-9e95-4754-a4f3-d7f68ae9509b\")>,\n",
       " <selenium.webdriver.remote.webelement.WebElement (session=\"0204b2cef8505b0c78ae6fc6b22ed03a\", element=\"4f6846f0-4ae2-469c-939b-858ef8cec2cf\")>,\n",
       " <selenium.webdriver.remote.webelement.WebElement (session=\"0204b2cef8505b0c78ae6fc6b22ed03a\", element=\"5f44f3ac-fae9-402e-95fa-e0eb44cf1f45\")>,\n",
       " <selenium.webdriver.remote.webelement.WebElement (session=\"0204b2cef8505b0c78ae6fc6b22ed03a\", element=\"b7188473-d3bf-4477-ba17-c973bab461c3\")>,\n",
       " <selenium.webdriver.remote.webelement.WebElement (session=\"0204b2cef8505b0c78ae6fc6b22ed03a\", element=\"96a487d2-f8d4-4a8e-b298-b4006e6e1e29\")>,\n",
       " <selenium.webdriver.remote.webelement.WebElement (session=\"0204b2cef8505b0c78ae6fc6b22ed03a\", element=\"80d4943a-28b6-4158-a97e-eabaf602feb3\")>,\n",
       " <selenium.webdriver.remote.webelement.WebElement (session=\"0204b2cef8505b0c78ae6fc6b22ed03a\", element=\"2d154056-af41-49e7-a5f8-11a53d98953f\")>,\n",
       " <selenium.webdriver.remote.webelement.WebElement (session=\"0204b2cef8505b0c78ae6fc6b22ed03a\", element=\"072de97f-b3b2-48f1-8e4e-a10576698a52\")>,\n",
       " <selenium.webdriver.remote.webelement.WebElement (session=\"0204b2cef8505b0c78ae6fc6b22ed03a\", element=\"8783897f-9a1d-4b6d-91ac-72e8c6d05b9b\")>,\n",
       " <selenium.webdriver.remote.webelement.WebElement (session=\"0204b2cef8505b0c78ae6fc6b22ed03a\", element=\"7d17ecbd-9cd2-46f9-937e-efee7cff7b14\")>,\n",
       " <selenium.webdriver.remote.webelement.WebElement (session=\"0204b2cef8505b0c78ae6fc6b22ed03a\", element=\"e9cd2660-4aa7-4be4-bfd2-0179d87e30a8\")>,\n",
       " <selenium.webdriver.remote.webelement.WebElement (session=\"0204b2cef8505b0c78ae6fc6b22ed03a\", element=\"8c0ae886-a5de-4f20-adc2-96c15bdaacc1\")>,\n",
       " <selenium.webdriver.remote.webelement.WebElement (session=\"0204b2cef8505b0c78ae6fc6b22ed03a\", element=\"5846b113-9cca-4cde-a769-ef0db562459b\")>,\n",
       " <selenium.webdriver.remote.webelement.WebElement (session=\"0204b2cef8505b0c78ae6fc6b22ed03a\", element=\"58ecacce-2d1f-4f7c-a68a-88f9ddbfc7fe\")>,\n",
       " <selenium.webdriver.remote.webelement.WebElement (session=\"0204b2cef8505b0c78ae6fc6b22ed03a\", element=\"b0fc74f7-72e2-4484-a499-c85ad17495a1\")>,\n",
       " <selenium.webdriver.remote.webelement.WebElement (session=\"0204b2cef8505b0c78ae6fc6b22ed03a\", element=\"9d69c313-b870-46e0-8b27-e560fe431a2e\")>,\n",
       " <selenium.webdriver.remote.webelement.WebElement (session=\"0204b2cef8505b0c78ae6fc6b22ed03a\", element=\"a3217066-3b90-4657-8633-0604d12fab0d\")>,\n",
       " <selenium.webdriver.remote.webelement.WebElement (session=\"0204b2cef8505b0c78ae6fc6b22ed03a\", element=\"c74b7c5d-8eee-4066-9ce5-10ade878495c\")>,\n",
       " <selenium.webdriver.remote.webelement.WebElement (session=\"0204b2cef8505b0c78ae6fc6b22ed03a\", element=\"d791d94d-87a7-4610-bb19-c826dec33515\")>,\n",
       " <selenium.webdriver.remote.webelement.WebElement (session=\"0204b2cef8505b0c78ae6fc6b22ed03a\", element=\"15430966-a04a-41a9-9671-1de8d7242de0\")>]"
      ]
     },
     "execution_count": 39,
     "metadata": {},
     "output_type": "execute_result"
    }
   ],
   "source": [
    "min_sal=driver.find_elements(\"xpath\",'//div[@class=\"value body-medium\"]')\n",
    "min_sal"
   ]
  },
  {
   "cell_type": "code",
   "execution_count": 40,
   "id": "4e297f47",
   "metadata": {
    "scrolled": true
   },
   "outputs": [
    {
     "data": {
      "text/plain": [
       "['₹ 25.0L',\n",
       " '₹ 36.0L',\n",
       " '₹ 15.0L',\n",
       " '₹ 26.2L',\n",
       " '₹ 11.0L',\n",
       " '₹ 22.0L',\n",
       " '₹ 11.0L',\n",
       " '₹ 22.5L',\n",
       " '₹ 5.6L',\n",
       " '₹ 26.2L',\n",
       " '₹ 10.0L',\n",
       " '₹ 23.0L',\n",
       " '₹ 9.0L',\n",
       " '₹ 20.0L',\n",
       " '₹ 8.3L',\n",
       " '₹ 21.1L',\n",
       " '₹ 7.6L',\n",
       " '₹ 21.0L',\n",
       " '₹ 7.0L',\n",
       " '₹ 25.0L']"
      ]
     },
     "execution_count": 40,
     "metadata": {},
     "output_type": "execute_result"
    }
   ],
   "source": [
    "min_sala=[]\n",
    "for i in min_sal:\n",
    "    min_sala.append(i.text)\n",
    "min_sala"
   ]
  },
  {
   "cell_type": "code",
   "execution_count": 48,
   "id": "a6084e71",
   "metadata": {},
   "outputs": [
    {
     "data": {
      "text/plain": [
       "['₹ 25.0L',\n",
       " '₹ 15.0L',\n",
       " '₹ 11.0L',\n",
       " '₹ 11.0L',\n",
       " '₹ 5.6L',\n",
       " '₹ 10.0L',\n",
       " '₹ 9.0L',\n",
       " '₹ 8.3L',\n",
       " '₹ 7.6L',\n",
       " '₹ 7.0L']"
      ]
     },
     "execution_count": 48,
     "metadata": {},
     "output_type": "execute_result"
    }
   ],
   "source": [
    "min_salary=[min_sala[0],min_sala[2],min_sala[4],min_sala[6],min_sala[8],min_sala[10],min_sala[12],min_sala[14],min_sala[16],min_sala[18]]\n",
    "min_salary"
   ]
  },
  {
   "cell_type": "code",
   "execution_count": 52,
   "id": "f1f96a9c",
   "metadata": {},
   "outputs": [
    {
     "data": {
      "text/plain": [
       "10"
      ]
     },
     "execution_count": 52,
     "metadata": {},
     "output_type": "execute_result"
    }
   ],
   "source": [
    "len(min_salary)"
   ]
  },
  {
   "cell_type": "code",
   "execution_count": 43,
   "id": "56572b28",
   "metadata": {
    "scrolled": true
   },
   "outputs": [
    {
     "data": {
      "text/plain": [
       "[<selenium.webdriver.remote.webelement.WebElement (session=\"0204b2cef8505b0c78ae6fc6b22ed03a\", element=\"b2e1cfe1-55e8-4ccc-afba-38d2a9156236\")>,\n",
       " <selenium.webdriver.remote.webelement.WebElement (session=\"0204b2cef8505b0c78ae6fc6b22ed03a\", element=\"4a407961-66f0-4333-ab86-b59536a46577\")>,\n",
       " <selenium.webdriver.remote.webelement.WebElement (session=\"0204b2cef8505b0c78ae6fc6b22ed03a\", element=\"abfbfe56-b603-4a9e-9ca5-929bc890b7b3\")>,\n",
       " <selenium.webdriver.remote.webelement.WebElement (session=\"0204b2cef8505b0c78ae6fc6b22ed03a\", element=\"a698b429-8414-415e-ba07-e5fd3957244d\")>,\n",
       " <selenium.webdriver.remote.webelement.WebElement (session=\"0204b2cef8505b0c78ae6fc6b22ed03a\", element=\"e7e18679-d40c-4b1d-8904-868d1c645b86\")>,\n",
       " <selenium.webdriver.remote.webelement.WebElement (session=\"0204b2cef8505b0c78ae6fc6b22ed03a\", element=\"473efb1c-8d60-42f0-ae2f-82988c964ab7\")>,\n",
       " <selenium.webdriver.remote.webelement.WebElement (session=\"0204b2cef8505b0c78ae6fc6b22ed03a\", element=\"9d774cdb-3d9c-4030-9613-0520835c22d0\")>,\n",
       " <selenium.webdriver.remote.webelement.WebElement (session=\"0204b2cef8505b0c78ae6fc6b22ed03a\", element=\"16f8ddc2-cfbe-4662-98ab-2ded1710a277\")>,\n",
       " <selenium.webdriver.remote.webelement.WebElement (session=\"0204b2cef8505b0c78ae6fc6b22ed03a\", element=\"1b7ec898-7948-4f71-8c28-8d32158de22c\")>,\n",
       " <selenium.webdriver.remote.webelement.WebElement (session=\"0204b2cef8505b0c78ae6fc6b22ed03a\", element=\"cb75e3fd-f3ca-49aa-a592-875a175a0345\")>]"
      ]
     },
     "execution_count": 43,
     "metadata": {},
     "output_type": "execute_result"
    }
   ],
   "source": [
    "avg_sal=driver.find_elements(\"xpath\",'//p[@class=\"averageCtc\"]')\n",
    "avg_sal"
   ]
  },
  {
   "cell_type": "code",
   "execution_count": 44,
   "id": "db0cc73f",
   "metadata": {
    "scrolled": true
   },
   "outputs": [
    {
     "data": {
      "text/plain": [
       "['₹ 30.6L',\n",
       " '₹ 20.8L',\n",
       " '₹ 16.7L',\n",
       " '₹ 15.9L',\n",
       " '₹ 15.7L',\n",
       " '₹ 15.5L',\n",
       " '₹ 14.8L',\n",
       " '₹ 14.0L',\n",
       " '₹ 13.2L',\n",
       " '₹ 12.8L']"
      ]
     },
     "execution_count": 44,
     "metadata": {},
     "output_type": "execute_result"
    }
   ],
   "source": [
    "avg_salary=[]\n",
    "for i in avg_sal:\n",
    "    avg_salary.append(i.text)\n",
    "avg_salary"
   ]
  },
  {
   "cell_type": "code",
   "execution_count": 51,
   "id": "ef081ee1",
   "metadata": {},
   "outputs": [
    {
     "data": {
      "text/plain": [
       "10"
      ]
     },
     "execution_count": 51,
     "metadata": {},
     "output_type": "execute_result"
    }
   ],
   "source": [
    "len(avg_salary)"
   ]
  },
  {
   "cell_type": "code",
   "execution_count": 49,
   "id": "98cc5c67",
   "metadata": {},
   "outputs": [
    {
     "data": {
      "text/plain": [
       "['₹ 36.0L',\n",
       " '₹ 26.2L',\n",
       " '₹ 22.0L',\n",
       " '₹ 22.5L',\n",
       " '₹ 26.2L',\n",
       " '₹ 23.0L',\n",
       " '₹ 20.0L',\n",
       " '₹ 21.1L',\n",
       " '₹ 21.0L',\n",
       " '₹ 25.0L']"
      ]
     },
     "execution_count": 49,
     "metadata": {},
     "output_type": "execute_result"
    }
   ],
   "source": [
    "max_salary=[min_sala[1],min_sala[3],min_sala[5],min_sala[7],min_sala[9],min_sala[11],min_sala[13],min_sala[15],min_sala[17],min_sala[19]]\n",
    "max_salary"
   ]
  },
  {
   "cell_type": "code",
   "execution_count": 50,
   "id": "10de845d",
   "metadata": {},
   "outputs": [
    {
     "data": {
      "text/plain": [
       "10"
      ]
     },
     "execution_count": 50,
     "metadata": {},
     "output_type": "execute_result"
    }
   ],
   "source": [
    "len(max_salary)"
   ]
  },
  {
   "cell_type": "code",
   "execution_count": 55,
   "id": "22b0acdf",
   "metadata": {},
   "outputs": [
    {
     "data": {
      "text/html": [
       "<div>\n",
       "<style scoped>\n",
       "    .dataframe tbody tr th:only-of-type {\n",
       "        vertical-align: middle;\n",
       "    }\n",
       "\n",
       "    .dataframe tbody tr th {\n",
       "        vertical-align: top;\n",
       "    }\n",
       "\n",
       "    .dataframe thead th {\n",
       "        text-align: right;\n",
       "    }\n",
       "</style>\n",
       "<table border=\"1\" class=\"dataframe\">\n",
       "  <thead>\n",
       "    <tr style=\"text-align: right;\">\n",
       "      <th></th>\n",
       "      <th>COMPANY</th>\n",
       "      <th>EXPERIENCE</th>\n",
       "      <th>MIN SALARY</th>\n",
       "      <th>AVG SALARY</th>\n",
       "      <th>MAX SALARY</th>\n",
       "    </tr>\n",
       "  </thead>\n",
       "  <tbody>\n",
       "    <tr>\n",
       "      <th>0</th>\n",
       "      <td>WalmartData Scientist Salary3 yrs experience (...</td>\n",
       "      <td>3 yrs experience (based on 12 salaries)</td>\n",
       "      <td>₹ 25.0L</td>\n",
       "      <td>₹ 30.6L</td>\n",
       "      <td>₹ 36.0L</td>\n",
       "    </tr>\n",
       "    <tr>\n",
       "      <th>1</th>\n",
       "      <td>Ab InbevData Scientist Salary3-4 yrs experienc...</td>\n",
       "      <td>3-4 yrs experience (based on 33 salaries)</td>\n",
       "      <td>₹ 15.0L</td>\n",
       "      <td>₹ 20.8L</td>\n",
       "      <td>₹ 26.2L</td>\n",
       "    </tr>\n",
       "    <tr>\n",
       "      <th>2</th>\n",
       "      <td>ZSData Scientist Salary2 yrs experience (based...</td>\n",
       "      <td>2 yrs experience (based on 15 salaries)</td>\n",
       "      <td>₹ 11.0L</td>\n",
       "      <td>₹ 16.7L</td>\n",
       "      <td>₹ 22.0L</td>\n",
       "    </tr>\n",
       "    <tr>\n",
       "      <th>3</th>\n",
       "      <td>OptumData Scientist Salary3-4 yrs experience (...</td>\n",
       "      <td>3-4 yrs experience (based on 32 salaries)</td>\n",
       "      <td>₹ 11.0L</td>\n",
       "      <td>₹ 15.9L</td>\n",
       "      <td>₹ 22.5L</td>\n",
       "    </tr>\n",
       "    <tr>\n",
       "      <th>4</th>\n",
       "      <td>Reliance JioData Scientist Salary3-4 yrs exper...</td>\n",
       "      <td>3-4 yrs experience (based on 21 salaries)</td>\n",
       "      <td>₹ 5.6L</td>\n",
       "      <td>₹ 15.7L</td>\n",
       "      <td>₹ 26.2L</td>\n",
       "    </tr>\n",
       "    <tr>\n",
       "      <th>5</th>\n",
       "      <td>Fractal AnalyticsData Scientist Salary2-4 yrs ...</td>\n",
       "      <td>2-4 yrs experience (based on 89 salaries)</td>\n",
       "      <td>₹ 10.0L</td>\n",
       "      <td>₹ 15.5L</td>\n",
       "      <td>₹ 23.0L</td>\n",
       "    </tr>\n",
       "    <tr>\n",
       "      <th>6</th>\n",
       "      <td>Tiger AnalyticsData Scientist Salary2-4 yrs ex...</td>\n",
       "      <td>2-4 yrs experience (based on 51 salaries)</td>\n",
       "      <td>₹ 9.0L</td>\n",
       "      <td>₹ 14.8L</td>\n",
       "      <td>₹ 20.0L</td>\n",
       "    </tr>\n",
       "    <tr>\n",
       "      <th>7</th>\n",
       "      <td>UnitedHealthData Scientist Salary2-4 yrs exper...</td>\n",
       "      <td>2-4 yrs experience (based on 57 salaries)</td>\n",
       "      <td>₹ 8.3L</td>\n",
       "      <td>₹ 14.0L</td>\n",
       "      <td>₹ 21.1L</td>\n",
       "    </tr>\n",
       "    <tr>\n",
       "      <th>8</th>\n",
       "      <td>EXL ServiceData Scientist Salary3-4 yrs experi...</td>\n",
       "      <td>3-4 yrs experience (based on 21 salaries)</td>\n",
       "      <td>₹ 7.6L</td>\n",
       "      <td>₹ 13.2L</td>\n",
       "      <td>₹ 21.0L</td>\n",
       "    </tr>\n",
       "    <tr>\n",
       "      <th>9</th>\n",
       "      <td>DeloitteData Scientist Salary2-4 yrs experienc...</td>\n",
       "      <td>2-4 yrs experience (based on 69 salaries)</td>\n",
       "      <td>₹ 7.0L</td>\n",
       "      <td>₹ 12.8L</td>\n",
       "      <td>₹ 25.0L</td>\n",
       "    </tr>\n",
       "  </tbody>\n",
       "</table>\n",
       "</div>"
      ],
      "text/plain": [
       "                                             COMPANY  \\\n",
       "0  WalmartData Scientist Salary3 yrs experience (...   \n",
       "1  Ab InbevData Scientist Salary3-4 yrs experienc...   \n",
       "2  ZSData Scientist Salary2 yrs experience (based...   \n",
       "3  OptumData Scientist Salary3-4 yrs experience (...   \n",
       "4  Reliance JioData Scientist Salary3-4 yrs exper...   \n",
       "5  Fractal AnalyticsData Scientist Salary2-4 yrs ...   \n",
       "6  Tiger AnalyticsData Scientist Salary2-4 yrs ex...   \n",
       "7  UnitedHealthData Scientist Salary2-4 yrs exper...   \n",
       "8  EXL ServiceData Scientist Salary3-4 yrs experi...   \n",
       "9  DeloitteData Scientist Salary2-4 yrs experienc...   \n",
       "\n",
       "                                  EXPERIENCE MIN SALARY AVG SALARY MAX SALARY  \n",
       "0    3 yrs experience (based on 12 salaries)    ₹ 25.0L    ₹ 30.6L    ₹ 36.0L  \n",
       "1  3-4 yrs experience (based on 33 salaries)    ₹ 15.0L    ₹ 20.8L    ₹ 26.2L  \n",
       "2    2 yrs experience (based on 15 salaries)    ₹ 11.0L    ₹ 16.7L    ₹ 22.0L  \n",
       "3  3-4 yrs experience (based on 32 salaries)    ₹ 11.0L    ₹ 15.9L    ₹ 22.5L  \n",
       "4  3-4 yrs experience (based on 21 salaries)     ₹ 5.6L    ₹ 15.7L    ₹ 26.2L  \n",
       "5  2-4 yrs experience (based on 89 salaries)    ₹ 10.0L    ₹ 15.5L    ₹ 23.0L  \n",
       "6  2-4 yrs experience (based on 51 salaries)     ₹ 9.0L    ₹ 14.8L    ₹ 20.0L  \n",
       "7  2-4 yrs experience (based on 57 salaries)     ₹ 8.3L    ₹ 14.0L    ₹ 21.1L  \n",
       "8  3-4 yrs experience (based on 21 salaries)     ₹ 7.6L    ₹ 13.2L    ₹ 21.0L  \n",
       "9  2-4 yrs experience (based on 69 salaries)     ₹ 7.0L    ₹ 12.8L    ₹ 25.0L  "
      ]
     },
     "execution_count": 55,
     "metadata": {},
     "output_type": "execute_result"
    }
   ],
   "source": [
    "df=pd.DataFrame({'COMPANY':com_name,'EXPERIENCE':expe,'MIN SALARY':min_salary,'AVG SALARY':avg_salary,'MAX SALARY':max_salary})\n",
    "df"
   ]
  },
  {
   "cell_type": "code",
   "execution_count": null,
   "id": "ed49eb92",
   "metadata": {},
   "outputs": [],
   "source": []
  },
  {
   "cell_type": "code",
   "execution_count": null,
   "id": "43b35361",
   "metadata": {},
   "outputs": [],
   "source": []
  },
  {
   "cell_type": "code",
   "execution_count": null,
   "id": "f7f2da56",
   "metadata": {},
   "outputs": [],
   "source": []
  },
  {
   "cell_type": "code",
   "execution_count": null,
   "id": "2c3ea68c",
   "metadata": {},
   "outputs": [],
   "source": []
  },
  {
   "cell_type": "code",
   "execution_count": null,
   "id": "b2b5ba46",
   "metadata": {},
   "outputs": [],
   "source": []
  },
  {
   "cell_type": "code",
   "execution_count": null,
   "id": "264c74bf",
   "metadata": {},
   "outputs": [],
   "source": []
  },
  {
   "cell_type": "code",
   "execution_count": null,
   "id": "b3e186b7",
   "metadata": {},
   "outputs": [],
   "source": []
  }
 ],
 "metadata": {
  "kernelspec": {
   "display_name": "Python 3 (ipykernel)",
   "language": "python",
   "name": "python3"
  },
  "language_info": {
   "codemirror_mode": {
    "name": "ipython",
    "version": 3
   },
   "file_extension": ".py",
   "mimetype": "text/x-python",
   "name": "python",
   "nbconvert_exporter": "python",
   "pygments_lexer": "ipython3",
   "version": "3.9.7"
  }
 },
 "nbformat": 4,
 "nbformat_minor": 5
}
